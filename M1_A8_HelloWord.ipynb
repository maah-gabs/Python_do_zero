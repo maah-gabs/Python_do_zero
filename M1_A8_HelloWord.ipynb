{
  "nbformat": 4,
  "nbformat_minor": 0,
  "metadata": {
    "colab": {
      "name": "M1. A8: HelloWord",
      "provenance": [],
      "authorship_tag": "ABX9TyNP4TREM0hFQ0psn/lDOe3L",
      "include_colab_link": true
    },
    "kernelspec": {
      "name": "python3",
      "display_name": "Python 3"
    }
  },
  "cells": [
    {
      "cell_type": "markdown",
      "metadata": {
        "id": "view-in-github",
        "colab_type": "text"
      },
      "source": [
        "<a href=\"https://colab.research.google.com/github/maah-gabs/Python_do_zero/blob/master/M1_A8_HelloWord.ipynb\" target=\"_parent\"><img src=\"https://colab.research.google.com/assets/colab-badge.svg\" alt=\"Open In Colab\"/></a>"
      ]
    },
    {
      "cell_type": "markdown",
      "metadata": {
        "id": "sOiTb4j-XvlB",
        "colab_type": "text"
      },
      "source": [
        "#Modulo 01 - Aula 08: \"Hello Word\"\n",
        "\n",
        "Neste notebook, aulas e considerações referentes a aula citada acima. "
      ]
    },
    {
      "cell_type": "markdown",
      "metadata": {
        "id": "FB-gS0gpYhXi",
        "colab_type": "text"
      },
      "source": [
        "## Função Print\n",
        "\n",
        "Consiste em uma função que ao executar será impresso na tela. "
      ]
    },
    {
      "cell_type": "code",
      "metadata": {
        "id": "252N-xa7YoEK",
        "colab_type": "code",
        "colab": {
          "base_uri": "https://localhost:8080/",
          "height": 72
        },
        "outputId": "05ec82c9-b9a6-4bab-eeed-3d225d3b8e63"
      },
      "source": [
        "print(\"Maria Gabriela\")\n",
        "print(\"Nascimento: 1984\")\n",
        "print(\"Filhos:2\")"
      ],
      "execution_count": 2,
      "outputs": [
        {
          "output_type": "stream",
          "text": [
            "Maria Gabriela\n",
            "Nascimento: 1984\n",
            "Filhos:2\n"
          ],
          "name": "stdout"
        }
      ]
    },
    {
      "cell_type": "code",
      "metadata": {
        "id": "YHZ7FzK9Yp7G",
        "colab_type": "code",
        "colab": {
          "base_uri": "https://localhost:8080/",
          "height": 35
        },
        "outputId": "32d45213-cb0f-460e-8a27-8b709beffcac"
      },
      "source": [
        "print(\"Hello, World!\")"
      ],
      "execution_count": 3,
      "outputs": [
        {
          "output_type": "stream",
          "text": [
            "Hello, World!\n"
          ],
          "name": "stdout"
        }
      ]
    },
    {
      "cell_type": "code",
      "metadata": {
        "id": "JL3BghLLY_NM",
        "colab_type": "code",
        "colab": {}
      },
      "source": [
        ""
      ],
      "execution_count": null,
      "outputs": []
    }
  ]
}