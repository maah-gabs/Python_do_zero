{
  "nbformat": 4,
  "nbformat_minor": 0,
  "metadata": {
    "colab": {
      "name": "Biblioteca OS",
      "provenance": [],
      "authorship_tag": "ABX9TyOyhLD4Gq22wKPcLXH6jtlm",
      "include_colab_link": true
    },
    "kernelspec": {
      "name": "python3",
      "display_name": "Python 3"
    }
  },
  "cells": [
    {
      "cell_type": "markdown",
      "metadata": {
        "id": "view-in-github",
        "colab_type": "text"
      },
      "source": [
        "<a href=\"https://colab.research.google.com/github/maah-gabs/Python_do_zero/blob/master/Biblioteca_OS.ipynb\" target=\"_parent\"><img src=\"https://colab.research.google.com/assets/colab-badge.svg\" alt=\"Open In Colab\"/></a>"
      ]
    },
    {
      "cell_type": "markdown",
      "metadata": {
        "id": "rT2_uxqFejGh",
        "colab_type": "text"
      },
      "source": [
        "# Modulo 02: Aula 04 - Navegando pelos diretórios\n",
        "\n",
        "A biblioteca OS nos oferece a oportunidade de interagir com o sistema operacional através do Python, com ela é possível acessar, modificar, mover, apagar arquivos, entre muitas outras coisas. Vamos aprender??\n",
        "\n",
        "A biblioteca que usaremos nessa aula, será extremamente util para o nosso trabalho com Python. "
      ]
    },
    {
      "cell_type": "code",
      "metadata": {
        "id": "Y27sDNqlgwss",
        "colab_type": "code",
        "colab": {}
      },
      "source": [
        "# Importando a biblioteca \n",
        "import os"
      ],
      "execution_count": 1,
      "outputs": []
    },
    {
      "cell_type": "markdown",
      "metadata": {
        "id": "g7ml0SHAjzYP",
        "colab_type": "text"
      },
      "source": [
        "## getcwd()\n",
        "\n",
        "Um importante primeiro passo é sabermos onde estamos, desta forma, utilizaremos a função `getcwd ( )`, essa função significa *Get Current Directtory* que significa pegar o diretório atual"
      ]
    },
    {
      "cell_type": "code",
      "metadata": {
        "id": "_uKPhB-ekhtV",
        "colab_type": "code",
        "colab": {
          "base_uri": "https://localhost:8080/",
          "height": 36
        },
        "outputId": "351f0bfb-8a75-44c8-d5e7-f6fbad04d62c"
      },
      "source": [
        "# Verificar o diretório atual \n",
        "os.getcwd()"
      ],
      "execution_count": 4,
      "outputs": [
        {
          "output_type": "execute_result",
          "data": {
            "application/vnd.google.colaboratory.intrinsic+json": {
              "type": "string"
            },
            "text/plain": [
              "'/content/sample_data'"
            ]
          },
          "metadata": {
            "tags": []
          },
          "execution_count": 4
        }
      ]
    },
    {
      "cell_type": "markdown",
      "metadata": {
        "id": "WpvIbh30k1V0",
        "colab_type": "text"
      },
      "source": [
        "## chdir ()\n",
        "\n",
        "Outro aspecto importante é utilizar a função chdir ( ) para realizar a mudança de pasta. Desta forma, imagine que todos os arquivos estão localizados em um único diretório, não faz muito sentdo escrever todo o endereço sempre."
      ]
    },
    {
      "cell_type": "code",
      "metadata": {
        "id": "cEtbRHrClelt",
        "colab_type": "code",
        "colab": {}
      },
      "source": [
        "os.chdir(\"/content/sample_data\")"
      ],
      "execution_count": 3,
      "outputs": []
    },
    {
      "cell_type": "markdown",
      "metadata": {
        "id": "BKSM0uEslnbJ",
        "colab_type": "text"
      },
      "source": [
        "Ao escrever o código acima, percebemos qe a execução em si, não nos leva a um retorno, porém, se retornarmos ao código executado logo acima, aquele que escrevemos para saber em que pasta estávamos, se lembra? o retorno será outro, pois, neste momento trocamos o nosso dretório. "
      ]
    },
    {
      "cell_type": "markdown",
      "metadata": {
        "id": "h8mWLY-Xojke",
        "colab_type": "text"
      },
      "source": [
        "## listdir ( ) \n",
        "\n",
        "Uma outra opção interessante é para vc listar o conteúdo presente no diretório atual. Por isso que nós utilizamos o `listdir ( )`. "
      ]
    },
    {
      "cell_type": "code",
      "metadata": {
        "id": "2zhL4oJDo4Ri",
        "colab_type": "code",
        "colab": {
          "base_uri": "https://localhost:8080/",
          "height": 127
        },
        "outputId": "33ce808b-13ce-4989-ee35-0a3cb949588e"
      },
      "source": [
        "# Listar o conteúdo don código atual \n",
        "os.listdir()\n"
      ],
      "execution_count": 5,
      "outputs": [
        {
          "output_type": "execute_result",
          "data": {
            "text/plain": [
              "['README.md',\n",
              " 'anscombe.json',\n",
              " 'california_housing_train.csv',\n",
              " 'california_housing_test.csv',\n",
              " 'mnist_train_small.csv',\n",
              " 'mnist_test.csv']"
            ]
          },
          "metadata": {
            "tags": []
          },
          "execution_count": 5
        }
      ]
    },
    {
      "cell_type": "markdown",
      "metadata": {
        "id": "9vmU0Ia5pJ0s",
        "colab_type": "text"
      },
      "source": [
        "O retorno do código acima, consiste em uma lista. Sendo assim, conseguimos ter acesso a cada um dos documentos, com o seginte exemplo de código. "
      ]
    },
    {
      "cell_type": "code",
      "metadata": {
        "id": "v2-3XLR6pqMn",
        "colab_type": "code",
        "colab": {
          "base_uri": "https://localhost:8080/",
          "height": 36
        },
        "outputId": "f3d1efbd-2138-4495-871b-b2236717cca3"
      },
      "source": [
        "os.listdir()[1]"
      ],
      "execution_count": 6,
      "outputs": [
        {
          "output_type": "execute_result",
          "data": {
            "application/vnd.google.colaboratory.intrinsic+json": {
              "type": "string"
            },
            "text/plain": [
              "'anscombe.json'"
            ]
          },
          "metadata": {
            "tags": []
          },
          "execution_count": 6
        }
      ]
    },
    {
      "cell_type": "markdown",
      "metadata": {
        "id": "987zB-eWAgV1",
        "colab_type": "text"
      },
      "source": [
        "# Modulo 02 - Aula 05: Manipulando Arquivos \n",
        "\n",
        "Essa aula consiste em uma segunda parte da já discutida anteriormente, desta forma, achei melhor mantermos no mesmo notebook. "
      ]
    },
    {
      "cell_type": "markdown",
      "metadata": {
        "id": "31mBCdo5A61f",
        "colab_type": "text"
      },
      "source": [
        "## open ( ) / close ( ) \n",
        "\n",
        "Continuando a nossa aula em manipular arquivos, temos a função `open ( )` que é utlizada para abrirmos um determinado arquivo e podemos fechar o mesmo, utilizando o `close ( )`. \n",
        "\n",
        "É importante salientar que existem **permissões** essas permissões são para **leitura (r)**, para **escrita (w)** e para **acrescentar (a)**. \n",
        "\n",
        "* Leitura (r): O usuário apenas conseguirá ter acesso ao documento, não sendo permitido a sua alteração; \n",
        "\n",
        "* Escrita (w): O usuário poderá alterar TODO o documento, inclusive excluindo, acrescentando e mudando as informações contidas no arquivo; \n",
        "\n",
        "* Acrescentar (a): O usuário poderá apenas acrescentar dados e jamaais mudar o que vem antes disso. \n",
        "\n",
        "No exemplo abaixo, criaremos um arquivo. "
      ]
    },
    {
      "cell_type": "code",
      "metadata": {
        "id": "gC81t20TCtXQ",
        "colab_type": "code",
        "colab": {}
      },
      "source": [
        "#criando um arquivo \n",
        "arquivo = 'arquivo.txt'\n",
        "\n",
        "#abrindo o arquivo no modo que permite a escrita \n",
        "file = open(arquivo,'w') #Neste caso, como vou criar um arquivo do zero, habilitar a opção escrita\n",
        "file.write('#FamiliaSimoidal')\n",
        "file.close()  "
      ],
      "execution_count": 7,
      "outputs": []
    },
    {
      "cell_type": "markdown",
      "metadata": {
        "id": "q7qDZuN7DsuE",
        "colab_type": "text"
      },
      "source": [
        "Sempre lembre - se o arquivo precisar ser **aberto** e **fechado**. "
      ]
    },
    {
      "cell_type": "code",
      "metadata": {
        "id": "rBGiFqMoDTUX",
        "colab_type": "code",
        "colab": {
          "base_uri": "https://localhost:8080/",
          "height": 146
        },
        "outputId": "fd72f789-cd55-4663-af4f-06bad010cfb1"
      },
      "source": [
        "# Conferindo a criação do arquivo \n",
        "os.listdir()"
      ],
      "execution_count": 8,
      "outputs": [
        {
          "output_type": "execute_result",
          "data": {
            "text/plain": [
              "['README.md',\n",
              " 'anscombe.json',\n",
              " 'arquivo.txt',\n",
              " 'california_housing_train.csv',\n",
              " 'california_housing_test.csv',\n",
              " 'mnist_train_small.csv',\n",
              " 'mnist_test.csv']"
            ]
          },
          "metadata": {
            "tags": []
          },
          "execution_count": 8
        }
      ]
    },
    {
      "cell_type": "markdown",
      "metadata": {
        "id": "2DXXSoXtD59x",
        "colab_type": "text"
      },
      "source": [
        "Abaixo, mostraremos uma situação em que é necessário que o documento utilizado seja aberto, veja na célula a seguir: "
      ]
    },
    {
      "cell_type": "code",
      "metadata": {
        "id": "v2k_1NBgEEOP",
        "colab_type": "code",
        "colab": {
          "base_uri": "https://localhost:8080/",
          "height": 35
        },
        "outputId": "f6e30765-19af-45a3-aaec-9afa29824cf0"
      },
      "source": [
        "#Abrindo o arquivo para leitura\n",
        "file = open('arquivo.txt', 'r') #Nesta linha de código nós demonstramo qual arquivo deve abrir e de que modo\n",
        "\n",
        "#lendo o arquivo \n",
        "print(file.read())\n",
        "\n",
        "#fechar o aquivo\n",
        "file.close()"
      ],
      "execution_count": 11,
      "outputs": [
        {
          "output_type": "stream",
          "text": [
            "#FamiliaSimoidal\n"
          ],
          "name": "stdout"
        }
      ]
    },
    {
      "cell_type": "markdown",
      "metadata": {
        "id": "g4DbQS5cFpdJ",
        "colab_type": "text"
      },
      "source": [
        "Como citado acima, é de extrema importancia que a gente se lembre, ao abrir um arquivo que o mesmo seja fechado. Desta forma, temos a função `with` que manterá o documento aberto enquanto estivermos manipulando. Basicamente, quando executamos/escrevemos essa ação estamos dizendo o seguinte para o Python: com o arquivo aberto na função X como variável realize tal função. "
      ]
    },
    {
      "cell_type": "code",
      "metadata": {
        "id": "h2zKMYHeGc6m",
        "colab_type": "code",
        "colab": {}
      },
      "source": [
        "#Criando e escrevendo no arquivo \n",
        "with open('teste.txt', 'w') as txt:\n",
        "  txt.write(\"Testando a função\")"
      ],
      "execution_count": 12,
      "outputs": []
    },
    {
      "cell_type": "code",
      "metadata": {
        "id": "Z4M81sw3GqgT",
        "colab_type": "code",
        "colab": {
          "base_uri": "https://localhost:8080/",
          "height": 164
        },
        "outputId": "6c02ddb8-b99c-417c-fb1c-da658261e97b"
      },
      "source": [
        "os.listdir()"
      ],
      "execution_count": 13,
      "outputs": [
        {
          "output_type": "execute_result",
          "data": {
            "text/plain": [
              "['README.md',\n",
              " 'anscombe.json',\n",
              " 'arquivo.txt',\n",
              " 'teste.txt',\n",
              " 'california_housing_train.csv',\n",
              " 'california_housing_test.csv',\n",
              " 'mnist_train_small.csv',\n",
              " 'mnist_test.csv']"
            ]
          },
          "metadata": {
            "tags": []
          },
          "execution_count": 13
        }
      ]
    },
    {
      "cell_type": "markdown",
      "metadata": {
        "id": "yQ4yvTEyG1uO",
        "colab_type": "text"
      },
      "source": [
        "Ainda utilizando o with também podemos acrescentar informações de um arquivo já existente abrindo uma função que **acrescente (a).**"
      ]
    },
    {
      "cell_type": "code",
      "metadata": {
        "id": "M1ELrXfOHMv1",
        "colab_type": "code",
        "colab": {}
      },
      "source": [
        "#Adicionando informações no arquivo \n",
        "with open('teste.txt', 'a') as txt:\n",
        "  txt.write(\"\\nAcrescentando Informações\")"
      ],
      "execution_count": 14,
      "outputs": []
    },
    {
      "cell_type": "markdown",
      "metadata": {
        "id": "fptEi8mJRdLA",
        "colab_type": "text"
      },
      "source": [
        "## Rename ( ) \n",
        "\n",
        "UM arquivo pode ser renomeado, utilizando a função `rename ( )`."
      ]
    },
    {
      "cell_type": "code",
      "metadata": {
        "id": "gMGwjW4CSCAM",
        "colab_type": "code",
        "colab": {
          "base_uri": "https://localhost:8080/",
          "height": 164
        },
        "outputId": "1b9340fd-2ff3-4fde-dc6e-8bca2ece6101"
      },
      "source": [
        "#Renomeando o arquivo.\n",
        "os.rename ('teste.txt', 'sigmoidal.txt')\n",
        "\n",
        "#verificando se o nome foi alterado \n",
        "os.listdir()"
      ],
      "execution_count": 15,
      "outputs": [
        {
          "output_type": "execute_result",
          "data": {
            "text/plain": [
              "['README.md',\n",
              " 'anscombe.json',\n",
              " 'arquivo.txt',\n",
              " 'sigmoidal.txt',\n",
              " 'california_housing_train.csv',\n",
              " 'california_housing_test.csv',\n",
              " 'mnist_train_small.csv',\n",
              " 'mnist_test.csv']"
            ]
          },
          "metadata": {
            "tags": []
          },
          "execution_count": 15
        }
      ]
    },
    {
      "cell_type": "markdown",
      "metadata": {
        "id": "8wbHXP6USdsn",
        "colab_type": "text"
      },
      "source": [
        "# Exercícios \n",
        "\n",
        "Bora praticar?? "
      ]
    },
    {
      "cell_type": "markdown",
      "metadata": {
        "id": "xcdYQJpBShbt",
        "colab_type": "text"
      },
      "source": [
        "## Exercicio 01\n",
        "\n",
        "Importe a biblioteca OS e verifique\n",
        "\n",
        "a) em que diretório você está; \n",
        "\n",
        "b) o que ha dentro do diretório; "
      ]
    },
    {
      "cell_type": "code",
      "metadata": {
        "id": "pYDjmKXrSvqc",
        "colab_type": "code",
        "colab": {}
      },
      "source": [
        "# Importando a biblioteca \n",
        "import os"
      ],
      "execution_count": 16,
      "outputs": []
    },
    {
      "cell_type": "code",
      "metadata": {
        "id": "y06iZ17BTFHa",
        "colab_type": "code",
        "colab": {
          "base_uri": "https://localhost:8080/",
          "height": 36
        },
        "outputId": "b36fc685-1f32-4b44-8502-5ccf36cd5b81"
      },
      "source": [
        "#A: Saber que diretório estamos \n",
        "os.getcwd()"
      ],
      "execution_count": 19,
      "outputs": [
        {
          "output_type": "execute_result",
          "data": {
            "application/vnd.google.colaboratory.intrinsic+json": {
              "type": "string"
            },
            "text/plain": [
              "'/content/sample_data'"
            ]
          },
          "metadata": {
            "tags": []
          },
          "execution_count": 19
        }
      ]
    },
    {
      "cell_type": "code",
      "metadata": {
        "id": "Jpg3bcLITK6i",
        "colab_type": "code",
        "colab": {
          "base_uri": "https://localhost:8080/",
          "height": 164
        },
        "outputId": "1279d67b-ee39-497d-9334-999849935e78"
      },
      "source": [
        "#B: O que há no diretório \n",
        "os.listdir()"
      ],
      "execution_count": 20,
      "outputs": [
        {
          "output_type": "execute_result",
          "data": {
            "text/plain": [
              "['README.md',\n",
              " 'anscombe.json',\n",
              " 'arquivo.txt',\n",
              " 'sigmoidal.txt',\n",
              " 'california_housing_train.csv',\n",
              " 'california_housing_test.csv',\n",
              " 'mnist_train_small.csv',\n",
              " 'mnist_test.csv']"
            ]
          },
          "metadata": {
            "tags": []
          },
          "execution_count": 20
        }
      ]
    },
    {
      "cell_type": "markdown",
      "metadata": {
        "id": "CEVDk4g2TYJV",
        "colab_type": "text"
      },
      "source": [
        "## Exercício 02. \n",
        "\n",
        "Faça o que se pede abaixo: \n",
        "\n",
        "a) crie um arquivo chamado aluno.txt e escreva nela o seu nome\n",
        "\n",
        "b) Acrescente sua idade e profissão\n",
        "\n",
        "c) Leia as informações contidas no arquivo. "
      ]
    },
    {
      "cell_type": "code",
      "metadata": {
        "id": "9dhsHfilTtor",
        "colab_type": "code",
        "colab": {}
      },
      "source": [
        "# A\n",
        "with open('aluno.txt','w') as txt:\n",
        "  txt.write(\"Maria Gabriela\")"
      ],
      "execution_count": 21,
      "outputs": []
    },
    {
      "cell_type": "code",
      "metadata": {
        "id": "Px-SSROWT4IH",
        "colab_type": "code",
        "colab": {}
      },
      "source": [
        "#B \n",
        "with open('aluno.txt','a') as txt:\n",
        "  txt.write(\"\\n27 anos\\n Enfermeira\")"
      ],
      "execution_count": 22,
      "outputs": []
    },
    {
      "cell_type": "code",
      "metadata": {
        "id": "89bcH_yMUIvD",
        "colab_type": "code",
        "colab": {
          "base_uri": "https://localhost:8080/",
          "height": 72
        },
        "outputId": "abceb022-716d-4081-ac64-a9a88386c1db"
      },
      "source": [
        "#C\n",
        "with open('aluno.txt', 'r') as txt:\n",
        "  print(txt.read())"
      ],
      "execution_count": 24,
      "outputs": [
        {
          "output_type": "stream",
          "text": [
            "Maria Gabriela\n",
            " 27 anos \n",
            " Enfermeira\n"
          ],
          "name": "stdout"
        }
      ]
    },
    {
      "cell_type": "markdown",
      "metadata": {
        "id": "C1HywqXNUcWH",
        "colab_type": "text"
      },
      "source": [
        "## Exercício 03 \n",
        "\n",
        "Renomeio o arquivo para sigmoidal.txt"
      ]
    },
    {
      "cell_type": "code",
      "metadata": {
        "id": "1ugDII4wUkcs",
        "colab_type": "code",
        "colab": {}
      },
      "source": [
        "os.rename('aluno.txt', 'sigmoidal.txt')"
      ],
      "execution_count": 25,
      "outputs": []
    },
    {
      "cell_type": "code",
      "metadata": {
        "id": "6rZe2fsqUraK",
        "colab_type": "code",
        "colab": {
          "base_uri": "https://localhost:8080/",
          "height": 164
        },
        "outputId": "7235bda8-2ac6-4e0e-d39f-507849c4e17d"
      },
      "source": [
        "os.listdir()"
      ],
      "execution_count": 26,
      "outputs": [
        {
          "output_type": "execute_result",
          "data": {
            "text/plain": [
              "['README.md',\n",
              " 'anscombe.json',\n",
              " 'arquivo.txt',\n",
              " 'sigmoidal.txt',\n",
              " 'california_housing_train.csv',\n",
              " 'california_housing_test.csv',\n",
              " 'mnist_train_small.csv',\n",
              " 'mnist_test.csv']"
            ]
          },
          "metadata": {
            "tags": []
          },
          "execution_count": 26
        }
      ]
    },
    {
      "cell_type": "code",
      "metadata": {
        "id": "IksgcZU-UtbJ",
        "colab_type": "code",
        "colab": {}
      },
      "source": [
        ""
      ],
      "execution_count": null,
      "outputs": []
    }
  ]
}