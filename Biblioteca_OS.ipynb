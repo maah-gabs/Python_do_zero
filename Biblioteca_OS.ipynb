{
  "nbformat": 4,
  "nbformat_minor": 0,
  "metadata": {
    "colab": {
      "name": "Biblioteca OS",
      "provenance": [],
      "authorship_tag": "ABX9TyOC4aZXYImNMq2rD78wHdkJ",
      "include_colab_link": true
    },
    "kernelspec": {
      "name": "python3",
      "display_name": "Python 3"
    }
  },
  "cells": [
    {
      "cell_type": "markdown",
      "metadata": {
        "id": "view-in-github",
        "colab_type": "text"
      },
      "source": [
        "<a href=\"https://colab.research.google.com/github/maah-gabs/Python_do_zero/blob/master/Biblioteca_OS.ipynb\" target=\"_parent\"><img src=\"https://colab.research.google.com/assets/colab-badge.svg\" alt=\"Open In Colab\"/></a>"
      ]
    },
    {
      "cell_type": "markdown",
      "metadata": {
        "id": "rT2_uxqFejGh",
        "colab_type": "text"
      },
      "source": [
        "# Modulo 02: Aula 04 - Navegando pelos diretórios\n",
        "\n",
        "A biblioteca OS nos oferece a oportunidade de interagir com o sistema operacional através do Python, com ela é possível acessar, modificar, mover, apagar arquivos, entre muitas outras coisas. Vamos aprender??\n",
        "\n",
        "A biblioteca que usaremos nessa aula, será extremamente util para o nosso trabalho com Python. "
      ]
    },
    {
      "cell_type": "code",
      "metadata": {
        "id": "Y27sDNqlgwss",
        "colab_type": "code",
        "colab": {}
      },
      "source": [
        "# Importando a biblioteca \n",
        "import os"
      ],
      "execution_count": 1,
      "outputs": []
    },
    {
      "cell_type": "markdown",
      "metadata": {
        "id": "g7ml0SHAjzYP",
        "colab_type": "text"
      },
      "source": [
        "## getcwd()\n",
        "\n",
        "Um importante primeiro passo é sabermos onde estamos, desta forma, utilizaremos a função `getcwd ( )`, essa função significa *Get Current Directtory* que significa pegar o diretório atual"
      ]
    },
    {
      "cell_type": "code",
      "metadata": {
        "id": "_uKPhB-ekhtV",
        "colab_type": "code",
        "colab": {
          "base_uri": "https://localhost:8080/",
          "height": 36
        },
        "outputId": "95fa4734-8754-4403-bd0c-751c8047bfb9"
      },
      "source": [
        "# Verificar o diretório atual \n",
        "os.getcwd()"
      ],
      "execution_count": 4,
      "outputs": [
        {
          "output_type": "execute_result",
          "data": {
            "application/vnd.google.colaboratory.intrinsic+json": {
              "type": "string"
            },
            "text/plain": [
              "'/content/sample_data'"
            ]
          },
          "metadata": {
            "tags": []
          },
          "execution_count": 4
        }
      ]
    },
    {
      "cell_type": "markdown",
      "metadata": {
        "id": "WpvIbh30k1V0",
        "colab_type": "text"
      },
      "source": [
        "## chdir ()\n",
        "\n",
        "Outro aspecto importante é utilizar a função chdir ( ) para realizar a mudança de pasta. Desta forma, imagine que todos os arquivos estão localizados em um único diretório, não faz muito sentdo escrever todo o endereço sempre."
      ]
    },
    {
      "cell_type": "code",
      "metadata": {
        "id": "cEtbRHrClelt",
        "colab_type": "code",
        "colab": {}
      },
      "source": [
        "os.chdir(\"/content/sample_data\")"
      ],
      "execution_count": 3,
      "outputs": []
    },
    {
      "cell_type": "markdown",
      "metadata": {
        "id": "BKSM0uEslnbJ",
        "colab_type": "text"
      },
      "source": [
        "Ao escrever o código acima, percebemos qe a execução em si, não nos leva a um retorno, porém, se retornarmos ao código executado logo acima, aquele que escrevemos para saber em que pasta estávamos, se lembra? o retorno será outro, pois, neste momento trocamos o nosso dretório. "
      ]
    },
    {
      "cell_type": "markdown",
      "metadata": {
        "id": "h8mWLY-Xojke",
        "colab_type": "text"
      },
      "source": [
        "## listdir ( ) \n",
        "\n",
        "Uma outra opção interessante é para vc listar o conteúdo presente no diretório atual. Por isso que nós utilizamos o `listdir ( )`. "
      ]
    },
    {
      "cell_type": "code",
      "metadata": {
        "id": "2zhL4oJDo4Ri",
        "colab_type": "code",
        "colab": {
          "base_uri": "https://localhost:8080/",
          "height": 127
        },
        "outputId": "68cf05c8-a022-4fb3-f6b0-cab31ac66a44"
      },
      "source": [
        "# Listar o conteúdo don código atual \n",
        "os.listdir()\n"
      ],
      "execution_count": 5,
      "outputs": [
        {
          "output_type": "execute_result",
          "data": {
            "text/plain": [
              "['README.md',\n",
              " 'anscombe.json',\n",
              " 'mnist_train_small.csv',\n",
              " 'california_housing_test.csv',\n",
              " 'mnist_test.csv',\n",
              " 'california_housing_train.csv']"
            ]
          },
          "metadata": {
            "tags": []
          },
          "execution_count": 5
        }
      ]
    },
    {
      "cell_type": "markdown",
      "metadata": {
        "id": "9vmU0Ia5pJ0s",
        "colab_type": "text"
      },
      "source": [
        "O retorno do código acima, consiste em uma lista. Sendo assim, conseguimos ter acesso a cada um dos documentos, com o seginte exemplo de código. "
      ]
    },
    {
      "cell_type": "code",
      "metadata": {
        "id": "v2-3XLR6pqMn",
        "colab_type": "code",
        "colab": {
          "base_uri": "https://localhost:8080/",
          "height": 36
        },
        "outputId": "c28f7197-85de-4858-e1f6-7c6f718142c8"
      },
      "source": [
        "os.listdir()[1]"
      ],
      "execution_count": 8,
      "outputs": [
        {
          "output_type": "execute_result",
          "data": {
            "application/vnd.google.colaboratory.intrinsic+json": {
              "type": "string"
            },
            "text/plain": [
              "'anscombe.json'"
            ]
          },
          "metadata": {
            "tags": []
          },
          "execution_count": 8
        }
      ]
    },
    {
      "cell_type": "code",
      "metadata": {
        "id": "mp7_2HQopumz",
        "colab_type": "code",
        "colab": {}
      },
      "source": [
        ""
      ],
      "execution_count": null,
      "outputs": []
    }
  ]
}