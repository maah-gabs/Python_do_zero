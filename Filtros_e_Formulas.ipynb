{
  "nbformat": 4,
  "nbformat_minor": 0,
  "metadata": {
    "colab": {
      "name": "Filtros e Formulas ",
      "provenance": [],
      "authorship_tag": "ABX9TyOD0BaHMnUCpULNa1Lt14n5",
      "include_colab_link": true
    },
    "kernelspec": {
      "name": "python3",
      "display_name": "Python 3"
    }
  },
  "cells": [
    {
      "cell_type": "markdown",
      "metadata": {
        "id": "view-in-github",
        "colab_type": "text"
      },
      "source": [
        "<a href=\"https://colab.research.google.com/github/maah-gabs/Python_do_zero/blob/master/Filtros_e_Formulas.ipynb\" target=\"_parent\"><img src=\"https://colab.research.google.com/assets/colab-badge.svg\" alt=\"Open In Colab\"/></a>"
      ]
    },
    {
      "cell_type": "markdown",
      "metadata": {
        "id": "KOy5XkExkZx8"
      },
      "source": [
        "# Módulo 05: Aula 07 - Filtros e Formulas. \n",
        "\n",
        "Assim como fazemos no Excel, também somos capazes de inserir e realizar operações com filtros e formúlas no Python, desta forma, quando falamos em dado de Excel filtros e formulas consiste em um processo muito importante de análise e exploração de dados. "
      ]
    },
    {
      "cell_type": "code",
      "metadata": {
        "id": "tO6ovM_almlh",
        "outputId": "4265aef4-6f6e-4f00-c97a-cfde37c83408",
        "colab": {
          "base_uri": "https://localhost:8080/",
          "height": 35
        }
      },
      "source": [
        "# atualizando a lib\n",
        "!pip install -U openpyxl -q"
      ],
      "execution_count": 1,
      "outputs": [
        {
          "output_type": "stream",
          "text": [
            "\u001b[?25l\r\u001b[K     |█▍                              | 10kB 16.7MB/s eta 0:00:01\r\u001b[K     |██▊                             | 20kB 2.7MB/s eta 0:00:01\r\u001b[K     |████                            | 30kB 3.6MB/s eta 0:00:01\r\u001b[K     |█████▍                          | 40kB 4.1MB/s eta 0:00:01\r\u001b[K     |██████▊                         | 51kB 3.2MB/s eta 0:00:01\r\u001b[K     |████████                        | 61kB 3.6MB/s eta 0:00:01\r\u001b[K     |█████████▌                      | 71kB 3.7MB/s eta 0:00:01\r\u001b[K     |██████████▉                     | 81kB 4.1MB/s eta 0:00:01\r\u001b[K     |████████████▏                   | 92kB 4.2MB/s eta 0:00:01\r\u001b[K     |█████████████▌                  | 102kB 4.1MB/s eta 0:00:01\r\u001b[K     |██████████████▉                 | 112kB 4.1MB/s eta 0:00:01\r\u001b[K     |████████████████▏               | 122kB 4.1MB/s eta 0:00:01\r\u001b[K     |█████████████████▌              | 133kB 4.1MB/s eta 0:00:01\r\u001b[K     |███████████████████             | 143kB 4.1MB/s eta 0:00:01\r\u001b[K     |████████████████████▎           | 153kB 4.1MB/s eta 0:00:01\r\u001b[K     |█████████████████████▋          | 163kB 4.1MB/s eta 0:00:01\r\u001b[K     |███████████████████████         | 174kB 4.1MB/s eta 0:00:01\r\u001b[K     |████████████████████████▎       | 184kB 4.1MB/s eta 0:00:01\r\u001b[K     |█████████████████████████▋      | 194kB 4.1MB/s eta 0:00:01\r\u001b[K     |███████████████████████████     | 204kB 4.1MB/s eta 0:00:01\r\u001b[K     |████████████████████████████▍   | 215kB 4.1MB/s eta 0:00:01\r\u001b[K     |█████████████████████████████▊  | 225kB 4.1MB/s eta 0:00:01\r\u001b[K     |███████████████████████████████ | 235kB 4.1MB/s eta 0:00:01\r\u001b[K     |████████████████████████████████| 245kB 4.1MB/s \n",
            "\u001b[?25h"
          ],
          "name": "stdout"
        }
      ]
    },
    {
      "cell_type": "code",
      "metadata": {
        "id": "tiNCMo5KlnBn",
        "outputId": "bd72424f-cd22-4bb3-9cad-1d99e1ff3f2d",
        "colab": {
          "base_uri": "https://localhost:8080/",
          "height": 35
        }
      },
      "source": [
        "# Carregando uma planiha \n",
        "from openpyxl import load_workbook\n",
        "\n",
        "workbook = load_workbook(filename ='controle_da_empresa.xlsx')\n",
        "\n",
        "#verificando as abas \n",
        "workbook.sheetnames"
      ],
      "execution_count": 2,
      "outputs": [
        {
          "output_type": "execute_result",
          "data": {
            "text/plain": [
              "['Estoque', 'Vendas', 'Funcionários']"
            ]
          },
          "metadata": {
            "tags": []
          },
          "execution_count": 2
        }
      ]
    },
    {
      "cell_type": "markdown",
      "metadata": {
        "id": "2Zz-AfyDms3C"
      },
      "source": [
        "Para ver a dimensão da minha planilha, basta utilizar o método `dimensions`. "
      ]
    },
    {
      "cell_type": "code",
      "metadata": {
        "id": "DNF4wJI0m7sE"
      },
      "source": [
        "sheet = workbook['Vendas']"
      ],
      "execution_count": 4,
      "outputs": []
    },
    {
      "cell_type": "code",
      "metadata": {
        "id": "xOyUX5btm0ms",
        "outputId": "308f20c7-d392-4fa2-be58-df736807ff2e",
        "colab": {
          "base_uri": "https://localhost:8080/",
          "height": 36
        }
      },
      "source": [
        "# dimensão de um conjunto de dados \n",
        "sheet.dimensions"
      ],
      "execution_count": 5,
      "outputs": [
        {
          "output_type": "execute_result",
          "data": {
            "application/vnd.google.colaboratory.intrinsic+json": {
              "type": "string"
            },
            "text/plain": [
              "'A1:F91'"
            ]
          },
          "metadata": {
            "tags": []
          },
          "execution_count": 5
        }
      ]
    },
    {
      "cell_type": "markdown",
      "metadata": {
        "id": "fxEVUR7fnRCM"
      },
      "source": [
        "## Adicionando um Filtro \n",
        "\n",
        "Com o conhecimento dos nosso dados, é possível criar um filtro utilizando o método `auto_filter` e passando uma referencia de intervalo dos dados. "
      ]
    },
    {
      "cell_type": "code",
      "metadata": {
        "id": "MnkAFkoznjPf"
      },
      "source": [
        "# adicionando um filtro \n",
        "sheet.auto_filter.ref = 'A1:F91'"
      ],
      "execution_count": 6,
      "outputs": []
    },
    {
      "cell_type": "markdown",
      "metadata": {
        "id": "OOk9QBOWoRIu"
      },
      "source": [
        "## Salvando Arquivo\n",
        "\n",
        "Quando manipulamos os dados pelo Python, estamos apenas realizando uma \"consulta\" e não uma alteração, propriamente dita. \n",
        "\n",
        "Ou seja, desta forma, é extremamente necessário que para **salvar** as alterações é importante que salvemos o arquivo. \n",
        "\n",
        "Para isso, basta usar o método `save` e entre parenteses, passar no `(filename)` o nome do documento que realizará a cópia. "
      ]
    },
    {
      "cell_type": "code",
      "metadata": {
        "id": "h3Z5tgX8pIs3"
      },
      "source": [
        "# Salvando o workbook modificado \n",
        "workbook.save(filename = 'controle_filtro.xlsx')"
      ],
      "execution_count": 7,
      "outputs": []
    },
    {
      "cell_type": "markdown",
      "metadata": {
        "id": "shIf6AqQpfA4"
      },
      "source": [
        "## Fórmulas \n",
        "\n",
        "As formulas são ferramentas muito poderosas que temos no Excel. Aqui, também somos capazes de utilizar as mesmas. Para isso, importaremos alguns utilitários da `openpyxl` utilizando o módulo `FORMULAE.`"
      ]
    },
    {
      "cell_type": "code",
      "metadata": {
        "id": "5eArR9SUp9tq"
      },
      "source": [
        "# importando o módulo \n",
        "from openpyxl.utils import FORMULAE"
      ],
      "execution_count": 8,
      "outputs": []
    },
    {
      "cell_type": "code",
      "metadata": {
        "id": "FTEMNKU7qGhg",
        "outputId": "dc9e8944-7a96-427b-e293-99c8f6ab9ac9",
        "colab": {
          "base_uri": "https://localhost:8080/",
          "height": 1000
        }
      },
      "source": [
        "# Verificando as fomulas \n",
        "FORMULAE"
      ],
      "execution_count": 9,
      "outputs": [
        {
          "output_type": "execute_result",
          "data": {
            "text/plain": [
              "frozenset({'ABS',\n",
              "           'ACCRINT',\n",
              "           'ACCRINTM',\n",
              "           'ACOS',\n",
              "           'ACOSH',\n",
              "           'AMORDEGRC',\n",
              "           'AMORLINC',\n",
              "           'AND',\n",
              "           'AREAS',\n",
              "           'ASC',\n",
              "           'ASIN',\n",
              "           'ASINH',\n",
              "           'ATAN',\n",
              "           'ATAN2',\n",
              "           'ATANH',\n",
              "           'AVEDEV',\n",
              "           'AVERAGE',\n",
              "           'AVERAGEA',\n",
              "           'AVERAGEIF',\n",
              "           'AVERAGEIFS',\n",
              "           'BAHTTEXT',\n",
              "           'BESSELI',\n",
              "           'BESSELJ',\n",
              "           'BESSELK',\n",
              "           'BESSELY',\n",
              "           'BETADIST',\n",
              "           'BETAINV',\n",
              "           'BIN2DEC',\n",
              "           'BIN2HEX',\n",
              "           'BIN2OCT',\n",
              "           'BINOMDIST',\n",
              "           'CEILING',\n",
              "           'CELL',\n",
              "           'CHAR',\n",
              "           'CHIDIST',\n",
              "           'CHIINV',\n",
              "           'CHITEST',\n",
              "           'CHOOSE',\n",
              "           'CLEAN',\n",
              "           'CODE',\n",
              "           'COLUMN',\n",
              "           'COLUMNS',\n",
              "           'COMBIN',\n",
              "           'COMPLEX',\n",
              "           'CONCATENATE',\n",
              "           'CONFIDENCE',\n",
              "           'CONVERT',\n",
              "           'CORREL',\n",
              "           'COS',\n",
              "           'COSH',\n",
              "           'COUNT',\n",
              "           'COUNTA',\n",
              "           'COUNTBLANK',\n",
              "           'COUNTIF',\n",
              "           'COUNTIFS',\n",
              "           'COUPDAYBS',\n",
              "           'COUPDAYS',\n",
              "           'COUPDAYSNC',\n",
              "           'COUPNCD',\n",
              "           'COUPNUM',\n",
              "           'COUPPCD',\n",
              "           'COVAR',\n",
              "           'CRITBINOM',\n",
              "           'CUBEKPIMEMBER',\n",
              "           'CUBEMEMBER',\n",
              "           'CUBEMEMBERPROPERTY',\n",
              "           'CUBERANKEDMEMBER',\n",
              "           'CUBESET',\n",
              "           'CUBESETCOUNT',\n",
              "           'CUBEVALUE',\n",
              "           'CUMIPMT',\n",
              "           'CUMPRINC',\n",
              "           'DATE',\n",
              "           'DATEDIF',\n",
              "           'DATEVALUE',\n",
              "           'DAVERAGE',\n",
              "           'DAY',\n",
              "           'DAYS360',\n",
              "           'DB',\n",
              "           'DCOUNT',\n",
              "           'DCOUNTA',\n",
              "           'DDB',\n",
              "           'DEC2BIN',\n",
              "           'DEC2HEX',\n",
              "           'DEC2OCT',\n",
              "           'DEGREES',\n",
              "           'DELTA',\n",
              "           'DEVSQ',\n",
              "           'DGET',\n",
              "           'DISC',\n",
              "           'DMAX',\n",
              "           'DMIN',\n",
              "           'DOLLAR',\n",
              "           'DOLLARDE',\n",
              "           'DOLLARFR',\n",
              "           'DPRODUCT',\n",
              "           'DSTDEV',\n",
              "           'DSTDEVP',\n",
              "           'DSUM',\n",
              "           'DURATION',\n",
              "           'DVAR',\n",
              "           'DVARP',\n",
              "           'ECMA.CEILING',\n",
              "           'EDATE',\n",
              "           'EFFECT',\n",
              "           'EOMONTH',\n",
              "           'ERF',\n",
              "           'ERFC',\n",
              "           'ERROR.TYPE',\n",
              "           'EVEN',\n",
              "           'EXACT',\n",
              "           'EXP',\n",
              "           'EXPONDIST',\n",
              "           'FACT',\n",
              "           'FACTDOUBLE',\n",
              "           'FALSE',\n",
              "           'FDIST',\n",
              "           'FIND',\n",
              "           'FINDB',\n",
              "           'FINV',\n",
              "           'FISHER',\n",
              "           'FISHERINV',\n",
              "           'FIXED',\n",
              "           'FLOOR',\n",
              "           'FORECAST',\n",
              "           'FREQUENCY',\n",
              "           'FTEST',\n",
              "           'FV',\n",
              "           'FVSCHEDULE',\n",
              "           'GAMMADIST',\n",
              "           'GAMMAINV',\n",
              "           'GAMMALN',\n",
              "           'GCD',\n",
              "           'GEOMEAN',\n",
              "           'GESTEP',\n",
              "           'GETPIVOTDATA',\n",
              "           'GROWTH',\n",
              "           'HARMEAN',\n",
              "           'HEX2BIN',\n",
              "           'HEX2DEC',\n",
              "           'HEX2OCT',\n",
              "           'HLOOKUP',\n",
              "           'HOUR',\n",
              "           'HYPERLINK',\n",
              "           'HYPGEOMDIST',\n",
              "           'IF',\n",
              "           'IFERROR',\n",
              "           'IMABS',\n",
              "           'IMAGINARY',\n",
              "           'IMARGUMENT',\n",
              "           'IMCONJUGATE',\n",
              "           'IMCOS',\n",
              "           'IMDIV',\n",
              "           'IMEXP',\n",
              "           'IMLN',\n",
              "           'IMLOG10',\n",
              "           'IMLOG2',\n",
              "           'IMPOWER',\n",
              "           'IMPRODUCT',\n",
              "           'IMREAL',\n",
              "           'IMSIN',\n",
              "           'IMSQRT',\n",
              "           'IMSUB',\n",
              "           'IMSUM',\n",
              "           'INDEX',\n",
              "           'INDIRECT',\n",
              "           'INFO',\n",
              "           'INT',\n",
              "           'INTERCEPT',\n",
              "           'INTRATE',\n",
              "           'IPMT',\n",
              "           'IRR',\n",
              "           'ISBLANK',\n",
              "           'ISERR',\n",
              "           'ISERROR',\n",
              "           'ISEVEN',\n",
              "           'ISLOGICAL',\n",
              "           'ISNA',\n",
              "           'ISNONTEXT',\n",
              "           'ISNUMBER',\n",
              "           'ISO.CEILING',\n",
              "           'ISODD',\n",
              "           'ISPMT',\n",
              "           'ISREF',\n",
              "           'ISTEXT',\n",
              "           'JIS',\n",
              "           'KURT',\n",
              "           'LARGE',\n",
              "           'LCM',\n",
              "           'LEFT',\n",
              "           'LEFTB',\n",
              "           'LEN',\n",
              "           'LENB',\n",
              "           'LINEST',\n",
              "           'LN',\n",
              "           'LOG',\n",
              "           'LOG10',\n",
              "           'LOGEST',\n",
              "           'LOGINV',\n",
              "           'LOGNORMDIST',\n",
              "           'LOOKUP',\n",
              "           'LOWER',\n",
              "           'MATCH',\n",
              "           'MAX',\n",
              "           'MAXA',\n",
              "           'MDETERM',\n",
              "           'MDURATION',\n",
              "           'MEDIAN',\n",
              "           'MID',\n",
              "           'MIDB',\n",
              "           'MIN',\n",
              "           'MINA',\n",
              "           'MINUTE',\n",
              "           'MINVERSE',\n",
              "           'MIRR',\n",
              "           'MMULT',\n",
              "           'MOD',\n",
              "           'MODE',\n",
              "           'MONTH',\n",
              "           'MROUND',\n",
              "           'MULTINOMIAL',\n",
              "           'N',\n",
              "           'NA',\n",
              "           'NEGBINOMDIST',\n",
              "           'NETWORKDAYS',\n",
              "           'NETWORKDAYS.INTL',\n",
              "           'NOMINAL',\n",
              "           'NORMDIST',\n",
              "           'NORMINV',\n",
              "           'NORMSDIST',\n",
              "           'NORMSINV',\n",
              "           'NOT',\n",
              "           'NOW',\n",
              "           'NPER',\n",
              "           'NPV',\n",
              "           'OCT2BIN',\n",
              "           'OCT2DEC',\n",
              "           'OCT2HEX',\n",
              "           'ODD',\n",
              "           'ODDFPRICE',\n",
              "           'ODDFYIELD',\n",
              "           'ODDLPRICE',\n",
              "           'ODDLYIELD',\n",
              "           'OFFSET',\n",
              "           'OR',\n",
              "           'PEARSON',\n",
              "           'PERCENTILE',\n",
              "           'PERCENTRANK',\n",
              "           'PERMUT',\n",
              "           'PHONETIC',\n",
              "           'PI',\n",
              "           'PMT',\n",
              "           'POISSON',\n",
              "           'POWER',\n",
              "           'PPMT',\n",
              "           'PRICE',\n",
              "           'PRICEDISC',\n",
              "           'PRICEMAT',\n",
              "           'PROB',\n",
              "           'PRODUCT',\n",
              "           'PROPER',\n",
              "           'PV',\n",
              "           'QUARTILE',\n",
              "           'QUOTIENT',\n",
              "           'RADIANS',\n",
              "           'RAND',\n",
              "           'RANDBETWEEN',\n",
              "           'RANK',\n",
              "           'RATE',\n",
              "           'RECEIVED',\n",
              "           'REPLACE',\n",
              "           'REPLACEB',\n",
              "           'REPT',\n",
              "           'RIGHT',\n",
              "           'RIGHTB',\n",
              "           'ROMAN',\n",
              "           'ROUND',\n",
              "           'ROUNDDOWN',\n",
              "           'ROUNDUP',\n",
              "           'ROW',\n",
              "           'ROWS',\n",
              "           'RSQ',\n",
              "           'RTD',\n",
              "           'SEARCH',\n",
              "           'SEARCHB',\n",
              "           'SECOND',\n",
              "           'SERIESSUM',\n",
              "           'SIGN',\n",
              "           'SIN',\n",
              "           'SINH',\n",
              "           'SKEW',\n",
              "           'SLN',\n",
              "           'SLOPE',\n",
              "           'SMALL',\n",
              "           'SQRT',\n",
              "           'SQRTPI',\n",
              "           'STANDARDIZE',\n",
              "           'STDEV STDEVA',\n",
              "           'STDEVP',\n",
              "           'STDEVPA STEYX',\n",
              "           'SUBSTITUTE',\n",
              "           'SUBTOTAL',\n",
              "           'SUM',\n",
              "           'SUMIF',\n",
              "           'SUMIFS',\n",
              "           'SUMPRODUCT',\n",
              "           'SUMSQ',\n",
              "           'SUMX2MY2',\n",
              "           'SUMX2PY2',\n",
              "           'SUMXMY2',\n",
              "           'SYD',\n",
              "           'T',\n",
              "           'TAN',\n",
              "           'TANH',\n",
              "           'TBILLEQ',\n",
              "           'TBILLPRICE',\n",
              "           'TBILLYIELD',\n",
              "           'TDIST',\n",
              "           'TEXT',\n",
              "           'TIME',\n",
              "           'TIMEVALUE',\n",
              "           'TINV',\n",
              "           'TODAY',\n",
              "           'TRANSPOSE',\n",
              "           'TREND',\n",
              "           'TRIM',\n",
              "           'TRIMMEAN',\n",
              "           'TRUE ADDRESS',\n",
              "           'TRUNC',\n",
              "           'TTEST',\n",
              "           'TYPE',\n",
              "           'UPPER',\n",
              "           'VALUE',\n",
              "           'VAR',\n",
              "           'VARA',\n",
              "           'VARP',\n",
              "           'VARPA',\n",
              "           'VDB',\n",
              "           'VLOOKUP',\n",
              "           'WEEKDAY',\n",
              "           'WEEKNUM',\n",
              "           'WEIBULL',\n",
              "           'WORKDAY ',\n",
              "           'WORKDAY.INTL',\n",
              "           'XIRR',\n",
              "           'XNPV',\n",
              "           'YEAR',\n",
              "           'YEARFRAC',\n",
              "           'YIELD',\n",
              "           'YIELDDISC',\n",
              "           'YIELDMAT',\n",
              "           'ZTEST'})"
            ]
          },
          "metadata": {
            "tags": []
          },
          "execution_count": 9
        }
      ]
    },
    {
      "cell_type": "markdown",
      "metadata": {
        "id": "AD5jv-F3qrP2"
      },
      "source": [
        "**ATENÇÃO ESSE É UM AVISO** Cuidado com a plataforma que você está utilizando, desde a língua, até plataformas diferenciadas. \n",
        "\n",
        "É importante que você pense nas formulas como padronização, sendo assim, lembre - se sempre de onde essa planilha será consumida. "
      ]
    },
    {
      "cell_type": "code",
      "metadata": {
        "id": "PEXHGds-rVE0"
      },
      "source": [
        "# associando um formula a uma célula \n",
        "sheet['G1'] = 'Valor Médio'\n",
        "sheet['G2'] = '= AVERAGE(E2:E91)'\n",
        "\n",
        "#salvando a planilha para conferencia\n",
        "workbook.save(filename ='controle_formulas.xlsx')"
      ],
      "execution_count": 16,
      "outputs": []
    },
    {
      "cell_type": "markdown",
      "metadata": {
        "id": "xzD0I438sG7J"
      },
      "source": [
        "## Fórmula Condicional \n",
        "Neste momento, utilizaremos a formula condicional o SOMASE(SUMIF). Neste exemplo, vamos verificar a quantidade de **Canon 6d Mark II** vendidas."
      ]
    },
    {
      "cell_type": "code",
      "metadata": {
        "id": "dSGSXV2wsjXc"
      },
      "source": [
        "# formula condicional \n",
        "sheet['G3'] = '= SUMIF(B2:B91, \"Canon 6D Mark II\", C2:C91)'\n",
        "\n",
        "#Salvando a planilha \n",
        "workbook.save(filename='controle_formulas.xlsx')"
      ],
      "execution_count": 17,
      "outputs": []
    },
    {
      "cell_type": "code",
      "metadata": {
        "id": "moWf1GBttC8Y"
      },
      "source": [
        ""
      ],
      "execution_count": null,
      "outputs": []
    }
  ]
}