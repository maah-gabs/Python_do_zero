{
  "nbformat": 4,
  "nbformat_minor": 0,
  "metadata": {
    "colab": {
      "name": "Relatórios da Empresa",
      "provenance": [],
      "authorship_tag": "ABX9TyPLTIR4gDCm36S/vrY6GjEs",
      "include_colab_link": true
    },
    "kernelspec": {
      "name": "python3",
      "display_name": "Python 3"
    }
  },
  "cells": [
    {
      "cell_type": "markdown",
      "metadata": {
        "id": "view-in-github",
        "colab_type": "text"
      },
      "source": [
        "<a href=\"https://colab.research.google.com/github/maah-gabs/Python_do_zero/blob/master/Relat%C3%B3rios_da_Empresa.ipynb\" target=\"_parent\"><img src=\"https://colab.research.google.com/assets/colab-badge.svg\" alt=\"Open In Colab\"/></a>"
      ]
    },
    {
      "cell_type": "markdown",
      "metadata": {
        "id": "BpvxkkkBU7b4",
        "colab_type": "text"
      },
      "source": [
        "#Módulo 02: Aula 07 - Relatórios de vendas de Empresas \n",
        "\n",
        "Após termos a parte teórica bem estabelecida e ferramentas vamos utiliza - las? vamos colocar todo o poder para fazermos esse projeto funcionar. Certo? \n",
        "\n",
        "Com o objetivo de transformar tarefas cada vez mais automatizadas, vamos aprender a extrair e manipular arquivos cada vez mais dos nosso documentos. \n",
        "\n",
        "Neste projeto, utilizaremos a biblioteca PDF Plumber para extrairmos e manipularmos diversos relatórios de pdf ao mesmo tempo. "
      ]
    },
    {
      "cell_type": "code",
      "metadata": {
        "id": "Tb3zTcW_Xw6A",
        "colab_type": "code",
        "colab": {
          "base_uri": "https://localhost:8080/",
          "height": 423
        },
        "outputId": "48a39b42-7bf8-4518-b78a-922893a7705a"
      },
      "source": [
        "# Instalando o pdfplumber \n",
        "!pip install pdfplumber"
      ],
      "execution_count": 1,
      "outputs": [
        {
          "output_type": "stream",
          "text": [
            "Collecting pdfplumber\n",
            "  Downloading https://files.pythonhosted.org/packages/2c/06/eb883f00ea3d78a2f860c593645498c39120f763d30b099cc98c4392b312/pdfplumber-0.5.23.tar.gz\n",
            "Collecting pdfminer.six==20200517\n",
            "\u001b[?25l  Downloading https://files.pythonhosted.org/packages/b0/c0/ef1c8758bbd86edb10b5443700aac97d0ba27a9ca2e7696db8cd1fdbd5a8/pdfminer.six-20200517-py3-none-any.whl (5.6MB)\n",
            "\u001b[K     |████████████████████████████████| 5.6MB 4.9MB/s \n",
            "\u001b[?25hRequirement already satisfied: Pillow>=7.0.0 in /usr/local/lib/python3.6/dist-packages (from pdfplumber) (7.0.0)\n",
            "Collecting Wand\n",
            "\u001b[?25l  Downloading https://files.pythonhosted.org/packages/82/e4/d00cdc270cad06a2dd2d3095ffe0f6541d69104db504c4e94de805e3c6e0/Wand-0.6.2-py2.py3-none-any.whl (130kB)\n",
            "\u001b[K     |████████████████████████████████| 133kB 24.1MB/s \n",
            "\u001b[?25hRequirement already satisfied: chardet; python_version > \"3.0\" in /usr/local/lib/python3.6/dist-packages (from pdfminer.six==20200517->pdfplumber) (3.0.4)\n",
            "Requirement already satisfied: sortedcontainers in /usr/local/lib/python3.6/dist-packages (from pdfminer.six==20200517->pdfplumber) (2.2.2)\n",
            "Collecting pycryptodome\n",
            "\u001b[?25l  Downloading https://files.pythonhosted.org/packages/17/55/17fa0b55849dc135f7bc400993a9206bf06d1b5d9520b0bc8d47c57aaef5/pycryptodome-3.9.8-cp36-cp36m-manylinux1_x86_64.whl (13.7MB)\n",
            "\u001b[K     |████████████████████████████████| 13.7MB 312kB/s \n",
            "\u001b[?25hBuilding wheels for collected packages: pdfplumber\n",
            "  Building wheel for pdfplumber (setup.py) ... \u001b[?25l\u001b[?25hdone\n",
            "  Created wheel for pdfplumber: filename=pdfplumber-0.5.23-cp36-none-any.whl size=29176 sha256=60a2e4651182af247a75c24437c710200d3b72eb83325d16174780db1934e62c\n",
            "  Stored in directory: /root/.cache/pip/wheels/f6/4d/ae/abb7b92fbed5d09a835c259f26d2a3223ea929a0ad6d322097\n",
            "Successfully built pdfplumber\n",
            "Installing collected packages: pycryptodome, pdfminer.six, Wand, pdfplumber\n",
            "Successfully installed Wand-0.6.2 pdfminer.six-20200517 pdfplumber-0.5.23 pycryptodome-3.9.8\n"
          ],
          "name": "stdout"
        }
      ]
    },
    {
      "cell_type": "code",
      "metadata": {
        "id": "HlNAnd_7X3yz",
        "colab_type": "code",
        "colab": {
          "base_uri": "https://localhost:8080/",
          "height": 129
        },
        "outputId": "6f8a4755-4130-4ffd-d5f8-73a1c046aed0"
      },
      "source": [
        "# Importando os pacotes necessários \n",
        "from google.colab import drive \n",
        "import pdfplumber\n",
        "import os \n",
        "\n",
        "#montando o drive \n",
        "drive.mount ('/content/gdrive')"
      ],
      "execution_count": 2,
      "outputs": [
        {
          "output_type": "stream",
          "text": [
            "Go to this URL in a browser: https://accounts.google.com/o/oauth2/auth?client_id=947318989803-6bn6qk8qdgf4n4g3pfee6491hc0brc4i.apps.googleusercontent.com&redirect_uri=urn%3aietf%3awg%3aoauth%3a2.0%3aoob&scope=email%20https%3a%2f%2fwww.googleapis.com%2fauth%2fdocs.test%20https%3a%2f%2fwww.googleapis.com%2fauth%2fdrive%20https%3a%2f%2fwww.googleapis.com%2fauth%2fdrive.photos.readonly%20https%3a%2f%2fwww.googleapis.com%2fauth%2fpeopleapi.readonly&response_type=code\n",
            "\n",
            "Enter your authorization code:\n",
            "··········\n",
            "Mounted at /content/gdrive\n"
          ],
          "name": "stdout"
        }
      ]
    },
    {
      "cell_type": "code",
      "metadata": {
        "id": "JwTK92ymYTZp",
        "colab_type": "code",
        "colab": {
          "base_uri": "https://localhost:8080/",
          "height": 54
        },
        "outputId": "a9c5f508-5946-4b8d-a715-1ed09a15125d"
      },
      "source": [
        "#Verificando os arquivos \n",
        "!ls '/content/gdrive/My Drive'"
      ],
      "execution_count": 3,
      "outputs": [
        {
          "output_type": "stream",
          "text": [
            "'Colab Notebooks'\t  'Modulo 02'   Untitled0.ipynb\n",
            " modelo_de_relatorio.pdf   relatorios\n"
          ],
          "name": "stdout"
        }
      ]
    },
    {
      "cell_type": "markdown",
      "metadata": {
        "id": "YEMqTuQOZ0Vx",
        "colab_type": "text"
      },
      "source": [
        "Após montarmos o nosso drive e colocarmos a integração do google drive com o google colab. Agora, para termos acesso a pasta em que estão os relatórios que serão utilizadas nessa aula. Normalmente, o caminho do seu drive é `/content/gdrive/My Drive`. \n",
        "\n",
        "Abaixo, usaremos o método *Change Directory* através do comando `chdir ( )` pois queremos alterar a pasta da qual queremos navegar para utilizarmos os arquivos nela disponíveis. "
      ]
    },
    {
      "cell_type": "code",
      "metadata": {
        "id": "gkBFiG_7aoF6",
        "colab_type": "code",
        "colab": {}
      },
      "source": [
        "#Mudar o diretório com pdfs da semana\n",
        "os.chdir(\"/content/gdrive/My Drive/relatorios\")"
      ],
      "execution_count": 4,
      "outputs": []
    },
    {
      "cell_type": "markdown",
      "metadata": {
        "id": "0yRt7BiTa3H0",
        "colab_type": "text"
      },
      "source": [
        "Assim que a célula acima foi executada, é importante que você cheque e se certifique de que você está no local adequado. para isso, utilizando a biblioteca `os` vamos utilizar a função `getcwd ( )`"
      ]
    },
    {
      "cell_type": "code",
      "metadata": {
        "id": "H5NVzS_LbMIM",
        "colab_type": "code",
        "colab": {
          "base_uri": "https://localhost:8080/",
          "height": 36
        },
        "outputId": "670ae6e0-eea7-4bc7-fc2b-90cb1c0f75a0"
      },
      "source": [
        "#checar se estou no diretório correto \n",
        "os.getcwd()"
      ],
      "execution_count": 5,
      "outputs": [
        {
          "output_type": "execute_result",
          "data": {
            "application/vnd.google.colaboratory.intrinsic+json": {
              "type": "string"
            },
            "text/plain": [
              "'/content/gdrive/My Drive/relatorios'"
            ]
          },
          "metadata": {
            "tags": []
          },
          "execution_count": 5
        }
      ]
    },
    {
      "cell_type": "markdown",
      "metadata": {
        "id": "YLoNjqOJbf85",
        "colab_type": "text"
      },
      "source": [
        "Após a confirmação de estarmos no repositório adequado, vamos dar uma olhada em quais são os documentos que estão presentes neste diretório, para isso utilizaremos a função listdir ( ), que ao executar, retornará uma lista de conteúdos e de relatórios no repositório ou na pasta em que estamos. \n",
        "\n",
        "Porém, vamos salvar essa informação em uma variável. Sendo assim, ficará mais fácil de acessarmos esses arquivos mais para frente."
      ]
    },
    {
      "cell_type": "code",
      "metadata": {
        "id": "mVc3d7eccng5",
        "colab_type": "code",
        "colab": {
          "base_uri": "https://localhost:8080/",
          "height": 35
        },
        "outputId": "fd0f0649-ba67-4056-c2b8-68d314bb65ed"
      },
      "source": [
        "# Imprimir a lista dos arquivos no diretório \n",
        "arquivos_semana = os.listdir()\n",
        "print(arquivos_semana)"
      ],
      "execution_count": 6,
      "outputs": [
        {
          "output_type": "stream",
          "text": [
            "['20200801.pdf', '20200802.pdf', '20200803.pdf', '20200804.pdf', '20200805.pdf']\n"
          ],
          "name": "stdout"
        }
      ]
    },
    {
      "cell_type": "markdown",
      "metadata": {
        "id": "2gmnmy-2dMOL",
        "colab_type": "text"
      },
      "source": [
        "## Manipulando Relatórios \n",
        "\n",
        "Agora, vamos iniciar a manipular esses arquivos. \n",
        "\n",
        "Neste momento, utilizaremos a biblioteca *PDF Plumber* que irá auxiliar na manipulação dos arquivos em formato *pdf*. "
      ]
    },
    {
      "cell_type": "code",
      "metadata": {
        "id": "8Es9KdLQdgGk",
        "colab_type": "code",
        "colab": {}
      },
      "source": [
        "# Abrir um relatório como exemplo \n",
        "relatorio = pdfplumber.open(\"/content/gdrive/My Drive/relatorios/20200801.pdf\")"
      ],
      "execution_count": 8,
      "outputs": []
    },
    {
      "cell_type": "markdown",
      "metadata": {
        "id": "6EMbgIw8eKPF",
        "colab_type": "text"
      },
      "source": [
        "Assim como discutido na aula passada, mesmo que o arquivo apresente apenas 1 página, é sempre necessário definirmos em que página nós iremos trabalhar. Como um segundo passo, nós vamos abrir essa página e salvarmos em uma variáveç "
      ]
    },
    {
      "cell_type": "code",
      "metadata": {
        "id": "BDl0kmIyed56",
        "colab_type": "code",
        "colab": {
          "base_uri": "https://localhost:8080/",
          "height": 35
        },
        "outputId": "6f94e632-e447-4dc3-c669-68d607b4c9a6"
      },
      "source": [
        "#Verificando a quantidade de páginas do meu doc\n",
        "relatorio.pages"
      ],
      "execution_count": 9,
      "outputs": [
        {
          "output_type": "execute_result",
          "data": {
            "text/plain": [
              "[<Page:1>]"
            ]
          },
          "metadata": {
            "tags": []
          },
          "execution_count": 9
        }
      ]
    },
    {
      "cell_type": "code",
      "metadata": {
        "id": "SJyhhEHZeivR",
        "colab_type": "code",
        "colab": {}
      },
      "source": [
        "#Abrir a primeira página do relatório e salva - la em uma variável \n",
        "pagina = relatorio.pages[0]"
      ],
      "execution_count": 10,
      "outputs": []
    },
    {
      "cell_type": "markdown",
      "metadata": {
        "id": "4InviEp7e9yj",
        "colab_type": "text"
      },
      "source": [
        "Neste momento, utilizaremos a função `extract_text ( )` para extrair as infomações que são contidas no arquivo. "
      ]
    },
    {
      "cell_type": "code",
      "metadata": {
        "id": "DRPG-GoIfhqE",
        "colab_type": "code",
        "colab": {
          "base_uri": "https://localhost:8080/",
          "height": 458
        },
        "outputId": "d4e26040-3dd6-4283-91fe-a16bc60fd550"
      },
      "source": [
        "# Extrair o texto da primeira página do primeiro relatório \n",
        "texto = pagina.extract_text()\n",
        "print(texto)"
      ],
      "execution_count": 11,
      "outputs": [
        {
          "output_type": "stream",
          "text": [
            "SIGMOIDAL\t\n",
            "\t \t\n",
            "Relatório\tDiário\t\n",
            "Data:\t01/08/2020\t\n",
            "\t\n",
            "\t\n",
            "RECEITA:\tR$\t1297.00\t\n",
            "DADOS\tATUALIZADOS\tPOR\tCARLOS\tMELO\t\n",
            "\t\n",
            "\t\n",
            "Visitantes:\t1367\t\n",
            "A\tquantidade\tde\tvisitantes\tdiz\trespeito\ta\tvisitantes\túnicos\tvisitando\tqualquer\t\n",
            "página\tdo\tdomínio\tou\tsubdomínio\tsigmoidal.ai.\tCompreende,\tentão,\tcursos,\t\n",
            "blogs\te\tlanding\tpages.\t\n",
            "\t\n",
            "Inscritos:\t33\t\n",
            "É\tconsiderado\taqui\to\tnúmero\tde\tleads\tgerados\tpor\tmeio\tde\tcadastro\t\n",
            "voluntário\tnos\tformulários\tdo\tcabeçalho,\trodapé\tou\tmateriais\tricos\t(como\t\n",
            "eBook,\tinfográficos,\tentre\toutros).\t\n",
            "\t\n",
            "Assinantes:\t6\t\n",
            "Clientes\tassinantes\tda\tEscola\tde\tData\tScience,\tconsiderando-se\to\tplano\t\n",
            "renovável\tde\tassinatura\tmensal.\t\n",
            "\t\n"
          ],
          "name": "stdout"
        }
      ]
    },
    {
      "cell_type": "markdown",
      "metadata": {
        "id": "8jqXn3EagOaQ",
        "colab_type": "text"
      },
      "source": [
        "Ao executar o código acima, apenas para visualização o processo funciona perfeitamente. Porém, precisamos conhecer como o Python realiza a leitura das informações, pois, assim e somente assim, seremos capazes de compreender como lidaremos com esses dados. "
      ]
    },
    {
      "cell_type": "markdown",
      "metadata": {
        "id": "RYRySH_Zgq5g",
        "colab_type": "text"
      },
      "source": [
        "## Strings \n",
        "\n",
        "O tipo de dado que estamos lidando neste exemplo é a `string`, elas consistem no tipo de variável que é utilizando quando lidamos com palavras, letras, textos e etc ... nossa linguagem natural. \n",
        "\n",
        "Para o Python, o texto é percebido da seguinte forma: \n",
        "\n",
        "* \\t: Tecla TAB (Espaço entre as palavras); \n",
        "* \\n: Tecla ENTER (Quebra de Linha); "
      ]
    },
    {
      "cell_type": "code",
      "metadata": {
        "id": "Icq_zrG1hSv6",
        "colab_type": "code",
        "colab": {
          "base_uri": "https://localhost:8080/",
          "height": 109
        },
        "outputId": "38eda4cd-ab13-4c58-9a16-fd4bdda8e3b7"
      },
      "source": [
        "texto"
      ],
      "execution_count": 12,
      "outputs": [
        {
          "output_type": "execute_result",
          "data": {
            "application/vnd.google.colaboratory.intrinsic+json": {
              "type": "string"
            },
            "text/plain": [
              "'SIGMOIDAL\\t\\n\\t \\t\\nRelatório\\tDiário\\t\\nData:\\t01/08/2020\\t\\n\\t\\n\\t\\nRECEITA:\\tR$\\t1297.00\\t\\nDADOS\\tATUALIZADOS\\tPOR\\tCARLOS\\tMELO\\t\\n\\t\\n\\t\\nVisitantes:\\t1367\\t\\nA\\tquantidade\\tde\\tvisitantes\\tdiz\\trespeito\\ta\\tvisitantes\\túnicos\\tvisitando\\tqualquer\\t\\npágina\\tdo\\tdomínio\\tou\\tsubdomínio\\tsigmoidal.ai.\\tCompreende,\\tentão,\\tcursos,\\t\\nblogs\\te\\tlanding\\tpages.\\t\\n\\t\\nInscritos:\\t33\\t\\nÉ\\tconsiderado\\taqui\\to\\tnúmero\\tde\\tleads\\tgerados\\tpor\\tmeio\\tde\\tcadastro\\t\\nvoluntário\\tnos\\tformulários\\tdo\\tcabeçalho,\\trodapé\\tou\\tmateriais\\tricos\\t(como\\t\\neBook,\\tinfográficos,\\tentre\\toutros).\\t\\n\\t\\nAssinantes:\\t6\\t\\nClientes\\tassinantes\\tda\\tEscola\\tde\\tData\\tScience,\\tconsiderando-se\\to\\tplano\\t\\nrenovável\\tde\\tassinatura\\tmensal.\\t\\n\\t'"
            ]
          },
          "metadata": {
            "tags": []
          },
          "execution_count": 12
        }
      ]
    },
    {
      "cell_type": "markdown",
      "metadata": {
        "id": "xLo_XKEvhg3e",
        "colab_type": "text"
      },
      "source": [
        "### Split ( ) \n",
        "\n",
        "Ao utlizar o método split ( ), nós estamos separando o texto a partir e um argumento qu será passado dentro dos parenteses. Desta forma, vamos testar na linha abaixo se utilizássemos o split a partir das linhas. \n",
        " "
      ]
    },
    {
      "cell_type": "code",
      "metadata": {
        "id": "UZ8ZaO6zh8EI",
        "colab_type": "code",
        "colab": {
          "base_uri": "https://localhost:8080/",
          "height": 458
        },
        "outputId": "87b91c72-7b4f-4334-b9d8-3797ef509f84"
      },
      "source": [
        "#Dividindo o texto por linhas \n",
        "texto.split(\"\\n\")"
      ],
      "execution_count": 13,
      "outputs": [
        {
          "output_type": "execute_result",
          "data": {
            "text/plain": [
              "['SIGMOIDAL\\t',\n",
              " '\\t \\t',\n",
              " 'Relatório\\tDiário\\t',\n",
              " 'Data:\\t01/08/2020\\t',\n",
              " '\\t',\n",
              " '\\t',\n",
              " 'RECEITA:\\tR$\\t1297.00\\t',\n",
              " 'DADOS\\tATUALIZADOS\\tPOR\\tCARLOS\\tMELO\\t',\n",
              " '\\t',\n",
              " '\\t',\n",
              " 'Visitantes:\\t1367\\t',\n",
              " 'A\\tquantidade\\tde\\tvisitantes\\tdiz\\trespeito\\ta\\tvisitantes\\túnicos\\tvisitando\\tqualquer\\t',\n",
              " 'página\\tdo\\tdomínio\\tou\\tsubdomínio\\tsigmoidal.ai.\\tCompreende,\\tentão,\\tcursos,\\t',\n",
              " 'blogs\\te\\tlanding\\tpages.\\t',\n",
              " '\\t',\n",
              " 'Inscritos:\\t33\\t',\n",
              " 'É\\tconsiderado\\taqui\\to\\tnúmero\\tde\\tleads\\tgerados\\tpor\\tmeio\\tde\\tcadastro\\t',\n",
              " 'voluntário\\tnos\\tformulários\\tdo\\tcabeçalho,\\trodapé\\tou\\tmateriais\\tricos\\t(como\\t',\n",
              " 'eBook,\\tinfográficos,\\tentre\\toutros).\\t',\n",
              " '\\t',\n",
              " 'Assinantes:\\t6\\t',\n",
              " 'Clientes\\tassinantes\\tda\\tEscola\\tde\\tData\\tScience,\\tconsiderando-se\\to\\tplano\\t',\n",
              " 'renovável\\tde\\tassinatura\\tmensal.\\t',\n",
              " '\\t']"
            ]
          },
          "metadata": {
            "tags": []
          },
          "execution_count": 13
        }
      ]
    },
    {
      "cell_type": "markdown",
      "metadata": {
        "id": "zDAgipRxiZ4k",
        "colab_type": "text"
      },
      "source": [
        "A partir do momento que executamos a linha acima, e que aprendemos a como separar os dados, podemos ir direto na informação que queremos: a receita do dia. \n",
        "\n",
        "Ao analisarmos a execução acima, somos capazes de identificar que a informação desejada está contida na sétima posição, lembrando que a contagem do índice sempre se inicia pelo [0], desta forma, ele está n índice [6]. \n",
        "\n",
        "Abaixo, daremos um exemplo de como utilizar o split para acessae a linha [6]. "
      ]
    },
    {
      "cell_type": "code",
      "metadata": {
        "id": "q9z-fwaFjEUN",
        "colab_type": "code",
        "colab": {
          "base_uri": "https://localhost:8080/",
          "height": 36
        },
        "outputId": "bd80a183-a748-4b7f-88a0-995350bc1b30"
      },
      "source": [
        "#Vendas sempre aparecem na 7a posição (indice 6)\n",
        "texto.split(\"\\n\")[6]"
      ],
      "execution_count": 14,
      "outputs": [
        {
          "output_type": "execute_result",
          "data": {
            "application/vnd.google.colaboratory.intrinsic+json": {
              "type": "string"
            },
            "text/plain": [
              "'RECEITA:\\tR$\\t1297.00\\t'"
            ]
          },
          "metadata": {
            "tags": []
          },
          "execution_count": 14
        }
      ]
    },
    {
      "cell_type": "markdown",
      "metadata": {
        "id": "ocZQOD1HmQ32",
        "colab_type": "text"
      },
      "source": [
        "## Replace ( ) \n",
        "\n",
        "Em inglês, replace significa substituir, e é basicamente o que esse método faz. Utilizaremos ele para apagar as tabulações que atrapalham a visualização. "
      ]
    },
    {
      "cell_type": "code",
      "metadata": {
        "id": "c9UBTWEUmmOS",
        "colab_type": "code",
        "colab": {
          "base_uri": "https://localhost:8080/",
          "height": 36
        },
        "outputId": "b4311098-98b3-4f41-d253-5ab076b1d5d6"
      },
      "source": [
        "# Retirando as tabulações \"\\t\"\n",
        "texto.split(\"\\n\")[6].replace(\"\\t\", \"\")"
      ],
      "execution_count": 15,
      "outputs": [
        {
          "output_type": "execute_result",
          "data": {
            "application/vnd.google.colaboratory.intrinsic+json": {
              "type": "string"
            },
            "text/plain": [
              "'RECEITA:R$1297.00'"
            ]
          },
          "metadata": {
            "tags": []
          },
          "execution_count": 15
        }
      ]
    },
    {
      "cell_type": "markdown",
      "metadata": {
        "id": "JncnlzJQm_De",
        "colab_type": "text"
      },
      "source": [
        "Perceba, que apenas ao utilizar o código acima, já deixamos melhor a nossa visualização do dado. Agora, vamos utilizar novamente o split para separar o que vem antes e depois do R$$. Sabemos que para com que esse valor fique \"manipulável\" precisamos deixar apenas a parte numérica. Desta forma, o R$ não é relevante, sendo assim, vamos retira - lo. "
      ]
    },
    {
      "cell_type": "code",
      "metadata": {
        "id": "s3YEFI7pnsNA",
        "colab_type": "code",
        "colab": {
          "base_uri": "https://localhost:8080/",
          "height": 36
        },
        "outputId": "2b67a597-c197-466d-ddd9-987483438667"
      },
      "source": [
        "#como queremos o que vem depois do R$, podemos utilizar str.split(\"R$\")\n",
        "texto.split(\"\\n\")[6].replace(\"\\t\", \"\").split(\"R$\")[1] #coloco [1] para acessar o segundo elemento "
      ],
      "execution_count": 17,
      "outputs": [
        {
          "output_type": "execute_result",
          "data": {
            "application/vnd.google.colaboratory.intrinsic+json": {
              "type": "string"
            },
            "text/plain": [
              "'1297.00'"
            ]
          },
          "metadata": {
            "tags": []
          },
          "execution_count": 17
        }
      ]
    },
    {
      "cell_type": "markdown",
      "metadata": {
        "id": "R6hhQ_iNoPpL",
        "colab_type": "text"
      },
      "source": [
        "Como já mencionado anteriormente e várias vezes nessa aula, nós estamos manipulando strings, certo? porém, para sermos capazes de fazer algo realmente interessante com o valor da receita, é importante que transformemos esses valores em valores numéricos, como estamos lidando com números decimais, mais precisamente moedas, é essencial que a gente transforme esses valores em  `float ( )`.  "
      ]
    },
    {
      "cell_type": "code",
      "metadata": {
        "id": "9qGAosHxovhe",
        "colab_type": "code",
        "colab": {
          "base_uri": "https://localhost:8080/",
          "height": 54
        },
        "outputId": "5cd5375a-4026-4e2e-8296-8cc1fc5173b1"
      },
      "source": [
        "# Somando Strings \n",
        "strings = \"1\" + \"1\"\n",
        "print(\"Soma das Strings: \", strings)\n",
        "\n",
        "#somando floats \n",
        "floats = 1.0 + 1.0 \n",
        "print(\"Soma de Floats: \", floats)"
      ],
      "execution_count": 18,
      "outputs": [
        {
          "output_type": "stream",
          "text": [
            "Soma das Strings:  11\n",
            "Soma de Floats:  2.0\n"
          ],
          "name": "stdout"
        }
      ]
    },
    {
      "cell_type": "markdown",
      "metadata": {
        "id": "VSwmn8SppIT6",
        "colab_type": "text"
      },
      "source": [
        "Sendo assim, é necessário transformamos essa `string` em `float.`"
      ]
    },
    {
      "cell_type": "code",
      "metadata": {
        "id": "gcJ9aK-cpReP",
        "colab_type": "code",
        "colab": {
          "base_uri": "https://localhost:8080/",
          "height": 36
        },
        "outputId": "a32e78b6-711c-47da-cd81-fc121a587da9"
      },
      "source": [
        "# Valor ainda é uma string\n",
        "texto.split(\"\\n\")[6].replace(\"\\t\", \"\").split(\"R$\")[1]"
      ],
      "execution_count": 19,
      "outputs": [
        {
          "output_type": "execute_result",
          "data": {
            "application/vnd.google.colaboratory.intrinsic+json": {
              "type": "string"
            },
            "text/plain": [
              "'1297.00'"
            ]
          },
          "metadata": {
            "tags": []
          },
          "execution_count": 19
        }
      ]
    },
    {
      "cell_type": "code",
      "metadata": {
        "id": "36arwQgRpYJC",
        "colab_type": "code",
        "colab": {
          "base_uri": "https://localhost:8080/",
          "height": 35
        },
        "outputId": "dc7ef281-3c90-425e-e35f-ec01bc354be0"
      },
      "source": [
        "#Transformando em float \n",
        "float(texto.split(\"\\n\")[6].replace(\"\\t\", \"\").split(\"R$\")[1])"
      ],
      "execution_count": 20,
      "outputs": [
        {
          "output_type": "execute_result",
          "data": {
            "text/plain": [
              "1297.0"
            ]
          },
          "metadata": {
            "tags": []
          },
          "execution_count": 20
        }
      ]
    },
    {
      "cell_type": "markdown",
      "metadata": {
        "id": "vjvlLEQEprLT",
        "colab_type": "text"
      },
      "source": [
        "## Automatizando a Soma de Receita dos Relatórios \n",
        "\n",
        "Agora que já temos alguma experiencia em abrir e manipular alguns arquivos, agora é o momento de criarmos uma função que faça isso para gente. \n",
        "\n",
        "A função que criaremos abaixo, vai simplesmente iterar os relatórios, realizar todos os passos que fizemos anteriormente e extrair os valores da receita contido em cada um desses. Assim que você receber esses valores, ele vai soma - lo e nos retornar com a receita dos últimos 5 dias. "
      ]
    },
    {
      "cell_type": "code",
      "metadata": {
        "id": "n1aMadI-rW4S",
        "colab_type": "code",
        "colab": {
          "base_uri": "https://localhost:8080/",
          "height": 90
        },
        "outputId": "487a57b0-7935-4686-ceef-cfbf5654a96c"
      },
      "source": [
        "# Exemplo \n",
        "soma_teste = 0\n",
        "\n",
        "for letra in [1, 10, 34, 99]:\n",
        "  soma_teste = soma_teste + letra\n",
        "  print(soma_teste)"
      ],
      "execution_count": 21,
      "outputs": [
        {
          "output_type": "stream",
          "text": [
            "1\n",
            "11\n",
            "45\n",
            "144\n"
          ],
          "name": "stdout"
        }
      ]
    },
    {
      "cell_type": "code",
      "metadata": {
        "id": "Vu0XjJN_roMY",
        "colab_type": "code",
        "colab": {
          "base_uri": "https://localhost:8080/",
          "height": 109
        },
        "outputId": "567f960a-bc39-41ec-8007-3c5d1f400a03"
      },
      "source": [
        "# criando um contador \n",
        "soma = 0 \n",
        "\n",
        "#criando a função \n",
        "for arquivo in arquivos_semana:\n",
        "  relatorio = pdfplumber.open(arquivo)\n",
        "  pagina = relatorio.pages[0]\n",
        "  texto = pagina.extract_text()\n",
        "  valor = texto.split(\"\\n\")[6].replace(\"\\t\", \"\").split(\"R$\")[1]\n",
        "  valor = float(valor)\n",
        "  soma = soma + valor \n",
        "  print(arquivo, \"--->\", valor)"
      ],
      "execution_count": 22,
      "outputs": [
        {
          "output_type": "stream",
          "text": [
            "20200801.pdf ---> 1297.0\n",
            "20200802.pdf ---> 537.0\n",
            "20200803.pdf ---> 554.0\n",
            "20200804.pdf ---> 2554.0\n",
            "20200805.pdf ---> 154.0\n"
          ],
          "name": "stdout"
        }
      ]
    },
    {
      "cell_type": "markdown",
      "metadata": {
        "id": "zDRcFauQsigc",
        "colab_type": "text"
      },
      "source": [
        "Após sermor capazes de visualizar o valor de cada dia, vamos ver quanto ficou a soma: "
      ]
    },
    {
      "cell_type": "code",
      "metadata": {
        "id": "tWYVvE2YspBG",
        "colab_type": "code",
        "colab": {
          "base_uri": "https://localhost:8080/",
          "height": 35
        },
        "outputId": "75030bd1-5b30-4c42-a60c-b5d0d44c5f40"
      },
      "source": [
        "# Soma total \n",
        "print(\"Receita dos últimos 5 dias: R$\", soma)"
      ],
      "execution_count": 23,
      "outputs": [
        {
          "output_type": "stream",
          "text": [
            "Receita dos últimos 5 dias: R$ 5096.0\n"
          ],
          "name": "stdout"
        }
      ]
    },
    {
      "cell_type": "code",
      "metadata": {
        "id": "byLWy9j6sveX",
        "colab_type": "code",
        "colab": {}
      },
      "source": [
        ""
      ],
      "execution_count": null,
      "outputs": []
    }
  ]
}