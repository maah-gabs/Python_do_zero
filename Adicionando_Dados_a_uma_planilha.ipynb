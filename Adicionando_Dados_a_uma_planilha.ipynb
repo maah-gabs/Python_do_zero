{
  "nbformat": 4,
  "nbformat_minor": 0,
  "metadata": {
    "colab": {
      "name": "Adicionando Dados a uma planilha ",
      "provenance": [],
      "authorship_tag": "ABX9TyPWiOhl3BFyGSywondP3RGT",
      "include_colab_link": true
    },
    "kernelspec": {
      "name": "python3",
      "display_name": "Python 3"
    }
  },
  "cells": [
    {
      "cell_type": "markdown",
      "metadata": {
        "id": "view-in-github",
        "colab_type": "text"
      },
      "source": [
        "<a href=\"https://colab.research.google.com/github/maah-gabs/Python_do_zero/blob/master/Adicionando_Dados_a_uma_planilha.ipynb\" target=\"_parent\"><img src=\"https://colab.research.google.com/assets/colab-badge.svg\" alt=\"Open In Colab\"/></a>"
      ]
    },
    {
      "cell_type": "markdown",
      "metadata": {
        "id": "WtZBhF-skyrd",
        "colab_type": "text"
      },
      "source": [
        "# Adicionando dados a uma planilha \n",
        "\n",
        "Agora que sabemos como manipular e acessar dados de uma planilha e até como iteramos as células e armazenamos dados em um dataframe. \n",
        "\n",
        "Mas e se no caso, a gente quer não apenas consultar, mas, **acrescentar** algo a ela? "
      ]
    },
    {
      "cell_type": "code",
      "metadata": {
        "id": "LMV6NY4Flidg",
        "colab_type": "code",
        "colab": {
          "base_uri": "https://localhost:8080/",
          "height": 35
        },
        "outputId": "888b4b07-482f-4a2d-fdb4-058fbe007930"
      },
      "source": [
        "# Atualizando o pacote\n",
        "!pip install -U openpyxl -q"
      ],
      "execution_count": 1,
      "outputs": [
        {
          "output_type": "stream",
          "text": [
            "\u001b[?25l\r\u001b[K     |█▍                              | 10kB 17.2MB/s eta 0:00:01\r\u001b[K     |██▊                             | 20kB 1.9MB/s eta 0:00:01\r\u001b[K     |████                            | 30kB 2.4MB/s eta 0:00:01\r\u001b[K     |█████▍                          | 40kB 2.8MB/s eta 0:00:01\r\u001b[K     |██████▊                         | 51kB 2.1MB/s eta 0:00:01\r\u001b[K     |████████                        | 61kB 2.4MB/s eta 0:00:01\r\u001b[K     |█████████▌                      | 71kB 2.7MB/s eta 0:00:01\r\u001b[K     |██████████▉                     | 81kB 2.9MB/s eta 0:00:01\r\u001b[K     |████████████▏                   | 92kB 3.1MB/s eta 0:00:01\r\u001b[K     |█████████████▌                  | 102kB 3.0MB/s eta 0:00:01\r\u001b[K     |██████████████▉                 | 112kB 3.0MB/s eta 0:00:01\r\u001b[K     |████████████████▏               | 122kB 3.0MB/s eta 0:00:01\r\u001b[K     |█████████████████▌              | 133kB 3.0MB/s eta 0:00:01\r\u001b[K     |███████████████████             | 143kB 3.0MB/s eta 0:00:01\r\u001b[K     |████████████████████▎           | 153kB 3.0MB/s eta 0:00:01\r\u001b[K     |█████████████████████▋          | 163kB 3.0MB/s eta 0:00:01\r\u001b[K     |███████████████████████         | 174kB 3.0MB/s eta 0:00:01\r\u001b[K     |████████████████████████▎       | 184kB 3.0MB/s eta 0:00:01\r\u001b[K     |█████████████████████████▋      | 194kB 3.0MB/s eta 0:00:01\r\u001b[K     |███████████████████████████     | 204kB 3.0MB/s eta 0:00:01\r\u001b[K     |████████████████████████████▍   | 215kB 3.0MB/s eta 0:00:01\r\u001b[K     |█████████████████████████████▊  | 225kB 3.0MB/s eta 0:00:01\r\u001b[K     |███████████████████████████████ | 235kB 3.0MB/s eta 0:00:01\r\u001b[K     |████████████████████████████████| 245kB 3.0MB/s \n",
            "\u001b[?25h"
          ],
          "name": "stdout"
        }
      ]
    },
    {
      "cell_type": "markdown",
      "metadata": {
        "id": "jM3aDX02naEE",
        "colab_type": "text"
      },
      "source": [
        "Mais uma vez, vamos utilizar os planilhas de venda de relógios no Amazon como nossa base de dados. Desta forma, carregamos os dados da mesma forma como fazemos nos notebooks anteriores. \n",
        "\n"
      ]
    },
    {
      "cell_type": "code",
      "metadata": {
        "id": "VIb74PWpntRw",
        "colab_type": "code",
        "colab": {}
      },
      "source": [
        "# Carregando uma planilha \n",
        "from openpyxl import load_workbook\n",
        "\n",
        "workbook = load_workbook(filename = 'sample.xlsx')\n",
        "\n",
        "# Verificando as abas \n",
        "sheet = workbook.active"
      ],
      "execution_count": 2,
      "outputs": []
    },
    {
      "cell_type": "markdown",
      "metadata": {
        "id": "dG8pCtVJoNu9",
        "colab_type": "text"
      },
      "source": [
        "Podemos chamar as células individualmente para consultar os valores que se encontra nas células em específico. "
      ]
    },
    {
      "cell_type": "code",
      "metadata": {
        "id": "g7HJtCJUoqnb",
        "colab_type": "code",
        "colab": {
          "base_uri": "https://localhost:8080/",
          "height": 36
        },
        "outputId": "ac3eef73-0506-4f2f-e527-7b3592cb371c"
      },
      "source": [
        "# Acessando as células \n",
        "sheet['A1'].value"
      ],
      "execution_count": 3,
      "outputs": [
        {
          "output_type": "execute_result",
          "data": {
            "application/vnd.google.colaboratory.intrinsic+json": {
              "type": "string"
            },
            "text/plain": [
              "'marketplace'"
            ]
          },
          "metadata": {
            "tags": []
          },
          "execution_count": 3
        }
      ]
    },
    {
      "cell_type": "code",
      "metadata": {
        "id": "5GIBpCo2tLmw",
        "colab_type": "code",
        "colab": {
          "base_uri": "https://localhost:8080/",
          "height": 35
        },
        "outputId": "4570fd14-1b80-4cd5-80fb-0f1d4ccbe03d"
      },
      "source": [
        "sheet['b15'].value"
      ],
      "execution_count": 11,
      "outputs": [
        {
          "output_type": "execute_result",
          "data": {
            "text/plain": [
              "4201739"
            ]
          },
          "metadata": {
            "tags": []
          },
          "execution_count": 11
        }
      ]
    },
    {
      "cell_type": "markdown",
      "metadata": {
        "id": "x1vNLBrOo4kI",
        "colab_type": "text"
      },
      "source": [
        "Agora que sabemos onde estamos, basta associar um novo valor a essa célula, e então a modificação será feita. "
      ]
    },
    {
      "cell_type": "code",
      "metadata": {
        "id": "6tBDVmtRpEF7",
        "colab_type": "code",
        "colab": {
          "base_uri": "https://localhost:8080/",
          "height": 36
        },
        "outputId": "3d0b305c-7644-42c9-a663-3a6cae7a5339"
      },
      "source": [
        "# Modificando o valor \n",
        "sheet['A1'] = \"Marketplace\"\n",
        "\n",
        "# Conferindo o resultado \n",
        "sheet['A1'].value"
      ],
      "execution_count": 4,
      "outputs": [
        {
          "output_type": "execute_result",
          "data": {
            "application/vnd.google.colaboratory.intrinsic+json": {
              "type": "string"
            },
            "text/plain": [
              "'Marketplace'"
            ]
          },
          "metadata": {
            "tags": []
          },
          "execution_count": 4
        }
      ]
    },
    {
      "cell_type": "markdown",
      "metadata": {
        "id": "25akLQ6apiA3",
        "colab_type": "text"
      },
      "source": [
        "Alternativamente a esse processo, podemos também salvar uma célula em uma variável e fazer disso uma alteração, diretamente, do valor de uma variável."
      ]
    },
    {
      "cell_type": "code",
      "metadata": {
        "id": "CdqIwR8gptdj",
        "colab_type": "code",
        "colab": {
          "base_uri": "https://localhost:8080/",
          "height": 36
        },
        "outputId": "1d670a95-e4e9-4693-bc72-54755fe0bf68"
      },
      "source": [
        "# Associando a célula a uma variável \n",
        "cell = sheet['A1']\n",
        "\n",
        "# Verificando o valor \n",
        "cell.value"
      ],
      "execution_count": 5,
      "outputs": [
        {
          "output_type": "execute_result",
          "data": {
            "application/vnd.google.colaboratory.intrinsic+json": {
              "type": "string"
            },
            "text/plain": [
              "'Marketplace'"
            ]
          },
          "metadata": {
            "tags": []
          },
          "execution_count": 5
        }
      ]
    },
    {
      "cell_type": "code",
      "metadata": {
        "id": "Hz3ZaCuAp3lU",
        "colab_type": "code",
        "colab": {
          "base_uri": "https://localhost:8080/",
          "height": 36
        },
        "outputId": "4ece82cf-2b42-40a4-e023-ee1e37e2e372"
      },
      "source": [
        "# Modificando o conteúdo da célula - de outra forma\n",
        "cell.value = 'marketplace'\n",
        "\n",
        "# Verificando a mudança \n",
        "cell.value"
      ],
      "execution_count": 6,
      "outputs": [
        {
          "output_type": "execute_result",
          "data": {
            "application/vnd.google.colaboratory.intrinsic+json": {
              "type": "string"
            },
            "text/plain": [
              "'marketplace'"
            ]
          },
          "metadata": {
            "tags": []
          },
          "execution_count": 6
        }
      ]
    },
    {
      "cell_type": "markdown",
      "metadata": {
        "id": "vkhcI0DAqk4t",
        "colab_type": "text"
      },
      "source": [
        "### Um pouco mais sobre Openpyxl \n",
        "\n",
        "Conhecemos bem o Excel e sabemos que a opção de abrir células e colunas são infinitas em linhas e colunas vazias. Porém, essas linhas e colunas vazias não são trazidas para cá. A biblioteca *openpyxl* economiza a memória e exporta para o google colab apenas celulas que apresentam conteúdo. \n",
        "\n",
        "Porém, caso as células vazias estejam localizados entre as células vazias, a biblioteca exportará e reconhecerá aquela célula como vazia, retornando em formeto `None`. "
      ]
    },
    {
      "cell_type": "code",
      "metadata": {
        "id": "xpshlYY4rX5j",
        "colab_type": "code",
        "colab": {
          "base_uri": "https://localhost:8080/",
          "height": 36
        },
        "outputId": "32a6bc27-6158-478c-b031-8603956c032b"
      },
      "source": [
        "# Verificando a quantidade de linhas \n",
        "sheet.dimensions"
      ],
      "execution_count": 7,
      "outputs": [
        {
          "output_type": "execute_result",
          "data": {
            "application/vnd.google.colaboratory.intrinsic+json": {
              "type": "string"
            },
            "text/plain": [
              "'A1:O100'"
            ]
          },
          "metadata": {
            "tags": []
          },
          "execution_count": 7
        }
      ]
    },
    {
      "cell_type": "markdown",
      "metadata": {
        "id": "xxa0ZVa4rzZW",
        "colab_type": "text"
      },
      "source": [
        "Vamos criar agora uma função que demonstre todas as entradas do nosso conjunto de dados para que sejamos capazes de acessar nossas mudanças. "
      ]
    },
    {
      "cell_type": "code",
      "metadata": {
        "id": "DtJl0RsPsBDq",
        "colab_type": "code",
        "colab": {
          "base_uri": "https://localhost:8080/",
          "height": 1000
        },
        "outputId": "db586498-7d47-4d25-d24a-9130a92c3349"
      },
      "source": [
        "# Verificando todas as linhas \n",
        "def print_rows():\n",
        "  for row in sheet.iter_rows(values_only=True):\n",
        "    print(row)\n",
        "print_rows()"
      ],
      "execution_count": 8,
      "outputs": [
        {
          "output_type": "stream",
          "text": [
            "('marketplace', 'customer_id', 'review_id', 'product_id', 'product_parent', 'product_title', 'product_category', 'star_rating', 'helpful_votes', 'total_votes', 'vine', 'verified_purchase', 'review_headline', 'review_body', 'review_date')\n",
            "('US', 3653882, 'R3O9SGZBVQBV76', 'B00FALQ1ZC', 937001370, 'Invicta Women\\'s 15150 \"Angel\" 18k Yellow Gold Ion-Plated Stainless Steel and Brown Leather Watch', 'Watches', 5, 0, 0, 'N', 'Y', 'Five Stars', 'Absolutely love this watch! Get compliments almost every time I wear it. Dainty.', '2015-08-31')\n",
            "('US', 14661224, 'RKH8BNC3L5DLF', 'B00D3RGO20', 484010722, \"Kenneth Cole New York Women's KC4944 Automatic Silver Automatic Mesh Bracelet Analog Watch\", 'Watches', 5, 0, 0, 'N', 'Y', 'I love thiswatch it keeps time wonderfully', 'I love this watch it keeps time wonderfully.', '2015-08-31')\n",
            "('US', 27324930, 'R2HLE8WKZSU3NL', 'B00DKYC7TK', 361166390, 'Ritche 22mm Black Stainless Steel Bracelet Watch Band Strap Pebble Time/Pebble Classic', 'Watches', 2, 1, 1, 'N', 'Y', 'Two Stars', 'Scratches', '2015-08-31')\n",
            "('US', 7211452, 'R31U3UH5AZ42LL', 'B000EQS1JW', 958035625, \"Citizen Men's BM8180-03E Eco-Drive Stainless Steel Watch with Green Canvas Band\", 'Watches', 5, 0, 0, 'N', 'Y', 'Five Stars', 'It works well on me. However, I found cheaper prices in other places after making the purchase', '2015-08-31')\n",
            "('US', 12733322, 'R2SV659OUJ945Y', 'B00A6GFD7S', 765328221, \"Orient ER27009B Men's Symphony Automatic Stainless Steel Black Dial Mechanical Watch\", 'Watches', 4, 0, 0, 'N', 'Y', 'Beautiful face, but cheap sounding links', \"Beautiful watch face.  The band looks nice all around.  The links do make that squeaky cheapo noise when you swing it back and forth on your wrist which can be embarrassing in front of watch enthusiasts.  However, to the naked eye from afar, you can't tell the links are cheap or folded because it is well polished and brushed and the folds are pretty tight for the most part.<br /><br />I love the new member of my collection and it looks great.  I've had it for about a week and so far it has kept good time despite day 1 which is typical of a new mechanical watch\", '2015-08-31')\n",
            "('US', 6576411, 'RA51CP8TR5A2L', 'B00EYSOSE8', 230493695, \"Casio Men's GW-9400BJ-1JF G-Shock Master of G Rangeman Digital Solar Black Carbon Fiber Insert Watch\", 'Watches', 5, 0, 0, 'N', 'Y', 'No complaints', 'i love this watch for my purpose, about the people complaining should of done their research better before buying. dumb people.', '2015-08-31')\n",
            "('US', 11811565, 'RB2Q7DLDN6TH6', 'B00WM0QA3M', 549298279, \"Fossil Women's ES3851 Urban Traveler Multifunction Stainless Steel Watch - Rose\", 'Watches', 5, 1, 1, 'N', 'Y', 'Five Stars', 'for my wife and she loved it, looks great and a great price!', '2015-08-31')\n",
            "('US', 49401598, 'R2RHFJV0UYBK3Y', 'B00A4EYBR0', 844009113, 'INFANTRY Mens Night Vision Analog Quartz Wrist Watch with Nato Nylon Watchband-Red.', 'Watches', 1, 1, 5, 'N', 'N', 'I was about to buy this thinking it was a ...', 'I was about to buy this thinking it was a Swiss Army Infantry watch-- the description uses the words infantry and army--- when I realized it must be a fraud for $12.00. This should not be offered on Amazon-- it is designed to confuse consumers.', '2015-08-31')\n",
            "('US', 45925069, 'R2Z6JOQ94LFHEP', 'B00MAMPGGE', 263720892, \"G-Shock Men's Grey Sport Watch\", 'Watches', 5, 1, 2, 'N', 'Y', 'Perfect watch!', \"Watch is perfect. Rugged with the metal &#34;Bull Bars&#34;. The red accents are a great touch and I get compliments when wearing it. If you are worried about being able to read this in sunlight or in the dark don't! The LED ilumination works great! I might even get this in a different color for my next G-Shock purchase!\", '2015-08-31')\n",
            "('US', 44751341, 'RX27XIIWY5JPB', 'B004LBPB7Q', 124278407, 'Heiden Quad Watch Winder in Black Leather', 'Watches', 4, 0, 0, 'N', 'Y', 'Great quality and build', 'Great quality and build.<br />The motors are really silent.<br />After fiddling with the settings my watches are always charged and ready to use.', '2015-08-31')\n",
            "('US', 9962330, 'R15C7QEZT0LGZN', 'B00KGTVGKS', 28017857, \"Fossil Women's ES3621 Serena Crystal-Accented Two-Tone Stainless Steel Watch\", 'Watches', 4, 2, 2, 'N', 'Y', 'Satisfied', \"The watch was pretty much as it was described and how it looks. I really like the simplicity of it and it looks pretty amazing. It is slightly too big, so I have yet to adjust it, but I'm glad it's too big rather than too small. The weight is good which is what I was hoping for. Very satisfied with this purchase. I was slightly on the fence getting this one because of the previous fossil watch I had, which by some time, did have some gems fall off from ring around the numbers, but so far so good with this one! Excuse my bad lighting for my pic.\", '2015-08-31')\n",
            "('US', 16097204, 'R361XSS37V0NCZ', 'B0039UT5OU', 685450910, \"Casio General Men's Watches Sporty Digital AE-2000W-1AVDF - WW\", 'Watches', 1, 0, 0, 'N', 'N', 'I do not think this watch is a good product. Do not buy it', 'I bought this watch on 2013, the screen had a problem 10 months later. I sent the watch back to Casio Service Center in LA, they sent to me a replacement new watch. Last week, less than one year after I received the new watch, the battery is out.  I went to a shop to replace the battery. Then the A button of the watch do not working, so I could not change the time and other settings. I do not think this watch is a good product. Do not buy it.', '2015-08-31')\n",
            "('US', 51330346, 'ROTNLALUAJAUB', 'B00MPF0XJQ', 767769082, '2Tone Gold Silver Cable Band Ladies Bangle Cuff Watch', 'Watches', 3, 0, 0, 'N', 'Y', 'Three Stars', \"It is a cheap watch that looks cheap.  There isn't much else to say.\", '2015-08-31')\n",
            "('US', 4201739, 'R2DYX7QU6BGOHR', 'B003P1OHHS', 648595227, \"Bulova Men's 98B143 Precisionist Charcoal Grey Dial Bracelet Watch\", 'Watches', 5, 0, 0, 'N', 'Y', 'Five Stars', 'Heavier than i though', '2015-08-31')\n",
            "('US', 26339765, 'RWASY7FKI7QOT', 'B00R70YEOE', 457338020, 'Casio - G-Shock - Gulfmaster - Black - GWN1000C-1A', 'Watches', 5, 2, 3, 'N', 'Y', 'Worth it - love it', 'Had it for several weeks now and I love it - reliable, functional, wears easy, not too heavy.  I also get a lot of comments on it - great watch!', '2015-08-31')\n",
            "('US', 2692576, 'R2KKYZIN3CCL21', 'B000FVE3BG', 824370661, \"Invicta Men's 3329 Force Collection Lefty Watch\", 'Watches', 5, 0, 0, 'N', 'Y', 'This is when different is good.', 'This one is different from the rest of my Invictas. I like the big watches but this one gave a classy more defined look for the craftsmanship. All of the colors compliment each other. It all starts from the stitching of the band.  Very nice watch.', '2015-08-31')\n",
            "('US', 44713366, 'R22H4FGVD5O52O', 'B008X6JB12', 814431355, \"Seiko Women's SUT068 Dress Solar Classic Diamond-Accented Two-Tone Stainless Steel Watch\", 'Watches', 4, 1, 1, 'N', 'Y', 'Thewatch is attractive and easy to read', \"The watch is attractive and easy to read, except for the date. The little diamonds are very, very tiny. All in all, I'm happy with it.\", '2015-08-31')\n",
            "('US', 32778769, 'R11UACZERCM4ZY', 'B0040UOFPW', 187700878, \"Anne Klein Women's 109271MPTT Swarovski Crystal Accented Two-Tone Multi-Chain Bracelet Watch\", 'Watches', 5, 0, 0, 'N', 'Y', 'Five Stars', 'said my wife..', '2015-08-31')\n",
            "('US', 27258523, 'R1AT8NQ38UQOL6', 'B00UR2R5UY', 594315262, \"Guess U13630G1 Men's day and date Gunmetal dial Gunmetal tone bracelet\", 'Watches', 5, 0, 0, 'N', 'Y', 'Five Stars', 'Nice watch, on time delivery from seller.', '2015-08-31')\n",
            "('US', 42646538, 'R2NCZRQGIF1Q75', 'B00HFF57L0', 520810507, \"Nixon Men's Geo Volt Sentry Stainless Steel Watch with Link Bracelet\", 'Watches', 4, 0, 0, 'N', 'Y', 'Very stylish', 'Looks great and love to wear this watch.  Only negative thing is due to its blue/black colors, it is difficult to read in average or low light.  Good thing for me, I wear a watch for looks and not really for telling the time.', '2015-08-31')\n",
            "('US', 46017899, 'RJ9HWWMU4IAHF', 'B00F5O06E6', 601596859, \"Nautica Men's N14699G BFD 101 Chrono Classic Stainless Steel Watch with Brown Band\", 'Watches', 4, 1, 1, 'N', 'Y', 'Good looking watch', \"I really like this watch. It has a great face that contrasts nicely with the white numerals. Keeps time accurately. Overall very pleased. I really like its distinctive look. It's also durable and water proof. I leave it on when I go kayaking or out on the boat fishing.\", '2015-08-31')\n",
            "('US', 37192375, 'R3CNTCKG352GL1', 'B00CHS398I', 798261110, 'HDE Watch Link Pin Remover Band Strap Repair Tool Kit for Watchmakers with Pack of 3 Extra Pins', 'Watches', 4, 0, 0, 'N', 'Y', 'Works great but the watch a used it on was slim ...', 'Works great but the watch a used it on was slim so I had to use a quarter to rase it up the right height', '2015-08-31')\n",
            "('US', 11710007, 'R9Q2LDSES6NBL', 'B003OQ4TA4', 557813802, \"Timex Women's Q7B860 Padded Calfskin 8mm Black Replacement Watchband\", 'Watches', 4, 0, 0, 'N', 'Y', 'Fits perfect on my', 'Just what I needed for my Timex watch. Fits perfect on my wrist', '2015-08-31')\n",
            "('US', 6673146, 'R3629T8HDV5VWU', 'B007X0SYEY', 22870009, 'Movado Men\\'s 0606545 \"Museum\" Perforated Black-Rubber Strap Sport Watch', 'Watches', 5, 1, 1, 'N', 'Y', 'Great Buy!', \"Absolutely LOVE this watch! Amazon prime saved me over $400 after tax from the store prices. Between the great buy and the Coolness of this watch it was an amazing purchase. I can't stop looking at it. Movado is an excellent brand. Time keeping is perfect. Quality is perfect.\", '2015-08-31')\n",
            "('US', 7899951, 'R2CLMKC0IVZ9UX', 'B005KPL7FM', 269520616, \"Invicta Men's 6674 Corduba Chronograph Black Dial Polyurethane Watch\", 'Watches', 5, 0, 0, 'N', 'Y', 'Five Stars', 'Its too large. When you order check the size of the case.', '2015-08-31')\n",
            "('US', 27979201, 'R2QGEJRU4ENYN2', 'B00FNIFI2O', 330558574, \"Szanto Men's SZ 2001 2000 Series Classic Vintage-Inspired Stainless Steel Watch with Pebbled Leather Band\", 'Watches', 5, 1, 1, 'N', 'N', 'This was awatch I bought during a quick sale thing', \"This was a watch I bought during a quick sale thing, so it was cheaper than normal.  I bought it as a daily wear.  It's really a decent watch for the price; a retro look with a modern movement.\", '2015-08-31')\n",
            "('US', 912779, 'R2E5STTYU6LTSC', 'B005JVP0FU', 220345054, \"Casio Men's MRW200H-7EV Sport Resin Watch\", 'Watches', 4, 0, 0, 'N', 'Y', 'Four Stars', 'It works well with nice simple look.', '2015-08-31')\n",
            "('US', 44345527, 'RI97MTVX08KWX', 'B004M23SDI', 299884359, 'Casio F-108WH-2AEF Mens Blue Digital Watch', 'Watches', 3, 0, 0, 'N', 'Y', 'Thought that I read somewhere that you could swim with ...', 'Thought that I read somewhere that you could swim with it. It does not however bear the 50M Water Resistance designation.', '2015-08-31')\n",
            "('US', 2659331, 'RK20LJG750ERC', 'B00RV2L8CE', 714311106, \"August Steiner Men's AS8160TTG Silver And Gold Swiss Quartz Watch with Black Dial and Two Tone Bracelet\", 'Watches', 5, 0, 0, 'N', 'Y', 'Great Watch', 'Perfect Condition, Arrived on Time,Works & Looks Great', '2015-08-31')\n",
            "('US', 805483, 'R1HQZDBB90LMFH', 'B000JQJS6M', 926299553, \"Invicta Men's 8928OB Pro Diver Gold Stainless Steel Two-Tone Automatic Watch\", 'Watches', 5, 2, 2, 'N', 'Y', 'Very Impressive', \"This watch is a very beautiful time piece. This also could be an alternative choice to a Rolex submariner. It also has the same features as a Rolex submariner but it's not as good as a Rolex watch but darn close.<br /><br />Take good care of this watch if you get one because it has gold plating on it. This watch is 'Not' a sport watch.<br /><br />This watch features<br />-Rotating timer dial<br />-All stainless steel (kinda heavy)<br />-Glow in the dark<br />-Water resistant to 200 meters (600 feet)<br />-Automatic winding (from wrist movements)<br />-Shows date<br />-Very beautiful<br /><br />Sizeing isn't difficult, I sized mine by using a thumbtack and a hammer to tap the pins out of the band and I tapped a pin back into the band after removing three band links. If you don't know what your doing then just take it to s jewelry store so they can size it for you\", '2015-08-31')\n",
            "('US', 42590995, 'R2XHQHGXIEYTNI', 'B00VXLJD44', 578998634, \"BOS Men's Automatic self-wind mechanical Pointer Skeleton Watch Black Dial Stainless Steel Band 9008\", 'Watches', 3, 1, 3, 'N', 'Y', 'The epitome of form before function.', \"This is a beautiful watch. I love the look and feel of it, and I get complimented on it all the time. If that were the entirety of the story, this would be a 5 star review.<br /><br />Unfortunately, the most important part of this watch, the functionality, has some issues. Despite this being an automatic winding watch, it doesn't always stay wound. I have had days where I had to re-wind it before the end of the day. Most days however, it does last through the day. I just have to wind it and set the time again in the morning. Other mechanical self winding watches I own will in fact not need to be wound again until I stop wearing them for a full day. In addition, I can't always get the spring fully wound before it will start clicking and the spring skips off the winding gear.<br /><br />If I hadn't been so lazy, I would have returned this watch. Unfortunately, I missed the 30 day return window. So now I'm stuck with an only mostly working but beautiful watch. I guess that makes it kinda like a fashion model. When I think of it that way, it's not quite so disappointing.\", '2015-08-31')\n",
            "('US', 48880662, 'R2BVFRIR7A5UD1', 'B004EFGBW8', 727624097, \"Luminox Men's 3081 Evo Navy SEAL Chronograph Watch\", 'Watches', 5, 0, 0, 'N', 'Y', 'Five Stars', 'very good', '2015-08-31')\n",
            "('US', 112967, 'R3O51G2D52W9DD', 'B00G9X76DG', 86861596, 'INFANTRY Mens 50mm Big Face Military Tactical Analog Digital Sport Wrist Watch Black Silicone Band', 'Watches', 5, 1, 1, 'N', 'Y', 'Surpassed my expectations', 'I was very apprehensive about buying a 28 dollar watch online, but it looked so much like the 400 dollar Invicta Coalition forces watch I was wanting that I went for it.  I was very pleased when it arrived.  It is a BIG, heavy, sharp looking watch and I could not be happier. I am sure I will be purchasing the solid black one as well', '2015-08-31')\n",
            "('US', 51346302, 'R2O0LW0AZ67P3X', 'B00SFTTZ9U', 8403354, \"BUREI Dress Women's Minimalist Wrist Watches with Date Analog Quartz Stainless Steel and Ultra Slim Dial\", 'Watches', 5, 4, 5, 'N', 'N', 'A classy looking watch', '[[VIDEOID:cc599be25462207f860e42621171d7e1]]This watch has an understated clean and classy design.  It looks elegant. It has a stainless steel body and genuine leather band.  The band maximum width 7.5\\\\\\\\\" (last hole), if needed additional holes could be made to make it as wide as 8\\\\\\\\\".<br /><br />The face of the watch is 1 3/16\\\\\\\\\" wide and the watch is 1/4\\\\\\\\\" thick. The back of the watch states it has Japanese quartz movement.  The watch is water resistant to rain and splashing but cannot be submerged into water.<br /><br />This watch is made in China but includes an English manual. The manual covers several watches so it is a somewhat confusing as it refers to self-winding watches as well as quartz watches like this one.  The third page in the manual can be used as a guide to the watch adjustment method.  I found the controls to be simple, everything is controlled by the position of the crown. It can be pulled out into two position, the first position allows change the day of the month, the second position moves the arms.<br /><br />Overall, this is a very attractive classy looking watch.  It comes in attractive package, the box has a pillow and include a gift bag.<br /><br />This watch is provided by BUREI for review.  Getting a review product does not influence what I say, I leave critical reviews as well as positive reviews like this one.<br /><br />Ali Julia review', '2015-08-31')\n",
            "('US', 32555369, 'R2KBTEW8GUENVS', 'B00NC8PMUK', 944169262, 'Motorola Moto 360 Modern Timepiece Smart Watch - Black Leather 00418NARTL', 'Watches', 5, 0, 1, 'N', 'Y', 'Great buy', 'Awesome watch for the price', '2015-08-31')\n",
            "('US', 150916, 'R2R4XPHTT9CCBN', 'B00C1C5J9W', 851584415, 'Domire Fashion Accessories Trial Order New Quartz Fashion Weave Wrap Around Leather Bracelet Lady Woman Butterfly Wrist Watch', 'Watches', 5, 0, 0, 'N', 'Y', 'Love this watch', 'Love this watch, I just received it yesterday it looks really nice on my  wrist, my friends and family love it.', '2015-08-31')\n",
            "('US', 36363182, 'R7GHUDPGT3WJC', 'B000GB0G5M', 492842685, \"Casio Women's LQ139B-1B Classic Round Analog Watch\", 'Watches', 3, 0, 0, 'N', 'Y', 'Nice watch but band is a little small', 'Nice face, easy to read. The band is a little too small.', '2015-08-31')\n",
            "('US', 10356300, 'R364RU42RZ606Z', 'B00F8AWMXA', 397647155, \"Invicta Men's 15256 I-Force Gunmetal Ion-Plated Stainless Steel Watch with Black Leather Strap\", 'Watches', 1, 0, 0, 'N', 'Y', 'One Star', 'crap', '2015-08-31')\n",
            "('US', 52437550, 'R2D5SV3UNHQPYZ', 'B005MDPAPU', 645499118, \"Casio Men's Slim Solar Multi-Function Analog-Digital Watch\", 'Watches', 4, 0, 0, 'N', 'Y', 'Easy to read with lots of features', 'This is now my everyday watch.  Easy to read with lots of features.  Light  and functional.  You can not beat the price.  It is clean in detail and I love the watch.', '2015-08-31')\n",
            "('US', 14495291, 'R15OQG60W2R4PQ', 'B006C8NJY8', 865472849, 'TS6202BLK 8 Belt Box Organizer Black Leather XL Compartments', 'Watches', 5, 0, 0, 'N', 'Y', 'amazing product keeps everything safe and secure organized great quality ...', 'amazing product keeps everything safe and secure organized great quality for my designer belts perfect for homes or traveling', '2015-08-31')\n",
            "('US', 16192612, 'R2XF4SMK4HKNVV', 'B00791YURC', 310034618, \"Casio Men's GW2310FB-1CR G-Shock Shock Resistant Multifunction Watch\", 'Watches', 3, 0, 0, 'N', 'Y', \"Size of a woman's watch\", \"Watch looks amazing and the features are second to none, but....the watch is small.  I have a PAW-5000 which dwarfs it.  I had to look at the box to make sure I didn't get a woman's watch.  No joke, the band on my, average at best, sized wrist almost couldn't accommodate it.  Probably had 1.5 inch left on the band after I put it on.  Make this Man-size and it would fantastic.\", '2015-08-31')\n",
            "('US', 19983148, 'RQ70UFZVX7UVJ', 'B00S69FO0I', 406011595, \"U.S. Polo Assn. Sport Men's US9506 Analog-Digital Display Silver-Tone Watch with Textured Band\", 'Watches', 1, 0, 0, 'N', 'Y', 'poor quality', 'Metal color was changed after the first use , which indicates a very poor quality', '2015-08-31')\n",
            "('US', 27325652, 'R2288KJ7D0H149', 'B00C7IQBRY', 201258316, \"Cerentino Women's CR106-TQ  Turquoise Silicone Rubber Rhinestones Watch\", 'Watches', 4, 1, 1, 'N', 'Y', 'Really cute watch', 'So far so good. I have only had this watch a few weeks & so far it is still working. Style is really cute exactly as pictured', '2015-08-31')\n",
            "('US', 14530627, 'RKJ0UN6XEJKIP', 'B009S4U1TY', 830280907, \"Batman Kids' BAT4072 Black Rubber Batman Logo Strap Watch\", 'Watches', 5, 0, 0, 'N', 'Y', 'Five Stars', 'Grand Kids loved this', '2015-08-31')\n",
            "('US', 6648801, 'R3VFQZTEST0L7U', 'B000B55AEA', 851729310, 'Timex Easy Reader Day-Date Leather Strap Watch', 'Watches', 5, 0, 0, 'N', 'Y', 'Love it!!!', 'Have worn it constantly, love the light at night', '2015-08-31')\n",
            "('US', 15920046, 'RLQ8MLTO09215', 'B0053HDR78', 576694666, 'Casio F108WH Water Resistant Digital Blue Resin Strap Watch', 'Watches', 5, 0, 0, 'N', 'Y', 'Five Stars', 'Wife loves it and nice looking watch,', '2015-08-31')\n",
            "('US', 2902435, 'R2PCHVAM074L1I', 'B00NC8PMUK', 944169262, 'Motorola Moto 360 Modern Timepiece Smart Watch - Black Leather 00418NARTL', 'Watches', 4, 0, 0, 'N', 'Y', 'Decent price-tag, more than average product', 'Great product . Love the continous innovation in this field and given the price-tag of $149, this product is a steal . Bought it 1 week back . Battery is satisfactory . Charges fast . Discharges within 12-15 hours . But it has a touch screen, so naturally its going to eat-up battery. For entry level android-wear, pretty decent', '2015-08-31')\n",
            "('US', 13929294, 'R2WV1IG5ORN33W', 'B008OIOLQO', 340110662, \"Ingersoll Men's IN1824CR Monticello Fine Automatic Timepiece Cream Dial Watch\", 'Watches', 5, 0, 0, 'N', 'Y', 'A very beautul and well-made pilots watch. Highly detailed ...', 'A very beautul and well-made pilots watch. Highly detailed dial,as well. The movement is tack- on for 24 hours but if you are not a ditch digger,wind it 20 revs  daily.', '2015-08-31')\n",
            "('US', 12696721, 'R2X7VDDS4ISTBC', 'B009PQB036', 696981257, \"Lucien Piccard Men's 11576-YG-01 Clariden Black Textured Dial Watch\", 'Watches', 5, 0, 1, 'N', 'Y', 'Great looking watch!', \"Comfortable, looks great, very lightweight.The band is a little on the short side, but it's usable and not a big deal to replace.\", '2015-08-31')\n",
            "('US', 4774720, 'R2POCZUBL0D0NX', 'B007X0E178', 953514677, \"XOXO Women's XO5478 Rhinestone-Accented Two-Tone Watch\", 'Watches', 5, 0, 0, 'N', 'Y', 'Five Stars', 'excelent product', '2015-08-31')\n",
            "('US', 12074902, 'R2Z9C8BYOJF24I', 'B00BXQSHRI', 714629498, 'Watch Case Press with 12 Nylon Dies, Watch Case Closer Set', 'Watches', 5, 0, 0, 'N', 'Y', 'Sturdy and well constructed', 'This press is very well constructed and sturdy. The different dies are easily interchangeable. A good tool for watches and miniature work.', '2015-08-31')\n",
            "('US', 44068063, 'R1EBMIQ69CZ64', 'B00ZI3SGXM', 294102740, \"Stuhrling Original Women's 956.02 Symphony Gold-Tone Watch with Brown Genuine Leather Band\", 'Watches', 4, 0, 0, 'N', 'Y', 'Four Stars', \"Love the look but the leather band is so stiff it doesn't conform well to my wrist.\", '2015-08-31')\n",
            "('US', 916000, 'R2PVH1MHLKN9A7', 'B0053A0HB4', 199546574, 'Casio G-shock Mudman Multiband6 Japanese Model [ Gw-9300-1jf ]', 'Watches', 5, 0, 0, 'N', 'Y', 'excellent product.', 'Beyond my expectation..excellent product..good quality, well built, nicely done..:)', '2015-08-31')\n",
            "('US', 1196727, 'R1SOUO6DCO4X5H', 'B00QBTQX50', 29617990, 'iStrap Calfskin Leather Watch Band Replacement Choice of Color & Width (18mm,19mm, 20mm,21mm or 22mm)', 'Watches', 1, 0, 1, 'N', 'Y', 'One Star', 'It was bad it didnt fit my 22mm retro casio', '2015-08-31')\n",
            "('US', 7503824, 'R32ZIHMEIOPDZN', 'B00G3JSF22', 978361500, \"G-SHOCK Men's GA-100 Neon Highlights Watch\", 'Watches', 5, 0, 0, 'N', 'N', '8/10 Only gripe is that I wish the back light was a tad better.', 'Watch kicks ass. Upon putting on this watch you will grow a full beard and be able to tame a pack of wolves by looking at them. 8/10 Only gripe is that I wish the back light was a tad better.', '2015-08-31')\n",
            "('US', 14512093, 'R1HLVYTW271JWX', 'B002NQXYL6', 161383158, 'Voguestrap TX046801XL Allstrap 16-20mm Brown Extra-Long-Length Fits Fast-Wrap Expedition Watchband', 'Watches', 3, 0, 0, 'N', 'Y', \"It's a good value, and a good functional watch strap\", \"It's a good value, and a good functional watch strap.  It's super wide though, and takes more space on the wrist than I'd like.\", '2015-08-31')\n",
            "('US', 2143821, 'R2Z9MTUMD7LGLN', 'B004MAZN3I', 165342893, \"Seiko Men's SNKK27 Seiko 5 Stainless Steel Automatic Watch\", 'Watches', 5, 0, 0, 'N', 'Y', 'Wish the seller would furnish a model that works.', 'Loved the watch; it just did not work supposedly self-winding; tried all possible motions to cause the winder clearly visible from the rear of the watch; no luck', '2015-08-31')\n",
            "('US', 18380508, 'R3RZZY4RZJUBOW', 'B000JQFX1G', 400836338, \"Invicta Men's 8926OB Pro Diver Stainless Steel Automatic Watch with Link Bracelet\", 'Watches', 3, 0, 0, 'N', 'Y', 'Worth the money, be careful with the glass.', 'Alrighty, after seeking out the ultimate low-profile, ultra water resistant, mechanical watch with a rotating bezel and date for less than $100, I settled on this.<br /><br />It looks much like the famous Rolex Submariner, and performs similarly.<br /><br />However, after about a year of use now, the paint on the bezel is chipping, and after a decent smack on the hood of a car the crystal has cracked and all but shattered.<br /><br />It keeps time fairly well, gaining about 15 seconds per day, without taking it to a healer for fine tuning.', '2015-08-31')\n",
            "('US', 431372, 'R1ZXB27702XVCE', 'B00A6B9N6U', 491671113, \"Swiss Legend Women's 11044D-01 Neptune Black Dial Watch with Silicone Band\", 'Watches', 5, 0, 0, 'N', 'Y', 'Five Stars', 'Love it', '2015-08-31')\n",
            "('US', 1567510, 'RSFQ1G70Z858U', 'B00HJ7T0OY', 822340800, \"Absolute Hot Iron man Super Hero build-in Blue LED for Men's luxury Army military Wrist Watches\", 'Watches', 3, 0, 0, 'N', 'Y', \"I wouldn't order it again for myself.\", 'Not bad but a little tacky. It does have substantial weight for a $15 watch.', '2015-08-31')\n",
            "('US', 34086987, 'R2UV2KNKCZBLK9', 'B004401KHE', 604208769, \"Seiko Men's White Dial Brown Leather Easy Reader Solar Calendar Watch\", 'Watches', 5, 0, 0, 'N', 'Y', 'I thought it looked beautiful. My boyfriend loved it', \"I thought it looked beautiful.  My boyfriend loved it.  It's only been a few days, so I can't comment on durability.  But, I didn't have some of the problems mentioned in other reviews--the little dots around the outside glowed like they were supposed to, it was easy to set including the date, the band was fine and long enough even though my boyfriend wears it loose.  Great price too--I see them in stores for nearly twice what I paid.\", '2015-08-31')\n",
            "('US', 1685723, 'R9UQFP5AYOWD4', 'B001UGDB0O', 762085956, 'Michael Kors Womens MK5145 - Runway Chronograph', 'Watches', 5, 0, 0, 'N', 'Y', 'Beautiful and sophisticated', 'More beautiful in person. High quality! Looks understated but so sophisticated! It was a gift for my mother and she loved it!', '2015-08-31')\n",
            "('US', 3307875, 'R3V27ZXF549EAQ', 'B00L4JRXIS', 627047973, \"Armitron Sport Women's 25/6416 Easy To Read Dial Resin Strap Watch\", 'Watches', 3, 0, 0, 'N', 'Y', 'Sport watch', \"It's a nice watch but if you have a large arm it will not fit  well.  does good under water I use when I go to water aerobic to keep tack of my time\", '2015-08-31')\n",
            "('US', 47955030, 'R2W4OB11T2UXAV', 'B009PQB5K4', 418141913, \"Lucien Piccard Men's 11577-RG-02S Stockhorn Silver Textured Dial Brown Leather Watch\", 'Watches', 5, 0, 0, 'N', 'Y', 'Beautiful watch! Looks better on the wrist than in ...', 'Beautiful watch! Looks better on the wrist than in the picture.  Could not have been more pleased. A great addition to my collection.', '2015-08-31')\n",
            "('US', 36687968, 'R2MBPYZV5SYT5B', 'B003M2G0SY', 908936114, 'LEGO Star Wars Yoda Kids Buildable Watch with Link Bracelet and Minifigure | green/gray | plastic | 28mm case diameter| analog quartz | boy girl | official', 'Watches', 4, 0, 0, 'N', 'Y', 'he loved', 'Bought for a cousin, he loved it', '2015-08-31')\n",
            "('US', 37595973, 'R2NU7Y4TV3Z9Q7', 'B002SSUQFG', 354933056, \"Seiko Men's SNK809 Seiko 5 Automatic Stainless Steel Watch with Black Canvas Strap\", 'Watches', 5, 0, 0, 'N', 'Y', 'Five Stars', 'Man watch for woman, just a right size and design for it.', '2015-08-31')\n",
            "('US', 50033390, 'R38NIR3U01EIS4', 'B003622WUK', 890272218, \"Tissot Women's T0492103303300 PR 100 Gold-Tone Silver Dial Watch\", 'Watches', 4, 1, 1, 'N', 'Y', 'I like the watch', \"I like the watch!  I had its predecessor and enjoyed it until all the numbers started to fall off.  Hope that does not happen to this one.  The numbers run together it's sometimes difficult to distinguish the time.  I'm adjusting to it.  Like the new clasp.\", '2015-08-31')\n",
            "('US', 28119981, 'RZ999X8LL9GU7', 'B00L8M9Z32', 686288185, \"CASIO BABY-G (BG-6900SG-8JF) GLITTER DIAL SERIES LADY'S WATCH JAPANESE MODEL 2014 JULY RELEASED\", 'Watches', 5, 0, 0, 'N', 'Y', 'Sparkly and nice', \"I have many Baby-G's, but none have gotten as much attention and compliments as this one. The glitter pops out at everyone and the silver makes it look feminine and sleek. I paid $120 for it, wayy more than I usually pay for Baby-G's, but I think it was worth it, especially since it's a special Japanese model. Probably won't see many people with this watch making it pretty unique. I like the background light is a light blue color, goes well with the color of the watch.\", '2015-08-31')\n",
            "('US', 24667426, 'R34A40GBG3IVJD', 'B000GAWSA4', 700023949, \"Casio Men's AW80V-1BV\", 'Watches', 5, 0, 0, 'N', 'Y', 'Five Stars', 'Perfect watch for camping and hiking.', '2015-08-31')\n",
            "('US', 207824, 'R2DAHAETN8AOHL', 'B004YM2FV2', 649128875, 'Bling Jewelry Plated Classic Round CZ Ladies Watch', 'Watches', 5, 0, 0, 'N', 'Y', 'Five Stars', 'the watch is beautiful, a little on the big side but it is perfect!!!!! LOVE LOVE LOVE!!!!!', '2015-08-31')\n",
            "('US', 46189902, 'R1A6ZHMS6ED9SM', 'B008RNKIV8', 341504925, \"Citizen Men's AT8020-54L Blue Angels Stainless Steel Eco-Drive Dress Watch\", 'Watches', 5, 0, 1, 'N', 'Y', 'The watch as expected was an amazing product from citizen', 'The watch as expected was an amazing product from citizen, however the the cover was in a damaged condition which was quite upsetting since I was planning to gift this to some one.', '2015-08-31')\n",
            "('US', 47558372, 'R4BUD64L0L617', 'B000SZNTLO', 544270597, 'Timex Ironman Sleek 50-Lap Full Size', 'Watches', 5, 0, 0, 'N', 'Y', 'Five Stars', 'great looking sports watch', '2015-08-31')\n",
            "('US', 33322445, 'R3JSX07PSTFFPE', 'B00MNC53XW', 567086073, 'Outop Wholesale Lot of 5pcs Womens Girls Butterfly Bracelet Wrist Watches', 'Watches', 5, 0, 0, 'N', 'Y', 'Fun and inexpensive', 'These were purchased for my daughter and her friend, but I liked them enough that I kept one for myself as well!', '2015-08-31')\n",
            "('US', 41784200, 'R100HLZJGWAXRP', 'B00BF77S2K', 479360900, \"Timex Kids' T7B9829J IronKids Translucent Blue Sport Watch\", 'Watches', 1, 2, 2, 'N', 'Y', 'Leaks water - total junk', \"This is junk.  Why would you name a watch an ironkid watch if it isn't made for swimming (last time I checked an ironman consisted of swim, bike and run)?  It claims it is water resistant but the watch leaks and it will die if your kid wears it in a pool.  Don't waste your money.\", '2015-08-31')\n",
            "('US', 26050402, 'R1PFCOIMT3ND68', 'B00OHD6SLG', 721711830, \"Cool Men's Racer Military Pilot Army Silicone Sports Watch\", 'Watches', 1, 0, 0, 'N', 'Y', 'One Star', 'Lens cracked on the third day', '2015-08-31')\n",
            "('US', 48880662, 'R2G0EK7EUCTDXU', 'B003DIP9BQ', 941077778, \"XOXO Women's XO110 Silver Dial Gold-tone Bracelet Watch\", 'Watches', 5, 0, 0, 'N', 'Y', 'Five Stars', 'very good', '2015-08-31')\n",
            "('US', 13675081, 'RBGAF34UPP636', 'B00L3VGTA0', 667419707, \"Armitron Men's Black Sunray Dial Silvertone Bracelet Watch\", 'Watches', 4, 0, 0, 'N', 'Y', 'My husband like it but he would have liked the dial face ...', \"My husband like it but he would have liked the dial face to be a little smaller. He is not used to the bigger face but getting used to it. The picture product was hard to tell about the dial face and don't think it mention about the dial face being bigger than normal. Besides that everything else is really well made.\", '2015-08-31')\n",
            "('US', 875559, 'R3FVL714L4L8BS', 'B00RCUTIRM', 731342946, \"Akribos XXIV Men's AK787YGBU Quartz Movement Watch with Blue Dial and Yellow Gold Stainless Steel Bracelet\", 'Watches', 5, 0, 0, 'N', 'Y', 'Five Stars', 'Excellent product and seller very good service', '2015-08-31')\n",
            "('US', 4014799, 'R2DOJG0AT3YOK4', 'B00V30U79K', 18936638, 'Topwell Mens Wood watches, Date Time 24hours Wooden watch with Round Multi-Eyed QUARTZ Wrist Watch for Gift', 'Watches', 5, 4, 4, 'N', 'N', 'amazing -- perfect gift', \"This is a very nice watch, i love that it's made of wood but black in color. The face is big and has three silver, decorative yet functional dials. It's extremely lightweight and comfortable to wear. It's so lightweight you could actually forget you're wearing it. The wood is very smooth and the semi-matte finish is very dressy.<br />The links move easily and is worn without catching or squeezing skin/hair. It's easy to adjust so it will fit a variety of  wrist sizesI love that it's water proof because although very dressy it can be worn for every day use.<br />This would make a great gift for any man in your life.<br />I received this product complimentary in exchange for my honest opinion but the opinion expressed is all my own.\", '2015-08-31')\n",
            "('US', 2228523, 'R29HFELXCSF7KD', 'B00STAXIHU', 690763506, \"Fossil Women's ES3822 Georgia Stainless Steel Watch with Blue Leather Band\", 'Watches', 5, 0, 0, 'N', 'Y', 'Five Stars', 'Love. That is pretty much it. Item as described, really beautiful and functional.', '2015-08-31')\n",
            "('US', 16309813, 'R1EZ1QK1I9BD70', 'B00DUW21F2', 87555656, \"Stuhrling Original Men's 574.03 Analog Executive II Stainless Steel Automatic Skeleton Watch with Brown Leather Band\", 'Watches', 5, 0, 0, 'N', 'Y', 'Five Stars', 'husband loves it', '2015-08-31')\n",
            "('US', 45661904, 'R1OXYDAWK2WUJ9', 'B00MO38XL4', 476271516, \"Armitron Sport Women's 25/6422BLK Easy to Read Dial Black Resin Strap Watch\", 'Watches', 5, 0, 0, 'N', 'Y', 'So pretty, strap is so soft', 'So pretty, strap is so soft, easy pliable rubber material. Unfortunately, bezel does not turn. But I recommend this for everyday nursing use.', '2015-08-31')\n",
            "('US', 106740, 'R27YN77RE11XHO', 'B00K8HMHCE', 575505209, \"Swiss Legend Men's 10068-03 Commander II Analog Display Swiss Quartz Blue Watch\", 'Watches', 4, 2, 2, 'N', 'Y', 'but I like it', \"The size and thickness is Huge. the color is eye Popping.The band is durable and ridged . the only problem I have is that it doesn't glow to mush in the dark. but I like it\", '2015-08-31')\n",
            "('US', 42795523, 'RW45AV6JXQPUN', 'B001DK6OKQ', 79293794, \"Stuhrling Original Men's 219.331657 Symphony Eternity Monterey Swiss Quartz Date Watch\", 'Watches', 3, 0, 0, 'N', 'N', 'Three Stars', 'the band broke in first week', '2015-08-31')\n",
            "('US', 10564575, 'R2ISDC90DZMHFM', 'B0094PS284', 842528710, 'LuckyStore 14mm 5X Watch Band Stainless Steel Spring Bars Strap Link Pin Watchmaker New', 'Watches', 5, 0, 0, 'N', 'Y', '14mm watch pin', \"This is exactly what I was looking for!  I fixed my watch band and haven't been happier!  I didn't need 5, but the extra 4 may come in handy.\", '2015-08-31')\n",
            "('US', 2239679, 'R1WVL1E6FMSFR4', 'B00FDLB2S0', 992050854, \"red line Men's RL-50042-YG-01 Stealth Chronograph Black Textured Dial Black Silicone Watch\", 'Watches', 5, 0, 0, 'N', 'Y', 'Five Stars', 'PERFECT', '2015-08-31')\n",
            "('US', 43807131, 'RGQ1YQSNQ3LE5', 'B00EVPMC88', 516415826, 'Seiko Men\\'s SNKL43 \"Seiko 5\" Stainless Steel Automatic Watch', 'Watches', 4, 0, 0, 'N', 'Y', 'Good seiko 5', 'A great automatic, but I give it 4 stars for being too conservative with its small size and the blue is dark and more of a navy color unless light is shining on it and reflecting. Other than that, like all based seiko 5s, it looks great on a Nato strap. I have this bad boy setup on a brown leather strap with a deployable clasp which looks very similar to the Omega Seamaster Aqua Terra. A great watch that can be worn in almost any occasion except when swimming', '2015-08-31')\n",
            "('US', 7189800, 'RE73CRP4JKXW1', 'B00G2R7E3Q', 131804424, \"Invicta Men's 14640 I-Force Analog Display Japanese Quartz Black Watch\", 'Watches', 1, 0, 0, 'N', 'Y', 'Disappointed by the huge size of it', \"Disappointed by the huge size of it, although yes they say in the specs it's a 52&#34; etc...<br />Sent it back. The taxes and p&p cost made me pay for it again.\", '2015-08-31')\n",
            "('US', 15305006, 'R2EQL1V1L6E0C9', 'B004LURNO6', 892860326, 'Nemesis #HST-K Unisex Black Wide Leather Cuff Wrist Watch Band', 'Watches', 5, 0, 0, 'N', 'Y', 'Five Stars', 'Love it', '2015-08-31')\n",
            "('US', 107342, 'RZOQUM3M5CAVH', 'B005OT1POW', 202690497, \"Tommy Hilfiger  Women's 1781145 Sport Stainless Steel  Watch\", 'Watches', 5, 0, 0, 'N', 'Y', 'Five Stars', 'Cool', '2015-08-31')\n",
            "('US', 138028, 'RRJBEIAITDLAQ', 'B007LPRLXG', 973233011, 'GUESS U17531G1 - Bold and Sporty Watch Silver', 'Watches', 2, 0, 0, 'N', 'N', 'i received watch in good condition, however he battery was not working and ...', 'first:<br />i received watch in good condition, however he battery was not working and i changed the battery<br />second:<br />i tried the watch to my hand but unfortunately was not amazing, it is for old ppl more than youth. i am looking to change the model .<br />i dont know if i can change irt from guess agent in Scotland/Edinburgh or not.', '2015-08-31')\n",
            "('US', 52229317, 'R6EMI5RKW73N3', 'B00QK2HAFK', 78116254, \"Armitron Men's 20/5048 Day/Date Function Dial Croco-Grain Leather Strap Watch\", 'Watches', 4, 1, 2, 'Y', 'N', 'Great Watch for the Price', \"This is a good looking men's watch that would go well with most outfits, though it's leather strap pushes it to a more dressy watch. It's a simple watch with a day and date window. It is luminescent on the hour marks but not on the watch hands themselves, which is a little weird.<br /><br />I would be curious to see how long the battery lasts. Aside from the watch band wearing out, that would be the weakest part of this watch in the long term.\", '2015-08-31')\n",
            "('US', 44293218, 'R12NA6QEKA1PRI', 'B003X11UFM', 790174403, \"Stuhrling Original Men's 238.321K43 Ascot Newberry Analog Swiss Quartz Brown Leather Watch\", 'Watches', 3, 3, 3, 'N', 'Y', 'Great looks, medium quality', \"It's a great looking product. One of the best watches I have ever seen. The quality is mediocre but that's alright. Just keep it out of water as much as possible and the leather should hold up alright.\", '2015-08-31')\n",
            "('US', 3669388, 'R2M6EF6NI4VV6I', 'B00A6OEWA4', 985088364, \"AMPM24 Men's Hand-winding Mechanical Watch Black Leather Watchband Skeleton PMW069\", 'Watches', 4, 0, 0, 'N', 'Y', 'Four Stars', 'Good value product', '2015-08-31')\n",
            "('US', 51897929, 'R2H287IH770TN7', 'B006QAX906', 957756572, \"Gotham Men's Silver-Tone Ultra Thin Railroad Open Face Quartz Pocket Watch # GWC15022S\", 'Watches', 5, 0, 0, 'N', 'Y', 'Looks good.', 'Looks good. Not bulky. Keeps good time.', '2015-08-31')\n",
            "('US', 48880662, 'R19SU6JVQQA05B', 'B00BS8U8PU', 132047116, 'Casio Unisex MRW200H-2BV Neo-Display Black Watch with Resin Band', 'Watches', 5, 0, 0, 'N', 'Y', 'Five Stars', 'good', '2015-08-31')\n",
            "('US', 39984561, 'R561PSHO7D095', 'B001F0PTNM', 670846500, \"Hadley-Roma Men's MSM881RB-170 17-mm Brown Oil-Tan Leather Watch Strap\", 'Watches', 5, 0, 0, 'N', 'Y', 'Great leather watch band.', 'This is my 3rd Hadley Roma leather watch band. Others lasted 3+ years. Great quality and design at a good price.', '2015-08-31')\n",
            "('US', 17141249, 'RUITIQHK33YXJ', 'B00Q7DETQU', 763436398, 'Michael Kors Petite Silvertone Darci Watch', 'Watches', 5, 0, 0, 'N', 'Y', 'petite watch - goes great with my engagement ring', 'Gorgeous, petite watch - goes great with my engagement ring ;-)', '2015-08-31')\n",
            "('US', 29140914, 'R21BZGZC61EB1G', 'B00LW3RP0W', 198443125, 'Timex Expedition Rugged Metal Watch', 'Watches', 4, 0, 0, 'N', 'Y', 'Four Stars', 'heavier than expected', '2015-08-31')\n"
          ],
          "name": "stdout"
        }
      ]
    },
    {
      "cell_type": "markdown",
      "metadata": {
        "id": "TvORSWQvsvj1",
        "colab_type": "text"
      },
      "source": [
        "Bom, sabemos que a nossa planilha vai até 100, certo? Na execução abaixo. Vamos adicionar conteudo na célula A102, para visualizarmos como isso ficará. "
      ]
    },
    {
      "cell_type": "code",
      "metadata": {
        "id": "_Q7F0H16s9XR",
        "colab_type": "code",
        "colab": {
          "base_uri": "https://localhost:8080/",
          "height": 1000
        },
        "outputId": "121dcc45-6b8d-4265-de78-219745643083"
      },
      "source": [
        "# Adicionando conteudos da linha 102\n",
        "sheet['A102'] = 'teste'\n",
        "\n",
        "print_rows()"
      ],
      "execution_count": 9,
      "outputs": [
        {
          "output_type": "stream",
          "text": [
            "('marketplace', 'customer_id', 'review_id', 'product_id', 'product_parent', 'product_title', 'product_category', 'star_rating', 'helpful_votes', 'total_votes', 'vine', 'verified_purchase', 'review_headline', 'review_body', 'review_date')\n",
            "('US', 3653882, 'R3O9SGZBVQBV76', 'B00FALQ1ZC', 937001370, 'Invicta Women\\'s 15150 \"Angel\" 18k Yellow Gold Ion-Plated Stainless Steel and Brown Leather Watch', 'Watches', 5, 0, 0, 'N', 'Y', 'Five Stars', 'Absolutely love this watch! Get compliments almost every time I wear it. Dainty.', '2015-08-31')\n",
            "('US', 14661224, 'RKH8BNC3L5DLF', 'B00D3RGO20', 484010722, \"Kenneth Cole New York Women's KC4944 Automatic Silver Automatic Mesh Bracelet Analog Watch\", 'Watches', 5, 0, 0, 'N', 'Y', 'I love thiswatch it keeps time wonderfully', 'I love this watch it keeps time wonderfully.', '2015-08-31')\n",
            "('US', 27324930, 'R2HLE8WKZSU3NL', 'B00DKYC7TK', 361166390, 'Ritche 22mm Black Stainless Steel Bracelet Watch Band Strap Pebble Time/Pebble Classic', 'Watches', 2, 1, 1, 'N', 'Y', 'Two Stars', 'Scratches', '2015-08-31')\n",
            "('US', 7211452, 'R31U3UH5AZ42LL', 'B000EQS1JW', 958035625, \"Citizen Men's BM8180-03E Eco-Drive Stainless Steel Watch with Green Canvas Band\", 'Watches', 5, 0, 0, 'N', 'Y', 'Five Stars', 'It works well on me. However, I found cheaper prices in other places after making the purchase', '2015-08-31')\n",
            "('US', 12733322, 'R2SV659OUJ945Y', 'B00A6GFD7S', 765328221, \"Orient ER27009B Men's Symphony Automatic Stainless Steel Black Dial Mechanical Watch\", 'Watches', 4, 0, 0, 'N', 'Y', 'Beautiful face, but cheap sounding links', \"Beautiful watch face.  The band looks nice all around.  The links do make that squeaky cheapo noise when you swing it back and forth on your wrist which can be embarrassing in front of watch enthusiasts.  However, to the naked eye from afar, you can't tell the links are cheap or folded because it is well polished and brushed and the folds are pretty tight for the most part.<br /><br />I love the new member of my collection and it looks great.  I've had it for about a week and so far it has kept good time despite day 1 which is typical of a new mechanical watch\", '2015-08-31')\n",
            "('US', 6576411, 'RA51CP8TR5A2L', 'B00EYSOSE8', 230493695, \"Casio Men's GW-9400BJ-1JF G-Shock Master of G Rangeman Digital Solar Black Carbon Fiber Insert Watch\", 'Watches', 5, 0, 0, 'N', 'Y', 'No complaints', 'i love this watch for my purpose, about the people complaining should of done their research better before buying. dumb people.', '2015-08-31')\n",
            "('US', 11811565, 'RB2Q7DLDN6TH6', 'B00WM0QA3M', 549298279, \"Fossil Women's ES3851 Urban Traveler Multifunction Stainless Steel Watch - Rose\", 'Watches', 5, 1, 1, 'N', 'Y', 'Five Stars', 'for my wife and she loved it, looks great and a great price!', '2015-08-31')\n",
            "('US', 49401598, 'R2RHFJV0UYBK3Y', 'B00A4EYBR0', 844009113, 'INFANTRY Mens Night Vision Analog Quartz Wrist Watch with Nato Nylon Watchband-Red.', 'Watches', 1, 1, 5, 'N', 'N', 'I was about to buy this thinking it was a ...', 'I was about to buy this thinking it was a Swiss Army Infantry watch-- the description uses the words infantry and army--- when I realized it must be a fraud for $12.00. This should not be offered on Amazon-- it is designed to confuse consumers.', '2015-08-31')\n",
            "('US', 45925069, 'R2Z6JOQ94LFHEP', 'B00MAMPGGE', 263720892, \"G-Shock Men's Grey Sport Watch\", 'Watches', 5, 1, 2, 'N', 'Y', 'Perfect watch!', \"Watch is perfect. Rugged with the metal &#34;Bull Bars&#34;. The red accents are a great touch and I get compliments when wearing it. If you are worried about being able to read this in sunlight or in the dark don't! The LED ilumination works great! I might even get this in a different color for my next G-Shock purchase!\", '2015-08-31')\n",
            "('US', 44751341, 'RX27XIIWY5JPB', 'B004LBPB7Q', 124278407, 'Heiden Quad Watch Winder in Black Leather', 'Watches', 4, 0, 0, 'N', 'Y', 'Great quality and build', 'Great quality and build.<br />The motors are really silent.<br />After fiddling with the settings my watches are always charged and ready to use.', '2015-08-31')\n",
            "('US', 9962330, 'R15C7QEZT0LGZN', 'B00KGTVGKS', 28017857, \"Fossil Women's ES3621 Serena Crystal-Accented Two-Tone Stainless Steel Watch\", 'Watches', 4, 2, 2, 'N', 'Y', 'Satisfied', \"The watch was pretty much as it was described and how it looks. I really like the simplicity of it and it looks pretty amazing. It is slightly too big, so I have yet to adjust it, but I'm glad it's too big rather than too small. The weight is good which is what I was hoping for. Very satisfied with this purchase. I was slightly on the fence getting this one because of the previous fossil watch I had, which by some time, did have some gems fall off from ring around the numbers, but so far so good with this one! Excuse my bad lighting for my pic.\", '2015-08-31')\n",
            "('US', 16097204, 'R361XSS37V0NCZ', 'B0039UT5OU', 685450910, \"Casio General Men's Watches Sporty Digital AE-2000W-1AVDF - WW\", 'Watches', 1, 0, 0, 'N', 'N', 'I do not think this watch is a good product. Do not buy it', 'I bought this watch on 2013, the screen had a problem 10 months later. I sent the watch back to Casio Service Center in LA, they sent to me a replacement new watch. Last week, less than one year after I received the new watch, the battery is out.  I went to a shop to replace the battery. Then the A button of the watch do not working, so I could not change the time and other settings. I do not think this watch is a good product. Do not buy it.', '2015-08-31')\n",
            "('US', 51330346, 'ROTNLALUAJAUB', 'B00MPF0XJQ', 767769082, '2Tone Gold Silver Cable Band Ladies Bangle Cuff Watch', 'Watches', 3, 0, 0, 'N', 'Y', 'Three Stars', \"It is a cheap watch that looks cheap.  There isn't much else to say.\", '2015-08-31')\n",
            "('US', 4201739, 'R2DYX7QU6BGOHR', 'B003P1OHHS', 648595227, \"Bulova Men's 98B143 Precisionist Charcoal Grey Dial Bracelet Watch\", 'Watches', 5, 0, 0, 'N', 'Y', 'Five Stars', 'Heavier than i though', '2015-08-31')\n",
            "('US', 26339765, 'RWASY7FKI7QOT', 'B00R70YEOE', 457338020, 'Casio - G-Shock - Gulfmaster - Black - GWN1000C-1A', 'Watches', 5, 2, 3, 'N', 'Y', 'Worth it - love it', 'Had it for several weeks now and I love it - reliable, functional, wears easy, not too heavy.  I also get a lot of comments on it - great watch!', '2015-08-31')\n",
            "('US', 2692576, 'R2KKYZIN3CCL21', 'B000FVE3BG', 824370661, \"Invicta Men's 3329 Force Collection Lefty Watch\", 'Watches', 5, 0, 0, 'N', 'Y', 'This is when different is good.', 'This one is different from the rest of my Invictas. I like the big watches but this one gave a classy more defined look for the craftsmanship. All of the colors compliment each other. It all starts from the stitching of the band.  Very nice watch.', '2015-08-31')\n",
            "('US', 44713366, 'R22H4FGVD5O52O', 'B008X6JB12', 814431355, \"Seiko Women's SUT068 Dress Solar Classic Diamond-Accented Two-Tone Stainless Steel Watch\", 'Watches', 4, 1, 1, 'N', 'Y', 'Thewatch is attractive and easy to read', \"The watch is attractive and easy to read, except for the date. The little diamonds are very, very tiny. All in all, I'm happy with it.\", '2015-08-31')\n",
            "('US', 32778769, 'R11UACZERCM4ZY', 'B0040UOFPW', 187700878, \"Anne Klein Women's 109271MPTT Swarovski Crystal Accented Two-Tone Multi-Chain Bracelet Watch\", 'Watches', 5, 0, 0, 'N', 'Y', 'Five Stars', 'said my wife..', '2015-08-31')\n",
            "('US', 27258523, 'R1AT8NQ38UQOL6', 'B00UR2R5UY', 594315262, \"Guess U13630G1 Men's day and date Gunmetal dial Gunmetal tone bracelet\", 'Watches', 5, 0, 0, 'N', 'Y', 'Five Stars', 'Nice watch, on time delivery from seller.', '2015-08-31')\n",
            "('US', 42646538, 'R2NCZRQGIF1Q75', 'B00HFF57L0', 520810507, \"Nixon Men's Geo Volt Sentry Stainless Steel Watch with Link Bracelet\", 'Watches', 4, 0, 0, 'N', 'Y', 'Very stylish', 'Looks great and love to wear this watch.  Only negative thing is due to its blue/black colors, it is difficult to read in average or low light.  Good thing for me, I wear a watch for looks and not really for telling the time.', '2015-08-31')\n",
            "('US', 46017899, 'RJ9HWWMU4IAHF', 'B00F5O06E6', 601596859, \"Nautica Men's N14699G BFD 101 Chrono Classic Stainless Steel Watch with Brown Band\", 'Watches', 4, 1, 1, 'N', 'Y', 'Good looking watch', \"I really like this watch. It has a great face that contrasts nicely with the white numerals. Keeps time accurately. Overall very pleased. I really like its distinctive look. It's also durable and water proof. I leave it on when I go kayaking or out on the boat fishing.\", '2015-08-31')\n",
            "('US', 37192375, 'R3CNTCKG352GL1', 'B00CHS398I', 798261110, 'HDE Watch Link Pin Remover Band Strap Repair Tool Kit for Watchmakers with Pack of 3 Extra Pins', 'Watches', 4, 0, 0, 'N', 'Y', 'Works great but the watch a used it on was slim ...', 'Works great but the watch a used it on was slim so I had to use a quarter to rase it up the right height', '2015-08-31')\n",
            "('US', 11710007, 'R9Q2LDSES6NBL', 'B003OQ4TA4', 557813802, \"Timex Women's Q7B860 Padded Calfskin 8mm Black Replacement Watchband\", 'Watches', 4, 0, 0, 'N', 'Y', 'Fits perfect on my', 'Just what I needed for my Timex watch. Fits perfect on my wrist', '2015-08-31')\n",
            "('US', 6673146, 'R3629T8HDV5VWU', 'B007X0SYEY', 22870009, 'Movado Men\\'s 0606545 \"Museum\" Perforated Black-Rubber Strap Sport Watch', 'Watches', 5, 1, 1, 'N', 'Y', 'Great Buy!', \"Absolutely LOVE this watch! Amazon prime saved me over $400 after tax from the store prices. Between the great buy and the Coolness of this watch it was an amazing purchase. I can't stop looking at it. Movado is an excellent brand. Time keeping is perfect. Quality is perfect.\", '2015-08-31')\n",
            "('US', 7899951, 'R2CLMKC0IVZ9UX', 'B005KPL7FM', 269520616, \"Invicta Men's 6674 Corduba Chronograph Black Dial Polyurethane Watch\", 'Watches', 5, 0, 0, 'N', 'Y', 'Five Stars', 'Its too large. When you order check the size of the case.', '2015-08-31')\n",
            "('US', 27979201, 'R2QGEJRU4ENYN2', 'B00FNIFI2O', 330558574, \"Szanto Men's SZ 2001 2000 Series Classic Vintage-Inspired Stainless Steel Watch with Pebbled Leather Band\", 'Watches', 5, 1, 1, 'N', 'N', 'This was awatch I bought during a quick sale thing', \"This was a watch I bought during a quick sale thing, so it was cheaper than normal.  I bought it as a daily wear.  It's really a decent watch for the price; a retro look with a modern movement.\", '2015-08-31')\n",
            "('US', 912779, 'R2E5STTYU6LTSC', 'B005JVP0FU', 220345054, \"Casio Men's MRW200H-7EV Sport Resin Watch\", 'Watches', 4, 0, 0, 'N', 'Y', 'Four Stars', 'It works well with nice simple look.', '2015-08-31')\n",
            "('US', 44345527, 'RI97MTVX08KWX', 'B004M23SDI', 299884359, 'Casio F-108WH-2AEF Mens Blue Digital Watch', 'Watches', 3, 0, 0, 'N', 'Y', 'Thought that I read somewhere that you could swim with ...', 'Thought that I read somewhere that you could swim with it. It does not however bear the 50M Water Resistance designation.', '2015-08-31')\n",
            "('US', 2659331, 'RK20LJG750ERC', 'B00RV2L8CE', 714311106, \"August Steiner Men's AS8160TTG Silver And Gold Swiss Quartz Watch with Black Dial and Two Tone Bracelet\", 'Watches', 5, 0, 0, 'N', 'Y', 'Great Watch', 'Perfect Condition, Arrived on Time,Works & Looks Great', '2015-08-31')\n",
            "('US', 805483, 'R1HQZDBB90LMFH', 'B000JQJS6M', 926299553, \"Invicta Men's 8928OB Pro Diver Gold Stainless Steel Two-Tone Automatic Watch\", 'Watches', 5, 2, 2, 'N', 'Y', 'Very Impressive', \"This watch is a very beautiful time piece. This also could be an alternative choice to a Rolex submariner. It also has the same features as a Rolex submariner but it's not as good as a Rolex watch but darn close.<br /><br />Take good care of this watch if you get one because it has gold plating on it. This watch is 'Not' a sport watch.<br /><br />This watch features<br />-Rotating timer dial<br />-All stainless steel (kinda heavy)<br />-Glow in the dark<br />-Water resistant to 200 meters (600 feet)<br />-Automatic winding (from wrist movements)<br />-Shows date<br />-Very beautiful<br /><br />Sizeing isn't difficult, I sized mine by using a thumbtack and a hammer to tap the pins out of the band and I tapped a pin back into the band after removing three band links. If you don't know what your doing then just take it to s jewelry store so they can size it for you\", '2015-08-31')\n",
            "('US', 42590995, 'R2XHQHGXIEYTNI', 'B00VXLJD44', 578998634, \"BOS Men's Automatic self-wind mechanical Pointer Skeleton Watch Black Dial Stainless Steel Band 9008\", 'Watches', 3, 1, 3, 'N', 'Y', 'The epitome of form before function.', \"This is a beautiful watch. I love the look and feel of it, and I get complimented on it all the time. If that were the entirety of the story, this would be a 5 star review.<br /><br />Unfortunately, the most important part of this watch, the functionality, has some issues. Despite this being an automatic winding watch, it doesn't always stay wound. I have had days where I had to re-wind it before the end of the day. Most days however, it does last through the day. I just have to wind it and set the time again in the morning. Other mechanical self winding watches I own will in fact not need to be wound again until I stop wearing them for a full day. In addition, I can't always get the spring fully wound before it will start clicking and the spring skips off the winding gear.<br /><br />If I hadn't been so lazy, I would have returned this watch. Unfortunately, I missed the 30 day return window. So now I'm stuck with an only mostly working but beautiful watch. I guess that makes it kinda like a fashion model. When I think of it that way, it's not quite so disappointing.\", '2015-08-31')\n",
            "('US', 48880662, 'R2BVFRIR7A5UD1', 'B004EFGBW8', 727624097, \"Luminox Men's 3081 Evo Navy SEAL Chronograph Watch\", 'Watches', 5, 0, 0, 'N', 'Y', 'Five Stars', 'very good', '2015-08-31')\n",
            "('US', 112967, 'R3O51G2D52W9DD', 'B00G9X76DG', 86861596, 'INFANTRY Mens 50mm Big Face Military Tactical Analog Digital Sport Wrist Watch Black Silicone Band', 'Watches', 5, 1, 1, 'N', 'Y', 'Surpassed my expectations', 'I was very apprehensive about buying a 28 dollar watch online, but it looked so much like the 400 dollar Invicta Coalition forces watch I was wanting that I went for it.  I was very pleased when it arrived.  It is a BIG, heavy, sharp looking watch and I could not be happier. I am sure I will be purchasing the solid black one as well', '2015-08-31')\n",
            "('US', 51346302, 'R2O0LW0AZ67P3X', 'B00SFTTZ9U', 8403354, \"BUREI Dress Women's Minimalist Wrist Watches with Date Analog Quartz Stainless Steel and Ultra Slim Dial\", 'Watches', 5, 4, 5, 'N', 'N', 'A classy looking watch', '[[VIDEOID:cc599be25462207f860e42621171d7e1]]This watch has an understated clean and classy design.  It looks elegant. It has a stainless steel body and genuine leather band.  The band maximum width 7.5\\\\\\\\\" (last hole), if needed additional holes could be made to make it as wide as 8\\\\\\\\\".<br /><br />The face of the watch is 1 3/16\\\\\\\\\" wide and the watch is 1/4\\\\\\\\\" thick. The back of the watch states it has Japanese quartz movement.  The watch is water resistant to rain and splashing but cannot be submerged into water.<br /><br />This watch is made in China but includes an English manual. The manual covers several watches so it is a somewhat confusing as it refers to self-winding watches as well as quartz watches like this one.  The third page in the manual can be used as a guide to the watch adjustment method.  I found the controls to be simple, everything is controlled by the position of the crown. It can be pulled out into two position, the first position allows change the day of the month, the second position moves the arms.<br /><br />Overall, this is a very attractive classy looking watch.  It comes in attractive package, the box has a pillow and include a gift bag.<br /><br />This watch is provided by BUREI for review.  Getting a review product does not influence what I say, I leave critical reviews as well as positive reviews like this one.<br /><br />Ali Julia review', '2015-08-31')\n",
            "('US', 32555369, 'R2KBTEW8GUENVS', 'B00NC8PMUK', 944169262, 'Motorola Moto 360 Modern Timepiece Smart Watch - Black Leather 00418NARTL', 'Watches', 5, 0, 1, 'N', 'Y', 'Great buy', 'Awesome watch for the price', '2015-08-31')\n",
            "('US', 150916, 'R2R4XPHTT9CCBN', 'B00C1C5J9W', 851584415, 'Domire Fashion Accessories Trial Order New Quartz Fashion Weave Wrap Around Leather Bracelet Lady Woman Butterfly Wrist Watch', 'Watches', 5, 0, 0, 'N', 'Y', 'Love this watch', 'Love this watch, I just received it yesterday it looks really nice on my  wrist, my friends and family love it.', '2015-08-31')\n",
            "('US', 36363182, 'R7GHUDPGT3WJC', 'B000GB0G5M', 492842685, \"Casio Women's LQ139B-1B Classic Round Analog Watch\", 'Watches', 3, 0, 0, 'N', 'Y', 'Nice watch but band is a little small', 'Nice face, easy to read. The band is a little too small.', '2015-08-31')\n",
            "('US', 10356300, 'R364RU42RZ606Z', 'B00F8AWMXA', 397647155, \"Invicta Men's 15256 I-Force Gunmetal Ion-Plated Stainless Steel Watch with Black Leather Strap\", 'Watches', 1, 0, 0, 'N', 'Y', 'One Star', 'crap', '2015-08-31')\n",
            "('US', 52437550, 'R2D5SV3UNHQPYZ', 'B005MDPAPU', 645499118, \"Casio Men's Slim Solar Multi-Function Analog-Digital Watch\", 'Watches', 4, 0, 0, 'N', 'Y', 'Easy to read with lots of features', 'This is now my everyday watch.  Easy to read with lots of features.  Light  and functional.  You can not beat the price.  It is clean in detail and I love the watch.', '2015-08-31')\n",
            "('US', 14495291, 'R15OQG60W2R4PQ', 'B006C8NJY8', 865472849, 'TS6202BLK 8 Belt Box Organizer Black Leather XL Compartments', 'Watches', 5, 0, 0, 'N', 'Y', 'amazing product keeps everything safe and secure organized great quality ...', 'amazing product keeps everything safe and secure organized great quality for my designer belts perfect for homes or traveling', '2015-08-31')\n",
            "('US', 16192612, 'R2XF4SMK4HKNVV', 'B00791YURC', 310034618, \"Casio Men's GW2310FB-1CR G-Shock Shock Resistant Multifunction Watch\", 'Watches', 3, 0, 0, 'N', 'Y', \"Size of a woman's watch\", \"Watch looks amazing and the features are second to none, but....the watch is small.  I have a PAW-5000 which dwarfs it.  I had to look at the box to make sure I didn't get a woman's watch.  No joke, the band on my, average at best, sized wrist almost couldn't accommodate it.  Probably had 1.5 inch left on the band after I put it on.  Make this Man-size and it would fantastic.\", '2015-08-31')\n",
            "('US', 19983148, 'RQ70UFZVX7UVJ', 'B00S69FO0I', 406011595, \"U.S. Polo Assn. Sport Men's US9506 Analog-Digital Display Silver-Tone Watch with Textured Band\", 'Watches', 1, 0, 0, 'N', 'Y', 'poor quality', 'Metal color was changed after the first use , which indicates a very poor quality', '2015-08-31')\n",
            "('US', 27325652, 'R2288KJ7D0H149', 'B00C7IQBRY', 201258316, \"Cerentino Women's CR106-TQ  Turquoise Silicone Rubber Rhinestones Watch\", 'Watches', 4, 1, 1, 'N', 'Y', 'Really cute watch', 'So far so good. I have only had this watch a few weeks & so far it is still working. Style is really cute exactly as pictured', '2015-08-31')\n",
            "('US', 14530627, 'RKJ0UN6XEJKIP', 'B009S4U1TY', 830280907, \"Batman Kids' BAT4072 Black Rubber Batman Logo Strap Watch\", 'Watches', 5, 0, 0, 'N', 'Y', 'Five Stars', 'Grand Kids loved this', '2015-08-31')\n",
            "('US', 6648801, 'R3VFQZTEST0L7U', 'B000B55AEA', 851729310, 'Timex Easy Reader Day-Date Leather Strap Watch', 'Watches', 5, 0, 0, 'N', 'Y', 'Love it!!!', 'Have worn it constantly, love the light at night', '2015-08-31')\n",
            "('US', 15920046, 'RLQ8MLTO09215', 'B0053HDR78', 576694666, 'Casio F108WH Water Resistant Digital Blue Resin Strap Watch', 'Watches', 5, 0, 0, 'N', 'Y', 'Five Stars', 'Wife loves it and nice looking watch,', '2015-08-31')\n",
            "('US', 2902435, 'R2PCHVAM074L1I', 'B00NC8PMUK', 944169262, 'Motorola Moto 360 Modern Timepiece Smart Watch - Black Leather 00418NARTL', 'Watches', 4, 0, 0, 'N', 'Y', 'Decent price-tag, more than average product', 'Great product . Love the continous innovation in this field and given the price-tag of $149, this product is a steal . Bought it 1 week back . Battery is satisfactory . Charges fast . Discharges within 12-15 hours . But it has a touch screen, so naturally its going to eat-up battery. For entry level android-wear, pretty decent', '2015-08-31')\n",
            "('US', 13929294, 'R2WV1IG5ORN33W', 'B008OIOLQO', 340110662, \"Ingersoll Men's IN1824CR Monticello Fine Automatic Timepiece Cream Dial Watch\", 'Watches', 5, 0, 0, 'N', 'Y', 'A very beautul and well-made pilots watch. Highly detailed ...', 'A very beautul and well-made pilots watch. Highly detailed dial,as well. The movement is tack- on for 24 hours but if you are not a ditch digger,wind it 20 revs  daily.', '2015-08-31')\n",
            "('US', 12696721, 'R2X7VDDS4ISTBC', 'B009PQB036', 696981257, \"Lucien Piccard Men's 11576-YG-01 Clariden Black Textured Dial Watch\", 'Watches', 5, 0, 1, 'N', 'Y', 'Great looking watch!', \"Comfortable, looks great, very lightweight.The band is a little on the short side, but it's usable and not a big deal to replace.\", '2015-08-31')\n",
            "('US', 4774720, 'R2POCZUBL0D0NX', 'B007X0E178', 953514677, \"XOXO Women's XO5478 Rhinestone-Accented Two-Tone Watch\", 'Watches', 5, 0, 0, 'N', 'Y', 'Five Stars', 'excelent product', '2015-08-31')\n",
            "('US', 12074902, 'R2Z9C8BYOJF24I', 'B00BXQSHRI', 714629498, 'Watch Case Press with 12 Nylon Dies, Watch Case Closer Set', 'Watches', 5, 0, 0, 'N', 'Y', 'Sturdy and well constructed', 'This press is very well constructed and sturdy. The different dies are easily interchangeable. A good tool for watches and miniature work.', '2015-08-31')\n",
            "('US', 44068063, 'R1EBMIQ69CZ64', 'B00ZI3SGXM', 294102740, \"Stuhrling Original Women's 956.02 Symphony Gold-Tone Watch with Brown Genuine Leather Band\", 'Watches', 4, 0, 0, 'N', 'Y', 'Four Stars', \"Love the look but the leather band is so stiff it doesn't conform well to my wrist.\", '2015-08-31')\n",
            "('US', 916000, 'R2PVH1MHLKN9A7', 'B0053A0HB4', 199546574, 'Casio G-shock Mudman Multiband6 Japanese Model [ Gw-9300-1jf ]', 'Watches', 5, 0, 0, 'N', 'Y', 'excellent product.', 'Beyond my expectation..excellent product..good quality, well built, nicely done..:)', '2015-08-31')\n",
            "('US', 1196727, 'R1SOUO6DCO4X5H', 'B00QBTQX50', 29617990, 'iStrap Calfskin Leather Watch Band Replacement Choice of Color & Width (18mm,19mm, 20mm,21mm or 22mm)', 'Watches', 1, 0, 1, 'N', 'Y', 'One Star', 'It was bad it didnt fit my 22mm retro casio', '2015-08-31')\n",
            "('US', 7503824, 'R32ZIHMEIOPDZN', 'B00G3JSF22', 978361500, \"G-SHOCK Men's GA-100 Neon Highlights Watch\", 'Watches', 5, 0, 0, 'N', 'N', '8/10 Only gripe is that I wish the back light was a tad better.', 'Watch kicks ass. Upon putting on this watch you will grow a full beard and be able to tame a pack of wolves by looking at them. 8/10 Only gripe is that I wish the back light was a tad better.', '2015-08-31')\n",
            "('US', 14512093, 'R1HLVYTW271JWX', 'B002NQXYL6', 161383158, 'Voguestrap TX046801XL Allstrap 16-20mm Brown Extra-Long-Length Fits Fast-Wrap Expedition Watchband', 'Watches', 3, 0, 0, 'N', 'Y', \"It's a good value, and a good functional watch strap\", \"It's a good value, and a good functional watch strap.  It's super wide though, and takes more space on the wrist than I'd like.\", '2015-08-31')\n",
            "('US', 2143821, 'R2Z9MTUMD7LGLN', 'B004MAZN3I', 165342893, \"Seiko Men's SNKK27 Seiko 5 Stainless Steel Automatic Watch\", 'Watches', 5, 0, 0, 'N', 'Y', 'Wish the seller would furnish a model that works.', 'Loved the watch; it just did not work supposedly self-winding; tried all possible motions to cause the winder clearly visible from the rear of the watch; no luck', '2015-08-31')\n",
            "('US', 18380508, 'R3RZZY4RZJUBOW', 'B000JQFX1G', 400836338, \"Invicta Men's 8926OB Pro Diver Stainless Steel Automatic Watch with Link Bracelet\", 'Watches', 3, 0, 0, 'N', 'Y', 'Worth the money, be careful with the glass.', 'Alrighty, after seeking out the ultimate low-profile, ultra water resistant, mechanical watch with a rotating bezel and date for less than $100, I settled on this.<br /><br />It looks much like the famous Rolex Submariner, and performs similarly.<br /><br />However, after about a year of use now, the paint on the bezel is chipping, and after a decent smack on the hood of a car the crystal has cracked and all but shattered.<br /><br />It keeps time fairly well, gaining about 15 seconds per day, without taking it to a healer for fine tuning.', '2015-08-31')\n",
            "('US', 431372, 'R1ZXB27702XVCE', 'B00A6B9N6U', 491671113, \"Swiss Legend Women's 11044D-01 Neptune Black Dial Watch with Silicone Band\", 'Watches', 5, 0, 0, 'N', 'Y', 'Five Stars', 'Love it', '2015-08-31')\n",
            "('US', 1567510, 'RSFQ1G70Z858U', 'B00HJ7T0OY', 822340800, \"Absolute Hot Iron man Super Hero build-in Blue LED for Men's luxury Army military Wrist Watches\", 'Watches', 3, 0, 0, 'N', 'Y', \"I wouldn't order it again for myself.\", 'Not bad but a little tacky. It does have substantial weight for a $15 watch.', '2015-08-31')\n",
            "('US', 34086987, 'R2UV2KNKCZBLK9', 'B004401KHE', 604208769, \"Seiko Men's White Dial Brown Leather Easy Reader Solar Calendar Watch\", 'Watches', 5, 0, 0, 'N', 'Y', 'I thought it looked beautiful. My boyfriend loved it', \"I thought it looked beautiful.  My boyfriend loved it.  It's only been a few days, so I can't comment on durability.  But, I didn't have some of the problems mentioned in other reviews--the little dots around the outside glowed like they were supposed to, it was easy to set including the date, the band was fine and long enough even though my boyfriend wears it loose.  Great price too--I see them in stores for nearly twice what I paid.\", '2015-08-31')\n",
            "('US', 1685723, 'R9UQFP5AYOWD4', 'B001UGDB0O', 762085956, 'Michael Kors Womens MK5145 - Runway Chronograph', 'Watches', 5, 0, 0, 'N', 'Y', 'Beautiful and sophisticated', 'More beautiful in person. High quality! Looks understated but so sophisticated! It was a gift for my mother and she loved it!', '2015-08-31')\n",
            "('US', 3307875, 'R3V27ZXF549EAQ', 'B00L4JRXIS', 627047973, \"Armitron Sport Women's 25/6416 Easy To Read Dial Resin Strap Watch\", 'Watches', 3, 0, 0, 'N', 'Y', 'Sport watch', \"It's a nice watch but if you have a large arm it will not fit  well.  does good under water I use when I go to water aerobic to keep tack of my time\", '2015-08-31')\n",
            "('US', 47955030, 'R2W4OB11T2UXAV', 'B009PQB5K4', 418141913, \"Lucien Piccard Men's 11577-RG-02S Stockhorn Silver Textured Dial Brown Leather Watch\", 'Watches', 5, 0, 0, 'N', 'Y', 'Beautiful watch! Looks better on the wrist than in ...', 'Beautiful watch! Looks better on the wrist than in the picture.  Could not have been more pleased. A great addition to my collection.', '2015-08-31')\n",
            "('US', 36687968, 'R2MBPYZV5SYT5B', 'B003M2G0SY', 908936114, 'LEGO Star Wars Yoda Kids Buildable Watch with Link Bracelet and Minifigure | green/gray | plastic | 28mm case diameter| analog quartz | boy girl | official', 'Watches', 4, 0, 0, 'N', 'Y', 'he loved', 'Bought for a cousin, he loved it', '2015-08-31')\n",
            "('US', 37595973, 'R2NU7Y4TV3Z9Q7', 'B002SSUQFG', 354933056, \"Seiko Men's SNK809 Seiko 5 Automatic Stainless Steel Watch with Black Canvas Strap\", 'Watches', 5, 0, 0, 'N', 'Y', 'Five Stars', 'Man watch for woman, just a right size and design for it.', '2015-08-31')\n",
            "('US', 50033390, 'R38NIR3U01EIS4', 'B003622WUK', 890272218, \"Tissot Women's T0492103303300 PR 100 Gold-Tone Silver Dial Watch\", 'Watches', 4, 1, 1, 'N', 'Y', 'I like the watch', \"I like the watch!  I had its predecessor and enjoyed it until all the numbers started to fall off.  Hope that does not happen to this one.  The numbers run together it's sometimes difficult to distinguish the time.  I'm adjusting to it.  Like the new clasp.\", '2015-08-31')\n",
            "('US', 28119981, 'RZ999X8LL9GU7', 'B00L8M9Z32', 686288185, \"CASIO BABY-G (BG-6900SG-8JF) GLITTER DIAL SERIES LADY'S WATCH JAPANESE MODEL 2014 JULY RELEASED\", 'Watches', 5, 0, 0, 'N', 'Y', 'Sparkly and nice', \"I have many Baby-G's, but none have gotten as much attention and compliments as this one. The glitter pops out at everyone and the silver makes it look feminine and sleek. I paid $120 for it, wayy more than I usually pay for Baby-G's, but I think it was worth it, especially since it's a special Japanese model. Probably won't see many people with this watch making it pretty unique. I like the background light is a light blue color, goes well with the color of the watch.\", '2015-08-31')\n",
            "('US', 24667426, 'R34A40GBG3IVJD', 'B000GAWSA4', 700023949, \"Casio Men's AW80V-1BV\", 'Watches', 5, 0, 0, 'N', 'Y', 'Five Stars', 'Perfect watch for camping and hiking.', '2015-08-31')\n",
            "('US', 207824, 'R2DAHAETN8AOHL', 'B004YM2FV2', 649128875, 'Bling Jewelry Plated Classic Round CZ Ladies Watch', 'Watches', 5, 0, 0, 'N', 'Y', 'Five Stars', 'the watch is beautiful, a little on the big side but it is perfect!!!!! LOVE LOVE LOVE!!!!!', '2015-08-31')\n",
            "('US', 46189902, 'R1A6ZHMS6ED9SM', 'B008RNKIV8', 341504925, \"Citizen Men's AT8020-54L Blue Angels Stainless Steel Eco-Drive Dress Watch\", 'Watches', 5, 0, 1, 'N', 'Y', 'The watch as expected was an amazing product from citizen', 'The watch as expected was an amazing product from citizen, however the the cover was in a damaged condition which was quite upsetting since I was planning to gift this to some one.', '2015-08-31')\n",
            "('US', 47558372, 'R4BUD64L0L617', 'B000SZNTLO', 544270597, 'Timex Ironman Sleek 50-Lap Full Size', 'Watches', 5, 0, 0, 'N', 'Y', 'Five Stars', 'great looking sports watch', '2015-08-31')\n",
            "('US', 33322445, 'R3JSX07PSTFFPE', 'B00MNC53XW', 567086073, 'Outop Wholesale Lot of 5pcs Womens Girls Butterfly Bracelet Wrist Watches', 'Watches', 5, 0, 0, 'N', 'Y', 'Fun and inexpensive', 'These were purchased for my daughter and her friend, but I liked them enough that I kept one for myself as well!', '2015-08-31')\n",
            "('US', 41784200, 'R100HLZJGWAXRP', 'B00BF77S2K', 479360900, \"Timex Kids' T7B9829J IronKids Translucent Blue Sport Watch\", 'Watches', 1, 2, 2, 'N', 'Y', 'Leaks water - total junk', \"This is junk.  Why would you name a watch an ironkid watch if it isn't made for swimming (last time I checked an ironman consisted of swim, bike and run)?  It claims it is water resistant but the watch leaks and it will die if your kid wears it in a pool.  Don't waste your money.\", '2015-08-31')\n",
            "('US', 26050402, 'R1PFCOIMT3ND68', 'B00OHD6SLG', 721711830, \"Cool Men's Racer Military Pilot Army Silicone Sports Watch\", 'Watches', 1, 0, 0, 'N', 'Y', 'One Star', 'Lens cracked on the third day', '2015-08-31')\n",
            "('US', 48880662, 'R2G0EK7EUCTDXU', 'B003DIP9BQ', 941077778, \"XOXO Women's XO110 Silver Dial Gold-tone Bracelet Watch\", 'Watches', 5, 0, 0, 'N', 'Y', 'Five Stars', 'very good', '2015-08-31')\n",
            "('US', 13675081, 'RBGAF34UPP636', 'B00L3VGTA0', 667419707, \"Armitron Men's Black Sunray Dial Silvertone Bracelet Watch\", 'Watches', 4, 0, 0, 'N', 'Y', 'My husband like it but he would have liked the dial face ...', \"My husband like it but he would have liked the dial face to be a little smaller. He is not used to the bigger face but getting used to it. The picture product was hard to tell about the dial face and don't think it mention about the dial face being bigger than normal. Besides that everything else is really well made.\", '2015-08-31')\n",
            "('US', 875559, 'R3FVL714L4L8BS', 'B00RCUTIRM', 731342946, \"Akribos XXIV Men's AK787YGBU Quartz Movement Watch with Blue Dial and Yellow Gold Stainless Steel Bracelet\", 'Watches', 5, 0, 0, 'N', 'Y', 'Five Stars', 'Excellent product and seller very good service', '2015-08-31')\n",
            "('US', 4014799, 'R2DOJG0AT3YOK4', 'B00V30U79K', 18936638, 'Topwell Mens Wood watches, Date Time 24hours Wooden watch with Round Multi-Eyed QUARTZ Wrist Watch for Gift', 'Watches', 5, 4, 4, 'N', 'N', 'amazing -- perfect gift', \"This is a very nice watch, i love that it's made of wood but black in color. The face is big and has three silver, decorative yet functional dials. It's extremely lightweight and comfortable to wear. It's so lightweight you could actually forget you're wearing it. The wood is very smooth and the semi-matte finish is very dressy.<br />The links move easily and is worn without catching or squeezing skin/hair. It's easy to adjust so it will fit a variety of  wrist sizesI love that it's water proof because although very dressy it can be worn for every day use.<br />This would make a great gift for any man in your life.<br />I received this product complimentary in exchange for my honest opinion but the opinion expressed is all my own.\", '2015-08-31')\n",
            "('US', 2228523, 'R29HFELXCSF7KD', 'B00STAXIHU', 690763506, \"Fossil Women's ES3822 Georgia Stainless Steel Watch with Blue Leather Band\", 'Watches', 5, 0, 0, 'N', 'Y', 'Five Stars', 'Love. That is pretty much it. Item as described, really beautiful and functional.', '2015-08-31')\n",
            "('US', 16309813, 'R1EZ1QK1I9BD70', 'B00DUW21F2', 87555656, \"Stuhrling Original Men's 574.03 Analog Executive II Stainless Steel Automatic Skeleton Watch with Brown Leather Band\", 'Watches', 5, 0, 0, 'N', 'Y', 'Five Stars', 'husband loves it', '2015-08-31')\n",
            "('US', 45661904, 'R1OXYDAWK2WUJ9', 'B00MO38XL4', 476271516, \"Armitron Sport Women's 25/6422BLK Easy to Read Dial Black Resin Strap Watch\", 'Watches', 5, 0, 0, 'N', 'Y', 'So pretty, strap is so soft', 'So pretty, strap is so soft, easy pliable rubber material. Unfortunately, bezel does not turn. But I recommend this for everyday nursing use.', '2015-08-31')\n",
            "('US', 106740, 'R27YN77RE11XHO', 'B00K8HMHCE', 575505209, \"Swiss Legend Men's 10068-03 Commander II Analog Display Swiss Quartz Blue Watch\", 'Watches', 4, 2, 2, 'N', 'Y', 'but I like it', \"The size and thickness is Huge. the color is eye Popping.The band is durable and ridged . the only problem I have is that it doesn't glow to mush in the dark. but I like it\", '2015-08-31')\n",
            "('US', 42795523, 'RW45AV6JXQPUN', 'B001DK6OKQ', 79293794, \"Stuhrling Original Men's 219.331657 Symphony Eternity Monterey Swiss Quartz Date Watch\", 'Watches', 3, 0, 0, 'N', 'N', 'Three Stars', 'the band broke in first week', '2015-08-31')\n",
            "('US', 10564575, 'R2ISDC90DZMHFM', 'B0094PS284', 842528710, 'LuckyStore 14mm 5X Watch Band Stainless Steel Spring Bars Strap Link Pin Watchmaker New', 'Watches', 5, 0, 0, 'N', 'Y', '14mm watch pin', \"This is exactly what I was looking for!  I fixed my watch band and haven't been happier!  I didn't need 5, but the extra 4 may come in handy.\", '2015-08-31')\n",
            "('US', 2239679, 'R1WVL1E6FMSFR4', 'B00FDLB2S0', 992050854, \"red line Men's RL-50042-YG-01 Stealth Chronograph Black Textured Dial Black Silicone Watch\", 'Watches', 5, 0, 0, 'N', 'Y', 'Five Stars', 'PERFECT', '2015-08-31')\n",
            "('US', 43807131, 'RGQ1YQSNQ3LE5', 'B00EVPMC88', 516415826, 'Seiko Men\\'s SNKL43 \"Seiko 5\" Stainless Steel Automatic Watch', 'Watches', 4, 0, 0, 'N', 'Y', 'Good seiko 5', 'A great automatic, but I give it 4 stars for being too conservative with its small size and the blue is dark and more of a navy color unless light is shining on it and reflecting. Other than that, like all based seiko 5s, it looks great on a Nato strap. I have this bad boy setup on a brown leather strap with a deployable clasp which looks very similar to the Omega Seamaster Aqua Terra. A great watch that can be worn in almost any occasion except when swimming', '2015-08-31')\n",
            "('US', 7189800, 'RE73CRP4JKXW1', 'B00G2R7E3Q', 131804424, \"Invicta Men's 14640 I-Force Analog Display Japanese Quartz Black Watch\", 'Watches', 1, 0, 0, 'N', 'Y', 'Disappointed by the huge size of it', \"Disappointed by the huge size of it, although yes they say in the specs it's a 52&#34; etc...<br />Sent it back. The taxes and p&p cost made me pay for it again.\", '2015-08-31')\n",
            "('US', 15305006, 'R2EQL1V1L6E0C9', 'B004LURNO6', 892860326, 'Nemesis #HST-K Unisex Black Wide Leather Cuff Wrist Watch Band', 'Watches', 5, 0, 0, 'N', 'Y', 'Five Stars', 'Love it', '2015-08-31')\n",
            "('US', 107342, 'RZOQUM3M5CAVH', 'B005OT1POW', 202690497, \"Tommy Hilfiger  Women's 1781145 Sport Stainless Steel  Watch\", 'Watches', 5, 0, 0, 'N', 'Y', 'Five Stars', 'Cool', '2015-08-31')\n",
            "('US', 138028, 'RRJBEIAITDLAQ', 'B007LPRLXG', 973233011, 'GUESS U17531G1 - Bold and Sporty Watch Silver', 'Watches', 2, 0, 0, 'N', 'N', 'i received watch in good condition, however he battery was not working and ...', 'first:<br />i received watch in good condition, however he battery was not working and i changed the battery<br />second:<br />i tried the watch to my hand but unfortunately was not amazing, it is for old ppl more than youth. i am looking to change the model .<br />i dont know if i can change irt from guess agent in Scotland/Edinburgh or not.', '2015-08-31')\n",
            "('US', 52229317, 'R6EMI5RKW73N3', 'B00QK2HAFK', 78116254, \"Armitron Men's 20/5048 Day/Date Function Dial Croco-Grain Leather Strap Watch\", 'Watches', 4, 1, 2, 'Y', 'N', 'Great Watch for the Price', \"This is a good looking men's watch that would go well with most outfits, though it's leather strap pushes it to a more dressy watch. It's a simple watch with a day and date window. It is luminescent on the hour marks but not on the watch hands themselves, which is a little weird.<br /><br />I would be curious to see how long the battery lasts. Aside from the watch band wearing out, that would be the weakest part of this watch in the long term.\", '2015-08-31')\n",
            "('US', 44293218, 'R12NA6QEKA1PRI', 'B003X11UFM', 790174403, \"Stuhrling Original Men's 238.321K43 Ascot Newberry Analog Swiss Quartz Brown Leather Watch\", 'Watches', 3, 3, 3, 'N', 'Y', 'Great looks, medium quality', \"It's a great looking product. One of the best watches I have ever seen. The quality is mediocre but that's alright. Just keep it out of water as much as possible and the leather should hold up alright.\", '2015-08-31')\n",
            "('US', 3669388, 'R2M6EF6NI4VV6I', 'B00A6OEWA4', 985088364, \"AMPM24 Men's Hand-winding Mechanical Watch Black Leather Watchband Skeleton PMW069\", 'Watches', 4, 0, 0, 'N', 'Y', 'Four Stars', 'Good value product', '2015-08-31')\n",
            "('US', 51897929, 'R2H287IH770TN7', 'B006QAX906', 957756572, \"Gotham Men's Silver-Tone Ultra Thin Railroad Open Face Quartz Pocket Watch # GWC15022S\", 'Watches', 5, 0, 0, 'N', 'Y', 'Looks good.', 'Looks good. Not bulky. Keeps good time.', '2015-08-31')\n",
            "('US', 48880662, 'R19SU6JVQQA05B', 'B00BS8U8PU', 132047116, 'Casio Unisex MRW200H-2BV Neo-Display Black Watch with Resin Band', 'Watches', 5, 0, 0, 'N', 'Y', 'Five Stars', 'good', '2015-08-31')\n",
            "('US', 39984561, 'R561PSHO7D095', 'B001F0PTNM', 670846500, \"Hadley-Roma Men's MSM881RB-170 17-mm Brown Oil-Tan Leather Watch Strap\", 'Watches', 5, 0, 0, 'N', 'Y', 'Great leather watch band.', 'This is my 3rd Hadley Roma leather watch band. Others lasted 3+ years. Great quality and design at a good price.', '2015-08-31')\n",
            "('US', 17141249, 'RUITIQHK33YXJ', 'B00Q7DETQU', 763436398, 'Michael Kors Petite Silvertone Darci Watch', 'Watches', 5, 0, 0, 'N', 'Y', 'petite watch - goes great with my engagement ring', 'Gorgeous, petite watch - goes great with my engagement ring ;-)', '2015-08-31')\n",
            "('US', 29140914, 'R21BZGZC61EB1G', 'B00LW3RP0W', 198443125, 'Timex Expedition Rugged Metal Watch', 'Watches', 4, 0, 0, 'N', 'Y', 'Four Stars', 'heavier than expected', '2015-08-31')\n",
            "(None, None, None, None, None, None, None, None, None, None, None, None, None, None, None)\n",
            "('teste', None, None, None, None, None, None, None, None, None, None, None, None, None, None)\n"
          ],
          "name": "stdout"
        }
      ]
    },
    {
      "cell_type": "code",
      "metadata": {
        "id": "_9BxrHigtGny",
        "colab_type": "code",
        "colab": {
          "base_uri": "https://localhost:8080/",
          "height": 1000
        },
        "outputId": "c2d45719-a15a-4f50-86b6-ee9ad45f65a9"
      },
      "source": [
        "sheet['C102']= 'RBUBNIN234'\n",
        "print_rows()"
      ],
      "execution_count": 13,
      "outputs": [
        {
          "output_type": "stream",
          "text": [
            "('marketplace', 'customer_id', 'review_id', 'product_id', 'product_parent', 'product_title', 'product_category', 'star_rating', 'helpful_votes', 'total_votes', 'vine', 'verified_purchase', 'review_headline', 'review_body', 'review_date')\n",
            "('US', 3653882, 'R3O9SGZBVQBV76', 'B00FALQ1ZC', 937001370, 'Invicta Women\\'s 15150 \"Angel\" 18k Yellow Gold Ion-Plated Stainless Steel and Brown Leather Watch', 'Watches', 5, 0, 0, 'N', 'Y', 'Five Stars', 'Absolutely love this watch! Get compliments almost every time I wear it. Dainty.', '2015-08-31')\n",
            "('US', 14661224, 'RKH8BNC3L5DLF', 'B00D3RGO20', 484010722, \"Kenneth Cole New York Women's KC4944 Automatic Silver Automatic Mesh Bracelet Analog Watch\", 'Watches', 5, 0, 0, 'N', 'Y', 'I love thiswatch it keeps time wonderfully', 'I love this watch it keeps time wonderfully.', '2015-08-31')\n",
            "('US', 27324930, 'R2HLE8WKZSU3NL', 'B00DKYC7TK', 361166390, 'Ritche 22mm Black Stainless Steel Bracelet Watch Band Strap Pebble Time/Pebble Classic', 'Watches', 2, 1, 1, 'N', 'Y', 'Two Stars', 'Scratches', '2015-08-31')\n",
            "('US', 7211452, 'R31U3UH5AZ42LL', 'B000EQS1JW', 958035625, \"Citizen Men's BM8180-03E Eco-Drive Stainless Steel Watch with Green Canvas Band\", 'Watches', 5, 0, 0, 'N', 'Y', 'Five Stars', 'It works well on me. However, I found cheaper prices in other places after making the purchase', '2015-08-31')\n",
            "('US', 12733322, 'R2SV659OUJ945Y', 'B00A6GFD7S', 765328221, \"Orient ER27009B Men's Symphony Automatic Stainless Steel Black Dial Mechanical Watch\", 'Watches', 4, 0, 0, 'N', 'Y', 'Beautiful face, but cheap sounding links', \"Beautiful watch face.  The band looks nice all around.  The links do make that squeaky cheapo noise when you swing it back and forth on your wrist which can be embarrassing in front of watch enthusiasts.  However, to the naked eye from afar, you can't tell the links are cheap or folded because it is well polished and brushed and the folds are pretty tight for the most part.<br /><br />I love the new member of my collection and it looks great.  I've had it for about a week and so far it has kept good time despite day 1 which is typical of a new mechanical watch\", '2015-08-31')\n",
            "('US', 6576411, 'RA51CP8TR5A2L', 'B00EYSOSE8', 230493695, \"Casio Men's GW-9400BJ-1JF G-Shock Master of G Rangeman Digital Solar Black Carbon Fiber Insert Watch\", 'Watches', 5, 0, 0, 'N', 'Y', 'No complaints', 'i love this watch for my purpose, about the people complaining should of done their research better before buying. dumb people.', '2015-08-31')\n",
            "('US', 11811565, 'RB2Q7DLDN6TH6', 'B00WM0QA3M', 549298279, \"Fossil Women's ES3851 Urban Traveler Multifunction Stainless Steel Watch - Rose\", 'Watches', 5, 1, 1, 'N', 'Y', 'Five Stars', 'for my wife and she loved it, looks great and a great price!', '2015-08-31')\n",
            "('US', 49401598, 'R2RHFJV0UYBK3Y', 'B00A4EYBR0', 844009113, 'INFANTRY Mens Night Vision Analog Quartz Wrist Watch with Nato Nylon Watchband-Red.', 'Watches', 1, 1, 5, 'N', 'N', 'I was about to buy this thinking it was a ...', 'I was about to buy this thinking it was a Swiss Army Infantry watch-- the description uses the words infantry and army--- when I realized it must be a fraud for $12.00. This should not be offered on Amazon-- it is designed to confuse consumers.', '2015-08-31')\n",
            "('US', 45925069, 'R2Z6JOQ94LFHEP', 'B00MAMPGGE', 263720892, \"G-Shock Men's Grey Sport Watch\", 'Watches', 5, 1, 2, 'N', 'Y', 'Perfect watch!', \"Watch is perfect. Rugged with the metal &#34;Bull Bars&#34;. The red accents are a great touch and I get compliments when wearing it. If you are worried about being able to read this in sunlight or in the dark don't! The LED ilumination works great! I might even get this in a different color for my next G-Shock purchase!\", '2015-08-31')\n",
            "('US', 44751341, 'RX27XIIWY5JPB', 'B004LBPB7Q', 124278407, 'Heiden Quad Watch Winder in Black Leather', 'Watches', 4, 0, 0, 'N', 'Y', 'Great quality and build', 'Great quality and build.<br />The motors are really silent.<br />After fiddling with the settings my watches are always charged and ready to use.', '2015-08-31')\n",
            "('US', 9962330, 'R15C7QEZT0LGZN', 'B00KGTVGKS', 28017857, \"Fossil Women's ES3621 Serena Crystal-Accented Two-Tone Stainless Steel Watch\", 'Watches', 4, 2, 2, 'N', 'Y', 'Satisfied', \"The watch was pretty much as it was described and how it looks. I really like the simplicity of it and it looks pretty amazing. It is slightly too big, so I have yet to adjust it, but I'm glad it's too big rather than too small. The weight is good which is what I was hoping for. Very satisfied with this purchase. I was slightly on the fence getting this one because of the previous fossil watch I had, which by some time, did have some gems fall off from ring around the numbers, but so far so good with this one! Excuse my bad lighting for my pic.\", '2015-08-31')\n",
            "('US', 16097204, 'R361XSS37V0NCZ', 'B0039UT5OU', 685450910, \"Casio General Men's Watches Sporty Digital AE-2000W-1AVDF - WW\", 'Watches', 1, 0, 0, 'N', 'N', 'I do not think this watch is a good product. Do not buy it', 'I bought this watch on 2013, the screen had a problem 10 months later. I sent the watch back to Casio Service Center in LA, they sent to me a replacement new watch. Last week, less than one year after I received the new watch, the battery is out.  I went to a shop to replace the battery. Then the A button of the watch do not working, so I could not change the time and other settings. I do not think this watch is a good product. Do not buy it.', '2015-08-31')\n",
            "('US', 51330346, 'ROTNLALUAJAUB', 'B00MPF0XJQ', 767769082, '2Tone Gold Silver Cable Band Ladies Bangle Cuff Watch', 'Watches', 3, 0, 0, 'N', 'Y', 'Three Stars', \"It is a cheap watch that looks cheap.  There isn't much else to say.\", '2015-08-31')\n",
            "('US', 4201739, 'R2DYX7QU6BGOHR', 'B003P1OHHS', 648595227, \"Bulova Men's 98B143 Precisionist Charcoal Grey Dial Bracelet Watch\", 'Watches', 5, 0, 0, 'N', 'Y', 'Five Stars', 'Heavier than i though', '2015-08-31')\n",
            "('US', 26339765, 'RWASY7FKI7QOT', 'B00R70YEOE', 457338020, 'Casio - G-Shock - Gulfmaster - Black - GWN1000C-1A', 'Watches', 5, 2, 3, 'N', 'Y', 'Worth it - love it', 'Had it for several weeks now and I love it - reliable, functional, wears easy, not too heavy.  I also get a lot of comments on it - great watch!', '2015-08-31')\n",
            "('US', 2692576, 'R2KKYZIN3CCL21', 'B000FVE3BG', 824370661, \"Invicta Men's 3329 Force Collection Lefty Watch\", 'Watches', 5, 0, 0, 'N', 'Y', 'This is when different is good.', 'This one is different from the rest of my Invictas. I like the big watches but this one gave a classy more defined look for the craftsmanship. All of the colors compliment each other. It all starts from the stitching of the band.  Very nice watch.', '2015-08-31')\n",
            "('US', 44713366, 'R22H4FGVD5O52O', 'B008X6JB12', 814431355, \"Seiko Women's SUT068 Dress Solar Classic Diamond-Accented Two-Tone Stainless Steel Watch\", 'Watches', 4, 1, 1, 'N', 'Y', 'Thewatch is attractive and easy to read', \"The watch is attractive and easy to read, except for the date. The little diamonds are very, very tiny. All in all, I'm happy with it.\", '2015-08-31')\n",
            "('US', 32778769, 'R11UACZERCM4ZY', 'B0040UOFPW', 187700878, \"Anne Klein Women's 109271MPTT Swarovski Crystal Accented Two-Tone Multi-Chain Bracelet Watch\", 'Watches', 5, 0, 0, 'N', 'Y', 'Five Stars', 'said my wife..', '2015-08-31')\n",
            "('US', 27258523, 'R1AT8NQ38UQOL6', 'B00UR2R5UY', 594315262, \"Guess U13630G1 Men's day and date Gunmetal dial Gunmetal tone bracelet\", 'Watches', 5, 0, 0, 'N', 'Y', 'Five Stars', 'Nice watch, on time delivery from seller.', '2015-08-31')\n",
            "('US', 42646538, 'R2NCZRQGIF1Q75', 'B00HFF57L0', 520810507, \"Nixon Men's Geo Volt Sentry Stainless Steel Watch with Link Bracelet\", 'Watches', 4, 0, 0, 'N', 'Y', 'Very stylish', 'Looks great and love to wear this watch.  Only negative thing is due to its blue/black colors, it is difficult to read in average or low light.  Good thing for me, I wear a watch for looks and not really for telling the time.', '2015-08-31')\n",
            "('US', 46017899, 'RJ9HWWMU4IAHF', 'B00F5O06E6', 601596859, \"Nautica Men's N14699G BFD 101 Chrono Classic Stainless Steel Watch with Brown Band\", 'Watches', 4, 1, 1, 'N', 'Y', 'Good looking watch', \"I really like this watch. It has a great face that contrasts nicely with the white numerals. Keeps time accurately. Overall very pleased. I really like its distinctive look. It's also durable and water proof. I leave it on when I go kayaking or out on the boat fishing.\", '2015-08-31')\n",
            "('US', 37192375, 'R3CNTCKG352GL1', 'B00CHS398I', 798261110, 'HDE Watch Link Pin Remover Band Strap Repair Tool Kit for Watchmakers with Pack of 3 Extra Pins', 'Watches', 4, 0, 0, 'N', 'Y', 'Works great but the watch a used it on was slim ...', 'Works great but the watch a used it on was slim so I had to use a quarter to rase it up the right height', '2015-08-31')\n",
            "('US', 11710007, 'R9Q2LDSES6NBL', 'B003OQ4TA4', 557813802, \"Timex Women's Q7B860 Padded Calfskin 8mm Black Replacement Watchband\", 'Watches', 4, 0, 0, 'N', 'Y', 'Fits perfect on my', 'Just what I needed for my Timex watch. Fits perfect on my wrist', '2015-08-31')\n",
            "('US', 6673146, 'R3629T8HDV5VWU', 'B007X0SYEY', 22870009, 'Movado Men\\'s 0606545 \"Museum\" Perforated Black-Rubber Strap Sport Watch', 'Watches', 5, 1, 1, 'N', 'Y', 'Great Buy!', \"Absolutely LOVE this watch! Amazon prime saved me over $400 after tax from the store prices. Between the great buy and the Coolness of this watch it was an amazing purchase. I can't stop looking at it. Movado is an excellent brand. Time keeping is perfect. Quality is perfect.\", '2015-08-31')\n",
            "('US', 7899951, 'R2CLMKC0IVZ9UX', 'B005KPL7FM', 269520616, \"Invicta Men's 6674 Corduba Chronograph Black Dial Polyurethane Watch\", 'Watches', 5, 0, 0, 'N', 'Y', 'Five Stars', 'Its too large. When you order check the size of the case.', '2015-08-31')\n",
            "('US', 27979201, 'R2QGEJRU4ENYN2', 'B00FNIFI2O', 330558574, \"Szanto Men's SZ 2001 2000 Series Classic Vintage-Inspired Stainless Steel Watch with Pebbled Leather Band\", 'Watches', 5, 1, 1, 'N', 'N', 'This was awatch I bought during a quick sale thing', \"This was a watch I bought during a quick sale thing, so it was cheaper than normal.  I bought it as a daily wear.  It's really a decent watch for the price; a retro look with a modern movement.\", '2015-08-31')\n",
            "('US', 912779, 'R2E5STTYU6LTSC', 'B005JVP0FU', 220345054, \"Casio Men's MRW200H-7EV Sport Resin Watch\", 'Watches', 4, 0, 0, 'N', 'Y', 'Four Stars', 'It works well with nice simple look.', '2015-08-31')\n",
            "('US', 44345527, 'RI97MTVX08KWX', 'B004M23SDI', 299884359, 'Casio F-108WH-2AEF Mens Blue Digital Watch', 'Watches', 3, 0, 0, 'N', 'Y', 'Thought that I read somewhere that you could swim with ...', 'Thought that I read somewhere that you could swim with it. It does not however bear the 50M Water Resistance designation.', '2015-08-31')\n",
            "('US', 2659331, 'RK20LJG750ERC', 'B00RV2L8CE', 714311106, \"August Steiner Men's AS8160TTG Silver And Gold Swiss Quartz Watch with Black Dial and Two Tone Bracelet\", 'Watches', 5, 0, 0, 'N', 'Y', 'Great Watch', 'Perfect Condition, Arrived on Time,Works & Looks Great', '2015-08-31')\n",
            "('US', 805483, 'R1HQZDBB90LMFH', 'B000JQJS6M', 926299553, \"Invicta Men's 8928OB Pro Diver Gold Stainless Steel Two-Tone Automatic Watch\", 'Watches', 5, 2, 2, 'N', 'Y', 'Very Impressive', \"This watch is a very beautiful time piece. This also could be an alternative choice to a Rolex submariner. It also has the same features as a Rolex submariner but it's not as good as a Rolex watch but darn close.<br /><br />Take good care of this watch if you get one because it has gold plating on it. This watch is 'Not' a sport watch.<br /><br />This watch features<br />-Rotating timer dial<br />-All stainless steel (kinda heavy)<br />-Glow in the dark<br />-Water resistant to 200 meters (600 feet)<br />-Automatic winding (from wrist movements)<br />-Shows date<br />-Very beautiful<br /><br />Sizeing isn't difficult, I sized mine by using a thumbtack and a hammer to tap the pins out of the band and I tapped a pin back into the band after removing three band links. If you don't know what your doing then just take it to s jewelry store so they can size it for you\", '2015-08-31')\n",
            "('US', 42590995, 'R2XHQHGXIEYTNI', 'B00VXLJD44', 578998634, \"BOS Men's Automatic self-wind mechanical Pointer Skeleton Watch Black Dial Stainless Steel Band 9008\", 'Watches', 3, 1, 3, 'N', 'Y', 'The epitome of form before function.', \"This is a beautiful watch. I love the look and feel of it, and I get complimented on it all the time. If that were the entirety of the story, this would be a 5 star review.<br /><br />Unfortunately, the most important part of this watch, the functionality, has some issues. Despite this being an automatic winding watch, it doesn't always stay wound. I have had days where I had to re-wind it before the end of the day. Most days however, it does last through the day. I just have to wind it and set the time again in the morning. Other mechanical self winding watches I own will in fact not need to be wound again until I stop wearing them for a full day. In addition, I can't always get the spring fully wound before it will start clicking and the spring skips off the winding gear.<br /><br />If I hadn't been so lazy, I would have returned this watch. Unfortunately, I missed the 30 day return window. So now I'm stuck with an only mostly working but beautiful watch. I guess that makes it kinda like a fashion model. When I think of it that way, it's not quite so disappointing.\", '2015-08-31')\n",
            "('US', 48880662, 'R2BVFRIR7A5UD1', 'B004EFGBW8', 727624097, \"Luminox Men's 3081 Evo Navy SEAL Chronograph Watch\", 'Watches', 5, 0, 0, 'N', 'Y', 'Five Stars', 'very good', '2015-08-31')\n",
            "('US', 112967, 'R3O51G2D52W9DD', 'B00G9X76DG', 86861596, 'INFANTRY Mens 50mm Big Face Military Tactical Analog Digital Sport Wrist Watch Black Silicone Band', 'Watches', 5, 1, 1, 'N', 'Y', 'Surpassed my expectations', 'I was very apprehensive about buying a 28 dollar watch online, but it looked so much like the 400 dollar Invicta Coalition forces watch I was wanting that I went for it.  I was very pleased when it arrived.  It is a BIG, heavy, sharp looking watch and I could not be happier. I am sure I will be purchasing the solid black one as well', '2015-08-31')\n",
            "('US', 51346302, 'R2O0LW0AZ67P3X', 'B00SFTTZ9U', 8403354, \"BUREI Dress Women's Minimalist Wrist Watches with Date Analog Quartz Stainless Steel and Ultra Slim Dial\", 'Watches', 5, 4, 5, 'N', 'N', 'A classy looking watch', '[[VIDEOID:cc599be25462207f860e42621171d7e1]]This watch has an understated clean and classy design.  It looks elegant. It has a stainless steel body and genuine leather band.  The band maximum width 7.5\\\\\\\\\" (last hole), if needed additional holes could be made to make it as wide as 8\\\\\\\\\".<br /><br />The face of the watch is 1 3/16\\\\\\\\\" wide and the watch is 1/4\\\\\\\\\" thick. The back of the watch states it has Japanese quartz movement.  The watch is water resistant to rain and splashing but cannot be submerged into water.<br /><br />This watch is made in China but includes an English manual. The manual covers several watches so it is a somewhat confusing as it refers to self-winding watches as well as quartz watches like this one.  The third page in the manual can be used as a guide to the watch adjustment method.  I found the controls to be simple, everything is controlled by the position of the crown. It can be pulled out into two position, the first position allows change the day of the month, the second position moves the arms.<br /><br />Overall, this is a very attractive classy looking watch.  It comes in attractive package, the box has a pillow and include a gift bag.<br /><br />This watch is provided by BUREI for review.  Getting a review product does not influence what I say, I leave critical reviews as well as positive reviews like this one.<br /><br />Ali Julia review', '2015-08-31')\n",
            "('US', 32555369, 'R2KBTEW8GUENVS', 'B00NC8PMUK', 944169262, 'Motorola Moto 360 Modern Timepiece Smart Watch - Black Leather 00418NARTL', 'Watches', 5, 0, 1, 'N', 'Y', 'Great buy', 'Awesome watch for the price', '2015-08-31')\n",
            "('US', 150916, 'R2R4XPHTT9CCBN', 'B00C1C5J9W', 851584415, 'Domire Fashion Accessories Trial Order New Quartz Fashion Weave Wrap Around Leather Bracelet Lady Woman Butterfly Wrist Watch', 'Watches', 5, 0, 0, 'N', 'Y', 'Love this watch', 'Love this watch, I just received it yesterday it looks really nice on my  wrist, my friends and family love it.', '2015-08-31')\n",
            "('US', 36363182, 'R7GHUDPGT3WJC', 'B000GB0G5M', 492842685, \"Casio Women's LQ139B-1B Classic Round Analog Watch\", 'Watches', 3, 0, 0, 'N', 'Y', 'Nice watch but band is a little small', 'Nice face, easy to read. The band is a little too small.', '2015-08-31')\n",
            "('US', 10356300, 'R364RU42RZ606Z', 'B00F8AWMXA', 397647155, \"Invicta Men's 15256 I-Force Gunmetal Ion-Plated Stainless Steel Watch with Black Leather Strap\", 'Watches', 1, 0, 0, 'N', 'Y', 'One Star', 'crap', '2015-08-31')\n",
            "('US', 52437550, 'R2D5SV3UNHQPYZ', 'B005MDPAPU', 645499118, \"Casio Men's Slim Solar Multi-Function Analog-Digital Watch\", 'Watches', 4, 0, 0, 'N', 'Y', 'Easy to read with lots of features', 'This is now my everyday watch.  Easy to read with lots of features.  Light  and functional.  You can not beat the price.  It is clean in detail and I love the watch.', '2015-08-31')\n",
            "('US', 14495291, 'R15OQG60W2R4PQ', 'B006C8NJY8', 865472849, 'TS6202BLK 8 Belt Box Organizer Black Leather XL Compartments', 'Watches', 5, 0, 0, 'N', 'Y', 'amazing product keeps everything safe and secure organized great quality ...', 'amazing product keeps everything safe and secure organized great quality for my designer belts perfect for homes or traveling', '2015-08-31')\n",
            "('US', 16192612, 'R2XF4SMK4HKNVV', 'B00791YURC', 310034618, \"Casio Men's GW2310FB-1CR G-Shock Shock Resistant Multifunction Watch\", 'Watches', 3, 0, 0, 'N', 'Y', \"Size of a woman's watch\", \"Watch looks amazing and the features are second to none, but....the watch is small.  I have a PAW-5000 which dwarfs it.  I had to look at the box to make sure I didn't get a woman's watch.  No joke, the band on my, average at best, sized wrist almost couldn't accommodate it.  Probably had 1.5 inch left on the band after I put it on.  Make this Man-size and it would fantastic.\", '2015-08-31')\n",
            "('US', 19983148, 'RQ70UFZVX7UVJ', 'B00S69FO0I', 406011595, \"U.S. Polo Assn. Sport Men's US9506 Analog-Digital Display Silver-Tone Watch with Textured Band\", 'Watches', 1, 0, 0, 'N', 'Y', 'poor quality', 'Metal color was changed after the first use , which indicates a very poor quality', '2015-08-31')\n",
            "('US', 27325652, 'R2288KJ7D0H149', 'B00C7IQBRY', 201258316, \"Cerentino Women's CR106-TQ  Turquoise Silicone Rubber Rhinestones Watch\", 'Watches', 4, 1, 1, 'N', 'Y', 'Really cute watch', 'So far so good. I have only had this watch a few weeks & so far it is still working. Style is really cute exactly as pictured', '2015-08-31')\n",
            "('US', 14530627, 'RKJ0UN6XEJKIP', 'B009S4U1TY', 830280907, \"Batman Kids' BAT4072 Black Rubber Batman Logo Strap Watch\", 'Watches', 5, 0, 0, 'N', 'Y', 'Five Stars', 'Grand Kids loved this', '2015-08-31')\n",
            "('US', 6648801, 'R3VFQZTEST0L7U', 'B000B55AEA', 851729310, 'Timex Easy Reader Day-Date Leather Strap Watch', 'Watches', 5, 0, 0, 'N', 'Y', 'Love it!!!', 'Have worn it constantly, love the light at night', '2015-08-31')\n",
            "('US', 15920046, 'RLQ8MLTO09215', 'B0053HDR78', 576694666, 'Casio F108WH Water Resistant Digital Blue Resin Strap Watch', 'Watches', 5, 0, 0, 'N', 'Y', 'Five Stars', 'Wife loves it and nice looking watch,', '2015-08-31')\n",
            "('US', 2902435, 'R2PCHVAM074L1I', 'B00NC8PMUK', 944169262, 'Motorola Moto 360 Modern Timepiece Smart Watch - Black Leather 00418NARTL', 'Watches', 4, 0, 0, 'N', 'Y', 'Decent price-tag, more than average product', 'Great product . Love the continous innovation in this field and given the price-tag of $149, this product is a steal . Bought it 1 week back . Battery is satisfactory . Charges fast . Discharges within 12-15 hours . But it has a touch screen, so naturally its going to eat-up battery. For entry level android-wear, pretty decent', '2015-08-31')\n",
            "('US', 13929294, 'R2WV1IG5ORN33W', 'B008OIOLQO', 340110662, \"Ingersoll Men's IN1824CR Monticello Fine Automatic Timepiece Cream Dial Watch\", 'Watches', 5, 0, 0, 'N', 'Y', 'A very beautul and well-made pilots watch. Highly detailed ...', 'A very beautul and well-made pilots watch. Highly detailed dial,as well. The movement is tack- on for 24 hours but if you are not a ditch digger,wind it 20 revs  daily.', '2015-08-31')\n",
            "('US', 12696721, 'R2X7VDDS4ISTBC', 'B009PQB036', 696981257, \"Lucien Piccard Men's 11576-YG-01 Clariden Black Textured Dial Watch\", 'Watches', 5, 0, 1, 'N', 'Y', 'Great looking watch!', \"Comfortable, looks great, very lightweight.The band is a little on the short side, but it's usable and not a big deal to replace.\", '2015-08-31')\n",
            "('US', 4774720, 'R2POCZUBL0D0NX', 'B007X0E178', 953514677, \"XOXO Women's XO5478 Rhinestone-Accented Two-Tone Watch\", 'Watches', 5, 0, 0, 'N', 'Y', 'Five Stars', 'excelent product', '2015-08-31')\n",
            "('US', 12074902, 'R2Z9C8BYOJF24I', 'B00BXQSHRI', 714629498, 'Watch Case Press with 12 Nylon Dies, Watch Case Closer Set', 'Watches', 5, 0, 0, 'N', 'Y', 'Sturdy and well constructed', 'This press is very well constructed and sturdy. The different dies are easily interchangeable. A good tool for watches and miniature work.', '2015-08-31')\n",
            "('US', 44068063, 'R1EBMIQ69CZ64', 'B00ZI3SGXM', 294102740, \"Stuhrling Original Women's 956.02 Symphony Gold-Tone Watch with Brown Genuine Leather Band\", 'Watches', 4, 0, 0, 'N', 'Y', 'Four Stars', \"Love the look but the leather band is so stiff it doesn't conform well to my wrist.\", '2015-08-31')\n",
            "('US', 916000, 'R2PVH1MHLKN9A7', 'B0053A0HB4', 199546574, 'Casio G-shock Mudman Multiband6 Japanese Model [ Gw-9300-1jf ]', 'Watches', 5, 0, 0, 'N', 'Y', 'excellent product.', 'Beyond my expectation..excellent product..good quality, well built, nicely done..:)', '2015-08-31')\n",
            "('US', 1196727, 'R1SOUO6DCO4X5H', 'B00QBTQX50', 29617990, 'iStrap Calfskin Leather Watch Band Replacement Choice of Color & Width (18mm,19mm, 20mm,21mm or 22mm)', 'Watches', 1, 0, 1, 'N', 'Y', 'One Star', 'It was bad it didnt fit my 22mm retro casio', '2015-08-31')\n",
            "('US', 7503824, 'R32ZIHMEIOPDZN', 'B00G3JSF22', 978361500, \"G-SHOCK Men's GA-100 Neon Highlights Watch\", 'Watches', 5, 0, 0, 'N', 'N', '8/10 Only gripe is that I wish the back light was a tad better.', 'Watch kicks ass. Upon putting on this watch you will grow a full beard and be able to tame a pack of wolves by looking at them. 8/10 Only gripe is that I wish the back light was a tad better.', '2015-08-31')\n",
            "('US', 14512093, 'R1HLVYTW271JWX', 'B002NQXYL6', 161383158, 'Voguestrap TX046801XL Allstrap 16-20mm Brown Extra-Long-Length Fits Fast-Wrap Expedition Watchband', 'Watches', 3, 0, 0, 'N', 'Y', \"It's a good value, and a good functional watch strap\", \"It's a good value, and a good functional watch strap.  It's super wide though, and takes more space on the wrist than I'd like.\", '2015-08-31')\n",
            "('US', 2143821, 'R2Z9MTUMD7LGLN', 'B004MAZN3I', 165342893, \"Seiko Men's SNKK27 Seiko 5 Stainless Steel Automatic Watch\", 'Watches', 5, 0, 0, 'N', 'Y', 'Wish the seller would furnish a model that works.', 'Loved the watch; it just did not work supposedly self-winding; tried all possible motions to cause the winder clearly visible from the rear of the watch; no luck', '2015-08-31')\n",
            "('US', 18380508, 'R3RZZY4RZJUBOW', 'B000JQFX1G', 400836338, \"Invicta Men's 8926OB Pro Diver Stainless Steel Automatic Watch with Link Bracelet\", 'Watches', 3, 0, 0, 'N', 'Y', 'Worth the money, be careful with the glass.', 'Alrighty, after seeking out the ultimate low-profile, ultra water resistant, mechanical watch with a rotating bezel and date for less than $100, I settled on this.<br /><br />It looks much like the famous Rolex Submariner, and performs similarly.<br /><br />However, after about a year of use now, the paint on the bezel is chipping, and after a decent smack on the hood of a car the crystal has cracked and all but shattered.<br /><br />It keeps time fairly well, gaining about 15 seconds per day, without taking it to a healer for fine tuning.', '2015-08-31')\n",
            "('US', 431372, 'R1ZXB27702XVCE', 'B00A6B9N6U', 491671113, \"Swiss Legend Women's 11044D-01 Neptune Black Dial Watch with Silicone Band\", 'Watches', 5, 0, 0, 'N', 'Y', 'Five Stars', 'Love it', '2015-08-31')\n",
            "('US', 1567510, 'RSFQ1G70Z858U', 'B00HJ7T0OY', 822340800, \"Absolute Hot Iron man Super Hero build-in Blue LED for Men's luxury Army military Wrist Watches\", 'Watches', 3, 0, 0, 'N', 'Y', \"I wouldn't order it again for myself.\", 'Not bad but a little tacky. It does have substantial weight for a $15 watch.', '2015-08-31')\n",
            "('US', 34086987, 'R2UV2KNKCZBLK9', 'B004401KHE', 604208769, \"Seiko Men's White Dial Brown Leather Easy Reader Solar Calendar Watch\", 'Watches', 5, 0, 0, 'N', 'Y', 'I thought it looked beautiful. My boyfriend loved it', \"I thought it looked beautiful.  My boyfriend loved it.  It's only been a few days, so I can't comment on durability.  But, I didn't have some of the problems mentioned in other reviews--the little dots around the outside glowed like they were supposed to, it was easy to set including the date, the band was fine and long enough even though my boyfriend wears it loose.  Great price too--I see them in stores for nearly twice what I paid.\", '2015-08-31')\n",
            "('US', 1685723, 'R9UQFP5AYOWD4', 'B001UGDB0O', 762085956, 'Michael Kors Womens MK5145 - Runway Chronograph', 'Watches', 5, 0, 0, 'N', 'Y', 'Beautiful and sophisticated', 'More beautiful in person. High quality! Looks understated but so sophisticated! It was a gift for my mother and she loved it!', '2015-08-31')\n",
            "('US', 3307875, 'R3V27ZXF549EAQ', 'B00L4JRXIS', 627047973, \"Armitron Sport Women's 25/6416 Easy To Read Dial Resin Strap Watch\", 'Watches', 3, 0, 0, 'N', 'Y', 'Sport watch', \"It's a nice watch but if you have a large arm it will not fit  well.  does good under water I use when I go to water aerobic to keep tack of my time\", '2015-08-31')\n",
            "('US', 47955030, 'R2W4OB11T2UXAV', 'B009PQB5K4', 418141913, \"Lucien Piccard Men's 11577-RG-02S Stockhorn Silver Textured Dial Brown Leather Watch\", 'Watches', 5, 0, 0, 'N', 'Y', 'Beautiful watch! Looks better on the wrist than in ...', 'Beautiful watch! Looks better on the wrist than in the picture.  Could not have been more pleased. A great addition to my collection.', '2015-08-31')\n",
            "('US', 36687968, 'R2MBPYZV5SYT5B', 'B003M2G0SY', 908936114, 'LEGO Star Wars Yoda Kids Buildable Watch with Link Bracelet and Minifigure | green/gray | plastic | 28mm case diameter| analog quartz | boy girl | official', 'Watches', 4, 0, 0, 'N', 'Y', 'he loved', 'Bought for a cousin, he loved it', '2015-08-31')\n",
            "('US', 37595973, 'R2NU7Y4TV3Z9Q7', 'B002SSUQFG', 354933056, \"Seiko Men's SNK809 Seiko 5 Automatic Stainless Steel Watch with Black Canvas Strap\", 'Watches', 5, 0, 0, 'N', 'Y', 'Five Stars', 'Man watch for woman, just a right size and design for it.', '2015-08-31')\n",
            "('US', 50033390, 'R38NIR3U01EIS4', 'B003622WUK', 890272218, \"Tissot Women's T0492103303300 PR 100 Gold-Tone Silver Dial Watch\", 'Watches', 4, 1, 1, 'N', 'Y', 'I like the watch', \"I like the watch!  I had its predecessor and enjoyed it until all the numbers started to fall off.  Hope that does not happen to this one.  The numbers run together it's sometimes difficult to distinguish the time.  I'm adjusting to it.  Like the new clasp.\", '2015-08-31')\n",
            "('US', 28119981, 'RZ999X8LL9GU7', 'B00L8M9Z32', 686288185, \"CASIO BABY-G (BG-6900SG-8JF) GLITTER DIAL SERIES LADY'S WATCH JAPANESE MODEL 2014 JULY RELEASED\", 'Watches', 5, 0, 0, 'N', 'Y', 'Sparkly and nice', \"I have many Baby-G's, but none have gotten as much attention and compliments as this one. The glitter pops out at everyone and the silver makes it look feminine and sleek. I paid $120 for it, wayy more than I usually pay for Baby-G's, but I think it was worth it, especially since it's a special Japanese model. Probably won't see many people with this watch making it pretty unique. I like the background light is a light blue color, goes well with the color of the watch.\", '2015-08-31')\n",
            "('US', 24667426, 'R34A40GBG3IVJD', 'B000GAWSA4', 700023949, \"Casio Men's AW80V-1BV\", 'Watches', 5, 0, 0, 'N', 'Y', 'Five Stars', 'Perfect watch for camping and hiking.', '2015-08-31')\n",
            "('US', 207824, 'R2DAHAETN8AOHL', 'B004YM2FV2', 649128875, 'Bling Jewelry Plated Classic Round CZ Ladies Watch', 'Watches', 5, 0, 0, 'N', 'Y', 'Five Stars', 'the watch is beautiful, a little on the big side but it is perfect!!!!! LOVE LOVE LOVE!!!!!', '2015-08-31')\n",
            "('US', 46189902, 'R1A6ZHMS6ED9SM', 'B008RNKIV8', 341504925, \"Citizen Men's AT8020-54L Blue Angels Stainless Steel Eco-Drive Dress Watch\", 'Watches', 5, 0, 1, 'N', 'Y', 'The watch as expected was an amazing product from citizen', 'The watch as expected was an amazing product from citizen, however the the cover was in a damaged condition which was quite upsetting since I was planning to gift this to some one.', '2015-08-31')\n",
            "('US', 47558372, 'R4BUD64L0L617', 'B000SZNTLO', 544270597, 'Timex Ironman Sleek 50-Lap Full Size', 'Watches', 5, 0, 0, 'N', 'Y', 'Five Stars', 'great looking sports watch', '2015-08-31')\n",
            "('US', 33322445, 'R3JSX07PSTFFPE', 'B00MNC53XW', 567086073, 'Outop Wholesale Lot of 5pcs Womens Girls Butterfly Bracelet Wrist Watches', 'Watches', 5, 0, 0, 'N', 'Y', 'Fun and inexpensive', 'These were purchased for my daughter and her friend, but I liked them enough that I kept one for myself as well!', '2015-08-31')\n",
            "('US', 41784200, 'R100HLZJGWAXRP', 'B00BF77S2K', 479360900, \"Timex Kids' T7B9829J IronKids Translucent Blue Sport Watch\", 'Watches', 1, 2, 2, 'N', 'Y', 'Leaks water - total junk', \"This is junk.  Why would you name a watch an ironkid watch if it isn't made for swimming (last time I checked an ironman consisted of swim, bike and run)?  It claims it is water resistant but the watch leaks and it will die if your kid wears it in a pool.  Don't waste your money.\", '2015-08-31')\n",
            "('US', 26050402, 'R1PFCOIMT3ND68', 'B00OHD6SLG', 721711830, \"Cool Men's Racer Military Pilot Army Silicone Sports Watch\", 'Watches', 1, 0, 0, 'N', 'Y', 'One Star', 'Lens cracked on the third day', '2015-08-31')\n",
            "('US', 48880662, 'R2G0EK7EUCTDXU', 'B003DIP9BQ', 941077778, \"XOXO Women's XO110 Silver Dial Gold-tone Bracelet Watch\", 'Watches', 5, 0, 0, 'N', 'Y', 'Five Stars', 'very good', '2015-08-31')\n",
            "('US', 13675081, 'RBGAF34UPP636', 'B00L3VGTA0', 667419707, \"Armitron Men's Black Sunray Dial Silvertone Bracelet Watch\", 'Watches', 4, 0, 0, 'N', 'Y', 'My husband like it but he would have liked the dial face ...', \"My husband like it but he would have liked the dial face to be a little smaller. He is not used to the bigger face but getting used to it. The picture product was hard to tell about the dial face and don't think it mention about the dial face being bigger than normal. Besides that everything else is really well made.\", '2015-08-31')\n",
            "('US', 875559, 'R3FVL714L4L8BS', 'B00RCUTIRM', 731342946, \"Akribos XXIV Men's AK787YGBU Quartz Movement Watch with Blue Dial and Yellow Gold Stainless Steel Bracelet\", 'Watches', 5, 0, 0, 'N', 'Y', 'Five Stars', 'Excellent product and seller very good service', '2015-08-31')\n",
            "('US', 4014799, 'R2DOJG0AT3YOK4', 'B00V30U79K', 18936638, 'Topwell Mens Wood watches, Date Time 24hours Wooden watch with Round Multi-Eyed QUARTZ Wrist Watch for Gift', 'Watches', 5, 4, 4, 'N', 'N', 'amazing -- perfect gift', \"This is a very nice watch, i love that it's made of wood but black in color. The face is big and has three silver, decorative yet functional dials. It's extremely lightweight and comfortable to wear. It's so lightweight you could actually forget you're wearing it. The wood is very smooth and the semi-matte finish is very dressy.<br />The links move easily and is worn without catching or squeezing skin/hair. It's easy to adjust so it will fit a variety of  wrist sizesI love that it's water proof because although very dressy it can be worn for every day use.<br />This would make a great gift for any man in your life.<br />I received this product complimentary in exchange for my honest opinion but the opinion expressed is all my own.\", '2015-08-31')\n",
            "('US', 2228523, 'R29HFELXCSF7KD', 'B00STAXIHU', 690763506, \"Fossil Women's ES3822 Georgia Stainless Steel Watch with Blue Leather Band\", 'Watches', 5, 0, 0, 'N', 'Y', 'Five Stars', 'Love. That is pretty much it. Item as described, really beautiful and functional.', '2015-08-31')\n",
            "('US', 16309813, 'R1EZ1QK1I9BD70', 'B00DUW21F2', 87555656, \"Stuhrling Original Men's 574.03 Analog Executive II Stainless Steel Automatic Skeleton Watch with Brown Leather Band\", 'Watches', 5, 0, 0, 'N', 'Y', 'Five Stars', 'husband loves it', '2015-08-31')\n",
            "('US', 45661904, 'R1OXYDAWK2WUJ9', 'B00MO38XL4', 476271516, \"Armitron Sport Women's 25/6422BLK Easy to Read Dial Black Resin Strap Watch\", 'Watches', 5, 0, 0, 'N', 'Y', 'So pretty, strap is so soft', 'So pretty, strap is so soft, easy pliable rubber material. Unfortunately, bezel does not turn. But I recommend this for everyday nursing use.', '2015-08-31')\n",
            "('US', 106740, 'R27YN77RE11XHO', 'B00K8HMHCE', 575505209, \"Swiss Legend Men's 10068-03 Commander II Analog Display Swiss Quartz Blue Watch\", 'Watches', 4, 2, 2, 'N', 'Y', 'but I like it', \"The size and thickness is Huge. the color is eye Popping.The band is durable and ridged . the only problem I have is that it doesn't glow to mush in the dark. but I like it\", '2015-08-31')\n",
            "('US', 42795523, 'RW45AV6JXQPUN', 'B001DK6OKQ', 79293794, \"Stuhrling Original Men's 219.331657 Symphony Eternity Monterey Swiss Quartz Date Watch\", 'Watches', 3, 0, 0, 'N', 'N', 'Three Stars', 'the band broke in first week', '2015-08-31')\n",
            "('US', 10564575, 'R2ISDC90DZMHFM', 'B0094PS284', 842528710, 'LuckyStore 14mm 5X Watch Band Stainless Steel Spring Bars Strap Link Pin Watchmaker New', 'Watches', 5, 0, 0, 'N', 'Y', '14mm watch pin', \"This is exactly what I was looking for!  I fixed my watch band and haven't been happier!  I didn't need 5, but the extra 4 may come in handy.\", '2015-08-31')\n",
            "('US', 2239679, 'R1WVL1E6FMSFR4', 'B00FDLB2S0', 992050854, \"red line Men's RL-50042-YG-01 Stealth Chronograph Black Textured Dial Black Silicone Watch\", 'Watches', 5, 0, 0, 'N', 'Y', 'Five Stars', 'PERFECT', '2015-08-31')\n",
            "('US', 43807131, 'RGQ1YQSNQ3LE5', 'B00EVPMC88', 516415826, 'Seiko Men\\'s SNKL43 \"Seiko 5\" Stainless Steel Automatic Watch', 'Watches', 4, 0, 0, 'N', 'Y', 'Good seiko 5', 'A great automatic, but I give it 4 stars for being too conservative with its small size and the blue is dark and more of a navy color unless light is shining on it and reflecting. Other than that, like all based seiko 5s, it looks great on a Nato strap. I have this bad boy setup on a brown leather strap with a deployable clasp which looks very similar to the Omega Seamaster Aqua Terra. A great watch that can be worn in almost any occasion except when swimming', '2015-08-31')\n",
            "('US', 7189800, 'RE73CRP4JKXW1', 'B00G2R7E3Q', 131804424, \"Invicta Men's 14640 I-Force Analog Display Japanese Quartz Black Watch\", 'Watches', 1, 0, 0, 'N', 'Y', 'Disappointed by the huge size of it', \"Disappointed by the huge size of it, although yes they say in the specs it's a 52&#34; etc...<br />Sent it back. The taxes and p&p cost made me pay for it again.\", '2015-08-31')\n",
            "('US', 15305006, 'R2EQL1V1L6E0C9', 'B004LURNO6', 892860326, 'Nemesis #HST-K Unisex Black Wide Leather Cuff Wrist Watch Band', 'Watches', 5, 0, 0, 'N', 'Y', 'Five Stars', 'Love it', '2015-08-31')\n",
            "('US', 107342, 'RZOQUM3M5CAVH', 'B005OT1POW', 202690497, \"Tommy Hilfiger  Women's 1781145 Sport Stainless Steel  Watch\", 'Watches', 5, 0, 0, 'N', 'Y', 'Five Stars', 'Cool', '2015-08-31')\n",
            "('US', 138028, 'RRJBEIAITDLAQ', 'B007LPRLXG', 973233011, 'GUESS U17531G1 - Bold and Sporty Watch Silver', 'Watches', 2, 0, 0, 'N', 'N', 'i received watch in good condition, however he battery was not working and ...', 'first:<br />i received watch in good condition, however he battery was not working and i changed the battery<br />second:<br />i tried the watch to my hand but unfortunately was not amazing, it is for old ppl more than youth. i am looking to change the model .<br />i dont know if i can change irt from guess agent in Scotland/Edinburgh or not.', '2015-08-31')\n",
            "('US', 52229317, 'R6EMI5RKW73N3', 'B00QK2HAFK', 78116254, \"Armitron Men's 20/5048 Day/Date Function Dial Croco-Grain Leather Strap Watch\", 'Watches', 4, 1, 2, 'Y', 'N', 'Great Watch for the Price', \"This is a good looking men's watch that would go well with most outfits, though it's leather strap pushes it to a more dressy watch. It's a simple watch with a day and date window. It is luminescent on the hour marks but not on the watch hands themselves, which is a little weird.<br /><br />I would be curious to see how long the battery lasts. Aside from the watch band wearing out, that would be the weakest part of this watch in the long term.\", '2015-08-31')\n",
            "('US', 44293218, 'R12NA6QEKA1PRI', 'B003X11UFM', 790174403, \"Stuhrling Original Men's 238.321K43 Ascot Newberry Analog Swiss Quartz Brown Leather Watch\", 'Watches', 3, 3, 3, 'N', 'Y', 'Great looks, medium quality', \"It's a great looking product. One of the best watches I have ever seen. The quality is mediocre but that's alright. Just keep it out of water as much as possible and the leather should hold up alright.\", '2015-08-31')\n",
            "('US', 3669388, 'R2M6EF6NI4VV6I', 'B00A6OEWA4', 985088364, \"AMPM24 Men's Hand-winding Mechanical Watch Black Leather Watchband Skeleton PMW069\", 'Watches', 4, 0, 0, 'N', 'Y', 'Four Stars', 'Good value product', '2015-08-31')\n",
            "('US', 51897929, 'R2H287IH770TN7', 'B006QAX906', 957756572, \"Gotham Men's Silver-Tone Ultra Thin Railroad Open Face Quartz Pocket Watch # GWC15022S\", 'Watches', 5, 0, 0, 'N', 'Y', 'Looks good.', 'Looks good. Not bulky. Keeps good time.', '2015-08-31')\n",
            "('US', 48880662, 'R19SU6JVQQA05B', 'B00BS8U8PU', 132047116, 'Casio Unisex MRW200H-2BV Neo-Display Black Watch with Resin Band', 'Watches', 5, 0, 0, 'N', 'Y', 'Five Stars', 'good', '2015-08-31')\n",
            "('US', 39984561, 'R561PSHO7D095', 'B001F0PTNM', 670846500, \"Hadley-Roma Men's MSM881RB-170 17-mm Brown Oil-Tan Leather Watch Strap\", 'Watches', 5, 0, 0, 'N', 'Y', 'Great leather watch band.', 'This is my 3rd Hadley Roma leather watch band. Others lasted 3+ years. Great quality and design at a good price.', '2015-08-31')\n",
            "('US', 17141249, 'RUITIQHK33YXJ', 'B00Q7DETQU', 763436398, 'Michael Kors Petite Silvertone Darci Watch', 'Watches', 5, 0, 0, 'N', 'Y', 'petite watch - goes great with my engagement ring', 'Gorgeous, petite watch - goes great with my engagement ring ;-)', '2015-08-31')\n",
            "('US', 29140914, 'R21BZGZC61EB1G', 'B00LW3RP0W', 198443125, 'Timex Expedition Rugged Metal Watch', 'Watches', 4, 0, 0, 'N', 'Y', 'Four Stars', 'heavier than expected', '2015-08-31')\n",
            "(None, None, None, None, None, None, None, None, None, None, None, None, None, None, None)\n",
            "('teste', None, 'RBUBNIN234', None, None, None, None, None, None, None, None, None, None, None, None)\n"
          ],
          "name": "stdout"
        }
      ]
    },
    {
      "cell_type": "code",
      "metadata": {
        "id": "mbMFpux2tstP",
        "colab_type": "code",
        "colab": {}
      },
      "source": [
        ""
      ],
      "execution_count": null,
      "outputs": []
    }
  ]
}