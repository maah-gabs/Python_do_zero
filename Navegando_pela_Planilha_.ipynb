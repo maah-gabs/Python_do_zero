{
  "nbformat": 4,
  "nbformat_minor": 0,
  "metadata": {
    "colab": {
      "name": "Navegando pela Planilha. ",
      "provenance": [],
      "authorship_tag": "ABX9TyMUnsH4BL6cC+VA9EDHjkxi",
      "include_colab_link": true
    },
    "kernelspec": {
      "name": "python3",
      "display_name": "Python 3"
    }
  },
  "cells": [
    {
      "cell_type": "markdown",
      "metadata": {
        "id": "view-in-github",
        "colab_type": "text"
      },
      "source": [
        "<a href=\"https://colab.research.google.com/github/maah-gabs/Python_do_zero/blob/master/Navegando_pela_Planilha_.ipynb\" target=\"_parent\"><img src=\"https://colab.research.google.com/assets/colab-badge.svg\" alt=\"Open In Colab\"/></a>"
      ]
    },
    {
      "cell_type": "markdown",
      "metadata": {
        "id": "pldNeZ1oguoa",
        "colab_type": "text"
      },
      "source": [
        "# Módulo 05: Aula 02 - Navegando pela PLanilha. \n",
        "\n",
        "Uma vez que estamos dentro da planillha é muito importante sabermos encontrar e manipular células. Apesar de simples é muito importante. \n",
        "\n",
        "**LEMBRE - SE** de atualizar a biblioteca e carregar os dados via `upload`. O arquivo que será utilizado neste trabalho, será o `controle_de_empresa.xlsx`"
      ]
    },
    {
      "cell_type": "code",
      "metadata": {
        "id": "bXy8QuEMnNPA",
        "colab_type": "code",
        "colab": {
          "base_uri": "https://localhost:8080/",
          "height": 35
        },
        "outputId": "cd6f9578-657b-456e-84df-418e348402bb"
      },
      "source": [
        "# Atualizando o pacote \n",
        "!pip install -U openpyxl -q"
      ],
      "execution_count": 1,
      "outputs": [
        {
          "output_type": "stream",
          "text": [
            "\u001b[?25l\r\u001b[K     |█▍                              | 10kB 22.2MB/s eta 0:00:01\r\u001b[K     |██▊                             | 20kB 1.9MB/s eta 0:00:01\r\u001b[K     |████                            | 30kB 2.4MB/s eta 0:00:01\r\u001b[K     |█████▍                          | 40kB 2.7MB/s eta 0:00:01\r\u001b[K     |██████▊                         | 51kB 2.1MB/s eta 0:00:01\r\u001b[K     |████████                        | 61kB 2.4MB/s eta 0:00:01\r\u001b[K     |█████████▌                      | 71kB 2.7MB/s eta 0:00:01\r\u001b[K     |██████████▉                     | 81kB 2.9MB/s eta 0:00:01\r\u001b[K     |████████████▏                   | 92kB 3.1MB/s eta 0:00:01\r\u001b[K     |█████████████▌                  | 102kB 3.0MB/s eta 0:00:01\r\u001b[K     |██████████████▉                 | 112kB 3.0MB/s eta 0:00:01\r\u001b[K     |████████████████▏               | 122kB 3.0MB/s eta 0:00:01\r\u001b[K     |█████████████████▌              | 133kB 3.0MB/s eta 0:00:01\r\u001b[K     |███████████████████             | 143kB 3.0MB/s eta 0:00:01\r\u001b[K     |████████████████████▎           | 153kB 3.0MB/s eta 0:00:01\r\u001b[K     |█████████████████████▋          | 163kB 3.0MB/s eta 0:00:01\r\u001b[K     |███████████████████████         | 174kB 3.0MB/s eta 0:00:01\r\u001b[K     |████████████████████████▎       | 184kB 3.0MB/s eta 0:00:01\r\u001b[K     |█████████████████████████▋      | 194kB 3.0MB/s eta 0:00:01\r\u001b[K     |███████████████████████████     | 204kB 3.0MB/s eta 0:00:01\r\u001b[K     |████████████████████████████▍   | 215kB 3.0MB/s eta 0:00:01\r\u001b[K     |█████████████████████████████▊  | 225kB 3.0MB/s eta 0:00:01\r\u001b[K     |███████████████████████████████ | 235kB 3.0MB/s eta 0:00:01\r\u001b[K     |████████████████████████████████| 245kB 3.0MB/s \n",
            "\u001b[?25h"
          ],
          "name": "stdout"
        }
      ]
    },
    {
      "cell_type": "code",
      "metadata": {
        "id": "nJcFf8WgnUF3",
        "colab_type": "code",
        "colab": {}
      },
      "source": [
        "# carregando uma planilha \n",
        "from openpyxl import load_workbook \n",
        "\n",
        "workbook = load_workbook(filename = 'controle_da_empresa.xlsx')\n",
        "\n",
        "# Verificando as abas \n",
        "sheet = workbook['Vendas']\n"
      ],
      "execution_count": 2,
      "outputs": []
    },
    {
      "cell_type": "markdown",
      "metadata": {
        "id": "iEZ0T-4ioQsN",
        "colab_type": "text"
      },
      "source": [
        "## Acessando as células \n",
        "\n",
        "Para que você acesse as células de uma planilha, vamos fazer exatamente como fizemos no notebook anterior. "
      ]
    },
    {
      "cell_type": "code",
      "metadata": {
        "id": "wZF2NNNYoqJ_",
        "colab_type": "code",
        "colab": {
          "base_uri": "https://localhost:8080/",
          "height": 54
        },
        "outputId": "a62b4126-8de9-4a59-f20d-5a3d9ff6d833"
      },
      "source": [
        "# Acessando um intervalo \n",
        "sheet['A1:C2']"
      ],
      "execution_count": 4,
      "outputs": [
        {
          "output_type": "execute_result",
          "data": {
            "text/plain": [
              "((<Cell 'Vendas'.A1>, <Cell 'Vendas'.B1>, <Cell 'Vendas'.C1>),\n",
              " (<Cell 'Vendas'.A2>, <Cell 'Vendas'.B2>, <Cell 'Vendas'.C2>))"
            ]
          },
          "metadata": {
            "tags": []
          },
          "execution_count": 4
        }
      ]
    },
    {
      "cell_type": "markdown",
      "metadata": {
        "id": "WiKvJHynpOWq",
        "colab_type": "text"
      },
      "source": [
        "Caso não passemos a linha, ele retornará uma coluna inteira. "
      ]
    },
    {
      "cell_type": "code",
      "metadata": {
        "id": "IGXf-ekXpYaX",
        "colab_type": "code",
        "colab": {
          "base_uri": "https://localhost:8080/",
          "height": 1000
        },
        "outputId": "c1d59a4e-8d79-47cb-ea5c-28bdc27057d0"
      },
      "source": [
        "# Acessando uma coluna \n",
        "sheet['A']"
      ],
      "execution_count": 8,
      "outputs": [
        {
          "output_type": "execute_result",
          "data": {
            "text/plain": [
              "(<Cell 'Vendas'.A1>,\n",
              " <Cell 'Vendas'.A2>,\n",
              " <Cell 'Vendas'.A3>,\n",
              " <Cell 'Vendas'.A4>,\n",
              " <Cell 'Vendas'.A5>,\n",
              " <Cell 'Vendas'.A6>,\n",
              " <Cell 'Vendas'.A7>,\n",
              " <Cell 'Vendas'.A8>,\n",
              " <Cell 'Vendas'.A9>,\n",
              " <Cell 'Vendas'.A10>,\n",
              " <Cell 'Vendas'.A11>,\n",
              " <Cell 'Vendas'.A12>,\n",
              " <Cell 'Vendas'.A13>,\n",
              " <Cell 'Vendas'.A14>,\n",
              " <Cell 'Vendas'.A15>,\n",
              " <Cell 'Vendas'.A16>,\n",
              " <Cell 'Vendas'.A17>,\n",
              " <Cell 'Vendas'.A18>,\n",
              " <Cell 'Vendas'.A19>,\n",
              " <Cell 'Vendas'.A20>,\n",
              " <Cell 'Vendas'.A21>,\n",
              " <Cell 'Vendas'.A22>,\n",
              " <Cell 'Vendas'.A23>,\n",
              " <Cell 'Vendas'.A24>,\n",
              " <Cell 'Vendas'.A25>,\n",
              " <Cell 'Vendas'.A26>,\n",
              " <Cell 'Vendas'.A27>,\n",
              " <Cell 'Vendas'.A28>,\n",
              " <Cell 'Vendas'.A29>,\n",
              " <Cell 'Vendas'.A30>,\n",
              " <Cell 'Vendas'.A31>,\n",
              " <Cell 'Vendas'.A32>,\n",
              " <Cell 'Vendas'.A33>,\n",
              " <Cell 'Vendas'.A34>,\n",
              " <Cell 'Vendas'.A35>,\n",
              " <Cell 'Vendas'.A36>,\n",
              " <Cell 'Vendas'.A37>,\n",
              " <Cell 'Vendas'.A38>,\n",
              " <Cell 'Vendas'.A39>,\n",
              " <Cell 'Vendas'.A40>,\n",
              " <Cell 'Vendas'.A41>,\n",
              " <Cell 'Vendas'.A42>,\n",
              " <Cell 'Vendas'.A43>,\n",
              " <Cell 'Vendas'.A44>,\n",
              " <Cell 'Vendas'.A45>,\n",
              " <Cell 'Vendas'.A46>,\n",
              " <Cell 'Vendas'.A47>,\n",
              " <Cell 'Vendas'.A48>,\n",
              " <Cell 'Vendas'.A49>,\n",
              " <Cell 'Vendas'.A50>,\n",
              " <Cell 'Vendas'.A51>,\n",
              " <Cell 'Vendas'.A52>,\n",
              " <Cell 'Vendas'.A53>,\n",
              " <Cell 'Vendas'.A54>,\n",
              " <Cell 'Vendas'.A55>,\n",
              " <Cell 'Vendas'.A56>,\n",
              " <Cell 'Vendas'.A57>,\n",
              " <Cell 'Vendas'.A58>,\n",
              " <Cell 'Vendas'.A59>,\n",
              " <Cell 'Vendas'.A60>,\n",
              " <Cell 'Vendas'.A61>,\n",
              " <Cell 'Vendas'.A62>,\n",
              " <Cell 'Vendas'.A63>,\n",
              " <Cell 'Vendas'.A64>,\n",
              " <Cell 'Vendas'.A65>,\n",
              " <Cell 'Vendas'.A66>,\n",
              " <Cell 'Vendas'.A67>,\n",
              " <Cell 'Vendas'.A68>,\n",
              " <Cell 'Vendas'.A69>,\n",
              " <Cell 'Vendas'.A70>,\n",
              " <Cell 'Vendas'.A71>,\n",
              " <Cell 'Vendas'.A72>,\n",
              " <Cell 'Vendas'.A73>,\n",
              " <Cell 'Vendas'.A74>,\n",
              " <Cell 'Vendas'.A75>,\n",
              " <Cell 'Vendas'.A76>,\n",
              " <Cell 'Vendas'.A77>,\n",
              " <Cell 'Vendas'.A78>,\n",
              " <Cell 'Vendas'.A79>,\n",
              " <Cell 'Vendas'.A80>,\n",
              " <Cell 'Vendas'.A81>,\n",
              " <Cell 'Vendas'.A82>,\n",
              " <Cell 'Vendas'.A83>,\n",
              " <Cell 'Vendas'.A84>,\n",
              " <Cell 'Vendas'.A85>,\n",
              " <Cell 'Vendas'.A86>,\n",
              " <Cell 'Vendas'.A87>,\n",
              " <Cell 'Vendas'.A88>,\n",
              " <Cell 'Vendas'.A89>,\n",
              " <Cell 'Vendas'.A90>,\n",
              " <Cell 'Vendas'.A91>)"
            ]
          },
          "metadata": {
            "tags": []
          },
          "execution_count": 8
        }
      ]
    },
    {
      "cell_type": "markdown",
      "metadata": {
        "id": "lc6J68BGpu7L",
        "colab_type": "text"
      },
      "source": [
        "Da mesma forma, também podemos passar apenas a linha e como resultado, teremos todas as colunas para aquela linha. "
      ]
    },
    {
      "cell_type": "code",
      "metadata": {
        "id": "tZVMu2fbp6Z8",
        "colab_type": "code",
        "colab": {
          "base_uri": "https://localhost:8080/",
          "height": 127
        },
        "outputId": "d6d0da56-92f3-4457-d372-5fcdf183aaf4"
      },
      "source": [
        "# Acessando uma linha \n",
        "sheet[5]"
      ],
      "execution_count": 9,
      "outputs": [
        {
          "output_type": "execute_result",
          "data": {
            "text/plain": [
              "(<Cell 'Vendas'.A5>,\n",
              " <Cell 'Vendas'.B5>,\n",
              " <Cell 'Vendas'.C5>,\n",
              " <Cell 'Vendas'.D5>,\n",
              " <Cell 'Vendas'.E5>,\n",
              " <Cell 'Vendas'.F5>)"
            ]
          },
          "metadata": {
            "tags": []
          },
          "execution_count": 9
        }
      ]
    },
    {
      "cell_type": "markdown",
      "metadata": {
        "id": "zV5NPny3qs_Q",
        "colab_type": "text"
      },
      "source": [
        "## Iterando sobre planilhas \n",
        "\n",
        "Um forma que fopodemos utilizar para uma estrutura de repetição e nos retornar as células que desejamos. \n",
        "\n",
        "Desta forma, vamos utilizar um loop for e utilzarmos o método `iter_rows`. \n",
        "\n",
        "Aqui, nos podemos passar parametros e definir em que linhas e colunas da qual será feita a iteração. \n",
        "\n",
        "Os valores vão demonstrar onde se inicia a iteração, a máxima e onde vai terminar. "
      ]
    },
    {
      "cell_type": "code",
      "metadata": {
        "id": "bZ0_UA2_rmNq",
        "colab_type": "code",
        "colab": {
          "base_uri": "https://localhost:8080/",
          "height": 90
        },
        "outputId": "ce636c7b-bdaf-4481-e4c6-0f6ce2a05945"
      },
      "source": [
        "# Iterando sobre os dados (linhas)\n",
        "for row in sheet.iter_rows(min_row = 1,\n",
        "                           max_row = 4,\n",
        "                           min_col = 1, \n",
        "                           max_col = 4):\n",
        "  print(row)\n"
      ],
      "execution_count": 16,
      "outputs": [
        {
          "output_type": "stream",
          "text": [
            "(<Cell 'Vendas'.A1>, <Cell 'Vendas'.B1>, <Cell 'Vendas'.C1>, <Cell 'Vendas'.D1>)\n",
            "(<Cell 'Vendas'.A2>, <Cell 'Vendas'.B2>, <Cell 'Vendas'.C2>, <Cell 'Vendas'.D2>)\n",
            "(<Cell 'Vendas'.A3>, <Cell 'Vendas'.B3>, <Cell 'Vendas'.C3>, <Cell 'Vendas'.D3>)\n",
            "(<Cell 'Vendas'.A4>, <Cell 'Vendas'.B4>, <Cell 'Vendas'.C4>, <Cell 'Vendas'.D4>)\n"
          ],
          "name": "stdout"
        }
      ]
    },
    {
      "cell_type": "markdown",
      "metadata": {
        "id": "0dRgc8FgsMle",
        "colab_type": "text"
      },
      "source": [
        "Da mesma forma, conseguimos fazer isso sobre as colunas "
      ]
    },
    {
      "cell_type": "code",
      "metadata": {
        "id": "hsL2yX4rsQKD",
        "colab_type": "code",
        "colab": {
          "base_uri": "https://localhost:8080/",
          "height": 54
        },
        "outputId": "12a65b92-a766-4d48-a114-24ff01425a22"
      },
      "source": [
        "# interando sobre os dados (colunas)\n",
        "for col in sheet.iter_cols(min_row = 1,\n",
        "                           max_row = 2, \n",
        "                           min_col = 1,\n",
        "                           max_col = 2):\n",
        "  print(col)"
      ],
      "execution_count": 12,
      "outputs": [
        {
          "output_type": "stream",
          "text": [
            "(<Cell 'Vendas'.A1>, <Cell 'Vendas'.A2>)\n",
            "(<Cell 'Vendas'.B1>, <Cell 'Vendas'.B2>)\n"
          ],
          "name": "stdout"
        }
      ]
    },
    {
      "cell_type": "markdown",
      "metadata": {
        "id": "ZKbrbO5Is2xC",
        "colab_type": "text"
      },
      "source": [
        "Nas interações que utilizamos acima, estamos recebendo apenas informações sobre as células. Porém, isso não é muito formativo. O principal objetivo e valor dessa planilha, são efetivamente os dados. \n",
        "\n",
        "Para que coletemos os valores que já estão lá, precisamos usar o parametro `values_only` commo `True` para que assim, ele retorne o valor que está contido nas células do intervalo que vamos definir para a iteração. "
      ]
    },
    {
      "cell_type": "code",
      "metadata": {
        "id": "WCUk0uuuui5a",
        "colab_type": "code",
        "colab": {
          "base_uri": "https://localhost:8080/",
          "height": 54
        },
        "outputId": "75bc9066-2c05-4858-b89e-35492ea71dc3"
      },
      "source": [
        "# Iterando sobre os dados \n",
        "for value in sheet.iter_rows(min_row = 1, \n",
        "                             max_row = 2, \n",
        "                             min_col = 1,\n",
        "                             max_col = 2,\n",
        "                             values_only = True):\n",
        "  print(value)"
      ],
      "execution_count": 14,
      "outputs": [
        {
          "output_type": "stream",
          "text": [
            "('Data da Venda', 'Item')\n",
            "(datetime.datetime(2020, 1, 2, 0, 0), 'Lente 50mm f/1.4')\n"
          ],
          "name": "stdout"
        }
      ]
    },
    {
      "cell_type": "code",
      "metadata": {
        "id": "lyfsD8h2u3L7",
        "colab_type": "code",
        "colab": {
          "base_uri": "https://localhost:8080/",
          "height": 1000
        },
        "outputId": "b432672b-33cb-4b01-ea75-7111c05a06d7"
      },
      "source": [
        "# Iterando a planilha inteira\n",
        "for value in sheet.iter_rows(values_only = True):\n",
        "  print(value)"
      ],
      "execution_count": 15,
      "outputs": [
        {
          "output_type": "stream",
          "text": [
            "('Data da Venda', 'Item', 'Quantidade', 'Vendedor', 'Preço Unitário', 'Total de Vendas')\n",
            "(datetime.datetime(2020, 1, 2, 0, 0), 'Lente 50mm f/1.4', 2, 'Carlos', 1649, 3298)\n",
            "(datetime.datetime(2020, 1, 2, 0, 0), 'Filtro ND 5 Stop', 2, 'Raquel', 1220, 2440)\n",
            "(datetime.datetime(2020, 1, 3, 0, 0), 'Filtro ND 5 Stop', 2, 'Raquel', 1220, 2440)\n",
            "(datetime.datetime(2020, 1, 3, 0, 0), 'Lente 16-35mm f/2.8', 2, 'Carlos', 8997, 17994)\n",
            "(datetime.datetime(2020, 1, 4, 0, 0), 'Lente 16-35mm f/2.8', 2, 'Fernanda', 8997, 17994)\n",
            "(datetime.datetime(2020, 1, 4, 0, 0), 'Filtro ND 3 Stop', 1, 'Raquel', 1220, 1220)\n",
            "(datetime.datetime(2020, 1, 4, 0, 0), 'Lente 16-35mm f/2.8', 2, 'Carlos', 8997, 17994)\n",
            "(datetime.datetime(2020, 1, 4, 0, 0), 'DJI Ronin-S', 2, 'Theo', 5790, 11580)\n",
            "(datetime.datetime(2020, 1, 4, 0, 0), 'Lente 16-35mm f/2.8', 2, 'Carlos', 8997, 17994)\n",
            "(datetime.datetime(2020, 1, 5, 0, 0), 'Lente 85mm f/1.4', 2, 'Raquel', 9989, 19978)\n",
            "(datetime.datetime(2020, 1, 5, 0, 0), 'DJI Ronin-S', 2, 'Theo', 5790, 11580)\n",
            "(datetime.datetime(2020, 1, 5, 0, 0), 'DJI Ronin-S', 2, 'Fernanda', 5790, 11580)\n",
            "(datetime.datetime(2020, 1, 6, 0, 0), 'Filtro ND 5 Stop', 1, 'Carlos', 1220, 1220)\n",
            "(datetime.datetime(2020, 1, 7, 0, 0), 'Lente 85mm f/1.4', 2, 'Theo', 9989, 19978)\n",
            "(datetime.datetime(2020, 1, 7, 0, 0), 'Filtro ND 3 Stop', 1, 'Raquel', 1220, 1220)\n",
            "(datetime.datetime(2020, 1, 9, 0, 0), 'Canon 6D Mark II', 1, 'Fernanda', 8500, 8500)\n",
            "(datetime.datetime(2020, 1, 10, 0, 0), 'DJI Mavic Air 2', 2, 'Theo', 13580, 27160)\n",
            "(datetime.datetime(2020, 1, 10, 0, 0), 'Filtro ND 5 Stop', 2, 'Raquel', 1220, 2440)\n",
            "(datetime.datetime(2020, 1, 10, 0, 0), 'Filtro ND 3 Stop', 2, 'Theo', 1220, 2440)\n",
            "(datetime.datetime(2020, 1, 10, 0, 0), 'Lente 16-35mm f/2.8', 1, 'Raquel', 8997, 8997)\n",
            "(datetime.datetime(2020, 1, 10, 0, 0), 'DJI Mavic Air 2', 2, 'Raquel', 13580, 27160)\n",
            "(datetime.datetime(2020, 1, 12, 0, 0), 'Lente 50mm f/1.4', 2, 'Fernanda', 1649, 3298)\n",
            "(datetime.datetime(2020, 1, 12, 0, 0), 'DJI Mavic Air 2', 1, 'Carlos', 13580, 13580)\n",
            "(datetime.datetime(2020, 1, 12, 0, 0), 'Filtro ND 3 Stop', 1, 'Carlos', 1220, 1220)\n",
            "(datetime.datetime(2020, 1, 12, 0, 0), 'Filtro ND 5 Stop', 1, 'Fernanda', 1220, 1220)\n",
            "(datetime.datetime(2020, 1, 13, 0, 0), 'Lente 50mm f/1.4', 1, 'Fernanda', 1649, 1649)\n",
            "(datetime.datetime(2020, 1, 13, 0, 0), 'Canon 5D Mark III', 2, 'Fernanda', 13650, 27300)\n",
            "(datetime.datetime(2020, 1, 13, 0, 0), 'Canon 5D Mark III', 2, 'Fernanda', 13650, 27300)\n",
            "(datetime.datetime(2020, 1, 13, 0, 0), 'Lente 50mm f/1.4', 1, 'Carlos', 1649, 1649)\n",
            "(datetime.datetime(2020, 1, 13, 0, 0), 'DJI Ronin-S', 2, 'Carlos', 5790, 11580)\n",
            "(datetime.datetime(2020, 1, 14, 0, 0), 'Lente 16-35mm f/2.8', 2, 'Carlos', 8997, 17994)\n",
            "(datetime.datetime(2020, 1, 14, 0, 0), 'Filtro ND 5 Stop', 2, 'Theo', 1220, 2440)\n",
            "(datetime.datetime(2020, 1, 15, 0, 0), 'Lente 50mm f/1.4', 2, 'Raquel', 1649, 3298)\n",
            "(datetime.datetime(2020, 1, 15, 0, 0), 'DJI Ronin-S', 1, 'Raquel', 5790, 5790)\n",
            "(datetime.datetime(2020, 1, 15, 0, 0), 'Filtro ND 3 Stop', 2, 'Theo', 1220, 2440)\n",
            "(datetime.datetime(2020, 1, 16, 0, 0), 'Filtro ND 3 Stop', 2, 'Raquel', 1220, 2440)\n",
            "(datetime.datetime(2020, 1, 16, 0, 0), 'DJI Mavic Air 2', 2, 'Fernanda', 13580, 27160)\n",
            "(datetime.datetime(2020, 1, 16, 0, 0), 'Lente 85mm f/1.4', 1, 'Carlos', 9989, 9989)\n",
            "(datetime.datetime(2020, 1, 16, 0, 0), 'Filtro ND 5 Stop', 2, 'Carlos', 1220, 2440)\n",
            "(datetime.datetime(2020, 1, 16, 0, 0), 'Filtro ND 2 Stop', 2, 'Fernanda', 1220, 2440)\n",
            "(datetime.datetime(2020, 1, 16, 0, 0), 'Lente 50mm f/1.4', 2, 'Raquel', 1649, 3298)\n",
            "(datetime.datetime(2020, 1, 19, 0, 0), 'Filtro ND 5 Stop', 1, 'Raquel', 1220, 1220)\n",
            "(datetime.datetime(2020, 1, 19, 0, 0), 'Lente 16-35mm f/2.8', 1, 'Raquel', 8997, 8997)\n",
            "(datetime.datetime(2020, 1, 20, 0, 0), 'Canon 5D Mark III', 1, 'Carlos', 13650, 13650)\n",
            "(datetime.datetime(2020, 1, 20, 0, 0), 'DJI Mavic Air 2', 2, 'Theo', 13580, 27160)\n",
            "(datetime.datetime(2020, 1, 20, 0, 0), 'Canon 5D Mark III', 1, 'Raquel', 13650, 13650)\n",
            "(datetime.datetime(2020, 1, 20, 0, 0), 'Lente 85mm f/1.4', 2, 'Raquel', 9989, 19978)\n",
            "(datetime.datetime(2020, 1, 21, 0, 0), 'Filtro ND 3 Stop', 2, 'Carlos', 1220, 2440)\n",
            "(datetime.datetime(2020, 1, 21, 0, 0), 'Canon 6D Mark II', 2, 'Theo', 8500, 17000)\n",
            "(datetime.datetime(2020, 1, 21, 0, 0), 'Lente 16-35mm f/2.8', 2, 'Fernanda', 8997, 17994)\n",
            "(datetime.datetime(2020, 1, 21, 0, 0), 'DJI Ronin-S', 1, 'Carlos', 5790, 5790)\n",
            "(datetime.datetime(2020, 1, 21, 0, 0), 'Filtro ND 3 Stop', 2, 'Raquel', 1220, 2440)\n",
            "(datetime.datetime(2020, 1, 23, 0, 0), 'Canon 6D Mark II', 2, 'Carlos', 8500, 17000)\n",
            "(datetime.datetime(2020, 1, 23, 0, 0), 'DJI Mavic Air 2', 1, 'Carlos', 13580, 13580)\n",
            "(datetime.datetime(2020, 1, 23, 0, 0), 'Filtro ND 5 Stop', 2, 'Fernanda', 1220, 2440)\n",
            "(datetime.datetime(2020, 1, 23, 0, 0), 'Lente 50mm f/1.4', 1, 'Raquel', 1649, 1649)\n",
            "(datetime.datetime(2020, 1, 23, 0, 0), 'Filtro ND 3 Stop', 1, 'Carlos', 1220, 1220)\n",
            "(datetime.datetime(2020, 1, 23, 0, 0), 'Lente 16-35mm f/2.8', 1, 'Fernanda', 8997, 8997)\n",
            "(datetime.datetime(2020, 1, 23, 0, 0), 'Canon 5D Mark III', 2, 'Theo', 13650, 27300)\n",
            "(datetime.datetime(2020, 1, 24, 0, 0), 'Filtro ND 5 Stop', 1, 'Carlos', 1220, 1220)\n",
            "(datetime.datetime(2020, 1, 24, 0, 0), 'Filtro ND 2 Stop', 2, 'Raquel', 1220, 2440)\n",
            "(datetime.datetime(2020, 1, 24, 0, 0), 'Lente 50mm f/1.4', 1, 'Carlos', 1649, 1649)\n",
            "(datetime.datetime(2020, 1, 25, 0, 0), 'Lente 16-35mm f/2.8', 1, 'Raquel', 8997, 8997)\n",
            "(datetime.datetime(2020, 1, 25, 0, 0), 'Filtro ND 5 Stop', 1, 'Fernanda', 1220, 1220)\n",
            "(datetime.datetime(2020, 1, 25, 0, 0), 'Lente 16-35mm f/2.8', 1, 'Theo', 8997, 8997)\n",
            "(datetime.datetime(2020, 1, 25, 0, 0), 'Lente 50mm f/1.4', 1, 'Raquel', 1649, 1649)\n",
            "(datetime.datetime(2020, 1, 25, 0, 0), 'Lente 85mm f/1.4', 2, 'Theo', 9989, 19978)\n",
            "(datetime.datetime(2020, 1, 26, 0, 0), 'Filtro ND 2 Stop', 1, 'Theo', 1220, 1220)\n",
            "(datetime.datetime(2020, 1, 26, 0, 0), 'Canon 5D Mark III', 1, 'Raquel', 13650, 13650)\n",
            "(datetime.datetime(2020, 1, 26, 0, 0), 'Canon 6D Mark II', 1, 'Carlos', 8500, 8500)\n",
            "(datetime.datetime(2020, 1, 26, 0, 0), 'Lente 50mm f/1.4', 1, 'Theo', 1649, 1649)\n",
            "(datetime.datetime(2020, 1, 27, 0, 0), 'Lente 85mm f/1.4', 1, 'Raquel', 9989, 9989)\n",
            "(datetime.datetime(2020, 1, 27, 0, 0), 'Canon 6D Mark II', 2, 'Fernanda', 8500, 17000)\n",
            "(datetime.datetime(2020, 1, 27, 0, 0), 'Filtro ND 2 Stop', 1, 'Carlos', 1220, 1220)\n",
            "(datetime.datetime(2020, 1, 28, 0, 0), 'Canon 5D Mark III', 1, 'Fernanda', 13650, 13650)\n",
            "(datetime.datetime(2020, 1, 28, 0, 0), 'Canon 6D Mark II', 1, 'Theo', 8500, 8500)\n",
            "(datetime.datetime(2020, 1, 28, 0, 0), 'DJI Mavic Air 2', 2, 'Theo', 13580, 27160)\n",
            "(datetime.datetime(2020, 1, 28, 0, 0), 'Canon 6D Mark II', 1, 'Carlos', 8500, 8500)\n",
            "(datetime.datetime(2020, 1, 28, 0, 0), 'Filtro ND 2 Stop', 1, 'Raquel', 1220, 1220)\n",
            "(datetime.datetime(2020, 1, 28, 0, 0), 'Canon 5D Mark III', 2, 'Theo', 13650, 27300)\n",
            "(datetime.datetime(2020, 1, 28, 0, 0), 'DJI Mavic Air 2', 1, 'Carlos', 13580, 13580)\n",
            "(datetime.datetime(2020, 1, 28, 0, 0), 'Filtro ND 5 Stop', 2, 'Raquel', 1220, 2440)\n",
            "(datetime.datetime(2020, 1, 28, 0, 0), 'Filtro ND 3 Stop', 1, 'Raquel', 1220, 1220)\n",
            "(datetime.datetime(2020, 1, 29, 0, 0), 'DJI Ronin-S', 2, 'Fernanda', 5790, 11580)\n",
            "(datetime.datetime(2020, 1, 29, 0, 0), 'Canon 6D Mark II', 1, 'Theo', 8500, 8500)\n",
            "(datetime.datetime(2020, 1, 29, 0, 0), 'Filtro ND 5 Stop', 2, 'Theo', 1220, 2440)\n",
            "(datetime.datetime(2020, 1, 29, 0, 0), 'Lente 16-35mm f/2.8', 2, 'Theo', 8997, 17994)\n",
            "(datetime.datetime(2020, 1, 29, 0, 0), 'Filtro ND 2 Stop', 1, 'Fernanda', 1220, 1220)\n",
            "(datetime.datetime(2020, 1, 30, 0, 0), 'Filtro ND 3 Stop', 2, 'Fernanda', 1220, 2440)\n",
            "(datetime.datetime(2020, 1, 30, 0, 0), 'Filtro ND 5 Stop', 2, 'Raquel', 1220, 2440)\n"
          ],
          "name": "stdout"
        }
      ]
    },
    {
      "cell_type": "code",
      "metadata": {
        "id": "wZMbua2ZvPAZ",
        "colab_type": "code",
        "colab": {}
      },
      "source": [
        ""
      ],
      "execution_count": null,
      "outputs": []
    }
  ]
}