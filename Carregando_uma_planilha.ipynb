{
  "nbformat": 4,
  "nbformat_minor": 0,
  "metadata": {
    "colab": {
      "name": "Carregando uma planilha ",
      "provenance": [],
      "authorship_tag": "ABX9TyMBCDDEU3AGrrxSkS5TztMP",
      "include_colab_link": true
    },
    "kernelspec": {
      "name": "python3",
      "display_name": "Python 3"
    }
  },
  "cells": [
    {
      "cell_type": "markdown",
      "metadata": {
        "id": "view-in-github",
        "colab_type": "text"
      },
      "source": [
        "<a href=\"https://colab.research.google.com/github/maah-gabs/Python_do_zero/blob/master/Carregando_uma_planilha.ipynb\" target=\"_parent\"><img src=\"https://colab.research.google.com/assets/colab-badge.svg\" alt=\"Open In Colab\"/></a>"
      ]
    },
    {
      "cell_type": "markdown",
      "metadata": {
        "id": "SV0pA23hbWo9",
        "colab_type": "text"
      },
      "source": [
        "# Módulo 05: Dominando planilha de Excel - Aula 01: Carregando uma planilha \n",
        "\n",
        "A biblioteca `openpyxl` permitirá que seja feito com muita facilidade a formatação de arquivos em formato `xlsx` do Microsoft Excel. Essa consiste em uma habilidade muito importante em consequencia no amplo uso de ferramentas no ambiente profissional. \n",
        "\n",
        "Essa biblioteca está instalada no Colab, porém a versão está desatualizada e ela não nos oferece suporte para tudo qe vamos realizar. Sendo assim, toda vez que você for usar o notebook em que irá utilizar a ferramenta é importante que o pacote rode no notebook. \n",
        "\n",
        "`!pip install -U openpyxl -q`\n",
        "\n",
        "\n",
        "\n"
      ]
    },
    {
      "cell_type": "code",
      "metadata": {
        "id": "wB3mb7z2dTwC",
        "colab_type": "code",
        "colab": {
          "base_uri": "https://localhost:8080/",
          "height": 35
        },
        "outputId": "57251881-915f-48f8-e754-edf1edb16064"
      },
      "source": [
        "# Atualizando o pacote\n",
        "!pip install -U openpyxl -q"
      ],
      "execution_count": 1,
      "outputs": [
        {
          "output_type": "stream",
          "text": [
            "\u001b[?25l\r\u001b[K     |█▍                              | 10kB 17.8MB/s eta 0:00:01\r\u001b[K     |██▊                             | 20kB 1.7MB/s eta 0:00:01\r\u001b[K     |████                            | 30kB 2.2MB/s eta 0:00:01\r\u001b[K     |█████▍                          | 40kB 2.5MB/s eta 0:00:01\r\u001b[K     |██████▊                         | 51kB 1.9MB/s eta 0:00:01\r\u001b[K     |████████                        | 61kB 2.2MB/s eta 0:00:01\r\u001b[K     |█████████▌                      | 71kB 2.4MB/s eta 0:00:01\r\u001b[K     |██████████▉                     | 81kB 2.7MB/s eta 0:00:01\r\u001b[K     |████████████▏                   | 92kB 2.7MB/s eta 0:00:01\r\u001b[K     |█████████████▌                  | 102kB 2.7MB/s eta 0:00:01\r\u001b[K     |██████████████▉                 | 112kB 2.7MB/s eta 0:00:01\r\u001b[K     |████████████████▏               | 122kB 2.7MB/s eta 0:00:01\r\u001b[K     |█████████████████▌              | 133kB 2.7MB/s eta 0:00:01\r\u001b[K     |███████████████████             | 143kB 2.7MB/s eta 0:00:01\r\u001b[K     |████████████████████▎           | 153kB 2.7MB/s eta 0:00:01\r\u001b[K     |█████████████████████▋          | 163kB 2.7MB/s eta 0:00:01\r\u001b[K     |███████████████████████         | 174kB 2.7MB/s eta 0:00:01\r\u001b[K     |████████████████████████▎       | 184kB 2.7MB/s eta 0:00:01\r\u001b[K     |█████████████████████████▋      | 194kB 2.7MB/s eta 0:00:01\r\u001b[K     |███████████████████████████     | 204kB 2.7MB/s eta 0:00:01\r\u001b[K     |████████████████████████████▍   | 215kB 2.7MB/s eta 0:00:01\r\u001b[K     |█████████████████████████████▊  | 225kB 2.7MB/s eta 0:00:01\r\u001b[K     |███████████████████████████████ | 235kB 2.7MB/s eta 0:00:01\r\u001b[K     |████████████████████████████████| 245kB 2.7MB/s \n",
            "\u001b[?25h"
          ],
          "name": "stdout"
        }
      ]
    },
    {
      "cell_type": "markdown",
      "metadata": {
        "id": "FnuN24p7dseg",
        "colab_type": "text"
      },
      "source": [
        "## Criando uma Planilha \n",
        "\n",
        "Aqui, vamos entender o funcionamento da nomenclatura. Inicialmente, vamos criar um objeto do tipo Workbook e associa - lá á variável `workbook.`\n",
        "\n",
        "Dentro de um workbook, utilizamos diferentes sheets (abas). Mesmo sabendo que sheets significa planilha, na biblioteca uilizaremos isso como as **abas**. \n",
        "\n",
        "Sempre é necessário definir qual aba será ativada e utilizada. Passando somente o padrão *active*, abrindo a primeira aba "
      ]
    },
    {
      "cell_type": "code",
      "metadata": {
        "id": "31gOWrd6fhdY",
        "colab_type": "code",
        "colab": {}
      },
      "source": [
        "# Importando a lib\n",
        "from openpyxl import Workbook \n",
        "\n",
        "#criando o workbook / planilha \n",
        "workbook = Workbook()\n",
        "\n",
        "#selecionando a aba\n",
        "sheet = workbook.active"
      ],
      "execution_count": 2,
      "outputs": []
    },
    {
      "cell_type": "code",
      "metadata": {
        "id": "ME4J_VZ6f0Rd",
        "colab_type": "code",
        "colab": {
          "base_uri": "https://localhost:8080/",
          "height": 35
        },
        "outputId": "50b45de7-ca5d-4e8f-c47d-0b4f24b2e3a2"
      },
      "source": [
        "# Verificando o tipo do Workbook \n",
        "type(workbook)"
      ],
      "execution_count": 3,
      "outputs": [
        {
          "output_type": "execute_result",
          "data": {
            "text/plain": [
              "openpyxl.workbook.workbook.Workbook"
            ]
          },
          "metadata": {
            "tags": []
          },
          "execution_count": 3
        }
      ]
    },
    {
      "cell_type": "code",
      "metadata": {
        "id": "D_qCmtcmf6rd",
        "colab_type": "code",
        "colab": {
          "base_uri": "https://localhost:8080/",
          "height": 35
        },
        "outputId": "88dc75f7-c671-47c9-9022-ad2885205ea0"
      },
      "source": [
        "# Verificando o tipo da aba \n",
        "type(sheet)"
      ],
      "execution_count": 4,
      "outputs": [
        {
          "output_type": "execute_result",
          "data": {
            "text/plain": [
              "openpyxl.worksheet.worksheet.Worksheet"
            ]
          },
          "metadata": {
            "tags": []
          },
          "execution_count": 4
        }
      ]
    },
    {
      "cell_type": "markdown",
      "metadata": {
        "id": "N0KA00s1gJHy",
        "colab_type": "text"
      },
      "source": [
        "## Escrevendo na Planilha \n",
        "\n",
        "Agora que estamos dentro da aba, dentro da planilha, vamos acessa - las e associar valores a elas. "
      ]
    },
    {
      "cell_type": "code",
      "metadata": {
        "id": "cS1rbLz2gp-E",
        "colab_type": "code",
        "colab": {
          "base_uri": "https://localhost:8080/",
          "height": 35
        },
        "outputId": "c2ad1f5d-f295-4849-9695-bfbcda2311f3"
      },
      "source": [
        "# abas vazias \n",
        "sheet"
      ],
      "execution_count": 5,
      "outputs": [
        {
          "output_type": "execute_result",
          "data": {
            "text/plain": [
              "<Worksheet \"Sheet\">"
            ]
          },
          "metadata": {
            "tags": []
          },
          "execution_count": 5
        }
      ]
    },
    {
      "cell_type": "code",
      "metadata": {
        "id": "RtxSA7MHgsPA",
        "colab_type": "code",
        "colab": {}
      },
      "source": [
        "# acessando as células A1 e B1 e associando valores a ela. \n",
        "sheet['A1'] = 'hello'\n",
        "sheet['B1'] = 'world'\n",
        "\n",
        "# Para salvar as alterações, utilizar o comando abaixo \n",
        "workbook.save(filename = 'helloworld.xlsx')"
      ],
      "execution_count": 7,
      "outputs": []
    },
    {
      "cell_type": "markdown",
      "metadata": {
        "id": "rHF3mX3ejFji",
        "colab_type": "text"
      },
      "source": [
        "## Carregando planilhas \n",
        "\n",
        "Além da criação de planilhas, também somos capazes de acessar aquelas que já foram criadas previamente. Vamos fazer o upload da planilha que está sendo disponibilizada. Utilizamos a planilha controle_de_empresa. \n",
        "\n",
        "Neste momento, utilizaremos um outro módulo da lib openpyxl, que se chama `load_workbook`"
      ]
    },
    {
      "cell_type": "code",
      "metadata": {
        "id": "gw-aPkuQkH37",
        "colab_type": "code",
        "colab": {
          "base_uri": "https://localhost:8080/",
          "height": 35
        },
        "outputId": "309196ee-691e-4dff-e47d-0f0a1f2442f3"
      },
      "source": [
        "# Carregando uma planilha \n",
        "from openpyxl import load_workbook\n",
        "\n",
        "#carregando o arquivo \n",
        "workbook = load_workbook (filename = 'controle_da_empresa.xlsx')\n",
        "\n",
        "#verificando as abas \n",
        "workbook.sheetnames"
      ],
      "execution_count": 14,
      "outputs": [
        {
          "output_type": "execute_result",
          "data": {
            "text/plain": [
              "['Estoque', 'Vendas', 'Funcionários']"
            ]
          },
          "metadata": {
            "tags": []
          },
          "execution_count": 14
        }
      ]
    },
    {
      "cell_type": "markdown",
      "metadata": {
        "id": "dF_i4oPKl7n8",
        "colab_type": "text"
      },
      "source": [
        "A planilha em questão, que carregamos acima, tem 3 abas: [Estoque], [Vendas], [Funcionários]. Abaixo, a gente utilizará o comando abaixo para selecionar uma planilha em específico que nos auxiliará. "
      ]
    },
    {
      "cell_type": "code",
      "metadata": {
        "id": "QOzYNz4ImR65",
        "colab_type": "code",
        "colab": {
          "base_uri": "https://localhost:8080/",
          "height": 36
        },
        "outputId": "e2acc85b-bbd6-4403-bae9-9881d9cc248e"
      },
      "source": [
        "# Selecionando uma aba ativa \n",
        "sheet = workbook['Vendas']\n",
        "\n",
        "# Verificando a aba aberta \n",
        "sheet.title"
      ],
      "execution_count": 15,
      "outputs": [
        {
          "output_type": "execute_result",
          "data": {
            "application/vnd.google.colaboratory.intrinsic+json": {
              "type": "string"
            },
            "text/plain": [
              "'Vendas'"
            ]
          },
          "metadata": {
            "tags": []
          },
          "execution_count": 15
        }
      ]
    },
    {
      "cell_type": "markdown",
      "metadata": {
        "id": "8K0tVoApmnhR",
        "colab_type": "text"
      },
      "source": [
        "## Acessando células \n",
        "\n",
        "Para acessar uma célula, basta utilizar o comando abaixo. Lembre - se que é necessário passar o método que você utilizará. "
      ]
    },
    {
      "cell_type": "code",
      "metadata": {
        "id": "MA0zvbKRmzgz",
        "colab_type": "code",
        "colab": {
          "base_uri": "https://localhost:8080/",
          "height": 35
        },
        "outputId": "e39f2756-c57e-4fa8-b698-55b68675a3fd"
      },
      "source": [
        "# acessando as células \n",
        "sheet['F10'].value"
      ],
      "execution_count": 16,
      "outputs": [
        {
          "output_type": "execute_result",
          "data": {
            "text/plain": [
              "17994"
            ]
          },
          "metadata": {
            "tags": []
          },
          "execution_count": 16
        }
      ]
    },
    {
      "cell_type": "markdown",
      "metadata": {
        "id": "IoETcHMVnDjz",
        "colab_type": "text"
      },
      "source": [
        "Para acessar a célula, também temos uma outra forma ue é feito pelo método cell, passando a linha pela coluna. **ATENÇÃO** **O index do excel começa em 1, diferente do Python que começa em 0**."
      ]
    },
    {
      "cell_type": "code",
      "metadata": {
        "id": "Eq2hIQK0nYA3",
        "colab_type": "code",
        "colab": {
          "base_uri": "https://localhost:8080/",
          "height": 35
        },
        "outputId": "7c3ee11c-9f3b-4104-810c-0f7c08662999"
      },
      "source": [
        "# Acessando as células \n",
        "sheet.cell(row=10, column=6).value # linha x coluna"
      ],
      "execution_count": 19,
      "outputs": [
        {
          "output_type": "execute_result",
          "data": {
            "text/plain": [
              "17994"
            ]
          },
          "metadata": {
            "tags": []
          },
          "execution_count": 19
        }
      ]
    },
    {
      "cell_type": "markdown",
      "metadata": {
        "id": "JOBFFoT0oe8Y",
        "colab_type": "text"
      },
      "source": [
        "A função `load_workbook` recebe algumas funções, que são: \n",
        "\n",
        "* `read_only` vem por padrão como `False`, nos possibilitando a manipulação dos dados. \n",
        "\n",
        "* `data_only` também vem como padrão o argumento `False`. Caso isso seja `True` o que irá retornar é apenas o **valor da fórmula** sem apresentar a mesma. "
      ]
    },
    {
      "cell_type": "code",
      "metadata": {
        "id": "-Hw7VnjWpolW",
        "colab_type": "code",
        "colab": {}
      },
      "source": [
        "# Adicionar os parenteses e verifique a doc string para ver os argumentos \n",
        "workbook2 = load_workbook(read_only=True, data_only=True)"
      ],
      "execution_count": null,
      "outputs": []
    }
  ]
}