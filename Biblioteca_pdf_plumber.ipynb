{
  "nbformat": 4,
  "nbformat_minor": 0,
  "metadata": {
    "colab": {
      "name": "Biblioteca pdf_plumber",
      "provenance": [],
      "authorship_tag": "ABX9TyMFp+DCQzKgt4C+JYEEey9l",
      "include_colab_link": true
    },
    "kernelspec": {
      "name": "python3",
      "display_name": "Python 3"
    }
  },
  "cells": [
    {
      "cell_type": "markdown",
      "metadata": {
        "id": "view-in-github",
        "colab_type": "text"
      },
      "source": [
        "<a href=\"https://colab.research.google.com/github/maah-gabs/Python_do_zero/blob/master/Biblioteca_pdf_plumber.ipynb\" target=\"_parent\"><img src=\"https://colab.research.google.com/assets/colab-badge.svg\" alt=\"Open In Colab\"/></a>"
      ]
    },
    {
      "cell_type": "markdown",
      "metadata": {
        "id": "4UhM1MsDcOeI",
        "colab_type": "text"
      },
      "source": [
        "### Módulo 02: Aula 6 - Extraindo informações de PDF's. \n",
        "\n",
        "Nesta aula, aprenderemos a usar a biblioteca **pdf plumber.**\n",
        "Muitas ações do nosso dia a dia estão ligadas a arquivos pdf, certo? Com a biblioteca Plumber nós seremos capazes de: criar, editar, acessar e compartilhar arquivos nesse formato. "
      ]
    },
    {
      "cell_type": "markdown",
      "metadata": {
        "id": "jmkRxS0xdAT5",
        "colab_type": "text"
      },
      "source": [
        "## Biblioteca PDF Plumber. \n",
        "\n",
        "Essa biblioteca em Python, consiste em um \"auxilio\" para manipular uma grande gama de funções em arquivos pdf. Foi disponibilizado um material de apoio que você deverá baixar para podermos treiná - lo com ele aqui. \n",
        "\n",
        "Lembre -se que essa biblioteca não é uma biblioteca instalada no Python, desta forma, precisamos instaa - la. Sendo assim, utilizaremos o gerenciador de pacotes `pip` e com o comando `install` vamos instalar a biblioteca. "
      ]
    },
    {
      "cell_type": "code",
      "metadata": {
        "id": "jvxDg3Kmeh79",
        "colab_type": "code",
        "colab": {
          "base_uri": "https://localhost:8080/",
          "height": 423
        },
        "outputId": "a4b1bd68-0d61-4e9d-b8ba-663b2dc2e232"
      },
      "source": [
        "# Instalando a biblioteca \n",
        "!pip install pdfplumber"
      ],
      "execution_count": 1,
      "outputs": [
        {
          "output_type": "stream",
          "text": [
            "Collecting pdfplumber\n",
            "  Downloading https://files.pythonhosted.org/packages/2c/06/eb883f00ea3d78a2f860c593645498c39120f763d30b099cc98c4392b312/pdfplumber-0.5.23.tar.gz\n",
            "Collecting pdfminer.six==20200517\n",
            "\u001b[?25l  Downloading https://files.pythonhosted.org/packages/b0/c0/ef1c8758bbd86edb10b5443700aac97d0ba27a9ca2e7696db8cd1fdbd5a8/pdfminer.six-20200517-py3-none-any.whl (5.6MB)\n",
            "\u001b[K     |████████████████████████████████| 5.6MB 4.7MB/s \n",
            "\u001b[?25hRequirement already satisfied: Pillow>=7.0.0 in /usr/local/lib/python3.6/dist-packages (from pdfplumber) (7.0.0)\n",
            "Collecting Wand\n",
            "\u001b[?25l  Downloading https://files.pythonhosted.org/packages/82/e4/d00cdc270cad06a2dd2d3095ffe0f6541d69104db504c4e94de805e3c6e0/Wand-0.6.2-py2.py3-none-any.whl (130kB)\n",
            "\u001b[K     |████████████████████████████████| 133kB 44.8MB/s \n",
            "\u001b[?25hRequirement already satisfied: chardet; python_version > \"3.0\" in /usr/local/lib/python3.6/dist-packages (from pdfminer.six==20200517->pdfplumber) (3.0.4)\n",
            "Requirement already satisfied: sortedcontainers in /usr/local/lib/python3.6/dist-packages (from pdfminer.six==20200517->pdfplumber) (2.2.2)\n",
            "Collecting pycryptodome\n",
            "\u001b[?25l  Downloading https://files.pythonhosted.org/packages/17/55/17fa0b55849dc135f7bc400993a9206bf06d1b5d9520b0bc8d47c57aaef5/pycryptodome-3.9.8-cp36-cp36m-manylinux1_x86_64.whl (13.7MB)\n",
            "\u001b[K     |████████████████████████████████| 13.7MB 304kB/s \n",
            "\u001b[?25hBuilding wheels for collected packages: pdfplumber\n",
            "  Building wheel for pdfplumber (setup.py) ... \u001b[?25l\u001b[?25hdone\n",
            "  Created wheel for pdfplumber: filename=pdfplumber-0.5.23-cp36-none-any.whl size=29176 sha256=342c7a095d1b62c4c11ab5c96a662bdcc6c3497b8978278ddec8912f639e63c9\n",
            "  Stored in directory: /root/.cache/pip/wheels/f6/4d/ae/abb7b92fbed5d09a835c259f26d2a3223ea929a0ad6d322097\n",
            "Successfully built pdfplumber\n",
            "Installing collected packages: pycryptodome, pdfminer.six, Wand, pdfplumber\n",
            "Successfully installed Wand-0.6.2 pdfminer.six-20200517 pdfplumber-0.5.23 pycryptodome-3.9.8\n"
          ],
          "name": "stdout"
        }
      ]
    },
    {
      "cell_type": "markdown",
      "metadata": {
        "id": "ZNyUn15DfBf1",
        "colab_type": "text"
      },
      "source": [
        "Desta, forma com a biblioteca já instalada, agora é só fazer a importação e iniciar o seu uso. Nesta aula também importaremos a biblioteca `OS` para que sejamos capazes de manipular os arquivos, e o `drive` para acessarmos o *google drive.* "
      ]
    },
    {
      "cell_type": "code",
      "metadata": {
        "id": "otA0rPVWfnEx",
        "colab_type": "code",
        "colab": {}
      },
      "source": [
        "#Importando os pacotes necessários \n",
        "import pdfplumber\n",
        "import os\n",
        "from google.colab import drive"
      ],
      "execution_count": 6,
      "outputs": []
    },
    {
      "cell_type": "markdown",
      "metadata": {
        "id": "h-gvT3axfzcp",
        "colab_type": "text"
      },
      "source": [
        "Agora, montaremos o nosso drive e buscaremos por arquivos. "
      ]
    },
    {
      "cell_type": "code",
      "metadata": {
        "id": "6I9tQYLTgKES",
        "colab_type": "code",
        "colab": {
          "base_uri": "https://localhost:8080/",
          "height": 35
        },
        "outputId": "d459a1bb-200a-4b6f-95c2-974f7b793d37"
      },
      "source": [
        "#Montando o google drive \n",
        "drive.mount('/content/gdrive')"
      ],
      "execution_count": 5,
      "outputs": [
        {
          "output_type": "stream",
          "text": [
            "Mounted at /content/gdrive\n"
          ],
          "name": "stdout"
        }
      ]
    },
    {
      "cell_type": "code",
      "metadata": {
        "id": "gurfeEOyigxu",
        "colab_type": "code",
        "colab": {
          "base_uri": "https://localhost:8080/",
          "height": 35
        },
        "outputId": "3274de28-9561-4a06-9bab-f340fdfea69c"
      },
      "source": [
        "#verificando o conteudo do drive \n",
        "!ls '/content/gdrive/My Drive'"
      ],
      "execution_count": 7,
      "outputs": [
        {
          "output_type": "stream",
          "text": [
            "'Colab Notebooks'   modelo_de_relatorio.pdf  'Modulo 02'   Untitled0.ipynb\n"
          ],
          "name": "stdout"
        }
      ]
    },
    {
      "cell_type": "markdown",
      "metadata": {
        "id": "1j7vd6vThthV",
        "colab_type": "text"
      },
      "source": [
        "##pdfplumber.open ( ) \n",
        "\n",
        "Agora que os primeiros passos foram feitos: importando bibliotecas e montando o seu google drive no ambiente colab. Vamos associar o documento a uma variável que pode ser facilmente acessada depois. Neste caso, utlizaremos o comando `pdfplumber.open ('caminho/do/meu/arquivo )`.  "
      ]
    },
    {
      "cell_type": "code",
      "metadata": {
        "id": "d2OUhQQnihdQ",
        "colab_type": "code",
        "colab": {}
      },
      "source": [
        "#abrindo o documento \n",
        "pdf = pdfplumber.open('/content/gdrive/My Drive/modelo_de_relatorio.pdf')"
      ],
      "execution_count": 8,
      "outputs": []
    },
    {
      "cell_type": "markdown",
      "metadata": {
        "id": "X3U-il5NjZE6",
        "colab_type": "text"
      },
      "source": [
        "##pages\n",
        "\n",
        "Quando vamos iniciar uma manipulação de arquivos, sempre precisamos especificar qual a página que utilizaremos. \n",
        "Para acessar o número de páginas existentes em um arquivo, utilizaremos a função `pages.` Ao executar, o código retornará uma lista com as páginas do arquivo. "
      ]
    },
    {
      "cell_type": "code",
      "metadata": {
        "id": "DIzq_-WcnJM_",
        "colab_type": "code",
        "colab": {
          "base_uri": "https://localhost:8080/",
          "height": 35
        },
        "outputId": "f8248219-6869-4add-ed1d-5d19e66142aa"
      },
      "source": [
        "#Ver o número de páginas do pdf:\n",
        "pdf.pages"
      ],
      "execution_count": 9,
      "outputs": [
        {
          "output_type": "execute_result",
          "data": {
            "text/plain": [
              "[<Page:1>, <Page:2>, <Page:3>]"
            ]
          },
          "metadata": {
            "tags": []
          },
          "execution_count": 9
        }
      ]
    },
    {
      "cell_type": "markdown",
      "metadata": {
        "id": "JsApNhArnTQ5",
        "colab_type": "text"
      },
      "source": [
        "Como resultado da execução do código, ele nos retornou que o pdf em questão tem 3 paginas. \n",
        "\n",
        "Vamos supor que eu queira acessar uma página em específico do meu documento, como fazemos? \n",
        "\n",
        "* Page 1: `pdf.pages[0];`\n",
        "* Page 2: `pdf.pages[1];`\n",
        "* Page 3: `pdf.pages[2];`"
      ]
    },
    {
      "cell_type": "code",
      "metadata": {
        "id": "qOdFUayRoEfH",
        "colab_type": "code",
        "colab": {
          "base_uri": "https://localhost:8080/",
          "height": 35
        },
        "outputId": "511a5e0e-9078-44ed-86b3-5419a996131a"
      },
      "source": [
        "#acessar página 1\n",
        "pdf.pages[0]"
      ],
      "execution_count": 10,
      "outputs": [
        {
          "output_type": "execute_result",
          "data": {
            "text/plain": [
              "<Page:1>"
            ]
          },
          "metadata": {
            "tags": []
          },
          "execution_count": 10
        }
      ]
    },
    {
      "cell_type": "markdown",
      "metadata": {
        "id": "KwCjMGWhooFD",
        "colab_type": "text"
      },
      "source": [
        "No exemplo que estamos utilizando nesta aula, o arquivo apresenta 3 páginas certo?. Porém, quando estamos lidando com arquivos com apenas 1 pagina. Lembre - se que é necessário acessa - la utilizando `pdf.pages[0]`."
      ]
    },
    {
      "cell_type": "code",
      "metadata": {
        "id": "eBcxufTPpf7V",
        "colab_type": "code",
        "colab": {
          "base_uri": "https://localhost:8080/",
          "height": 35
        },
        "outputId": "316fb65a-b084-4cb3-f478-bdad765b2b87"
      },
      "source": [
        "#Selecionando uma página \n",
        "page = pdf.pages[0]\n",
        "page"
      ],
      "execution_count": 11,
      "outputs": [
        {
          "output_type": "execute_result",
          "data": {
            "text/plain": [
              "<Page:1>"
            ]
          },
          "metadata": {
            "tags": []
          },
          "execution_count": 11
        }
      ]
    },
    {
      "cell_type": "markdown",
      "metadata": {
        "id": "XVL8mGH8qUI6",
        "colab_type": "text"
      },
      "source": [
        "##Metadata\n",
        "\n",
        "Os metadados consistem em formas simples, são definidos como dados sobre outros dados. No caso do arquivo em questão, eles são dados sobre o nosso arquivo, como autor, data de criação, palavras chave, título e etc. Para extrair essas informações dos nossos arquivos com facilidade, usaremos a função `metadata` do *pdfplumber.*"
      ]
    },
    {
      "cell_type": "code",
      "metadata": {
        "id": "cjMUcX1cqwzi",
        "colab_type": "code",
        "colab": {
          "base_uri": "https://localhost:8080/",
          "height": 237
        },
        "outputId": "df30d46e-d09c-402f-d810-7778d14793f2"
      },
      "source": [
        "#coletando as metadatas do arquivo\n",
        "pdf.metadata"
      ],
      "execution_count": 12,
      "outputs": [
        {
          "output_type": "execute_result",
          "data": {
            "text/plain": [
              "{'AssetID': 'TF10002026',\n",
              " 'Author': 'Carlos Melo',\n",
              " 'Comments': '',\n",
              " 'Company': '',\n",
              " 'CreationDate': 'D:20200831180053Z',\n",
              " 'Creator': 'Acrobat PDFMaker 20 for Word',\n",
              " 'Keywords': 'report, vendas, sigmoidal, diário, relatório',\n",
              " 'ModDate': 'D:20200906123757',\n",
              " 'Producer': 'HexaPDF version 0.12.3',\n",
              " 'SourceModified': 'D:20200831180051',\n",
              " 'Subject': 'Template para relatório diário',\n",
              " 'Title': 'Relatório Sigmoidal'}"
            ]
          },
          "metadata": {
            "tags": []
          },
          "execution_count": 12
        }
      ]
    },
    {
      "cell_type": "markdown",
      "metadata": {
        "id": "qDItqQobrTcm",
        "colab_type": "text"
      },
      "source": [
        "## extract_text( ) \n",
        "\n",
        "Porém, estamos sempre interessados no conteúdo do nosso arquivo, não é mesmo? e este pode ser facilmente extraído, quando utilizamos a função `extract_text ()`. \n",
        "\n",
        "Abaixo, faremos a extração da página que iremos trabalhar e vamos assicia - la a uma variável com  resultado da execução da função sobre a página e depois imprimi - la. "
      ]
    },
    {
      "cell_type": "code",
      "metadata": {
        "id": "948Yi13EsA0L",
        "colab_type": "code",
        "colab": {
          "base_uri": "https://localhost:8080/",
          "height": 458
        },
        "outputId": "8fa748ee-0c87-49d2-8d21-4f9fcfd1a560"
      },
      "source": [
        "# extraindo o texto do arquivo\n",
        "text = page.extract_text()\n",
        "print(text)"
      ],
      "execution_count": 13,
      "outputs": [
        {
          "output_type": "stream",
          "text": [
            "SIGMOIDAL \n",
            "   \n",
            "Relatório Diário \n",
            " \n",
            "Data: 10/08/2020 \n",
            " \n",
            "RECEITA: R$ 1.397,00 \n",
            "DADOS ATUALIZADOS POR CARLOS MELO\n",
            " \n",
            " \n",
            " Visitantes: 1367 \n",
            "A quantidade de visitantes diz respeito a visitantes únicos visitando qualquer \n",
            "página do domínio ou subdomínio sigmoidal.ai. Compreende, então, cursos, \n",
            "blogs e landing pages. \n",
            " Inscritos: 33 \n",
            "É considerado aqui o número de leads gerados por meio de cadastro \n",
            "voluntário nos formulários do cabeçalho, rodapé ou materiais ricos (como \n",
            "eBook, infográficos, entre outros). \n",
            " Assinantes: 6 \n",
            "Clientes assinantes da Escola de Data Science, considerando-se o plano \n",
            "renovável de assinatura mensal. \n",
            " \n",
            " \n",
            "Maria Gabriela Furlaneto Barros - maah_gabs93@outlook.com - CPF: 424.449.558-46\n"
          ],
          "name": "stdout"
        }
      ]
    },
    {
      "cell_type": "code",
      "metadata": {
        "id": "iwIgXy1gsBQI",
        "colab_type": "code",
        "colab": {
          "base_uri": "https://localhost:8080/",
          "height": 109
        },
        "outputId": "59ad55be-306d-46e4-ab00-752678f058dd"
      },
      "source": [
        "page.extract_text()"
      ],
      "execution_count": 14,
      "outputs": [
        {
          "output_type": "execute_result",
          "data": {
            "application/vnd.google.colaboratory.intrinsic+json": {
              "type": "string"
            },
            "text/plain": [
              "'SIGMOIDAL \\n   \\nRelatório Diário \\n \\nData: 10/08/2020 \\n \\nRECEITA: R$ 1.397,00 \\nDADOS ATUALIZADOS POR CARLOS MELO\\n \\n \\n Visitantes: 1367 \\nA quantidade de visitantes diz respeito a visitantes únicos visitando qualquer \\npágina do domínio ou subdomínio sigmoidal.ai. Compreende, então, cursos, \\nblogs e landing pages. \\n Inscritos: 33 \\nÉ considerado aqui o número de leads gerados por meio de cadastro \\nvoluntário nos formulários do cabeçalho, rodapé ou materiais ricos (como \\neBook, infográficos, entre outros). \\n Assinantes: 6 \\nClientes assinantes da Escola de Data Science, considerando-se o plano \\nrenovável de assinatura mensal. \\n \\n \\nMaria Gabriela Furlaneto Barros - maah_gabs93@outlook.com - CPF: 424.449.558-46'"
            ]
          },
          "metadata": {
            "tags": []
          },
          "execution_count": 14
        }
      ]
    },
    {
      "cell_type": "code",
      "metadata": {
        "id": "k-EMxXstsIMM",
        "colab_type": "code",
        "colab": {}
      },
      "source": [
        ""
      ],
      "execution_count": null,
      "outputs": []
    }
  ]
}