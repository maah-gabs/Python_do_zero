{
  "nbformat": 4,
  "nbformat_minor": 0,
  "metadata": {
    "colab": {
      "name": "Manipulando Strings ",
      "provenance": [],
      "authorship_tag": "ABX9TyMd0YCTGD/IrfyWmZH/xBjE",
      "include_colab_link": true
    },
    "kernelspec": {
      "name": "python3",
      "display_name": "Python 3"
    }
  },
  "cells": [
    {
      "cell_type": "markdown",
      "metadata": {
        "id": "view-in-github",
        "colab_type": "text"
      },
      "source": [
        "<a href=\"https://colab.research.google.com/github/maah-gabs/Python_do_zero/blob/master/Manipulando_Strings.ipynb\" target=\"_parent\"><img src=\"https://colab.research.google.com/assets/colab-badge.svg\" alt=\"Open In Colab\"/></a>"
      ]
    },
    {
      "cell_type": "markdown",
      "metadata": {
        "id": "XjSty5Vhi2cM",
        "colab_type": "text"
      },
      "source": [
        "# Módulo 02: Aula 09 - Manipulando Strings \n",
        "\n",
        "Continuando a falar sobre Strings "
      ]
    },
    {
      "cell_type": "markdown",
      "metadata": {
        "id": "4KQdUI7ljapJ",
        "colab_type": "text"
      },
      "source": [
        "## Função `len ( ) `\n",
        "\n",
        "Você tem uma variável em formato string e você quer saber o tamanho dela. Basta utilizar a função `len ( )`. AO executar a célula, ela retornará um valor do tipo inteiro. "
      ]
    },
    {
      "cell_type": "code",
      "metadata": {
        "id": "TEk0uw6bjsgC",
        "colab_type": "code",
        "colab": {
          "base_uri": "https://localhost:8080/",
          "height": 35
        },
        "outputId": "4f50b4a8-a879-40ce-f9a5-e69b61ff0b3a"
      },
      "source": [
        "# Verificar o tamnho de uma sequencia de DNA \n",
        "dna = 'ATGCGGACCTAT'\n",
        "\n",
        "len(dna)"
      ],
      "execution_count": 1,
      "outputs": [
        {
          "output_type": "execute_result",
          "data": {
            "text/plain": [
              "12"
            ]
          },
          "metadata": {
            "tags": []
          },
          "execution_count": 1
        }
      ]
    },
    {
      "cell_type": "code",
      "metadata": {
        "id": "u81Ek4fBj-S8",
        "colab_type": "code",
        "colab": {
          "base_uri": "https://localhost:8080/",
          "height": 35
        },
        "outputId": "d4425c3e-8ba1-441d-c3fb-a238524024f0"
      },
      "source": [
        "#Verificando o tipo da variável \n",
        "type(dna)"
      ],
      "execution_count": 2,
      "outputs": [
        {
          "output_type": "execute_result",
          "data": {
            "text/plain": [
              "str"
            ]
          },
          "metadata": {
            "tags": []
          },
          "execution_count": 2
        }
      ]
    },
    {
      "cell_type": "markdown",
      "metadata": {
        "id": "EPAgVA1XkZc3",
        "colab_type": "text"
      },
      "source": [
        "## Função `split ( ) `\n",
        "\n",
        "Esta funçãop é utilizada quando você deseja separar as strings baseansdo - sem sempre em um delimitador. A variável de exemplo que definiremos abaixo está com 3 nomes. Para extrair esses nomes, basta executar a função `split ( )` e o Python retornará uma lista com 3 nomes. "
      ]
    },
    {
      "cell_type": "code",
      "metadata": {
        "id": "mU6mnymWkz8q",
        "colab_type": "code",
        "colab": {
          "base_uri": "https://localhost:8080/",
          "height": 36
        },
        "outputId": "3000fdab-7425-4b45-fe41-08cd8603dac5"
      },
      "source": [
        "nomes = 'Maria Gabriela, Vitória, Samuel'\n",
        "nomes.split(',') #virgula consiste no meu delimitador. "
      ],
      "execution_count": 5,
      "outputs": [
        {
          "output_type": "execute_result",
          "data": {
            "application/vnd.google.colaboratory.intrinsic+json": {
              "type": "string"
            },
            "text/plain": [
              "'Maria Gabriela'"
            ]
          },
          "metadata": {
            "tags": []
          },
          "execution_count": 5
        }
      ]
    },
    {
      "cell_type": "code",
      "metadata": {
        "id": "YjWFBmRSlWCV",
        "colab_type": "code",
        "colab": {
          "base_uri": "https://localhost:8080/",
          "height": 36
        },
        "outputId": "419853c0-305f-4a7d-87dd-996847000637"
      },
      "source": [
        "#Exemplo de como acessar o primeiro nome. \n",
        "nomes.split(',')[0]"
      ],
      "execution_count": 6,
      "outputs": [
        {
          "output_type": "execute_result",
          "data": {
            "application/vnd.google.colaboratory.intrinsic+json": {
              "type": "string"
            },
            "text/plain": [
              "'Maria Gabriela'"
            ]
          },
          "metadata": {
            "tags": []
          },
          "execution_count": 6
        }
      ]
    },
    {
      "cell_type": "markdown",
      "metadata": {
        "id": "2qJXPCD1l3ed",
        "colab_type": "text"
      },
      "source": [
        "## Função `replace ( ) `\n",
        "\n",
        "Essa função é utilizada para substituir caracteres que se encontram dentro de uma string. Imagine a situação em que você está lidando com uma tabela do Excel e os valores monetários contém o simbolo do sistema Brasileiro. Nesta ocasição, podemos utilizar o replace ( ) para melhora - la e transforma - la em float. "
      ]
    },
    {
      "cell_type": "code",
      "metadata": {
        "id": "HPw7NSdIodZx",
        "colab_type": "code",
        "colab": {
          "base_uri": "https://localhost:8080/",
          "height": 35
        },
        "outputId": "0616ea9e-0332-4016-ce4d-ffe8ea0d4676"
      },
      "source": [
        "#Criando uma variável \n",
        "valor = \"9,50\"\n",
        "\n",
        "#trocando a virugula pelo ponto\n",
        "float(valor.replace(',', '.'))"
      ],
      "execution_count": 8,
      "outputs": [
        {
          "output_type": "execute_result",
          "data": {
            "text/plain": [
              "9.5"
            ]
          },
          "metadata": {
            "tags": []
          },
          "execution_count": 8
        }
      ]
    },
    {
      "cell_type": "markdown",
      "metadata": {
        "id": "J5y27LxapEl6",
        "colab_type": "text"
      },
      "source": [
        "## Função `strip ( )`\n",
        "\n",
        "Remove os espaços em branco ou caracteres presentes em uma string que são desnecessários . Elimina espaços no começo e no final.  "
      ]
    },
    {
      "cell_type": "code",
      "metadata": {
        "id": "1Pe43Wl1pZ0b",
        "colab_type": "code",
        "colab": {
          "base_uri": "https://localhost:8080/",
          "height": 36
        },
        "outputId": "02a396d2-0b11-48b4-81e7-5e76b30c7704"
      },
      "source": [
        "#Criando uma variável \n",
        "nome = \"     Maria Gabriela     \"\n",
        "\n",
        "#utilizando a função strip\n",
        "nome.strip()"
      ],
      "execution_count": 9,
      "outputs": [
        {
          "output_type": "execute_result",
          "data": {
            "application/vnd.google.colaboratory.intrinsic+json": {
              "type": "string"
            },
            "text/plain": [
              "'Maria Gabriela'"
            ]
          },
          "metadata": {
            "tags": []
          },
          "execution_count": 9
        }
      ]
    },
    {
      "cell_type": "markdown",
      "metadata": {
        "id": "lEIeizTspyXu",
        "colab_type": "text"
      },
      "source": [
        "Vamos supor que usamos de exemplo a função replace ( ). Vamos imaginar que importamos os dados e eles estão da seguinte forma: 'R$$ 9,00'. Para convertermos esse valor em em número, precisamos tirar o R$. "
      ]
    },
    {
      "cell_type": "code",
      "metadata": {
        "id": "XB8ajbI2qOeh",
        "colab_type": "code",
        "colab": {
          "base_uri": "https://localhost:8080/",
          "height": 36
        },
        "outputId": "35616106-955f-47f7-f2e6-9f6a7cced0c6"
      },
      "source": [
        "\"R$ 9,50\".strip('R$ ')"
      ],
      "execution_count": 10,
      "outputs": [
        {
          "output_type": "execute_result",
          "data": {
            "application/vnd.google.colaboratory.intrinsic+json": {
              "type": "string"
            },
            "text/plain": [
              "'9,50'"
            ]
          },
          "metadata": {
            "tags": []
          },
          "execution_count": 10
        }
      ]
    },
    {
      "cell_type": "code",
      "metadata": {
        "id": "y8DlPUiTqKdz",
        "colab_type": "code",
        "colab": {
          "base_uri": "https://localhost:8080/",
          "height": 36
        },
        "outputId": "6aaa47df-2977-4d96-898d-f57be12f03c5"
      },
      "source": [
        "\"R$ 9,50\".strip('R$ ').replace(',','.')"
      ],
      "execution_count": 11,
      "outputs": [
        {
          "output_type": "execute_result",
          "data": {
            "application/vnd.google.colaboratory.intrinsic+json": {
              "type": "string"
            },
            "text/plain": [
              "'9.50'"
            ]
          },
          "metadata": {
            "tags": []
          },
          "execution_count": 11
        }
      ]
    },
    {
      "cell_type": "code",
      "metadata": {
        "id": "ua0B6YJlqnPh",
        "colab_type": "code",
        "colab": {
          "base_uri": "https://localhost:8080/",
          "height": 35
        },
        "outputId": "7030f14b-0f1a-4dfd-dff7-5d1a01f94241"
      },
      "source": [
        "float(\"R$ 9,50\".strip('R$ ').replace(',','.'))"
      ],
      "execution_count": 12,
      "outputs": [
        {
          "output_type": "execute_result",
          "data": {
            "text/plain": [
              "9.5"
            ]
          },
          "metadata": {
            "tags": []
          },
          "execution_count": 12
        }
      ]
    },
    {
      "cell_type": "markdown",
      "metadata": {
        "id": "Rx1SsNvgrEZF",
        "colab_type": "text"
      },
      "source": [
        "## Slicing\n",
        "\n",
        "O Python permite que a gente \"corte\" as nossas `strings` em uma técnica denominada *Slicing.* \n"
      ]
    },
    {
      "cell_type": "code",
      "metadata": {
        "id": "drPqXL70rXTZ",
        "colab_type": "code",
        "colab": {}
      },
      "source": [
        "nome = \"Maria\""
      ],
      "execution_count": 14,
      "outputs": []
    },
    {
      "cell_type": "markdown",
      "metadata": {
        "id": "hW7Fz2IErggO",
        "colab_type": "text"
      },
      "source": [
        "Importante lembrar que a indexação do Python se inicia do zero, certo?\n",
        "\n",
        "* M  [0]\n",
        "* A  [1]\n",
        "* R  [2]\n",
        "* I  [3]\n",
        "* A  [4]\n",
        "\n",
        "Importante também de lembrar que quando utilizamos essa técnica a posição final não é incluida. Ou seja, quando chamamos o slicing da seguinte forma: nome [2:4] o retorno da letra será [2]r [3]i. "
      ]
    },
    {
      "cell_type": "code",
      "metadata": {
        "id": "1YnwaQrbsUXM",
        "colab_type": "code",
        "colab": {
          "base_uri": "https://localhost:8080/",
          "height": 36
        },
        "outputId": "2ae46ee3-311f-4da6-8ac8-6c39e4f53f69"
      },
      "source": [
        "nome[0:3]"
      ],
      "execution_count": 15,
      "outputs": [
        {
          "output_type": "execute_result",
          "data": {
            "application/vnd.google.colaboratory.intrinsic+json": {
              "type": "string"
            },
            "text/plain": [
              "'Mar'"
            ]
          },
          "metadata": {
            "tags": []
          },
          "execution_count": 15
        }
      ]
    },
    {
      "cell_type": "code",
      "metadata": {
        "id": "teIZbl9gsVj6",
        "colab_type": "code",
        "colab": {
          "base_uri": "https://localhost:8080/",
          "height": 36
        },
        "outputId": "afe67db7-bc19-4ffe-da92-d7b73fca4bf8"
      },
      "source": [
        "#Slicing da variável nome \n",
        "nome[2:4]"
      ],
      "execution_count": 16,
      "outputs": [
        {
          "output_type": "execute_result",
          "data": {
            "application/vnd.google.colaboratory.intrinsic+json": {
              "type": "string"
            },
            "text/plain": [
              "'ri'"
            ]
          },
          "metadata": {
            "tags": []
          },
          "execution_count": 16
        }
      ]
    },
    {
      "cell_type": "markdown",
      "metadata": {
        "id": "tcHhv9OjtDaK",
        "colab_type": "text"
      },
      "source": [
        "Também podemos omitir uma das variáveis, e isso fará com que o slicing comece desde o primeiro index, e termine no último. "
      ]
    },
    {
      "cell_type": "code",
      "metadata": {
        "id": "28CsGV4gtQLi",
        "colab_type": "code",
        "colab": {
          "base_uri": "https://localhost:8080/",
          "height": 36
        },
        "outputId": "caf428f8-c6fe-4fa0-d590-c47dd92ec3b8"
      },
      "source": [
        "#slicing do começo ao 4. \n",
        "nome[:4]"
      ],
      "execution_count": 17,
      "outputs": [
        {
          "output_type": "execute_result",
          "data": {
            "application/vnd.google.colaboratory.intrinsic+json": {
              "type": "string"
            },
            "text/plain": [
              "'Mari'"
            ]
          },
          "metadata": {
            "tags": []
          },
          "execution_count": 17
        }
      ]
    },
    {
      "cell_type": "code",
      "metadata": {
        "id": "dpBN7Q4qtUnI",
        "colab_type": "code",
        "colab": {
          "base_uri": "https://localhost:8080/",
          "height": 36
        },
        "outputId": "6f708aba-b7a5-43ad-c130-50f7648a04da"
      },
      "source": [
        "#Slicing 2 ao fim \n",
        "nome[2:]"
      ],
      "execution_count": 18,
      "outputs": [
        {
          "output_type": "execute_result",
          "data": {
            "application/vnd.google.colaboratory.intrinsic+json": {
              "type": "string"
            },
            "text/plain": [
              "'ria'"
            ]
          },
          "metadata": {
            "tags": []
          },
          "execution_count": 18
        }
      ]
    },
    {
      "cell_type": "markdown",
      "metadata": {
        "id": "1rKdR6DUtpt3",
        "colab_type": "text"
      },
      "source": [
        "Lembre - se que podemos adicionar strings fazendo uso da função slicing"
      ]
    },
    {
      "cell_type": "code",
      "metadata": {
        "id": "jABSPPNKtw6i",
        "colab_type": "code",
        "colab": {
          "base_uri": "https://localhost:8080/",
          "height": 90
        },
        "outputId": "d2a25c54-5fb0-4fd8-8991-0e9669371d83"
      },
      "source": [
        "print('Nome Completo:', nome)\n",
        "print('Primeira Parte:', nome[:3])\n",
        "print('Segunda Parte:', nome[3:])\n",
        "print('Nome feito adicionando Slices:', nome[:3] + nome[3:])"
      ],
      "execution_count": 20,
      "outputs": [
        {
          "output_type": "stream",
          "text": [
            "Nome Completo: Maria\n",
            "Primeira Parte: Mar\n",
            "Segunda Parte: ia\n",
            "Nome feito adicionando Slices: Maria\n"
          ],
          "name": "stdout"
        }
      ]
    },
    {
      "cell_type": "markdown",
      "metadata": {
        "id": "iCxm8SQYuYsQ",
        "colab_type": "text"
      },
      "source": [
        "Ainda discutindo sobre *slices*, também podemos definir um `step`, um passo ou intervalo, para que os caracteres sejam pulados. \n",
        "\n",
        "Vamos ver como isso funciona na prática?"
      ]
    },
    {
      "cell_type": "code",
      "metadata": {
        "id": "LEqFTv6duoXY",
        "colab_type": "code",
        "colab": {
          "base_uri": "https://localhost:8080/",
          "height": 35
        },
        "outputId": "469af1fd-4608-428d-8f7a-2e30d4054a08"
      },
      "source": [
        "#criando uma variável \n",
        "\n",
        "num = \"123456789\"\n",
        "print(num)"
      ],
      "execution_count": 21,
      "outputs": [
        {
          "output_type": "stream",
          "text": [
            "123456789\n"
          ],
          "name": "stdout"
        }
      ]
    },
    {
      "cell_type": "markdown",
      "metadata": {
        "id": "PbOKBqQwvBtw",
        "colab_type": "text"
      },
      "source": [
        "Essa função do step pode ser usada, por exemplo, caso eu queira mostrar apenas os números impares."
      ]
    },
    {
      "cell_type": "code",
      "metadata": {
        "id": "FUufE3_2vZJ6",
        "colab_type": "code",
        "colab": {
          "base_uri": "https://localhost:8080/",
          "height": 36
        },
        "outputId": "7e632ae7-0121-4dfb-a247-42f67b7d46f9"
      },
      "source": [
        "#Slicing de Variável num, começando do primeiro caractere, indo até o último, em step 2, ou seja, mostra um pula um \n",
        "num[::2]"
      ],
      "execution_count": 23,
      "outputs": [
        {
          "output_type": "execute_result",
          "data": {
            "application/vnd.google.colaboratory.intrinsic+json": {
              "type": "string"
            },
            "text/plain": [
              "'13579'"
            ]
          },
          "metadata": {
            "tags": []
          },
          "execution_count": 23
        }
      ]
    },
    {
      "cell_type": "code",
      "metadata": {
        "id": "QS8k3B8ovmwQ",
        "colab_type": "code",
        "colab": {
          "base_uri": "https://localhost:8080/",
          "height": 36
        },
        "outputId": "b17c0360-b942-4f9e-f0a8-97451fc6e844"
      },
      "source": [
        "# Numeros pares \n",
        "num[1::2]"
      ],
      "execution_count": 24,
      "outputs": [
        {
          "output_type": "execute_result",
          "data": {
            "application/vnd.google.colaboratory.intrinsic+json": {
              "type": "string"
            },
            "text/plain": [
              "'2468'"
            ]
          },
          "metadata": {
            "tags": []
          },
          "execution_count": 24
        }
      ]
    },
    {
      "cell_type": "markdown",
      "metadata": {
        "id": "MtRVpfVhweVP",
        "colab_type": "text"
      },
      "source": [
        "## Convertendo Strings\n",
        "\n",
        "Podemos utilizar o Python para converter as strings em maiusculas, minusculas etc. Consiste em um processo bastante útil quando estivermos lidando com `strings`. \n"
      ]
    },
    {
      "cell_type": "code",
      "metadata": {
        "id": "RnhdbXGDwz9-",
        "colab_type": "code",
        "colab": {}
      },
      "source": [
        "#criando uma variável a ser manipulada \n",
        "nome = 'josé Santos da Silva'"
      ],
      "execution_count": 25,
      "outputs": []
    },
    {
      "cell_type": "markdown",
      "metadata": {
        "id": "D6iij8kFxCYM",
        "colab_type": "text"
      },
      "source": [
        "## Capitalize( ) \n",
        "Transforma o primeiro caractere em maiusculo."
      ]
    },
    {
      "cell_type": "code",
      "metadata": {
        "id": "p3fQdoTExMuW",
        "colab_type": "code",
        "colab": {
          "base_uri": "https://localhost:8080/",
          "height": 36
        },
        "outputId": "714e4a04-43e9-49c4-bb3e-4350657d4721"
      },
      "source": [
        "nome.capitalize()"
      ],
      "execution_count": 26,
      "outputs": [
        {
          "output_type": "execute_result",
          "data": {
            "application/vnd.google.colaboratory.intrinsic+json": {
              "type": "string"
            },
            "text/plain": [
              "'José santos da silva'"
            ]
          },
          "metadata": {
            "tags": []
          },
          "execution_count": 26
        }
      ]
    },
    {
      "cell_type": "markdown",
      "metadata": {
        "id": "JKEIQOg3xUhG",
        "colab_type": "text"
      },
      "source": [
        "## Lower ( ) \n",
        "\n",
        "Transforma todos os caracteres em minúscula. "
      ]
    },
    {
      "cell_type": "code",
      "metadata": {
        "id": "BxpvTPCkxcUI",
        "colab_type": "code",
        "colab": {
          "base_uri": "https://localhost:8080/",
          "height": 36
        },
        "outputId": "df1fcb1c-0fcd-4ed9-e854-cc18546fa886"
      },
      "source": [
        "nome.lower()"
      ],
      "execution_count": 27,
      "outputs": [
        {
          "output_type": "execute_result",
          "data": {
            "application/vnd.google.colaboratory.intrinsic+json": {
              "type": "string"
            },
            "text/plain": [
              "'josé santos da silva'"
            ]
          },
          "metadata": {
            "tags": []
          },
          "execution_count": 27
        }
      ]
    },
    {
      "cell_type": "markdown",
      "metadata": {
        "id": "GbWFQPLWxntL",
        "colab_type": "text"
      },
      "source": [
        "## Upper ( ) \n",
        "Transforma todos os caracteres em maiuscula. "
      ]
    },
    {
      "cell_type": "code",
      "metadata": {
        "id": "TqUcIJAyxsP7",
        "colab_type": "code",
        "colab": {
          "base_uri": "https://localhost:8080/",
          "height": 36
        },
        "outputId": "4326c691-6d6b-4482-8694-e10c4f071767"
      },
      "source": [
        "nome.upper()"
      ],
      "execution_count": 28,
      "outputs": [
        {
          "output_type": "execute_result",
          "data": {
            "application/vnd.google.colaboratory.intrinsic+json": {
              "type": "string"
            },
            "text/plain": [
              "'JOSÉ SANTOS DA SILVA'"
            ]
          },
          "metadata": {
            "tags": []
          },
          "execution_count": 28
        }
      ]
    },
    {
      "cell_type": "markdown",
      "metadata": {
        "id": "3ksjMJxEx1nl",
        "colab_type": "text"
      },
      "source": [
        "## Title\n",
        "\n",
        "Transforma todas as primeiras letras de cada palavra em maiuscula. "
      ]
    },
    {
      "cell_type": "code",
      "metadata": {
        "id": "ISc6xKu3yC57",
        "colab_type": "code",
        "colab": {
          "base_uri": "https://localhost:8080/",
          "height": 36
        },
        "outputId": "9f38b7e7-3092-4248-8ff8-33c1924851b5"
      },
      "source": [
        "nome.title()"
      ],
      "execution_count": 29,
      "outputs": [
        {
          "output_type": "execute_result",
          "data": {
            "application/vnd.google.colaboratory.intrinsic+json": {
              "type": "string"
            },
            "text/plain": [
              "'José Santos Da Silva'"
            ]
          },
          "metadata": {
            "tags": []
          },
          "execution_count": 29
        }
      ]
    },
    {
      "cell_type": "markdown",
      "metadata": {
        "id": "iHakL8qUyIcg",
        "colab_type": "text"
      },
      "source": [
        "## Swapcase\n",
        "Inverte o que era maiusculo para minusculo e vice versa. "
      ]
    },
    {
      "cell_type": "code",
      "metadata": {
        "id": "aQ_Qt-3uyP20",
        "colab_type": "code",
        "colab": {
          "base_uri": "https://localhost:8080/",
          "height": 36
        },
        "outputId": "2c3ac047-7b4f-4f09-96bb-2b4fa3055363"
      },
      "source": [
        "nome.swapcase()"
      ],
      "execution_count": 30,
      "outputs": [
        {
          "output_type": "execute_result",
          "data": {
            "application/vnd.google.colaboratory.intrinsic+json": {
              "type": "string"
            },
            "text/plain": [
              "'JOSÉ sANTOS DA sILVA'"
            ]
          },
          "metadata": {
            "tags": []
          },
          "execution_count": 30
        }
      ]
    },
    {
      "cell_type": "markdown",
      "metadata": {
        "id": "vfcLwaLNykD5",
        "colab_type": "text"
      },
      "source": [
        "# Exercícios \n",
        "\n",
        "Vamos praticar? "
      ]
    },
    {
      "cell_type": "markdown",
      "metadata": {
        "id": "WojJM7b-yoSe",
        "colab_type": "text"
      },
      "source": [
        "###Exercicio 01. \n",
        "\n",
        "Escreva seu nome e sobrenome, como nos exemplos acima, e imprima ele na tela usando a função `print()`:"
      ]
    },
    {
      "cell_type": "code",
      "metadata": {
        "id": "AXJ1CcITyxD3",
        "colab_type": "code",
        "colab": {
          "base_uri": "https://localhost:8080/",
          "height": 35
        },
        "outputId": "f700f628-901b-412c-c675-36a49b6dc8df"
      },
      "source": [
        "print(\"Maria Gabriela Furlaneto Barros\")"
      ],
      "execution_count": 31,
      "outputs": [
        {
          "output_type": "stream",
          "text": [
            "Maria Gabriela Furlaneto Barros\n"
          ],
          "name": "stdout"
        }
      ]
    },
    {
      "cell_type": "markdown",
      "metadata": {
        "id": "pZYk_ruBy3TR",
        "colab_type": "text"
      },
      "source": [
        "### Exercícios 02.\n",
        "Verifique o tamanho da *string* da variável sha1_hash abaixo:"
      ]
    },
    {
      "cell_type": "code",
      "metadata": {
        "id": "NwQqWJ2Ay71W",
        "colab_type": "code",
        "colab": {
          "base_uri": "https://localhost:8080/",
          "height": 35
        },
        "outputId": "4ad8b47d-3fda-454b-a971-325e8d4c14b0"
      },
      "source": [
        "sha1_hash = \"b91552e0b2b2183e85a4371020ab6b9f4ef83ed0\"\n",
        "\n",
        "len(sha1_hash)"
      ],
      "execution_count": 32,
      "outputs": [
        {
          "output_type": "execute_result",
          "data": {
            "text/plain": [
              "40"
            ]
          },
          "metadata": {
            "tags": []
          },
          "execution_count": 32
        }
      ]
    },
    {
      "cell_type": "markdown",
      "metadata": {
        "id": "JQOeo5QSzFfT",
        "colab_type": "text"
      },
      "source": [
        "### Exercício 3\n",
        "\n",
        "Converta a string `85,00 Kg` em uma variável do tipo float."
      ]
    },
    {
      "cell_type": "code",
      "metadata": {
        "id": "_aM_H7WqzJYk",
        "colab_type": "code",
        "colab": {
          "base_uri": "https://localhost:8080/",
          "height": 35
        },
        "outputId": "442aceb9-63bd-41e2-c666-a06bb2b2944e"
      },
      "source": [
        "float(\"85,00 kg\".strip('kg ').replace(',','.'))"
      ],
      "execution_count": 34,
      "outputs": [
        {
          "output_type": "execute_result",
          "data": {
            "text/plain": [
              "85.0"
            ]
          },
          "metadata": {
            "tags": []
          },
          "execution_count": 34
        }
      ]
    },
    {
      "cell_type": "markdown",
      "metadata": {
        "id": "75ME7Hztzh9M",
        "colab_type": "text"
      },
      "source": [
        "Exercício 4\n",
        "\n",
        "Faça o que se pede com a variável em cada uma das células abaixo"
      ]
    },
    {
      "cell_type": "code",
      "metadata": {
        "id": "XiJN4tkZziv6",
        "colab_type": "code",
        "colab": {}
      },
      "source": [
        "#criando a variável\n",
        "x = \"Data, Science, é, demais!\""
      ],
      "execution_count": 35,
      "outputs": []
    },
    {
      "cell_type": "code",
      "metadata": {
        "id": "ox3j-4GszsbO",
        "colab_type": "code",
        "colab": {
          "base_uri": "https://localhost:8080/",
          "height": 35
        },
        "outputId": "3593d7dc-0cc3-4479-fb38-1c9b6455ae6c"
      },
      "source": [
        "# a) imprima a quantidade de caracteres na variável x\n",
        "print(len(x))"
      ],
      "execution_count": 37,
      "outputs": [
        {
          "output_type": "stream",
          "text": [
            "25\n"
          ],
          "name": "stdout"
        }
      ]
    },
    {
      "cell_type": "code",
      "metadata": {
        "id": "OkjA5HGDz12k",
        "colab_type": "code",
        "colab": {
          "base_uri": "https://localhost:8080/",
          "height": 36
        },
        "outputId": "a158d3cb-4f2a-4ce3-d835-0070b9c1e892"
      },
      "source": [
        "# b) retire as vírgulas da variável \n",
        "x.strip().replace(',', '')"
      ],
      "execution_count": 39,
      "outputs": [
        {
          "output_type": "execute_result",
          "data": {
            "application/vnd.google.colaboratory.intrinsic+json": {
              "type": "string"
            },
            "text/plain": [
              "'Data Science é demais!'"
            ]
          },
          "metadata": {
            "tags": []
          },
          "execution_count": 39
        }
      ]
    },
    {
      "cell_type": "code",
      "metadata": {
        "id": "wIj7rm3x0BpZ",
        "colab_type": "code",
        "colab": {
          "base_uri": "https://localhost:8080/",
          "height": 35
        },
        "outputId": "416bac86-0d22-44a7-e4d8-68d6e7fdd86e"
      },
      "source": [
        "# c) imprima apenas os seus caracteres da variável \n",
        "print(x[:6])"
      ],
      "execution_count": 41,
      "outputs": [
        {
          "output_type": "stream",
          "text": [
            "Data, \n"
          ],
          "name": "stdout"
        }
      ]
    },
    {
      "cell_type": "code",
      "metadata": {
        "id": "CHvJrHrU0SWQ",
        "colab_type": "code",
        "colab": {
          "base_uri": "https://localhost:8080/",
          "height": 35
        },
        "outputId": "ccd6580e-c6e1-4050-b6f9-f45c7ea44830"
      },
      "source": [
        "# d) Imprima todos os caracteres, mostrando um e pulando um.\n",
        "print(x[::2])"
      ],
      "execution_count": 42,
      "outputs": [
        {
          "output_type": "stream",
          "text": [
            "Dt,Sine ,dmi!\n"
          ],
          "name": "stdout"
        }
      ]
    },
    {
      "cell_type": "code",
      "metadata": {
        "id": "rjwGuDcr0hUP",
        "colab_type": "code",
        "colab": {
          "base_uri": "https://localhost:8080/",
          "height": 35
        },
        "outputId": "27c37ee0-c338-4178-bd36-88fc18842c1e"
      },
      "source": [
        "# e) Transforme todas as letras em maiusculas\n",
        "print(x.upper())"
      ],
      "execution_count": 45,
      "outputs": [
        {
          "output_type": "stream",
          "text": [
            "DATA, SCIENCE, É, DEMAIS!\n"
          ],
          "name": "stdout"
        }
      ]
    },
    {
      "cell_type": "code",
      "metadata": {
        "id": "GI-29Br00nfO",
        "colab_type": "code",
        "colab": {
          "base_uri": "https://localhost:8080/",
          "height": 35
        },
        "outputId": "aaa5ba31-37ef-4e22-9ac7-363d8b32e4ba"
      },
      "source": [
        "# f) Transforme todas as letras em minusculas \n",
        "print(x.lower())"
      ],
      "execution_count": 46,
      "outputs": [
        {
          "output_type": "stream",
          "text": [
            "data, science, é, demais!\n"
          ],
          "name": "stdout"
        }
      ]
    },
    {
      "cell_type": "code",
      "metadata": {
        "id": "EVcfSOZR0zPI",
        "colab_type": "code",
        "colab": {}
      },
      "source": [
        ""
      ],
      "execution_count": null,
      "outputs": []
    }
  ]
}