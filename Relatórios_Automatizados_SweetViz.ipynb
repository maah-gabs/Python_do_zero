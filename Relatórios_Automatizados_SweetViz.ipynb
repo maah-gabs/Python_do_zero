{
  "nbformat": 4,
  "nbformat_minor": 0,
  "metadata": {
    "colab": {
      "name": "Relatórios Automatizados - SweetViz",
      "provenance": [],
      "authorship_tag": "ABX9TyPj+oeRU+li80jtzG7khN6d",
      "include_colab_link": true
    },
    "kernelspec": {
      "name": "python3",
      "display_name": "Python 3"
    }
  },
  "cells": [
    {
      "cell_type": "markdown",
      "metadata": {
        "id": "view-in-github",
        "colab_type": "text"
      },
      "source": [
        "<a href=\"https://colab.research.google.com/github/maah-gabs/Python_do_zero/blob/master/Relat%C3%B3rios_Automatizados_SweetViz.ipynb\" target=\"_parent\"><img src=\"https://colab.research.google.com/assets/colab-badge.svg\" alt=\"Open In Colab\"/></a>"
      ]
    },
    {
      "cell_type": "markdown",
      "metadata": {
        "id": "-hsncxQW5QPo",
        "colab_type": "text"
      },
      "source": [
        "# Módulo 03 - Aula 12 - Analisando Dados para BI (*Business Intelligence*)\n",
        "\n",
        "A análise exploratória dos dados é extremamente importante para qualquer projeto de dados, pois, uma boa compreensão pode gerar entendimentos e insights valiosos. A Biblioteca Sweet Viz, é capaz de nos ajudar a agilizar o trabalho. Ela é capaz de analisar e criar relatórios sobre os dados de forma automatizada. "
      ]
    },
    {
      "cell_type": "markdown",
      "metadata": {
        "id": "h7HSDQP873eb",
        "colab_type": "text"
      },
      "source": [
        "## Instalando o Sweet Viz\n",
        "\n",
        "A Biblioteca Sweet Viz não é uma biblioteca que já está instalada no Python, desta forma, precisamos instalar utilizando a seguinte linha de código. \n",
        "\n",
        "`!pip install sweetviz -q`"
      ]
    },
    {
      "cell_type": "code",
      "metadata": {
        "id": "X6VgvWf18OSO",
        "colab_type": "code",
        "colab": {
          "base_uri": "https://localhost:8080/",
          "height": 54
        },
        "outputId": "cfd0b8c6-9a3a-4df5-8048-0e848a7ab261"
      },
      "source": [
        "# Instalando a biblioteca Sweet Viz \n",
        "!pip install sweetviz -q"
      ],
      "execution_count": 1,
      "outputs": [
        {
          "output_type": "stream",
          "text": [
            "\u001b[K     |████████████████████████████████| 327kB 2.7MB/s \n",
            "\u001b[K     |████████████████████████████████| 71kB 6.1MB/s \n",
            "\u001b[?25h"
          ],
          "name": "stdout"
        }
      ]
    },
    {
      "cell_type": "markdown",
      "metadata": {
        "id": "kS5jfEMk8fnH",
        "colab_type": "text"
      },
      "source": [
        "Após baixado, agora é só utilizar a biblioteca. "
      ]
    },
    {
      "cell_type": "markdown",
      "metadata": {
        "id": "PO4-TZBX8vo8",
        "colab_type": "text"
      },
      "source": [
        "Agora, vamos imnportar o DataSet que será utilizado, estes dados são provenientes de um e - commerce brasileiro e os dados estão disponíveis no Kaggle"
      ]
    },
    {
      "cell_type": "code",
      "metadata": {
        "id": "fodA12008lBr",
        "colab_type": "code",
        "colab": {}
      },
      "source": [
        "# Importar os pacotes necessários \n",
        "import sweetviz\n",
        "import pandas as pd "
      ],
      "execution_count": 11,
      "outputs": []
    },
    {
      "cell_type": "code",
      "metadata": {
        "id": "U5W2R2jq8rME",
        "colab_type": "code",
        "colab": {}
      },
      "source": [
        "# Carregar o DataSet \n",
        "dados = pd.read_excel(\"https://www.dropbox.com/s/6zogl04a1h1sb3d/dados_ecommerce.xlsx?dl=1\", sheet_name=None,)"
      ],
      "execution_count": 4,
      "outputs": []
    },
    {
      "cell_type": "code",
      "metadata": {
        "id": "CJnqshdu-sEG",
        "colab_type": "code",
        "colab": {
          "base_uri": "https://localhost:8080/",
          "height": 788
        },
        "outputId": "59a4f5b3-2285-4a9e-bcb4-4ff4d266be5b"
      },
      "source": [
        "#Visualizar os dados\n",
        "dados"
      ],
      "execution_count": 5,
      "outputs": [
        {
          "output_type": "execute_result",
          "data": {
            "text/plain": [
              "{'Clientes':                             customer_id  ... customer_state\n",
              " 0      06b8999e2fba1a1fbc88172c00ba8bc7  ...             SP\n",
              " 1      18955e83d337fd6b2def6b18a428ac77  ...             SP\n",
              " 2      4e7b3e00288586ebd08712fdd0374a03  ...             SP\n",
              " 3      b2b6027bc5c5109e529d4dc6358b12c3  ...             SP\n",
              " 4      4f2d8ab171c80ec8364f7c12e35b23ad  ...             SP\n",
              " ...                                 ...  ...            ...\n",
              " 99436  17ddf5dd5d51696bb3d7c6291687be6f  ...             SP\n",
              " 99437  e7b71a9017aa05c9a7fd292d714858e8  ...             SP\n",
              " 99438  5e28dfe12db7fb50a4b2f691faecea5e  ...             CE\n",
              " 99439  56b18e2166679b8a959d72dd06da27f9  ...             RS\n",
              " 99440  274fa6071e5e17fe303b9748641082c8  ...             SP\n",
              " \n",
              " [99441 rows x 5 columns],\n",
              " 'Itens':                                 order_id  order_item_id  ...   price freight_value\n",
              " 0       00010242fe8c5a6d1ba2dd792cb16214              1  ...   58.90         13.29\n",
              " 1       00018f77f2f0320c557190d7a144bdd3              1  ...  239.90         19.93\n",
              " 2       000229ec398224ef6ca0657da4fc703e              1  ...  199.00         17.87\n",
              " 3       00024acbcdf0a6daa1e931b038114c75              1  ...   12.99         12.79\n",
              " 4       00042b26cf59d7ce69dfabb4e55b4fd9              1  ...  199.90         18.14\n",
              " ...                                  ...            ...  ...     ...           ...\n",
              " 112645  fffc94f6ce00a00581880bf54a75a037              1  ...  299.99         43.41\n",
              " 112646  fffcd46ef2263f404302a634eb57f7eb              1  ...  350.00         36.53\n",
              " 112647  fffce4705a9662cd70adb13d4a31832d              1  ...   99.90         16.95\n",
              " 112648  fffe18544ffabc95dfada21779c9644f              1  ...   55.99          8.72\n",
              " 112649  fffe41c64501cc87c801fd61db3f6244              1  ...   43.00         12.79\n",
              " \n",
              " [112650 rows x 7 columns],\n",
              " 'Pagamentos':                                 order_id  ...  payment_value\n",
              " 0       b81ef226f3fe1789b1e8b2acac839d17  ...          99.33\n",
              " 1       a9810da82917af2d9aefd1278f1dcfa0  ...          24.39\n",
              " 2       25e8ea4e93396b6fa0d3dd708e76c1bd  ...          65.71\n",
              " 3       ba78997921bbcdc1373bb41e913ab953  ...         107.78\n",
              " 4       42fdf880ba16b47b59251dd489d4441a  ...         128.45\n",
              " ...                                  ...  ...            ...\n",
              " 103881  0406037ad97740d563a178ecc7a2075c  ...         363.31\n",
              " 103882  7b905861d7c825891d6347454ea7863f  ...          96.80\n",
              " 103883  32609bbb3dd69b3c066a6860554a77bf  ...          47.77\n",
              " 103884  b8b61059626efa996a60be9bb9320e10  ...         369.54\n",
              " 103885  28bbae6599b09d39ca406b747b6632b1  ...         191.58\n",
              " \n",
              " [103886 rows x 5 columns]}"
            ]
          },
          "metadata": {
            "tags": []
          },
          "execution_count": 5
        }
      ]
    },
    {
      "cell_type": "markdown",
      "metadata": {
        "id": "qefFDliz-_Uq",
        "colab_type": "text"
      },
      "source": [
        "Ao exeutar a célula acima, chamando apenas a variável `dados` perceba que a visualização é muito ruim. \n",
        "Desta forma, como estamos lidando com um dicionário em que cada aba representa uma chave. Para visualizar quais são essas chaves basta utilizar  comando `.keys( )`."
      ]
    },
    {
      "cell_type": "code",
      "metadata": {
        "id": "MNrd6C8m_h_U",
        "colab_type": "code",
        "colab": {
          "base_uri": "https://localhost:8080/",
          "height": 35
        },
        "outputId": "17e2e555-2223-44fc-e3c3-ad5ab4e2d7fb"
      },
      "source": [
        "#Visualizar as abas\n",
        "dados.keys()"
      ],
      "execution_count": 6,
      "outputs": [
        {
          "output_type": "execute_result",
          "data": {
            "text/plain": [
              "dict_keys(['Clientes', 'Pagamentos', 'Itens'])"
            ]
          },
          "metadata": {
            "tags": []
          },
          "execution_count": 6
        }
      ]
    },
    {
      "cell_type": "markdown",
      "metadata": {
        "id": "uwDcQRdf_pdh",
        "colab_type": "text"
      },
      "source": [
        "Neste momento, vamos analisar apenas a aba clientes. Para selecionar essa aba, é só utilizar o código abaixo com o nome da aba desejada entre aspas. "
      ]
    },
    {
      "cell_type": "code",
      "metadata": {
        "id": "4hKdmbnv_2dQ",
        "colab_type": "code",
        "colab": {
          "base_uri": "https://localhost:8080/",
          "height": 206
        },
        "outputId": "7d4f003b-a706-47b9-be64-d401db3aef43"
      },
      "source": [
        "#Selecionando a aba 'Clientes'\n",
        "dados['Clientes'].head()"
      ],
      "execution_count": 9,
      "outputs": [
        {
          "output_type": "execute_result",
          "data": {
            "text/html": [
              "<div>\n",
              "<style scoped>\n",
              "    .dataframe tbody tr th:only-of-type {\n",
              "        vertical-align: middle;\n",
              "    }\n",
              "\n",
              "    .dataframe tbody tr th {\n",
              "        vertical-align: top;\n",
              "    }\n",
              "\n",
              "    .dataframe thead th {\n",
              "        text-align: right;\n",
              "    }\n",
              "</style>\n",
              "<table border=\"1\" class=\"dataframe\">\n",
              "  <thead>\n",
              "    <tr style=\"text-align: right;\">\n",
              "      <th></th>\n",
              "      <th>customer_id</th>\n",
              "      <th>customer_unique_id</th>\n",
              "      <th>customer_zip_code_prefix</th>\n",
              "      <th>customer_city</th>\n",
              "      <th>customer_state</th>\n",
              "    </tr>\n",
              "  </thead>\n",
              "  <tbody>\n",
              "    <tr>\n",
              "      <th>0</th>\n",
              "      <td>06b8999e2fba1a1fbc88172c00ba8bc7</td>\n",
              "      <td>861eff4711a542e4b93843c6dd7febb0</td>\n",
              "      <td>14409</td>\n",
              "      <td>franca</td>\n",
              "      <td>SP</td>\n",
              "    </tr>\n",
              "    <tr>\n",
              "      <th>1</th>\n",
              "      <td>18955e83d337fd6b2def6b18a428ac77</td>\n",
              "      <td>290c77bc529b7ac935b93aa66c333dc3</td>\n",
              "      <td>9790</td>\n",
              "      <td>sao bernardo do campo</td>\n",
              "      <td>SP</td>\n",
              "    </tr>\n",
              "    <tr>\n",
              "      <th>2</th>\n",
              "      <td>4e7b3e00288586ebd08712fdd0374a03</td>\n",
              "      <td>060e732b5b29e8181a18229c7b0b2b5e</td>\n",
              "      <td>1151</td>\n",
              "      <td>sao paulo</td>\n",
              "      <td>SP</td>\n",
              "    </tr>\n",
              "    <tr>\n",
              "      <th>3</th>\n",
              "      <td>b2b6027bc5c5109e529d4dc6358b12c3</td>\n",
              "      <td>259dac757896d24d7702b9acbbff3f3c</td>\n",
              "      <td>8775</td>\n",
              "      <td>mogi das cruzes</td>\n",
              "      <td>SP</td>\n",
              "    </tr>\n",
              "    <tr>\n",
              "      <th>4</th>\n",
              "      <td>4f2d8ab171c80ec8364f7c12e35b23ad</td>\n",
              "      <td>345ecd01c38d18a9036ed96c73b8d066</td>\n",
              "      <td>13056</td>\n",
              "      <td>campinas</td>\n",
              "      <td>SP</td>\n",
              "    </tr>\n",
              "  </tbody>\n",
              "</table>\n",
              "</div>"
            ],
            "text/plain": [
              "                        customer_id  ... customer_state\n",
              "0  06b8999e2fba1a1fbc88172c00ba8bc7  ...             SP\n",
              "1  18955e83d337fd6b2def6b18a428ac77  ...             SP\n",
              "2  4e7b3e00288586ebd08712fdd0374a03  ...             SP\n",
              "3  b2b6027bc5c5109e529d4dc6358b12c3  ...             SP\n",
              "4  4f2d8ab171c80ec8364f7c12e35b23ad  ...             SP\n",
              "\n",
              "[5 rows x 5 columns]"
            ]
          },
          "metadata": {
            "tags": []
          },
          "execution_count": 9
        }
      ]
    },
    {
      "cell_type": "markdown",
      "metadata": {
        "id": "-GoiEMEhAGPO",
        "colab_type": "text"
      },
      "source": [
        "## Utilizando o SweetViz. \n",
        "\n",
        "Agora, com os dados carregados e prontos para uso. Podemos utilizar o SweetViz. \n",
        "\n",
        "Para que um relatório seja utilizado é necessário criar uma variável e associar a ela a função `analyse()`, qu vai levar o parametro o conjunto de dados que sera analisado. "
      ]
    },
    {
      "cell_type": "code",
      "metadata": {
        "id": "bMl7hlSqAoXt",
        "colab_type": "code",
        "colab": {
          "base_uri": "https://localhost:8080/",
          "height": 72
        },
        "outputId": "d522a5a6-f5c0-4f1a-bab3-c6b031bfad75"
      },
      "source": [
        "# Criando o relatório \n",
        "relatorio_clientes = sweetviz.analyze(dados['Clientes'])"
      ],
      "execution_count": 13,
      "outputs": [
        {
          "output_type": "stream",
          "text": [
            ":FEATURES DONE:                    |█████████████████████| [100%]   00:03  -> (00:00 left)\n",
            ":PAIRWISE DONE:                    |█████████████████████| [100%]   00:00  -> (00:00 left)\n"
          ],
          "name": "stderr"
        },
        {
          "output_type": "stream",
          "text": [
            "Creating Associations graph... DONE!\n"
          ],
          "name": "stdout"
        }
      ]
    },
    {
      "cell_type": "markdown",
      "metadata": {
        "id": "JJvj18KnBF_u",
        "colab_type": "text"
      },
      "source": [
        "Uma vez que a célula acima foi criada é hora de visualizarmos o nosso relatório com o comando show.html( ), é importante passar como parametro o nome do arquivo html a ser criado pelo relatório "
      ]
    },
    {
      "cell_type": "code",
      "metadata": {
        "id": "CcMlOr99BdGN",
        "colab_type": "code",
        "colab": {
          "base_uri": "https://localhost:8080/",
          "height": 35
        },
        "outputId": "01301360-f73c-4d70-dc2f-bab6c0890da7"
      },
      "source": [
        "#Criando o arquivo html e mostrando o relatório \n",
        "relatorio_clientes.show_html(\"clientes.html\")"
      ],
      "execution_count": 14,
      "outputs": [
        {
          "output_type": "stream",
          "text": [
            "Report clientes.html was generated! NOTEBOOK/COLAB USERS: no browser will pop up, the report is saved in your notebook/colab files.\n"
          ],
          "name": "stdout"
        }
      ]
    },
    {
      "cell_type": "code",
      "metadata": {
        "id": "xYLPTiVbESyM",
        "colab_type": "code",
        "colab": {
          "base_uri": "https://localhost:8080/",
          "height": 72
        },
        "outputId": "4349edb9-caa1-4d81-9ea8-61016fda4635"
      },
      "source": [
        "#Criando relatório da aba Pagamentos\n",
        "relatorio_pagamentos = sweetviz.analyze(dados['Pagamentos'])"
      ],
      "execution_count": 15,
      "outputs": [
        {
          "output_type": "stream",
          "text": [
            ":FEATURES DONE:                    |█████████████████████| [100%]   00:02  -> (00:00 left)\n",
            ":PAIRWISE DONE:                    |█████████████████████| [100%]   00:00  -> (00:00 left)\n"
          ],
          "name": "stderr"
        },
        {
          "output_type": "stream",
          "text": [
            "Creating Associations graph... DONE!\n"
          ],
          "name": "stdout"
        }
      ]
    },
    {
      "cell_type": "code",
      "metadata": {
        "id": "S0IhNBZ_EfVy",
        "colab_type": "code",
        "colab": {
          "base_uri": "https://localhost:8080/",
          "height": 35
        },
        "outputId": "45e60692-d3f1-4df1-a7f6-2c3444e4ed48"
      },
      "source": [
        "relatorio_pagamentos.show_html('pagamentos.html')"
      ],
      "execution_count": 16,
      "outputs": [
        {
          "output_type": "stream",
          "text": [
            "Report pagamentos.html was generated! NOTEBOOK/COLAB USERS: no browser will pop up, the report is saved in your notebook/colab files.\n"
          ],
          "name": "stdout"
        }
      ]
    },
    {
      "cell_type": "code",
      "metadata": {
        "id": "y6clL5psEoZy",
        "colab_type": "code",
        "colab": {}
      },
      "source": [
        ""
      ],
      "execution_count": null,
      "outputs": []
    }
  ]
}