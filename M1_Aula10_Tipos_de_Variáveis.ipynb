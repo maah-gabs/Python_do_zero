{
  "nbformat": 4,
  "nbformat_minor": 0,
  "metadata": {
    "colab": {
      "name": "M1 - Aula10: Tipos de Variáveis ",
      "provenance": [],
      "authorship_tag": "ABX9TyPC0gXHFGTIbjtfwUZXBuW0",
      "include_colab_link": true
    },
    "kernelspec": {
      "name": "python3",
      "display_name": "Python 3"
    }
  },
  "cells": [
    {
      "cell_type": "markdown",
      "metadata": {
        "id": "view-in-github",
        "colab_type": "text"
      },
      "source": [
        "<a href=\"https://colab.research.google.com/github/maah-gabs/Python_do_zero/blob/master/M1_Aula10_Tipos_de_Vari%C3%A1veis.ipynb\" target=\"_parent\"><img src=\"https://colab.research.google.com/assets/colab-badge.svg\" alt=\"Open In Colab\"/></a>"
      ]
    },
    {
      "cell_type": "markdown",
      "metadata": {
        "id": "qcdekJsPsMXl",
        "colab_type": "text"
      },
      "source": [
        "## Modulo 01: Aula 10 - Tipos de Variáveis \n",
        "\n",
        "No Python, podemos associar valores a variáveis para que elas possam ser armazenadas e facilmente acessadas quando necessárias durante a manipulação do código. Podemos associar o nome variável como um \"nome\" ou \"apelido\" para um determinado objeto que estamos manipulando. Para realizarmos uma associação com a variável é necessário apenas utilizar o operador ( = ). "
      ]
    },
    {
      "cell_type": "code",
      "metadata": {
        "id": "rv4VqZRptaQS",
        "colab_type": "code",
        "colab": {}
      },
      "source": [
        "# Associando o número 300 a variável X\n",
        "x = 300"
      ],
      "execution_count": 1,
      "outputs": []
    },
    {
      "cell_type": "markdown",
      "metadata": {
        "id": "QTc-aBbQtknp",
        "colab_type": "text"
      },
      "source": [
        "Assim que associamos um valor a uma determinada variavel, podemos acessa - la usando o nome que demos, que no caso, x ou utilizando a função `print.`"
      ]
    },
    {
      "cell_type": "code",
      "metadata": {
        "id": "Bm-FbhEWtye1",
        "colab_type": "code",
        "colab": {
          "base_uri": "https://localhost:8080/",
          "height": 35
        },
        "outputId": "fcc1c00a-d739-4cc8-eaf8-c8aa2b24f527"
      },
      "source": [
        "x"
      ],
      "execution_count": 2,
      "outputs": [
        {
          "output_type": "execute_result",
          "data": {
            "text/plain": [
              "300"
            ]
          },
          "metadata": {
            "tags": []
          },
          "execution_count": 2
        }
      ]
    },
    {
      "cell_type": "code",
      "metadata": {
        "id": "egqWHnwsty7D",
        "colab_type": "code",
        "colab": {
          "base_uri": "https://localhost:8080/",
          "height": 35
        },
        "outputId": "6b3993fc-e604-4275-c583-5716876f455e"
      },
      "source": [
        "print(\"Numero X:\", x)"
      ],
      "execution_count": 3,
      "outputs": [
        {
          "output_type": "stream",
          "text": [
            "Numero X: 300\n"
          ],
          "name": "stdout"
        }
      ]
    },
    {
      "cell_type": "markdown",
      "metadata": {
        "id": "x1z-Tj5cuANo",
        "colab_type": "text"
      },
      "source": [
        "A variável também pode conter palavras e não apenas valores em numeros. "
      ]
    },
    {
      "cell_type": "code",
      "metadata": {
        "id": "ihdtVQQ4uGPF",
        "colab_type": "code",
        "colab": {}
      },
      "source": [
        "m = \"Maria Gabriela\""
      ],
      "execution_count": 4,
      "outputs": []
    },
    {
      "cell_type": "code",
      "metadata": {
        "id": "XYcw7jmyuJQT",
        "colab_type": "code",
        "colab": {
          "base_uri": "https://localhost:8080/",
          "height": 36
        },
        "outputId": "db9b8430-70a8-45b0-bdb0-83017cc1ed2f"
      },
      "source": [
        "m"
      ],
      "execution_count": 5,
      "outputs": [
        {
          "output_type": "execute_result",
          "data": {
            "application/vnd.google.colaboratory.intrinsic+json": {
              "type": "string"
            },
            "text/plain": [
              "'Maria Gabriela'"
            ]
          },
          "metadata": {
            "tags": []
          },
          "execution_count": 5
        }
      ]
    },
    {
      "cell_type": "code",
      "metadata": {
        "id": "dk91v6QIuJ9S",
        "colab_type": "code",
        "colab": {
          "base_uri": "https://localhost:8080/",
          "height": 35
        },
        "outputId": "19983631-19a6-41d6-c588-9e6e91ea50d9"
      },
      "source": [
        "print(\"Valor da Variável:\", m)"
      ],
      "execution_count": 7,
      "outputs": [
        {
          "output_type": "stream",
          "text": [
            "Valor da Variável: Maria Gabriela\n"
          ],
          "name": "stdout"
        }
      ]
    },
    {
      "cell_type": "markdown",
      "metadata": {
        "id": "5bHPaOAN0VXj",
        "colab_type": "text"
      },
      "source": [
        "Também é possível acessar um novo valor a essa variável, ou seja, fazendo com que a partir daquilo ela consiga assumir um novo valor. "
      ]
    },
    {
      "cell_type": "code",
      "metadata": {
        "id": "c98TYqw41Fwy",
        "colab_type": "code",
        "colab": {
          "base_uri": "https://localhost:8080/",
          "height": 54
        },
        "outputId": "1895c5d9-bb8c-489a-e249-0ec237e4ef6c"
      },
      "source": [
        "print(\"Valor inicial:\", x)\n",
        "\n",
        "#Atribuir novo valor \n",
        "x = 100\n",
        "\n",
        "print(\"Novo Valor:\", x)"
      ],
      "execution_count": 8,
      "outputs": [
        {
          "output_type": "stream",
          "text": [
            "Valor inicial: 300\n",
            "Novo Valor: 100\n"
          ],
          "name": "stdout"
        }
      ]
    },
    {
      "cell_type": "markdown",
      "metadata": {
        "id": "0D8H_BEA1W4a",
        "colab_type": "text"
      },
      "source": [
        "## Tipos de Variáveis \n",
        "\n",
        "Além da utilização dos inteiros ou `integers` também podemos utilizar outros tipos de variáveis como `strings` ou `floats`.\n"
      ]
    },
    {
      "cell_type": "markdown",
      "metadata": {
        "id": "GVKNPCQT1rxt",
        "colab_type": "text"
      },
      "source": [
        "### Integers \n",
        "\n",
        "Para utilizar valores inteiros, basta você criar valores sem decimais. "
      ]
    },
    {
      "cell_type": "code",
      "metadata": {
        "id": "n_-LF15r3tlA",
        "colab_type": "code",
        "colab": {
          "base_uri": "https://localhost:8080/",
          "height": 35
        },
        "outputId": "208ae28d-9626-41c2-b9c1-2d99586a4987"
      },
      "source": [
        "# Integers \n",
        "x = 50 \n",
        "print(x)"
      ],
      "execution_count": 9,
      "outputs": [
        {
          "output_type": "stream",
          "text": [
            "50\n"
          ],
          "name": "stdout"
        }
      ]
    },
    {
      "cell_type": "markdown",
      "metadata": {
        "id": "6u34_L7k4FPP",
        "colab_type": "text"
      },
      "source": [
        "### Floats \n",
        "\n",
        "Os `Floats` são variáveis númericas, porém, são numeros com casas decimais. Porém, tome cuidado a vírgula em Python, serve para enumerar e não para casas decimais. Desta forma, basta associar á variável é necessário ter uma casa decimal. "
      ]
    },
    {
      "cell_type": "code",
      "metadata": {
        "id": "K3XSaKnp5Bgs",
        "colab_type": "code",
        "colab": {
          "base_uri": "https://localhost:8080/",
          "height": 35
        },
        "outputId": "f6ec1ef6-b012-407b-9f96-b6e4a702b839"
      },
      "source": [
        "# Float \n",
        "x = 25.0 \n",
        "print(x) "
      ],
      "execution_count": 10,
      "outputs": [
        {
          "output_type": "stream",
          "text": [
            "25.0\n"
          ],
          "name": "stdout"
        }
      ]
    },
    {
      "cell_type": "markdown",
      "metadata": {
        "id": "67da_0P75l2r",
        "colab_type": "text"
      },
      "source": [
        "### Strings \n",
        "\n",
        "As Strings são linguagens natural, utilizando caracteres e palavras. \n",
        "Para criar `strings`, precisamos colocar nosso conteúdo entre parenteses. \n",
        "\n"
      ]
    },
    {
      "cell_type": "code",
      "metadata": {
        "id": "k37qdSBR58pL",
        "colab_type": "code",
        "colab": {
          "base_uri": "https://localhost:8080/",
          "height": 35
        },
        "outputId": "33f75541-a65b-4d88-a5d4-1154920182bd"
      },
      "source": [
        "# Strings \n",
        "\n",
        "x = \"Data Science é a profissional mais sexy do mundo\"\n",
        "print(x)"
      ],
      "execution_count": 11,
      "outputs": [
        {
          "output_type": "stream",
          "text": [
            "Data Science é a profissional mais sexy do mundo\n"
          ],
          "name": "stdout"
        }
      ]
    },
    {
      "cell_type": "markdown",
      "metadata": {
        "id": "oBDiuL_57O5A",
        "colab_type": "text"
      },
      "source": [
        "## Verificando o tipo de Variável \n",
        "\n",
        "Quando estamos criando nosso banco de dados, é claro que sempre vamos criar as variáveis com os tipos e formas desejadas para evitar erros e trabalho ao manipular esses dados. \n",
        "\n",
        "Mas, ao analisarmos grandes bancos de dados, não é comum que essas variáveis estejam em formatos diferentes que não nos dão opção de manipula - las da forma mais adequada. \n",
        "\n",
        "Para que sejamos capazes de visualizar o tipo da variável que estamos manipulando, podemo utilizar a função `type ( )` "
      ]
    },
    {
      "cell_type": "code",
      "metadata": {
        "id": "GJr1RmGU8Gve",
        "colab_type": "code",
        "colab": {
          "base_uri": "https://localhost:8080/",
          "height": 54
        },
        "outputId": "cfd85d54-ecbf-47c2-c7e1-aa602e72b3ab"
      },
      "source": [
        "# Imprimindo a Variável \n",
        "x = 100.0\n",
        "print(x)\n",
        "\n",
        "#Verificando o tipo da variável \n",
        "type(x)\n"
      ],
      "execution_count": 12,
      "outputs": [
        {
          "output_type": "stream",
          "text": [
            "100.0\n"
          ],
          "name": "stdout"
        },
        {
          "output_type": "execute_result",
          "data": {
            "text/plain": [
              "float"
            ]
          },
          "metadata": {
            "tags": []
          },
          "execution_count": 12
        }
      ]
    },
    {
      "cell_type": "code",
      "metadata": {
        "id": "sa81ti2d8QrR",
        "colab_type": "code",
        "colab": {
          "base_uri": "https://localhost:8080/",
          "height": 54
        },
        "outputId": "5daf729f-2d8f-4248-f827-abd185cead0c"
      },
      "source": [
        "# Imprimindo a Variável \n",
        "z = 100\n",
        "print(z)\n",
        "\n",
        "#Verificando o tipo da variável \n",
        "type(z)"
      ],
      "execution_count": 13,
      "outputs": [
        {
          "output_type": "stream",
          "text": [
            "100\n"
          ],
          "name": "stdout"
        },
        {
          "output_type": "execute_result",
          "data": {
            "text/plain": [
              "int"
            ]
          },
          "metadata": {
            "tags": []
          },
          "execution_count": 13
        }
      ]
    },
    {
      "cell_type": "code",
      "metadata": {
        "id": "lQvwSPT18c0y",
        "colab_type": "code",
        "colab": {
          "base_uri": "https://localhost:8080/",
          "height": 54
        },
        "outputId": "7f7060e6-2ba2-49b9-d895-6258e457e9b5"
      },
      "source": [
        "# Imprimindo a Variável \n",
        "w = \"100\"\n",
        "print(w)\n",
        "\n",
        "#Verificando o tipo da variável \n",
        "type(w)"
      ],
      "execution_count": 14,
      "outputs": [
        {
          "output_type": "stream",
          "text": [
            "100\n"
          ],
          "name": "stdout"
        },
        {
          "output_type": "execute_result",
          "data": {
            "text/plain": [
              "str"
            ]
          },
          "metadata": {
            "tags": []
          },
          "execution_count": 14
        }
      ]
    },
    {
      "cell_type": "markdown",
      "metadata": {
        "id": "oiFKbMC-8nAG",
        "colab_type": "text"
      },
      "source": [
        "## Criando Variáveis a partir de Variáveis \n",
        "\n",
        "Também podemos criar cópias das variáveis, associando novos valores a ela. \n",
        "Isso permite com que possamos explorar a variável sem alterar a original. \n",
        "\n"
      ]
    },
    {
      "cell_type": "code",
      "metadata": {
        "id": "1MZII3Oy9MPo",
        "colab_type": "code",
        "colab": {
          "base_uri": "https://localhost:8080/",
          "height": 54
        },
        "outputId": "c0bae135-91b8-4641-dffe-84642b00e24a"
      },
      "source": [
        "# Criando uma variável através da variável original\n",
        "print(\"Variavel x:\", x)\n",
        "\n",
        "y = x\n",
        "\n",
        "print(\"Variavel y:\", y)"
      ],
      "execution_count": 15,
      "outputs": [
        {
          "output_type": "stream",
          "text": [
            "Variavel x: 100.0\n",
            "Variavel y: 100.0\n"
          ],
          "name": "stdout"
        }
      ]
    },
    {
      "cell_type": "markdown",
      "metadata": {
        "id": "Jm81dtdB-DKo",
        "colab_type": "text"
      },
      "source": [
        "Qualquer tipo de variável pode passar pelo processo descrito acima. Também podemos criar uma nova variável a partir uma operação realizada com a variável original. "
      ]
    },
    {
      "cell_type": "code",
      "metadata": {
        "id": "fZSfmQnl-SS7",
        "colab_type": "code",
        "colab": {
          "base_uri": "https://localhost:8080/",
          "height": 35
        },
        "outputId": "fdeed8c3-2ce2-4995-a9e4-8d73fa3690a8"
      },
      "source": [
        "# Criando uma nova variável a partir de uma operação\n",
        "x = 10\n",
        "\n",
        "y = x * 10\n",
        "\n",
        "print(y)"
      ],
      "execution_count": 16,
      "outputs": [
        {
          "output_type": "stream",
          "text": [
            "100\n"
          ],
          "name": "stdout"
        }
      ]
    },
    {
      "cell_type": "markdown",
      "metadata": {
        "id": "652okyhF-5Nm",
        "colab_type": "text"
      },
      "source": [
        "Importante entender que o relacionamento entre as duas acaba no momento em que se realiza a associação. Após isso, elas vão funcionar independentes uma da outra, portanto, alterações são feitas em uma não alterará na outra. "
      ]
    },
    {
      "cell_type": "code",
      "metadata": {
        "id": "J7yy2gVk_MSc",
        "colab_type": "code",
        "colab": {
          "base_uri": "https://localhost:8080/",
          "height": 201
        },
        "outputId": "ea14d391-e9cf-4eea-c132-3c8ce370efc5"
      },
      "source": [
        "# Criando as variáveis \n",
        "print('Criando Variáveis')\n",
        "x = 10\n",
        "\n",
        "y = x \n",
        "\n",
        "#resultado\n",
        "print('x:', x)\n",
        "print('y', y)\n",
        "\n",
        "print('\\nTranformação x = y + 10')\n",
        "x = y + 10\n",
        "\n",
        "#Resultado \n",
        "print('Novo x:', x)\n",
        "print('y:', y)\n",
        "\n",
        "print('\\Tranformação y =y/2')\n",
        "y = y/2\n",
        "\n",
        "#resultado\n",
        "print('x:',x)\n",
        "print('Novo y:', y)"
      ],
      "execution_count": 17,
      "outputs": [
        {
          "output_type": "stream",
          "text": [
            "Criando Variáveis\n",
            "x: 10\n",
            "y 10\n",
            "\n",
            "Tranformação x = y + 10\n",
            "Novo x: 20\n",
            "y: 10\n",
            "\\Tranformação y =y/2\n",
            "x: 20\n",
            "Novo y: 5.0\n"
          ],
          "name": "stdout"
        }
      ]
    },
    {
      "cell_type": "markdown",
      "metadata": {
        "id": "dfDhrliIAfAR",
        "colab_type": "text"
      },
      "source": [
        "### Exercicios\n",
        "\n",
        "Vamos praticar o que aprendemos na aula. "
      ]
    },
    {
      "cell_type": "markdown",
      "metadata": {
        "id": "tSkDQHfnAofM",
        "colab_type": "text"
      },
      "source": [
        "#### Exercício 1\n",
        "\n",
        "Crie uma variável do tipo `integer`, chamada x, e associe a ela sua idade."
      ]
    },
    {
      "cell_type": "code",
      "metadata": {
        "id": "cPdESiISAprF",
        "colab_type": "code",
        "colab": {
          "base_uri": "https://localhost:8080/",
          "height": 54
        },
        "outputId": "2e90100a-9f9d-4ba5-8fc5-00ad62a76261"
      },
      "source": [
        "x = 27\n",
        "print(x)\n",
        "type(x)"
      ],
      "execution_count": 24,
      "outputs": [
        {
          "output_type": "stream",
          "text": [
            "27\n"
          ],
          "name": "stdout"
        },
        {
          "output_type": "execute_result",
          "data": {
            "text/plain": [
              "int"
            ]
          },
          "metadata": {
            "tags": []
          },
          "execution_count": 24
        }
      ]
    },
    {
      "cell_type": "markdown",
      "metadata": {
        "id": "jtwDmEVBAyCS",
        "colab_type": "text"
      },
      "source": [
        "#### Exercício 2\n",
        "\n",
        "Crie uma variável do tipo `float`, chamada y, e associe a ela o preço de uma barra de chocolate."
      ]
    },
    {
      "cell_type": "code",
      "metadata": {
        "id": "YkhV1I9mAzNT",
        "colab_type": "code",
        "colab": {
          "base_uri": "https://localhost:8080/",
          "height": 54
        },
        "outputId": "a061b382-380c-4e2f-cd6e-0ad362b4e70e"
      },
      "source": [
        "y = 3.49\n",
        "print(y)\n",
        "type(y)"
      ],
      "execution_count": 26,
      "outputs": [
        {
          "output_type": "stream",
          "text": [
            "3.49\n"
          ],
          "name": "stdout"
        },
        {
          "output_type": "execute_result",
          "data": {
            "text/plain": [
              "float"
            ]
          },
          "metadata": {
            "tags": []
          },
          "execution_count": 26
        }
      ]
    },
    {
      "cell_type": "markdown",
      "metadata": {
        "id": "q0CbNUOKA76P",
        "colab_type": "text"
      },
      "source": [
        "#### Exercício 3\n",
        "Crie uma variável do tipo `string`, chamada `nome` e associe a ela o seu nome."
      ]
    },
    {
      "cell_type": "code",
      "metadata": {
        "id": "GgMIXD_0A8sM",
        "colab_type": "code",
        "colab": {
          "base_uri": "https://localhost:8080/",
          "height": 54
        },
        "outputId": "ad29a52e-485b-48a1-8f78-21214bd8554c"
      },
      "source": [
        "nome = \"Maria Gabriela\"\n",
        "print(nome)\n",
        "type(nome)"
      ],
      "execution_count": 20,
      "outputs": [
        {
          "output_type": "stream",
          "text": [
            "Maria Gabriela\n"
          ],
          "name": "stdout"
        },
        {
          "output_type": "execute_result",
          "data": {
            "text/plain": [
              "str"
            ]
          },
          "metadata": {
            "tags": []
          },
          "execution_count": 20
        }
      ]
    },
    {
      "cell_type": "markdown",
      "metadata": {
        "id": "lSxu2apCBH2L",
        "colab_type": "text"
      },
      "source": [
        "#### Exercício 4\n",
        "\n",
        "Verifique o tipo das variáveis `x`, `y`, `nome`.\n",
        "\n",
        "Dica: A função print vai ajudar a fazer tudo em uma célula só."
      ]
    },
    {
      "cell_type": "code",
      "metadata": {
        "id": "lyTCMuaYBIm2",
        "colab_type": "code",
        "colab": {
          "base_uri": "https://localhost:8080/",
          "height": 72
        },
        "outputId": "39e53812-4365-4b40-9996-5b755e944585"
      },
      "source": [
        "print(type(x))\n",
        "print(type(y))\n",
        "print(type(nome))\n"
      ],
      "execution_count": 27,
      "outputs": [
        {
          "output_type": "stream",
          "text": [
            "<class 'int'>\n",
            "<class 'float'>\n",
            "<class 'str'>\n"
          ],
          "name": "stdout"
        }
      ]
    },
    {
      "cell_type": "markdown",
      "metadata": {
        "id": "-eOSfYUrBXur",
        "colab_type": "text"
      },
      "source": [
        "#### Exercício 5\n",
        "\n",
        "Crie uma variável que seja que calcule o ano em que você nasceu, utilizando operadores matemáticos e sua variável `x`."
      ]
    },
    {
      "cell_type": "code",
      "metadata": {
        "id": "3FMITiA4BYn8",
        "colab_type": "code",
        "colab": {
          "base_uri": "https://localhost:8080/",
          "height": 35
        },
        "outputId": "032ad3a8-a09e-407e-9b98-18fab6282f0f"
      },
      "source": [
        "x = 2020 - x\n",
        "print(x)"
      ],
      "execution_count": 25,
      "outputs": [
        {
          "output_type": "stream",
          "text": [
            "1993\n"
          ],
          "name": "stdout"
        }
      ]
    },
    {
      "cell_type": "markdown",
      "metadata": {
        "id": "azmxcK27B0J8",
        "colab_type": "text"
      },
      "source": [
        "### Exercício 6\n",
        "\n",
        "Crie uma variável para o preço de 3 barras de chocolate, usando a variável `y`."
      ]
    },
    {
      "cell_type": "code",
      "metadata": {
        "id": "Ta1Egr6bB1Ot",
        "colab_type": "code",
        "colab": {
          "base_uri": "https://localhost:8080/",
          "height": 35
        },
        "outputId": "4c7849e0-2ac3-4375-bd9d-400d4caa0c30"
      },
      "source": [
        "choc = 3 * y\n",
        "print(choc)"
      ],
      "execution_count": 28,
      "outputs": [
        {
          "output_type": "stream",
          "text": [
            "10.47\n"
          ],
          "name": "stdout"
        }
      ]
    },
    {
      "cell_type": "markdown",
      "metadata": {
        "id": "5T_aMtgGB-Tj",
        "colab_type": "text"
      },
      "source": [
        "### Exercício 7\n",
        "Crie uma variável que contenha o seu nome 10 vezes, utilizando a variável `nome`."
      ]
    },
    {
      "cell_type": "code",
      "metadata": {
        "id": "pqHtCsFSB_ah",
        "colab_type": "code",
        "colab": {
          "base_uri": "https://localhost:8080/",
          "height": 35
        },
        "outputId": "934179d9-18bb-4d40-bba2-e5f4d087f8b0"
      },
      "source": [
        "ten_times = nome * 10\n",
        "print(ten_times)"
      ],
      "execution_count": 29,
      "outputs": [
        {
          "output_type": "stream",
          "text": [
            "Maria GabrielaMaria GabrielaMaria GabrielaMaria GabrielaMaria GabrielaMaria GabrielaMaria GabrielaMaria GabrielaMaria GabrielaMaria Gabriela\n"
          ],
          "name": "stdout"
        }
      ]
    },
    {
      "cell_type": "code",
      "metadata": {
        "id": "_nLdmGboCFOo",
        "colab_type": "code",
        "colab": {}
      },
      "source": [
        ""
      ],
      "execution_count": null,
      "outputs": []
    }
  ]
}