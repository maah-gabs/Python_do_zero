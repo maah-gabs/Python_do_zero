{
  "nbformat": 4,
  "nbformat_minor": 0,
  "metadata": {
    "colab": {
      "name": "Boleanos e operadores lógicos",
      "provenance": [],
      "authorship_tag": "ABX9TyPCLPK1VpwdObgHd3xvtfkQ",
      "include_colab_link": true
    },
    "kernelspec": {
      "name": "python3",
      "display_name": "Python 3"
    }
  },
  "cells": [
    {
      "cell_type": "markdown",
      "metadata": {
        "id": "view-in-github",
        "colab_type": "text"
      },
      "source": [
        "<a href=\"https://colab.research.google.com/github/maah-gabs/Python_do_zero/blob/master/Boleanos_e_operadores_l%C3%B3gicos.ipynb\" target=\"_parent\"><img src=\"https://colab.research.google.com/assets/colab-badge.svg\" alt=\"Open In Colab\"/></a>"
      ]
    },
    {
      "cell_type": "markdown",
      "metadata": {
        "id": "4o1bGGti7cZK",
        "colab_type": "text"
      },
      "source": [
        "## Módulo 02: Aula 10 - Booleanos e Operadores Lógicos \n",
        "\n",
        "Os booleanos ou bools são extremamente importantes para qualquer lógica de programa de computador. \n",
        "\n",
        "O tipo de bool é um dado que possui valores de *True* ou *False.*\n",
        "\n",
        "* *True* - equivale ao número 01\n",
        "* *False* - equivale ao número 0 "
      ]
    },
    {
      "cell_type": "code",
      "metadata": {
        "id": "5hzE1FdD8KoI",
        "colab_type": "code",
        "colab": {
          "base_uri": "https://localhost:8080/",
          "height": 35
        },
        "outputId": "dbd16833-5d4c-48f5-ce9d-e97a7157876d"
      },
      "source": [
        "#ver o tipo de True \n",
        "type(True)"
      ],
      "execution_count": 2,
      "outputs": [
        {
          "output_type": "execute_result",
          "data": {
            "text/plain": [
              "bool"
            ]
          },
          "metadata": {
            "tags": []
          },
          "execution_count": 2
        }
      ]
    },
    {
      "cell_type": "code",
      "metadata": {
        "id": "ihzfonmx8Oae",
        "colab_type": "code",
        "colab": {
          "base_uri": "https://localhost:8080/",
          "height": 35
        },
        "outputId": "a2206bc8-056d-45a8-98b0-d137ab45ad20"
      },
      "source": [
        "#ver o tipo de False \n",
        "type(False)"
      ],
      "execution_count": 3,
      "outputs": [
        {
          "output_type": "execute_result",
          "data": {
            "text/plain": [
              "bool"
            ]
          },
          "metadata": {
            "tags": []
          },
          "execution_count": 3
        }
      ]
    },
    {
      "cell_type": "markdown",
      "metadata": {
        "id": "tkPhBtYE9czW",
        "colab_type": "text"
      },
      "source": [
        "## Operadores Relacionais \n",
        "Eles servem para fazer comparações entre valores ou variáveis. Após realizarmos uma avaliar uma exporessão os operadores relacionais retornam um dado do tipo `bool`, ou seja, `True` ou `False`. Os seis operadores são: \n",
        "\n",
        "\n",
        "\n",
        "| **OPERADOR** | **DESCRIÇÃO**    |\n",
        "|:------------:|:----------------:|\n",
        "| <            | Menor que        |\n",
        "| >            | Maior que        |\n",
        "| <=           | Menor or igual a |\n",
        "| >=           | Maior ou igual a |\n",
        "| ==           | Igual a          |\n",
        "| \\!=          | Diferente de     |"
      ]
    },
    {
      "cell_type": "code",
      "metadata": {
        "id": "ujrx2ph7_KkS",
        "colab_type": "code",
        "colab": {
          "base_uri": "https://localhost:8080/",
          "height": 35
        },
        "outputId": "a1bb0c9b-978c-4675-9737-f14c8470b66f"
      },
      "source": [
        "# Operador relacional maior que\n",
        "4 > 5 "
      ],
      "execution_count": 4,
      "outputs": [
        {
          "output_type": "execute_result",
          "data": {
            "text/plain": [
              "False"
            ]
          },
          "metadata": {
            "tags": []
          },
          "execution_count": 4
        }
      ]
    },
    {
      "cell_type": "code",
      "metadata": {
        "id": "mJJt3YPM_N6z",
        "colab_type": "code",
        "colab": {
          "base_uri": "https://localhost:8080/",
          "height": 35
        },
        "outputId": "4d4cd73e-1a79-4a92-d62f-30e7dfb00c98"
      },
      "source": [
        "# Operador relacional igual a \n",
        "4 == 4"
      ],
      "execution_count": 5,
      "outputs": [
        {
          "output_type": "execute_result",
          "data": {
            "text/plain": [
              "True"
            ]
          },
          "metadata": {
            "tags": []
          },
          "execution_count": 5
        }
      ]
    },
    {
      "cell_type": "markdown",
      "metadata": {
        "id": "hG5U6f4X_tiB",
        "colab_type": "text"
      },
      "source": [
        "Podemos utilizar esses operadores para `strings` também, como no exemplo abaixo. Um ponto importante de se ressaltar é de que o python é **case sensitive**, o que significa que ele vai diferenciar maiusculas de minusculas, portanto *X* **não é igual** a *x*. "
      ]
    },
    {
      "cell_type": "code",
      "metadata": {
        "id": "byGXFCQjACMn",
        "colab_type": "code",
        "colab": {
          "base_uri": "https://localhost:8080/",
          "height": 35
        },
        "outputId": "8a8b384d-739c-4e93-f398-467529f94785"
      },
      "source": [
        "#operador relacional com strings \n",
        "'texto' == 'TEXTO'"
      ],
      "execution_count": 6,
      "outputs": [
        {
          "output_type": "execute_result",
          "data": {
            "text/plain": [
              "False"
            ]
          },
          "metadata": {
            "tags": []
          },
          "execution_count": 6
        }
      ]
    },
    {
      "cell_type": "markdown",
      "metadata": {
        "id": "PQjdGYNrBmkS",
        "colab_type": "text"
      },
      "source": [
        "Quando utilizamos os booleanos, o *True* assume o valor de 1 e o *False* assume o valor de 0. "
      ]
    },
    {
      "cell_type": "code",
      "metadata": {
        "id": "G5uPfuVdB2pz",
        "colab_type": "code",
        "colab": {
          "base_uri": "https://localhost:8080/",
          "height": 35
        },
        "outputId": "afca9359-24d8-459a-de99-2bf5ef1fb775"
      },
      "source": [
        "True == 1"
      ],
      "execution_count": 7,
      "outputs": [
        {
          "output_type": "execute_result",
          "data": {
            "text/plain": [
              "True"
            ]
          },
          "metadata": {
            "tags": []
          },
          "execution_count": 7
        }
      ]
    },
    {
      "cell_type": "code",
      "metadata": {
        "id": "nlu1Ut7CB341",
        "colab_type": "code",
        "colab": {
          "base_uri": "https://localhost:8080/",
          "height": 35
        },
        "outputId": "4ebfdc69-657e-41e9-e9aa-1fddd1ddf95b"
      },
      "source": [
        "False == 0"
      ],
      "execution_count": 9,
      "outputs": [
        {
          "output_type": "execute_result",
          "data": {
            "text/plain": [
              "True"
            ]
          },
          "metadata": {
            "tags": []
          },
          "execution_count": 9
        }
      ]
    },
    {
      "cell_type": "markdown",
      "metadata": {
        "id": "idaQc9veCFOT",
        "colab_type": "text"
      },
      "source": [
        "Podemos utilizar operadores booleanos para diferentes tarefas, que apresentam diversos níveis de complexidade. "
      ]
    },
    {
      "cell_type": "code",
      "metadata": {
        "id": "H4uh2_ZuCNAC",
        "colab_type": "code",
        "colab": {
          "base_uri": "https://localhost:8080/",
          "height": 35
        },
        "outputId": "91855414-44a6-4662-bc87-a123cb41afc5"
      },
      "source": [
        "2 ** 10 >= 100"
      ],
      "execution_count": 10,
      "outputs": [
        {
          "output_type": "execute_result",
          "data": {
            "text/plain": [
              "True"
            ]
          },
          "metadata": {
            "tags": []
          },
          "execution_count": 10
        }
      ]
    },
    {
      "cell_type": "markdown",
      "metadata": {
        "id": "xpFYSKYGCpMx",
        "colab_type": "text"
      },
      "source": [
        "Ao usarmos o comparativo \"diferente de\", estamos buscando igualdade total, ou seja, um 2 tipo `int` e um '2' tipo `string` não são considerados iguais."
      ]
    },
    {
      "cell_type": "code",
      "metadata": {
        "id": "j0WrsYobC61z",
        "colab_type": "code",
        "colab": {
          "base_uri": "https://localhost:8080/",
          "height": 35
        },
        "outputId": "c6c4c205-acac-4b07-cd15-2b36283293b7"
      },
      "source": [
        "# A pergunta é: eles são diferentes?\n",
        "2 !='2'"
      ],
      "execution_count": 11,
      "outputs": [
        {
          "output_type": "execute_result",
          "data": {
            "text/plain": [
              "True"
            ]
          },
          "metadata": {
            "tags": []
          },
          "execution_count": 11
        }
      ]
    },
    {
      "cell_type": "markdown",
      "metadata": {
        "id": "Q0rwLNBmDocx",
        "colab_type": "text"
      },
      "source": [
        "## Operadores Lógicos \n",
        "\n",
        "São operadores que permitem com que a gente una diversas exporessões lógicas e de comparações. \n",
        "\n",
        "Os tres operadores que vocês precisam conhecer são: \n",
        "\n",
        "\n",
        "| **OPERADORES LÓGICOS** | **DESCRIÇÃO**                                         |\n",
        "|:----------------------:|:-----------------------------------------------------:|\n",
        "| and                    | Verifica se todas as expressões são True              |\n",
        "| or                     | Verifica se pelo menos uma expressão é verdadeira     |\n",
        "| not                    | Verifica a negação da expressão\\. Inverte o resultado |\n"
      ]
    },
    {
      "cell_type": "markdown",
      "metadata": {
        "id": "zcIAhgiIEIxV",
        "colab_type": "text"
      },
      "source": [
        "## Operador lógico AND\n",
        "\n",
        "Quando utilizamos esse operador, nós queremos que **TODAS** as condições sejam verdadeiras. Caso algumas delas não seja de acordo com as condições, a execução me retornará um valor `False`."
      ]
    },
    {
      "cell_type": "code",
      "metadata": {
        "id": "p4GTb_aWEavf",
        "colab_type": "code",
        "colab": {
          "base_uri": "https://localhost:8080/",
          "height": 35
        },
        "outputId": "2534ec6e-32e1-4b45-a316-1045a20e6b8e"
      },
      "source": [
        "#Verificar se todas as condições foram atendidas\n",
        "idade = 23\n",
        "possui_habilitacao = True\n",
        "\n",
        "#permitir aluguel ao carro?\n",
        "(idade >= 18) and (possui_habilitacao)"
      ],
      "execution_count": 12,
      "outputs": [
        {
          "output_type": "execute_result",
          "data": {
            "text/plain": [
              "True"
            ]
          },
          "metadata": {
            "tags": []
          },
          "execution_count": 12
        }
      ]
    },
    {
      "cell_type": "code",
      "metadata": {
        "id": "nzxwr2FsEpX3",
        "colab_type": "code",
        "colab": {
          "base_uri": "https://localhost:8080/",
          "height": 35
        },
        "outputId": "b5c111ae-b16a-4cc1-9077-7384fd006b45"
      },
      "source": [
        "# Verificar se todas as condições são atendidas\n",
        "idade = 17 \n",
        "possui_habilitacao = True\n",
        "\n",
        "#permitir o aluguel do carro \n",
        "(idade >= 18) and (possui_habilitacao)"
      ],
      "execution_count": 13,
      "outputs": [
        {
          "output_type": "execute_result",
          "data": {
            "text/plain": [
              "False"
            ]
          },
          "metadata": {
            "tags": []
          },
          "execution_count": 13
        }
      ]
    },
    {
      "cell_type": "markdown",
      "metadata": {
        "id": "DffHZgZ6F7x1",
        "colab_type": "text"
      },
      "source": [
        "## Operador OR \n",
        "\n",
        "Para o OR, pelo menos uma das condições seja satisfeita. "
      ]
    },
    {
      "cell_type": "code",
      "metadata": {
        "id": "OiwLxSt4GJ5d",
        "colab_type": "code",
        "colab": {
          "base_uri": "https://localhost:8080/",
          "height": 35
        },
        "outputId": "4378d564-aab0-4385-a8bb-b66e26e85fa9"
      },
      "source": [
        "# Verificar se ao menos uma condição é atendida \n",
        "tempo_relacionamento = 3 \n",
        "valor_da_compra = 300.50\n",
        "cartao_da_loja = False\n",
        "\n",
        "#fornecer desconto se uma das condições for verdadeira\n",
        "(tempo_relacionamento > 1) or (valor_da_compra > 500.00) or (cartao_da_loja)"
      ],
      "execution_count": 15,
      "outputs": [
        {
          "output_type": "execute_result",
          "data": {
            "text/plain": [
              "True"
            ]
          },
          "metadata": {
            "tags": []
          },
          "execution_count": 15
        }
      ]
    },
    {
      "cell_type": "markdown",
      "metadata": {
        "id": "ds8oUIQBHAsN",
        "colab_type": "text"
      },
      "source": [
        "## Operador NOT \n",
        "\n",
        "Quando usamos esse operador, estamos verificando a negação da operação, ou seja, a gente inverte o resultado. \n",
        "\n",
        "Ou seja, ele retorna `False` caso seja `True`"
      ]
    },
    {
      "cell_type": "code",
      "metadata": {
        "id": "8ir9DE_0HkCV",
        "colab_type": "code",
        "colab": {
          "base_uri": "https://localhost:8080/",
          "height": 35
        },
        "outputId": "350ba770-cc27-4689-bb96-e6995d86dff4"
      },
      "source": [
        "# verificar se a criança pode entrar em um brinquedo \n",
        "altura_crianca = 1.10 \n",
        "\n",
        "# a criança pode entrar no brinquedo?\n",
        "not altura_crianca < 1.50"
      ],
      "execution_count": 16,
      "outputs": [
        {
          "output_type": "execute_result",
          "data": {
            "text/plain": [
              "False"
            ]
          },
          "metadata": {
            "tags": []
          },
          "execution_count": 16
        }
      ]
    },
    {
      "cell_type": "markdown",
      "metadata": {
        "id": "13ak8VoNJZvO",
        "colab_type": "text"
      },
      "source": [
        "# Exercícios \n",
        "\n",
        "Bora praticar? "
      ]
    },
    {
      "cell_type": "markdown",
      "metadata": {
        "id": "DmtoFWUdJdoF",
        "colab_type": "text"
      },
      "source": [
        "### Exercicio 01: \n",
        "\n",
        "Verifique se a expressão $2^4$ é igual a $16$:"
      ]
    },
    {
      "cell_type": "code",
      "metadata": {
        "id": "J3-aFXSvJiZC",
        "colab_type": "code",
        "colab": {
          "base_uri": "https://localhost:8080/",
          "height": 35
        },
        "outputId": "a39e0bb3-1820-4ed6-f288-56c3719ee11f"
      },
      "source": [
        "2 ** 4 == 16"
      ],
      "execution_count": 18,
      "outputs": [
        {
          "output_type": "execute_result",
          "data": {
            "text/plain": [
              "True"
            ]
          },
          "metadata": {
            "tags": []
          },
          "execution_count": 18
        }
      ]
    },
    {
      "cell_type": "markdown",
      "metadata": {
        "id": "hp9lPPeaJn0g",
        "colab_type": "text"
      },
      "source": [
        "### Exercício 2\n",
        "Abaixo estão as notas de 3 provas de um estudante de ensino médio. Usando Operadores Lógicos e Operadores Relacionais, verifique se o mesmo foi aprovado no semestre. A condição para aprovação é ter a média das notas maior ou igual a 7."
      ]
    },
    {
      "cell_type": "code",
      "metadata": {
        "id": "xPzOYs1GJvGe",
        "colab_type": "code",
        "colab": {}
      },
      "source": [
        "nota_matematica = 7.0\n",
        "nota_ingles = 8.2\n",
        "nota_historia = 6.95\n"
      ],
      "execution_count": 19,
      "outputs": []
    },
    {
      "cell_type": "code",
      "metadata": {
        "id": "7VvvvtoLKR1Z",
        "colab_type": "code",
        "colab": {
          "base_uri": "https://localhost:8080/",
          "height": 90
        },
        "outputId": "b55ef065-93b4-4e17-faaa-dcf90a7367f6"
      },
      "source": [
        "print(nota_matematica >= 7)\n",
        "print(nota_ingles >= 7)\n",
        "print(nota_matematica >= 7)\n",
        "\n",
        "#verificar a media geral \n",
        "print((nota_matematica + nota_ingles + nota_historia / 3 >= 7))"
      ],
      "execution_count": 20,
      "outputs": [
        {
          "output_type": "stream",
          "text": [
            "True\n",
            "True\n",
            "True\n",
            "True\n"
          ],
          "name": "stdout"
        }
      ]
    },
    {
      "cell_type": "markdown",
      "metadata": {
        "id": "ivchz7QnKoeq",
        "colab_type": "text"
      },
      "source": [
        "### Exercício 3\n",
        "Usando operadores lógicos e matemáticos, verifique se João pode tirar carteira de motorista, sabendo que a idade mínima para isso é 18 anos de idade, e que custa R$1.000,00"
      ]
    },
    {
      "cell_type": "code",
      "metadata": {
        "id": "lwxw7g8YKuh1",
        "colab_type": "code",
        "colab": {}
      },
      "source": [
        "# Dados do João \n",
        "idade = 19 \n",
        "saldo = 1500"
      ],
      "execution_count": 22,
      "outputs": []
    },
    {
      "cell_type": "code",
      "metadata": {
        "id": "1dRZPfnZK0LC",
        "colab_type": "code",
        "colab": {
          "base_uri": "https://localhost:8080/",
          "height": 35
        },
        "outputId": "aa62d159-eb47-4a73-af4c-2288464c802d"
      },
      "source": [
        "(idade >=18) and (saldo>=1000)"
      ],
      "execution_count": 23,
      "outputs": [
        {
          "output_type": "execute_result",
          "data": {
            "text/plain": [
              "True"
            ]
          },
          "metadata": {
            "tags": []
          },
          "execution_count": 23
        }
      ]
    },
    {
      "cell_type": "code",
      "metadata": {
        "id": "SxML4kpAK5x_",
        "colab_type": "code",
        "colab": {}
      },
      "source": [
        ""
      ],
      "execution_count": null,
      "outputs": []
    }
  ]
}