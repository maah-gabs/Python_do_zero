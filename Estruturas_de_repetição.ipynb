{
  "nbformat": 4,
  "nbformat_minor": 0,
  "metadata": {
    "colab": {
      "name": "Estruturas de repetição",
      "provenance": [],
      "authorship_tag": "ABX9TyMEbWYSFIYukXTUWALYzBPB",
      "include_colab_link": true
    },
    "kernelspec": {
      "name": "python3",
      "display_name": "Python 3"
    }
  },
  "cells": [
    {
      "cell_type": "markdown",
      "metadata": {
        "id": "view-in-github",
        "colab_type": "text"
      },
      "source": [
        "<a href=\"https://colab.research.google.com/github/maah-gabs/Python_do_zero/blob/master/Estruturas_de_repeti%C3%A7%C3%A3o.ipynb\" target=\"_parent\"><img src=\"https://colab.research.google.com/assets/colab-badge.svg\" alt=\"Open In Colab\"/></a>"
      ]
    },
    {
      "cell_type": "markdown",
      "metadata": {
        "id": "XvH11D08hCxn",
        "colab_type": "text"
      },
      "source": [
        "# Módulo 04: Aula 07 - Estruturas de repetição \n",
        "\n",
        "Estrutras de repetição, são utilizadas em algumas vezes. "
      ]
    },
    {
      "cell_type": "markdown",
      "metadata": {
        "id": "AMzey91ViD4v",
        "colab_type": "text"
      },
      "source": [
        "## For Loops \n",
        "\n",
        "Essa função, permite que você repita parte dos códigos, de uma forma que não há necessidade de repetir códigos manualmente. O `for` permite você execute uma determinada ação **até que** uma condição seja atendida. "
      ]
    },
    {
      "cell_type": "code",
      "metadata": {
        "id": "DBKHdByIiDJK",
        "colab_type": "code",
        "colab": {
          "base_uri": "https://localhost:8080/",
          "height": 201
        },
        "outputId": "f2a1a661-feda-43f2-a1a7-1f9c1d772d2d"
      },
      "source": [
        "import time\n",
        "\n",
        "# Listando o número no range 10\n",
        "for n in range(10):\n",
        "  print(n)\n",
        "  time.sleep(1)"
      ],
      "execution_count": 1,
      "outputs": [
        {
          "output_type": "stream",
          "text": [
            "0\n",
            "1\n",
            "2\n",
            "3\n",
            "4\n",
            "5\n",
            "6\n",
            "7\n",
            "8\n",
            "9\n"
          ],
          "name": "stdout"
        }
      ]
    },
    {
      "cell_type": "code",
      "metadata": {
        "id": "Pxx99DNHi8pP",
        "colab_type": "code",
        "colab": {
          "base_uri": "https://localhost:8080/",
          "height": 201
        },
        "outputId": "a0f30549-1ce2-4738-ab0b-b5407a3e2766"
      },
      "source": [
        "# Listando a raiz quadrada de 0 - 9 \n",
        "# Listando o número no range 10\n",
        "for n in range(10):\n",
        "  print(n ** 2)\n",
        "  time.sleep(1)"
      ],
      "execution_count": 2,
      "outputs": [
        {
          "output_type": "stream",
          "text": [
            "0\n",
            "1\n",
            "4\n",
            "9\n",
            "16\n",
            "25\n",
            "36\n",
            "49\n",
            "64\n",
            "81\n"
          ],
          "name": "stdout"
        }
      ]
    },
    {
      "cell_type": "code",
      "metadata": {
        "id": "b3QVqgNQjr5M",
        "colab_type": "code",
        "colab": {
          "base_uri": "https://localhost:8080/",
          "height": 109
        },
        "outputId": "88082762-123a-4ba6-eeeb-357cc4612325"
      },
      "source": [
        "# Lista de convidados \n",
        "lista_convidados = [\"Maria Gabriela\", \"Cristiane\", \"Diodetis\", \"Maria Vitória\", \"Samuel\"]\n",
        "\n",
        "for a in lista_convidados:\n",
        "  print(a)\n",
        "  time.sleep(1)"
      ],
      "execution_count": 3,
      "outputs": [
        {
          "output_type": "stream",
          "text": [
            "Maria Gabriela\n",
            "Cristiane\n",
            "Diodetis\n",
            "Maria Vitória\n",
            "Samuel\n"
          ],
          "name": "stdout"
        }
      ]
    },
    {
      "cell_type": "code",
      "metadata": {
        "id": "aQu3Hn8MkcTq",
        "colab_type": "code",
        "colab": {
          "base_uri": "https://localhost:8080/",
          "height": 219
        },
        "outputId": "c5f09b7d-d232-4397-c823-aa63d98bc4eb"
      },
      "source": [
        "# Multiplicando números por range \n",
        "for i in range(11):\n",
        "  resultado = i * 9\n",
        "  print(\"9 x\", i, \"=\", resultado)"
      ],
      "execution_count": 5,
      "outputs": [
        {
          "output_type": "stream",
          "text": [
            "9 x 0 = 0\n",
            "9 x 1 = 9\n",
            "9 x 2 = 18\n",
            "9 x 3 = 27\n",
            "9 x 4 = 36\n",
            "9 x 5 = 45\n",
            "9 x 6 = 54\n",
            "9 x 7 = 63\n",
            "9 x 8 = 72\n",
            "9 x 9 = 81\n",
            "9 x 10 = 90\n"
          ],
          "name": "stdout"
        }
      ]
    },
    {
      "cell_type": "markdown",
      "metadata": {
        "id": "hvZMajpkma_k",
        "colab_type": "text"
      },
      "source": [
        "## While Loops \n",
        "\n",
        "Trabalha de uma forma similar ao `for`, porém, o for recebe a instrução de quantas vezes aquilo precisará ser repetido, O `while` continuará com essa ação até que uma determinada ação seja repetida e atingida. "
      ]
    },
    {
      "cell_type": "code",
      "metadata": {
        "id": "yv_YJ2xfnfyb",
        "colab_type": "code",
        "colab": {
          "base_uri": "https://localhost:8080/",
          "height": 54
        },
        "outputId": "c0ae0933-7397-44ee-9b9b-b3f259a226df"
      },
      "source": [
        "saldo = 300.00\n",
        "preco_pizza = 80.50\n",
        "\n",
        "counter = 0 \n",
        "while saldo >= preco_pizza: \n",
        "  counter = counter + 1\n",
        "  saldo = saldo - preco_pizza\n",
        "\n",
        "print('Você comprou', counter, \"pizzas!\")\n",
        "print(\"Saldo Remanescente: R$\", saldo)"
      ],
      "execution_count": 6,
      "outputs": [
        {
          "output_type": "stream",
          "text": [
            "Você comprou 3 pizzas!\n",
            "Saldo Remanescente: R$ 58.5\n"
          ],
          "name": "stdout"
        }
      ]
    },
    {
      "cell_type": "code",
      "metadata": {
        "id": "1QRlgzj4tk4N",
        "colab_type": "code",
        "colab": {
          "base_uri": "https://localhost:8080/",
          "height": 219
        },
        "outputId": "d4e2d160-f7da-4085-c521-983ac1605082"
      },
      "source": [
        "validade_yakult = 10 \n",
        "\n",
        "while validade_yakult > 0:\n",
        "  print(\"[+} Produto na validade. Faltam\", validade_yakult, \"dias.\")\n",
        "  validade_yakult = validade_yakult - 1\n",
        "print(\"[-] ATENÇÃO: Yorgut vencido. Faltam\", validade_yakult, \"dias.\")"
      ],
      "execution_count": 7,
      "outputs": [
        {
          "output_type": "stream",
          "text": [
            "[+} Produto na validade. Faltam 10 dias.\n",
            "[+} Produto na validade. Faltam 9 dias.\n",
            "[+} Produto na validade. Faltam 8 dias.\n",
            "[+} Produto na validade. Faltam 7 dias.\n",
            "[+} Produto na validade. Faltam 6 dias.\n",
            "[+} Produto na validade. Faltam 5 dias.\n",
            "[+} Produto na validade. Faltam 4 dias.\n",
            "[+} Produto na validade. Faltam 3 dias.\n",
            "[+} Produto na validade. Faltam 2 dias.\n",
            "[+} Produto na validade. Faltam 1 dias.\n",
            "[-] ATENÇÃO: Yorgut vencido. Faltam 0 dias.\n"
          ],
          "name": "stdout"
        }
      ]
    },
    {
      "cell_type": "markdown",
      "metadata": {
        "id": "4gLsfxafxd8I",
        "colab_type": "text"
      },
      "source": [
        "## Exercicios \n",
        "\n",
        "Agora que já vimos algumas das principais formas de estruturas de condiação e de repetição. Vamos treinar? "
      ]
    },
    {
      "cell_type": "markdown",
      "metadata": {
        "id": "n2m3mkYWxqua",
        "colab_type": "text"
      },
      "source": [
        "#### Exercicio 01 \n",
        "\n",
        "Crie uma condicional para saber se uma pessoa pode comprar um carro. "
      ]
    },
    {
      "cell_type": "code",
      "metadata": {
        "id": "aaQyg-uJ0-Ut",
        "colab_type": "code",
        "colab": {
          "base_uri": "https://localhost:8080/",
          "height": 35
        },
        "outputId": "2af31802-03c9-4eaf-f3db-47efba9f0043"
      },
      "source": [
        "idade = 26\n",
        "cnh = True \n",
        "\n",
        "if idade >=18 and cnh: \n",
        "  print(\"Você pode alugar um carro\")\n",
        "else:\n",
        "  print(\"Não pode alugar um carro\")"
      ],
      "execution_count": 8,
      "outputs": [
        {
          "output_type": "stream",
          "text": [
            "Você pode alugar um carro\n"
          ],
          "name": "stdout"
        }
      ]
    },
    {
      "cell_type": "markdown",
      "metadata": {
        "id": "A-6AISFt2GYO",
        "colab_type": "text"
      },
      "source": [
        "#### Exercicio 02\n",
        "\n",
        "Crie uma lista com cinco elementos e crie uma estrutura condicional para listar todos os itens da lista. "
      ]
    },
    {
      "cell_type": "code",
      "metadata": {
        "id": "0quOx_nB2ksH",
        "colab_type": "code",
        "colab": {
          "base_uri": "https://localhost:8080/",
          "height": 109
        },
        "outputId": "2f9bc510-990e-47bc-f552-07709c32afed"
      },
      "source": [
        "lista_compras = [\"TV\", \"Processador\", \"Fone de Ouvido\", \"Tenis\", \"Teclado 2 x 1\"]\n",
        "\n",
        "for n in lista_compras:\n",
        "  print(n)"
      ],
      "execution_count": 9,
      "outputs": [
        {
          "output_type": "stream",
          "text": [
            "TV\n",
            "Processador\n",
            "Fone de Ouvido\n",
            "Tenis\n",
            "Teclado 2x 1\n"
          ],
          "name": "stdout"
        }
      ]
    },
    {
      "cell_type": "markdown",
      "metadata": {
        "id": "3mV2rLwr3NAE",
        "colab_type": "text"
      },
      "source": [
        "#### Exercicio 03\n",
        "\n",
        "Crie uma estrutura condicional para calcular os dias até o final do mêS. "
      ]
    },
    {
      "cell_type": "code",
      "metadata": {
        "id": "drtJ58w83kuF",
        "colab_type": "code",
        "colab": {
          "base_uri": "https://localhost:8080/",
          "height": 586
        },
        "outputId": "9c296ca7-ab16-437c-b8a3-2be6915e07e0"
      },
      "source": [
        "dia_mes = 30\n",
        "\n",
        "while dia_mes > 0:\n",
        "  print(\"Faltam\", dia_mes, \"dias.\")\n",
        "  dia_mes -= 1\n",
        "\n",
        "print(\"Fim do mês! Faltam\", dia_mes, \"dias\")"
      ],
      "execution_count": 18,
      "outputs": [
        {
          "output_type": "stream",
          "text": [
            "Faltam 30 dias.\n",
            "Faltam 29 dias.\n",
            "Faltam 28 dias.\n",
            "Faltam 27 dias.\n",
            "Faltam 26 dias.\n",
            "Faltam 25 dias.\n",
            "Faltam 24 dias.\n",
            "Faltam 23 dias.\n",
            "Faltam 22 dias.\n",
            "Faltam 21 dias.\n",
            "Faltam 20 dias.\n",
            "Faltam 19 dias.\n",
            "Faltam 18 dias.\n",
            "Faltam 17 dias.\n",
            "Faltam 16 dias.\n",
            "Faltam 15 dias.\n",
            "Faltam 14 dias.\n",
            "Faltam 13 dias.\n",
            "Faltam 12 dias.\n",
            "Faltam 11 dias.\n",
            "Faltam 10 dias.\n",
            "Faltam 9 dias.\n",
            "Faltam 8 dias.\n",
            "Faltam 7 dias.\n",
            "Faltam 6 dias.\n",
            "Faltam 5 dias.\n",
            "Faltam 4 dias.\n",
            "Faltam 3 dias.\n",
            "Faltam 2 dias.\n",
            "Faltam 1 dias.\n",
            "Fim do mês! Faltam 0 dias\n"
          ],
          "name": "stdout"
        }
      ]
    },
    {
      "cell_type": "code",
      "metadata": {
        "id": "lqYXzsdg4XW_",
        "colab_type": "code",
        "colab": {}
      },
      "source": [
        ""
      ],
      "execution_count": null,
      "outputs": []
    }
  ]
}