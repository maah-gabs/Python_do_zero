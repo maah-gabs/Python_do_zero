{
  "nbformat": 4,
  "nbformat_minor": 0,
  "metadata": {
    "colab": {
      "name": "Listas",
      "provenance": [],
      "authorship_tag": "ABX9TyMs37H5mQjrUdczh7r82u3L",
      "include_colab_link": true
    },
    "kernelspec": {
      "name": "python3",
      "display_name": "Python 3"
    }
  },
  "cells": [
    {
      "cell_type": "markdown",
      "metadata": {
        "id": "view-in-github",
        "colab_type": "text"
      },
      "source": [
        "<a href=\"https://colab.research.google.com/github/maah-gabs/Python_do_zero/blob/master/Listas.ipynb\" target=\"_parent\"><img src=\"https://colab.research.google.com/assets/colab-badge.svg\" alt=\"Open In Colab\"/></a>"
      ]
    },
    {
      "cell_type": "markdown",
      "metadata": {
        "id": "otCxO19yWlQM",
        "colab_type": "text"
      },
      "source": [
        "# Módulo 04: Análise e Tratamento de Dados - Aula 02 - Listas \n",
        "\n",
        "Lista são sequencias em que cada valor tem um índice. O tipo de variável que criamos é `list ( )`. Uma questão importante sobre as litas é que ela são mutáveis, composta por diversos elementos ou itens. \n",
        "\n",
        "Para criar uma lista, basta utilizar os colchetes []. "
      ]
    },
    {
      "cell_type": "code",
      "metadata": {
        "id": "cQvGfYTgXTL-",
        "colab_type": "code",
        "colab": {
          "base_uri": "https://localhost:8080/",
          "height": 54
        },
        "outputId": "b03e79bf-f51e-48b6-befb-ccefecf420b8"
      },
      "source": [
        "# Criar uma lista \n",
        "lista_inicial = []\n",
        "print(lista_inicial)\n",
        "print(type(lista_inicial))"
      ],
      "execution_count": 1,
      "outputs": [
        {
          "output_type": "stream",
          "text": [
            "[]\n",
            "<class 'list'>\n"
          ],
          "name": "stdout"
        }
      ]
    },
    {
      "cell_type": "code",
      "metadata": {
        "id": "9FJSrzSgXc3x",
        "colab_type": "code",
        "colab": {
          "base_uri": "https://localhost:8080/",
          "height": 35
        },
        "outputId": "2b9e60a6-4045-4a79-892a-be27285abf46"
      },
      "source": [
        "# Criar uma lista com itens \n",
        "lista_inicial = [\"Maria\", \"Gabriela\", 1.88, True]\n",
        "print(lista_inicial)"
      ],
      "execution_count": 3,
      "outputs": [
        {
          "output_type": "stream",
          "text": [
            "['Maria', 'Gabriela', 1.88, True]\n"
          ],
          "name": "stdout"
        }
      ]
    },
    {
      "cell_type": "markdown",
      "metadata": {
        "id": "3ZVdBAq3YhHC",
        "colab_type": "text"
      },
      "source": [
        "## Acessando Elementos. \n",
        "\n",
        "Na lista, conseguimos ter acesso aos elementos da lista, percabe que a indexação mantém igual a de quando lidamos com as strings, certo? \n",
        "\n",
        "\n",
        "| \"Maria\" | \"Gabriela\" | 1\\.88 | True |\n",
        "|----------|--------|-------|------|\n",
        "| 0        | 1      | 2     | 3    |\n",
        "| \\-4      | \\-3    | \\-2   | \\-1  |"
      ]
    },
    {
      "cell_type": "code",
      "metadata": {
        "id": "CUUwmyunZUqj",
        "colab_type": "code",
        "colab": {
          "base_uri": "https://localhost:8080/",
          "height": 35
        },
        "outputId": "1a709963-7bf7-4393-e00c-21be2a4e3e6a"
      },
      "source": [
        "# Acessar o elemento 'Gabriela\n",
        "print(lista_inicial[1])"
      ],
      "execution_count": 4,
      "outputs": [
        {
          "output_type": "stream",
          "text": [
            "Gabriela\n"
          ],
          "name": "stdout"
        }
      ]
    },
    {
      "cell_type": "code",
      "metadata": {
        "id": "69kM6LxoZb2C",
        "colab_type": "code",
        "colab": {
          "base_uri": "https://localhost:8080/",
          "height": 54
        },
        "outputId": "41dc22df-01f5-43f7-a783-e24c36391c05"
      },
      "source": [
        "# Acessar o penultimo elemento\n",
        "print(lista_inicial[-2])\n",
        "print(lista_inicial[2])"
      ],
      "execution_count": 5,
      "outputs": [
        {
          "output_type": "stream",
          "text": [
            "1.88\n",
            "1.88\n"
          ],
          "name": "stdout"
        }
      ]
    },
    {
      "cell_type": "markdown",
      "metadata": {
        "id": "kRjoRCDnZyKz",
        "colab_type": "text"
      },
      "source": [
        "Lembre - se, assim como trabalhamos com `Strings` caso você executa uma célula com um item da lista que não existe o Python retornará um erro. \n",
        "\n"
      ]
    },
    {
      "cell_type": "markdown",
      "metadata": {
        "id": "Z_yCCDf-a1YF",
        "colab_type": "text"
      },
      "source": [
        "### Fatias de Listas \n",
        "\n",
        "Assim como conseguimos \"fatiar\" as strings, também somos capazes de fazer isso com as listas. No Python, fatiar significa acessar itens que estejam dentro de um intervalo considerado. \n",
        "\n",
        "| \"Eduarda\" | \"Estudante\" | 222\\.50 | 433\\.80 | 591\\.66 | 124\\.20 |\n",
        "|-----------|-------------|---------|---------|---------|---------|\n",
        "| 0         | 1           | 2       | 3       | 4       | 5       |\n",
        "| \\-6       | \\-5         | \\-4     | \\-3     | \\-2     | \\-1     |\n"
      ]
    },
    {
      "cell_type": "code",
      "metadata": {
        "id": "lSxpr9yNbVnF",
        "colab_type": "code",
        "colab": {}
      },
      "source": [
        "# Gastos por trimestre \n",
        "\n",
        "cliente = [\"Eduarda\", \"Estudante\", 222.50, 433.80, 591.66, 124.20]"
      ],
      "execution_count": 6,
      "outputs": []
    },
    {
      "cell_type": "code",
      "metadata": {
        "id": "mZQbnMldbh0A",
        "colab_type": "code",
        "colab": {
          "base_uri": "https://localhost:8080/",
          "height": 35
        },
        "outputId": "722b109f-6e67-405c-de04-b05db09d24b5"
      },
      "source": [
        "# Acessar as ultimas 4 colunas \n",
        "cliente[2:]"
      ],
      "execution_count": 7,
      "outputs": [
        {
          "output_type": "execute_result",
          "data": {
            "text/plain": [
              "[222.5, 433.8, 591.66, 124.2]"
            ]
          },
          "metadata": {
            "tags": []
          },
          "execution_count": 7
        }
      ]
    },
    {
      "cell_type": "markdown",
      "metadata": {
        "id": "RecIv1pvb3w5",
        "colab_type": "text"
      },
      "source": [
        "### Verificando se um item pertence a lista \n",
        "\n",
        "Na manipulação de listas, somos capazes de checar se um item se encontra na lista ou não. Tudo isso, utilizando o `in` ou `not in`, a resposta para essa execução será de um booleano. "
      ]
    },
    {
      "cell_type": "code",
      "metadata": {
        "id": "52vbP5QwchY-",
        "colab_type": "code",
        "colab": {}
      },
      "source": [
        "# Criar lista de convidados\n",
        "convidados = [\"Ricardo\", \"Aline\", \"Carlos\", \"Mathias\", \"Elaine\"]"
      ],
      "execution_count": 11,
      "outputs": []
    },
    {
      "cell_type": "code",
      "metadata": {
        "id": "A9eMTCSBcuR5",
        "colab_type": "code",
        "colab": {
          "base_uri": "https://localhost:8080/",
          "height": 35
        },
        "outputId": "630064b4-448e-4f21-cc7a-10e8612bf698"
      },
      "source": [
        "# Ver se a Elaine está entre os convidados \n",
        "\"Elaine\" in convidados"
      ],
      "execution_count": 12,
      "outputs": [
        {
          "output_type": "execute_result",
          "data": {
            "text/plain": [
              "True"
            ]
          },
          "metadata": {
            "tags": []
          },
          "execution_count": 12
        }
      ]
    },
    {
      "cell_type": "code",
      "metadata": {
        "id": "9bZDogP_c1Sf",
        "colab_type": "code",
        "colab": {
          "base_uri": "https://localhost:8080/",
          "height": 35
        },
        "outputId": "341dce4a-7577-45c0-eb21-c422624a9dcd"
      },
      "source": [
        "#Confirmar se o Pablo não foi convidado \n",
        "\"Pablo\" not in convidados"
      ],
      "execution_count": 13,
      "outputs": [
        {
          "output_type": "execute_result",
          "data": {
            "text/plain": [
              "True"
            ]
          },
          "metadata": {
            "tags": []
          },
          "execution_count": 13
        }
      ]
    },
    {
      "cell_type": "markdown",
      "metadata": {
        "id": "qA1WZLCddT3S",
        "colab_type": "text"
      },
      "source": [
        "### Alterar um item da minha lista \n",
        "\n",
        "Uma vez que sabemos que as listas são mutáveis, é possível acessar um índice e alterar o conteúdo dele. "
      ]
    },
    {
      "cell_type": "code",
      "metadata": {
        "id": "YEplaw5CdufS",
        "colab_type": "code",
        "colab": {
          "base_uri": "https://localhost:8080/",
          "height": 35
        },
        "outputId": "0d2d5187-69c2-4c4a-f4ed-745bd4bbb770"
      },
      "source": [
        "carteira = [\"BBAS3\", \"WEGE3\", \"ITSA4\"]\n",
        "print(carteira)"
      ],
      "execution_count": 15,
      "outputs": [
        {
          "output_type": "stream",
          "text": [
            "['BBAS3', 'WEGE3', 'ITSA4']\n"
          ],
          "name": "stdout"
        }
      ]
    },
    {
      "cell_type": "code",
      "metadata": {
        "id": "ALwK6Wj7fA7C",
        "colab_type": "code",
        "colab": {
          "base_uri": "https://localhost:8080/",
          "height": 35
        },
        "outputId": "3233ef26-6b43-446c-bbde-3506565594d5"
      },
      "source": [
        "# Trocar a ITSA4 por PETR4\n",
        "carteira[2] = \"PETR4\"\n",
        "print(carteira)"
      ],
      "execution_count": 16,
      "outputs": [
        {
          "output_type": "stream",
          "text": [
            "['BBAS3', 'WEGE3', 'PETR4']\n"
          ],
          "name": "stdout"
        }
      ]
    },
    {
      "cell_type": "markdown",
      "metadata": {
        "id": "R4sO4WCvffvt",
        "colab_type": "text"
      },
      "source": [
        "### Adicionando ou excuindo itens de uma lista. \n",
        "\n",
        "Para acrescentar um item ao final da lista basta usar o `.append()`. \n",
        "\n",
        "Para excluir um item, podemo usar tanto o método `pop( )` quanto o `remove( )`. Porém, existe uma diferença entre as duas opções: Enquanto um recebe a posição do item como argumento o outro considera o proprio valor do Item. "
      ]
    },
    {
      "cell_type": "code",
      "metadata": {
        "id": "VbvgRIW9iILb",
        "colab_type": "code",
        "colab": {
          "base_uri": "https://localhost:8080/",
          "height": 35
        },
        "outputId": "3ec37161-8d1c-4bac-92fb-533a1ef46781"
      },
      "source": [
        "# Acrescentar 'Ana Cristina' a lista. \n",
        "convidados = [\"Ricardo\", \"Aline\", \"Carlos\", \"Mathias\", \"Elaine\"]\n",
        "\n",
        "convidados.append('Ana Cristina')\n",
        "print(convidados)"
      ],
      "execution_count": 19,
      "outputs": [
        {
          "output_type": "stream",
          "text": [
            "['Ricardo', 'Aline', 'Carlos', 'Mathias', 'Elaine', 'Ana Cristina']\n"
          ],
          "name": "stdout"
        }
      ]
    },
    {
      "cell_type": "code",
      "metadata": {
        "id": "cNXkCJCCic3l",
        "colab_type": "code",
        "colab": {
          "base_uri": "https://localhost:8080/",
          "height": 35
        },
        "outputId": "1c596ad5-1ee9-4b5e-aa7d-3ea93111150f"
      },
      "source": [
        "# Excluir o primeiro candidato da lista\n",
        "convidados.pop(0)\n",
        "print(convidados)"
      ],
      "execution_count": 20,
      "outputs": [
        {
          "output_type": "stream",
          "text": [
            "['Aline', 'Carlos', 'Mathias', 'Elaine', 'Ana Cristina']\n"
          ],
          "name": "stdout"
        }
      ]
    },
    {
      "cell_type": "code",
      "metadata": {
        "id": "dy0m_HKtivjk",
        "colab_type": "code",
        "colab": {
          "base_uri": "https://localhost:8080/",
          "height": 35
        },
        "outputId": "1422865a-73bf-44b8-a522-dfee244da28b"
      },
      "source": [
        "# Excluir 'Carlos' da lista de convidados \n",
        "convidados.remove('Carlos')\n",
        "print(convidados)"
      ],
      "execution_count": 21,
      "outputs": [
        {
          "output_type": "stream",
          "text": [
            "['Aline', 'Mathias', 'Elaine', 'Ana Cristina']\n"
          ],
          "name": "stdout"
        }
      ]
    },
    {
      "cell_type": "markdown",
      "metadata": {
        "id": "dI4bR831jGKN",
        "colab_type": "text"
      },
      "source": [
        "## Exercícios\n",
        "\n",
        "#### Exercício 1\n",
        "- Crie uma lista que contenha o nome de 5 frutas. "
      ]
    },
    {
      "cell_type": "code",
      "metadata": {
        "id": "IViWIV_wjRBZ",
        "colab_type": "code",
        "colab": {
          "base_uri": "https://localhost:8080/",
          "height": 35
        },
        "outputId": "316d8e9c-34c1-455e-d698-aeb7dd552ea3"
      },
      "source": [
        "# Lista de cinco frutas \n",
        "\n",
        "frutas = ['Banana', 'Maça', 'Pera', 'Melancia', 'Uva']\n",
        "print(frutas)"
      ],
      "execution_count": 32,
      "outputs": [
        {
          "output_type": "stream",
          "text": [
            "['Banana', 'Maça', 'Pera', 'Melancia', 'Uva']\n"
          ],
          "name": "stdout"
        }
      ]
    },
    {
      "cell_type": "markdown",
      "metadata": {
        "id": "W-LNROCnjcpQ",
        "colab_type": "text"
      },
      "source": [
        "#### Exercicio 2:\n",
        "\n",
        "Acrescente a sua lista de frutas. \n",
        "\n",
        "1. Uma sexta fruta; \n",
        "2. Um objeto do tipo `int`.\n",
        "3. Um objeto do tipo `float`."
      ]
    },
    {
      "cell_type": "code",
      "metadata": {
        "id": "yhdzaiURj1DD",
        "colab_type": "code",
        "colab": {
          "base_uri": "https://localhost:8080/",
          "height": 35
        },
        "outputId": "2d9efad8-6475-4d5f-bb43-9d570c13176b"
      },
      "source": [
        "frutas.append('Abacaxi')\n",
        "frutas.append(2)\n",
        "frutas.append(1.98)\n",
        "print(frutas)"
      ],
      "execution_count": 33,
      "outputs": [
        {
          "output_type": "stream",
          "text": [
            "['Banana', 'Maça', 'Pera', 'Melancia', 'Uva', 'Abacaxi', 2, 1.98]\n"
          ],
          "name": "stdout"
        }
      ]
    },
    {
      "cell_type": "markdown",
      "metadata": {
        "id": "SC8mvdW4kHA3",
        "colab_type": "text"
      },
      "source": [
        "#### Exercicio 3:\n",
        "\n",
        "Verifique se os seguintes itens estão na lista: \n",
        "\n",
        "* Maçã;\n",
        "* Mamão; \n",
        "* 90; \n"
      ]
    },
    {
      "cell_type": "code",
      "metadata": {
        "id": "k6DBYixykVgP",
        "colab_type": "code",
        "colab": {
          "base_uri": "https://localhost:8080/",
          "height": 35
        },
        "outputId": "ee07662d-5b79-4a66-c758-be2fc0de4b29"
      },
      "source": [
        "'Maça' in frutas"
      ],
      "execution_count": 25,
      "outputs": [
        {
          "output_type": "execute_result",
          "data": {
            "text/plain": [
              "True"
            ]
          },
          "metadata": {
            "tags": []
          },
          "execution_count": 25
        }
      ]
    },
    {
      "cell_type": "code",
      "metadata": {
        "id": "t9NCvuc3kcSt",
        "colab_type": "code",
        "colab": {
          "base_uri": "https://localhost:8080/",
          "height": 35
        },
        "outputId": "461556d1-be31-4bdf-c177-5753c5d553db"
      },
      "source": [
        "'Mamão' in frutas"
      ],
      "execution_count": 26,
      "outputs": [
        {
          "output_type": "execute_result",
          "data": {
            "text/plain": [
              "False"
            ]
          },
          "metadata": {
            "tags": []
          },
          "execution_count": 26
        }
      ]
    },
    {
      "cell_type": "code",
      "metadata": {
        "id": "VI9M11Bmke3O",
        "colab_type": "code",
        "colab": {
          "base_uri": "https://localhost:8080/",
          "height": 35
        },
        "outputId": "f3cf25fa-27e0-485a-f949-cad1e363ba0e"
      },
      "source": [
        "90 in frutas"
      ],
      "execution_count": 27,
      "outputs": [
        {
          "output_type": "execute_result",
          "data": {
            "text/plain": [
              "False"
            ]
          },
          "metadata": {
            "tags": []
          },
          "execution_count": 27
        }
      ]
    },
    {
      "cell_type": "markdown",
      "metadata": {
        "id": "9fQfg5btkjnq",
        "colab_type": "text"
      },
      "source": [
        "#### Exercicio 04 \n",
        "\n",
        "Execute as seguintes tarefas com a sua lista \n",
        "\n",
        "* Substitua o iten no index 3 pelo número 35\n",
        "* Remova da lista o index 3\n",
        "* Remova todos os itens da lista. "
      ]
    },
    {
      "cell_type": "code",
      "metadata": {
        "id": "cIUvW08Vk0-b",
        "colab_type": "code",
        "colab": {
          "base_uri": "https://localhost:8080/",
          "height": 35
        },
        "outputId": "4f5d83ff-8dc0-4c49-ca80-fad5238987c5"
      },
      "source": [
        "frutas[3] = 35\n",
        "print(frutas)"
      ],
      "execution_count": 34,
      "outputs": [
        {
          "output_type": "stream",
          "text": [
            "['Banana', 'Maça', 'Pera', 35, 'Uva', 'Abacaxi', 2, 1.98]\n"
          ],
          "name": "stdout"
        }
      ]
    },
    {
      "cell_type": "code",
      "metadata": {
        "id": "5xMsHB_bk4WP",
        "colab_type": "code",
        "colab": {
          "base_uri": "https://localhost:8080/",
          "height": 35
        },
        "outputId": "ac6052b2-1eac-44c5-ca44-03f99cc660ed"
      },
      "source": [
        "frutas.pop(3)\n",
        "print(frutas)"
      ],
      "execution_count": 35,
      "outputs": [
        {
          "output_type": "stream",
          "text": [
            "['Banana', 'Maça', 'Pera', 'Uva', 'Abacaxi', 2, 1.98]\n"
          ],
          "name": "stdout"
        }
      ]
    },
    {
      "cell_type": "code",
      "metadata": {
        "id": "FisKV1Jtk_E-",
        "colab_type": "code",
        "colab": {
          "base_uri": "https://localhost:8080/",
          "height": 35
        },
        "outputId": "88bd556e-4005-4f72-c6c7-48a196e705ac"
      },
      "source": [
        "#linmpando a lista \n",
        "frutas.clear()\n",
        "print(frutas)"
      ],
      "execution_count": 36,
      "outputs": [
        {
          "output_type": "stream",
          "text": [
            "[]\n"
          ],
          "name": "stdout"
        }
      ]
    },
    {
      "cell_type": "code",
      "metadata": {
        "id": "zhn6gMPwlbzt",
        "colab_type": "code",
        "colab": {}
      },
      "source": [
        ""
      ],
      "execution_count": null,
      "outputs": []
    }
  ]
}