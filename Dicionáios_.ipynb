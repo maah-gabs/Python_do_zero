{
  "nbformat": 4,
  "nbformat_minor": 0,
  "metadata": {
    "colab": {
      "name": "Dicionáios.",
      "provenance": [],
      "authorship_tag": "ABX9TyMMHLdfEExX5mF+FyCF6Doi",
      "include_colab_link": true
    },
    "kernelspec": {
      "name": "python3",
      "display_name": "Python 3"
    }
  },
  "cells": [
    {
      "cell_type": "markdown",
      "metadata": {
        "id": "view-in-github",
        "colab_type": "text"
      },
      "source": [
        "<a href=\"https://colab.research.google.com/github/maah-gabs/Python_do_zero/blob/master/Dicion%C3%A1ios_.ipynb\" target=\"_parent\"><img src=\"https://colab.research.google.com/assets/colab-badge.svg\" alt=\"Open In Colab\"/></a>"
      ]
    },
    {
      "cell_type": "markdown",
      "metadata": {
        "id": "IhFMxmA8F4vJ",
        "colab_type": "text"
      },
      "source": [
        "# Módulo 04 - Análise e tratamento de dados - Aula 04 - Dicionários\n",
        "\n",
        "Dicionários são tipos de dados que podem ser mudados. No entanto, diferentemente das listas e os dicionários fazem parte do mapeamento \"Chaves\" e \"Valores\". \n",
        "\n",
        "\n",
        "<center><img width=\"65%\" src=\"https://developers.google.com/edu/python/images/dict.png\"></center>\n",
        "\n",
        "\n",
        "Podemos ressaltar também, que as as chaves presentes no dicionário não tenham apenas `strings` mas também outros formatos de variável. \n",
        "\n",
        "Para a criaçãoo de um dicionário, basta utilizar as chaves `{}`"
      ]
    },
    {
      "cell_type": "code",
      "metadata": {
        "id": "jerpO_oVITsY",
        "colab_type": "code",
        "colab": {}
      },
      "source": [
        "# Criando um dicionário vazio \n",
        "meu_dict = {}"
      ],
      "execution_count": 2,
      "outputs": []
    },
    {
      "cell_type": "code",
      "metadata": {
        "id": "KsQB6tRYIXhx",
        "colab_type": "code",
        "colab": {
          "base_uri": "https://localhost:8080/",
          "height": 35
        },
        "outputId": "baecc3c9-6e35-4433-f0d0-370fba9e5491"
      },
      "source": [
        "#Visualizando o tipo do dicionário \n",
        "type(meu_dict)"
      ],
      "execution_count": 3,
      "outputs": [
        {
          "output_type": "execute_result",
          "data": {
            "text/plain": [
              "dict"
            ]
          },
          "metadata": {
            "tags": []
          },
          "execution_count": 3
        }
      ]
    },
    {
      "cell_type": "code",
      "metadata": {
        "id": "IsaIcY7hIeX4",
        "colab_type": "code",
        "colab": {
          "base_uri": "https://localhost:8080/",
          "height": 35
        },
        "outputId": "93da4c99-f0f4-40c8-f851-1f5f39dacfd5"
      },
      "source": [
        "#Visualizando o dicionário\n",
        "meu_dict"
      ],
      "execution_count": 4,
      "outputs": [
        {
          "output_type": "execute_result",
          "data": {
            "text/plain": [
              "{}"
            ]
          },
          "metadata": {
            "tags": []
          },
          "execution_count": 4
        }
      ]
    },
    {
      "cell_type": "code",
      "metadata": {
        "id": "7qqrl3zVIfc-",
        "colab_type": "code",
        "colab": {}
      },
      "source": [
        "# Criando um dicionário com itens\n",
        "exemplo = {\n",
        "    \"Carlos\": 35, \n",
        "    \"Theo\": 1, \n",
        "    \"Fernanda\": 29\n",
        "}"
      ],
      "execution_count": 5,
      "outputs": []
    },
    {
      "cell_type": "code",
      "metadata": {
        "id": "CGy3MNrMJcFZ",
        "colab_type": "code",
        "colab": {
          "base_uri": "https://localhost:8080/",
          "height": 35
        },
        "outputId": "85de917d-737b-4217-b43f-9ef140e84a39"
      },
      "source": [
        "#Verificando o dicionário \n",
        "exemplo"
      ],
      "execution_count": 6,
      "outputs": [
        {
          "output_type": "execute_result",
          "data": {
            "text/plain": [
              "{'Carlos': 35, 'Fernanda': 29, 'Theo': 1}"
            ]
          },
          "metadata": {
            "tags": []
          },
          "execution_count": 6
        }
      ]
    },
    {
      "cell_type": "markdown",
      "metadata": {
        "id": "nrLmrlZ5Jjul",
        "colab_type": "text"
      },
      "source": [
        "Para verificar as chaves, basta apenas, escrever .keys()"
      ]
    },
    {
      "cell_type": "code",
      "metadata": {
        "id": "4g5uVURgMQZR",
        "colab_type": "code",
        "colab": {
          "base_uri": "https://localhost:8080/",
          "height": 35
        },
        "outputId": "c5124327-3df3-42aa-93b5-03a136ea23f6"
      },
      "source": [
        "# verificando as chaves \n",
        "exemplo.keys()"
      ],
      "execution_count": 7,
      "outputs": [
        {
          "output_type": "execute_result",
          "data": {
            "text/plain": [
              "dict_keys(['Carlos', 'Theo', 'Fernanda'])"
            ]
          },
          "metadata": {
            "tags": []
          },
          "execution_count": 7
        }
      ]
    },
    {
      "cell_type": "code",
      "metadata": {
        "id": "RFw7kN0uMVwI",
        "colab_type": "code",
        "colab": {
          "base_uri": "https://localhost:8080/",
          "height": 35
        },
        "outputId": "55a657fb-3aba-4c66-9ec5-4fd0641049a1"
      },
      "source": [
        "# Verificando os valores das variáveis \n",
        "exemplo.values()"
      ],
      "execution_count": 8,
      "outputs": [
        {
          "output_type": "execute_result",
          "data": {
            "text/plain": [
              "dict_values([35, 1, 29])"
            ]
          },
          "metadata": {
            "tags": []
          },
          "execution_count": 8
        }
      ]
    },
    {
      "cell_type": "code",
      "metadata": {
        "id": "yLO_-RDMMbKf",
        "colab_type": "code",
        "colab": {
          "base_uri": "https://localhost:8080/",
          "height": 35
        },
        "outputId": "fbe8e467-2c45-4916-f865-3edbca86dc79"
      },
      "source": [
        "# acessar a idade do Theo \n",
        "exemplo['Theo']"
      ],
      "execution_count": 9,
      "outputs": [
        {
          "output_type": "execute_result",
          "data": {
            "text/plain": [
              "1"
            ]
          },
          "metadata": {
            "tags": []
          },
          "execution_count": 9
        }
      ]
    },
    {
      "cell_type": "markdown",
      "metadata": {
        "id": "A2TgMW7eMv9i",
        "colab_type": "text"
      },
      "source": [
        "Para adicionar itens no meu dicionário, basta adicionar o nome da chave entre aspas dentro de um colchete e após, associar um valor a essa chave. Como no exemplo abaixo: "
      ]
    },
    {
      "cell_type": "code",
      "metadata": {
        "id": "1BRCc-0aM_jX",
        "colab_type": "code",
        "colab": {
          "base_uri": "https://localhost:8080/",
          "height": 35
        },
        "outputId": "1b34673f-c304-403e-fef4-08826bab95b2"
      },
      "source": [
        "#Adicionando itens\n",
        "exemplo['Snow'] = 6\n",
        "\n",
        "print(exemplo)"
      ],
      "execution_count": 10,
      "outputs": [
        {
          "output_type": "stream",
          "text": [
            "{'Carlos': 35, 'Theo': 1, 'Fernanda': 29, 'Snow': 6}\n"
          ],
          "name": "stdout"
        }
      ]
    },
    {
      "cell_type": "markdown",
      "metadata": {
        "id": "ckUfdp7UNfDm",
        "colab_type": "text"
      },
      "source": [
        "Caso a gente queira excluir a partir de uma chave, basta utilizar o método `pop ( )`."
      ]
    },
    {
      "cell_type": "code",
      "metadata": {
        "id": "F9Co_n4mNp84",
        "colab_type": "code",
        "colab": {
          "base_uri": "https://localhost:8080/",
          "height": 35
        },
        "outputId": "47eecf3c-0735-4c11-a606-5baefa6611c5"
      },
      "source": [
        "# Excluindo Itens \n",
        "exemplo.pop(\"Snow\")\n",
        "\n",
        "print(exemplo)"
      ],
      "execution_count": 11,
      "outputs": [
        {
          "output_type": "stream",
          "text": [
            "{'Carlos': 35, 'Theo': 1, 'Fernanda': 29}\n"
          ],
          "name": "stdout"
        }
      ]
    },
    {
      "cell_type": "markdown",
      "metadata": {
        "id": "WT_H7b6cN0X2",
        "colab_type": "text"
      },
      "source": [
        "Para alterar itens, o processo é bem semelhante ao processo de criação das chaves. Desta forma, nos usamos uma chave já existente e damos a ela um novo valor. "
      ]
    },
    {
      "cell_type": "code",
      "metadata": {
        "id": "uetYwfrSO0X1",
        "colab_type": "code",
        "colab": {
          "base_uri": "https://localhost:8080/",
          "height": 35
        },
        "outputId": "0166671f-82bb-48e8-b13e-755ba2f5fe2a"
      },
      "source": [
        "exemplo['Theo'] = 2\n",
        "\n",
        "print(exemplo)"
      ],
      "execution_count": 12,
      "outputs": [
        {
          "output_type": "stream",
          "text": [
            "{'Carlos': 35, 'Theo': 2, 'Fernanda': 29}\n"
          ],
          "name": "stdout"
        }
      ]
    },
    {
      "cell_type": "markdown",
      "metadata": {
        "id": "bGuTcOKBRB_-",
        "colab_type": "text"
      },
      "source": [
        "## Mais alguns detalhes de dicionários \n",
        "\n",
        "É importante se atentar a alguns detalhes quando estamos lidando com dicionário. Uma delas é de que não é possível ter duas chaves com o mesmo nome. Já vimos, neste caso que ao associar um novo valor a um nome já existente a execução da célula atualizará o valor. "
      ]
    },
    {
      "cell_type": "markdown",
      "metadata": {
        "id": "tkl2YJyTRhRC",
        "colab_type": "text"
      },
      "source": [
        "## Funções `Built - in`\n",
        "\n",
        "Os dicionários tem algumas funções nativas. Acima, já vimos o `pop ( )`, abaixo, mostraremos outras. "
      ]
    },
    {
      "cell_type": "markdown",
      "metadata": {
        "id": "uqregnLsRyfc",
        "colab_type": "text"
      },
      "source": [
        "### `.get ( )` \n",
        "\n",
        "Essa função nos permite buscar o valor de uma determinada chave. "
      ]
    },
    {
      "cell_type": "code",
      "metadata": {
        "id": "rEMQ-m6DR7Ja",
        "colab_type": "code",
        "colab": {
          "base_uri": "https://localhost:8080/",
          "height": 35
        },
        "outputId": "86aebf4b-bd05-4888-8c42-e22214b6846f"
      },
      "source": [
        "exemplo.get('Theo')"
      ],
      "execution_count": 14,
      "outputs": [
        {
          "output_type": "execute_result",
          "data": {
            "text/plain": [
              "2"
            ]
          },
          "metadata": {
            "tags": []
          },
          "execution_count": 14
        }
      ]
    },
    {
      "cell_type": "markdown",
      "metadata": {
        "id": "VCDfffDBSPMn",
        "colab_type": "text"
      },
      "source": [
        "### `.keys ( )` \n",
        "\n",
        "Nesta função, teremos acesso ás chaves do nosso dicionário"
      ]
    },
    {
      "cell_type": "code",
      "metadata": {
        "id": "TWmkvvwvSZZ9",
        "colab_type": "code",
        "colab": {
          "base_uri": "https://localhost:8080/",
          "height": 35
        },
        "outputId": "5fe70268-0278-498f-cc6d-434cc28fea95"
      },
      "source": [
        "exemplo.keys()"
      ],
      "execution_count": 15,
      "outputs": [
        {
          "output_type": "execute_result",
          "data": {
            "text/plain": [
              "dict_keys(['Carlos', 'Theo', 'Fernanda'])"
            ]
          },
          "metadata": {
            "tags": []
          },
          "execution_count": 15
        }
      ]
    },
    {
      "cell_type": "markdown",
      "metadata": {
        "id": "PLVK2mD6S1YT",
        "colab_type": "text"
      },
      "source": [
        "### `.values ( )` \n",
        "\n",
        "Nesta função, teremos acesso aos valores do nosso dicionário."
      ]
    },
    {
      "cell_type": "code",
      "metadata": {
        "id": "AAK2yZcNS9YQ",
        "colab_type": "code",
        "colab": {
          "base_uri": "https://localhost:8080/",
          "height": 35
        },
        "outputId": "10158132-23bc-4313-db90-ac0d3980f23d"
      },
      "source": [
        "exemplo.values()"
      ],
      "execution_count": 16,
      "outputs": [
        {
          "output_type": "execute_result",
          "data": {
            "text/plain": [
              "dict_values([35, 2, 29])"
            ]
          },
          "metadata": {
            "tags": []
          },
          "execution_count": 16
        }
      ]
    },
    {
      "cell_type": "markdown",
      "metadata": {
        "id": "7zdojnDoTIi_",
        "colab_type": "text"
      },
      "source": [
        "### `.items ( )` \n",
        "\n",
        "Essa função acessa todos os itens do nosso dicionário.\n"
      ]
    },
    {
      "cell_type": "code",
      "metadata": {
        "id": "F3mwdyB6TUdM",
        "colab_type": "code",
        "colab": {
          "base_uri": "https://localhost:8080/",
          "height": 35
        },
        "outputId": "498f31bf-4a8f-47a1-f1fe-2585fa717e2e"
      },
      "source": [
        "exemplo.items()"
      ],
      "execution_count": 17,
      "outputs": [
        {
          "output_type": "execute_result",
          "data": {
            "text/plain": [
              "dict_items([('Carlos', 35), ('Theo', 2), ('Fernanda', 29)])"
            ]
          },
          "metadata": {
            "tags": []
          },
          "execution_count": 17
        }
      ]
    },
    {
      "cell_type": "markdown",
      "metadata": {
        "id": "QojGyxsHTjzY",
        "colab_type": "text"
      },
      "source": [
        "### `.pop ( ) / popitem( )` \n",
        "\n",
        "Acima, já tivemos acesso a como usar o `pop ( )`. Neste, indicamos a chave que nós queremos retirar e então, ela é retirada. Utilizando a função `popitem ( )`a última chave do dicionário é excluida. "
      ]
    },
    {
      "cell_type": "code",
      "metadata": {
        "id": "_ar_qNvzVEqd",
        "colab_type": "code",
        "colab": {
          "base_uri": "https://localhost:8080/",
          "height": 54
        },
        "outputId": "69aa7384-1919-4d1a-bfd5-188270e11a3d"
      },
      "source": [
        "# popitem \n",
        "print('Dicionário Original:', exemplo)\n",
        "exemplo.popitem()\n",
        "print('Dicionário após o popitem ():', exemplo)"
      ],
      "execution_count": 18,
      "outputs": [
        {
          "output_type": "stream",
          "text": [
            "Dicionário Original: {'Carlos': 35, 'Theo': 2, 'Fernanda': 29}\n",
            "Dicionário após o popitem (): {'Carlos': 35, 'Theo': 2}\n"
          ],
          "name": "stdout"
        }
      ]
    },
    {
      "cell_type": "markdown",
      "metadata": {
        "id": "mZR2WlzEYX_f",
        "colab_type": "text"
      },
      "source": [
        "### `.update ()`\n",
        "\n",
        "Essa função existe para juntar dois dicionários:\n",
        "\n",
        "* Caso a chave não esteja presente no primeiro dicionário, ela será adicionada. \n",
        "\n",
        "* Caso a chave já existia no primeiro dicionário, ele terá seu valor substituido pelo valor da chave correspondente no segundo dicionário. \n"
      ]
    },
    {
      "cell_type": "code",
      "metadata": {
        "id": "PSjyWy46ZGw1",
        "colab_type": "code",
        "colab": {
          "base_uri": "https://localhost:8080/",
          "height": 72
        },
        "outputId": "73b2c96d-53eb-426b-dbcc-f606a0b66aad"
      },
      "source": [
        "# update()\n",
        "d1={'Carlos':35, 'Theo':1, 'Fernanda':29}\n",
        "print('Dicionário 1: ',d1)\n",
        "\n",
        "d2={'Snow':6, 'Theo':2, 'Fernanda':29}\n",
        "print('Dicionário 2: ',d2)\n",
        "\n",
        "d1.update(d2)\n",
        "print('Dicionário Final: ', d1)"
      ],
      "execution_count": 19,
      "outputs": [
        {
          "output_type": "stream",
          "text": [
            "Dicionário 1:  {'Carlos': 35, 'Theo': 1, 'Fernanda': 29}\n",
            "Dicionário 2:  {'Snow': 6, 'Theo': 2, 'Fernanda': 29}\n",
            "Dicionário Final:  {'Carlos': 35, 'Theo': 2, 'Fernanda': 29, 'Snow': 6}\n"
          ],
          "name": "stdout"
        }
      ]
    },
    {
      "cell_type": "markdown",
      "metadata": {
        "id": "-5fEji9cZNjG",
        "colab_type": "text"
      },
      "source": [
        "\n",
        "Como podemos ver abaixo, criamos dois dicionários, e o resultado foi:\n",
        "* A chave `Snow` não existia no d1, e foi adicionada a ele.\n",
        "* A chave `Theo` teve seu valor atualizado de 1 para 2.\n",
        "* A chave `Fernanda` estava presente com o mesmo valor em ambos dicionários, e, portanto, não sofreu alteração."
      ]
    },
    {
      "cell_type": "markdown",
      "metadata": {
        "id": "YpMhCO2vZzfL",
        "colab_type": "text"
      },
      "source": [
        "### .clear()\n",
        "\n",
        "Por fim, para você deixar um dicionário vazio, é só utilizar a seguinte função. "
      ]
    },
    {
      "cell_type": "code",
      "metadata": {
        "id": "eOYp-X-8aADR",
        "colab_type": "code",
        "colab": {
          "base_uri": "https://localhost:8080/",
          "height": 35
        },
        "outputId": "1c863460-5555-4e99-c79d-fe5d13558709"
      },
      "source": [
        "exemplo.clear()\n",
        "print(exemplo)"
      ],
      "execution_count": 20,
      "outputs": [
        {
          "output_type": "stream",
          "text": [
            "{}\n"
          ],
          "name": "stdout"
        }
      ]
    },
    {
      "cell_type": "markdown",
      "metadata": {
        "id": "s0FY4lX9aJdW",
        "colab_type": "text"
      },
      "source": [
        "#### Exercicios \n",
        "\n",
        "Agora que já tivemos contato, vamos entender mais sobre as propriedades e funções? "
      ]
    },
    {
      "cell_type": "markdown",
      "metadata": {
        "id": "YKWKBeGLcpJy",
        "colab_type": "text"
      },
      "source": [
        "##### Exercicio 01. \n",
        "\n",
        "Crie um dicionário com o nome e a idade dos membros da sua família: "
      ]
    },
    {
      "cell_type": "code",
      "metadata": {
        "id": "8C0Wdb8hcxNl",
        "colab_type": "code",
        "colab": {
          "base_uri": "https://localhost:8080/",
          "height": 35
        },
        "outputId": "6139d0eb-d43f-4d13-ea2d-ac5efb1be007"
      },
      "source": [
        "minha_familia = {'Diodetis': 58, 'Cristiane': 54, 'Maria Gabriela': 26, 'Samuel': 22, 'Maria Vitória': 18}\n",
        "print(minha_familia)"
      ],
      "execution_count": 27,
      "outputs": [
        {
          "output_type": "stream",
          "text": [
            "{'Diodetis': 58, 'Cristiane': 54, 'Maria Gabriela': 26, 'Samuel': 22, 'Maria Vitória': 18}\n"
          ],
          "name": "stdout"
        }
      ]
    },
    {
      "cell_type": "markdown",
      "metadata": {
        "id": "TIr7h9KndGCQ",
        "colab_type": "text"
      },
      "source": [
        "#### Exercicio 02. \n",
        "\n",
        "Exclua o segundo item do dicionário que você acabou de criar. "
      ]
    },
    {
      "cell_type": "code",
      "metadata": {
        "id": "1F2Q6s0YdMmQ",
        "colab_type": "code",
        "colab": {
          "base_uri": "https://localhost:8080/",
          "height": 35
        },
        "outputId": "d6687d7d-32d8-4f8e-f9cf-dcef9f19b192"
      },
      "source": [
        "minha_familia.pop('Cristiane')\n",
        "print(minha_familia)\n"
      ],
      "execution_count": 28,
      "outputs": [
        {
          "output_type": "stream",
          "text": [
            "{'Diodetis': 58, 'Maria Gabriela': 26, 'Samuel': 22, 'Maria Vitória': 18}\n"
          ],
          "name": "stdout"
        }
      ]
    },
    {
      "cell_type": "markdown",
      "metadata": {
        "id": "o4Y_cjSOdsM9",
        "colab_type": "text"
      },
      "source": [
        "#### Exercício 03. \n",
        "\n",
        "Agora, inclua novamente o valor excluido"
      ]
    },
    {
      "cell_type": "code",
      "metadata": {
        "id": "puWo7xkVd0qg",
        "colab_type": "code",
        "colab": {
          "base_uri": "https://localhost:8080/",
          "height": 35
        },
        "outputId": "097a8065-31b8-4a24-8ab2-411f09ee3bcb"
      },
      "source": [
        "minha_familia['Cristiane'] = 54\n",
        "print(minha_familia)"
      ],
      "execution_count": 29,
      "outputs": [
        {
          "output_type": "stream",
          "text": [
            "{'Diodetis': 58, 'Maria Gabriela': 26, 'Samuel': 22, 'Maria Vitória': 18, 'Cristiane': 54}\n"
          ],
          "name": "stdout"
        }
      ]
    },
    {
      "cell_type": "markdown",
      "metadata": {
        "id": "GMN-SoFLd9TB",
        "colab_type": "text"
      },
      "source": [
        "#### Exercicio 04 \n",
        "\n",
        "Agora crie dois dicionários, contendo:\n",
        "\n",
        "* Frutas e seus respectivos preços; \n",
        "* Verduras e seus respectivos preços; "
      ]
    },
    {
      "cell_type": "code",
      "metadata": {
        "id": "3LP5BE2ueMGB",
        "colab_type": "code",
        "colab": {
          "base_uri": "https://localhost:8080/",
          "height": 54
        },
        "outputId": "bbc3ca9f-4980-4d2a-bf64-294169850704"
      },
      "source": [
        "frutas = {'Banana': 2.80, 'Maça': 3.30, 'Morango': 5}\n",
        "print(frutas)\n",
        "legumes = {'Abobrinha': 2.80, 'Pimentão': 4.40, 'Cebola': 2.80}\n",
        "print(legumes)"
      ],
      "execution_count": 30,
      "outputs": [
        {
          "output_type": "stream",
          "text": [
            "{'Banana': 2.8, 'Maça': 3.3, 'Morango': 5}\n",
            "{'Abobrinha': 2.8, 'Pimentão': 4.4, 'Cebola': 2.8}\n"
          ],
          "name": "stdout"
        }
      ]
    },
    {
      "cell_type": "markdown",
      "metadata": {
        "id": "QHNAsRp0e5Yl",
        "colab_type": "text"
      },
      "source": [
        "#### Exercicio 05 \n",
        "\n",
        "Execute os seguintes comandos para manipular os dicionários `frutas` e `legumes`. "
      ]
    },
    {
      "cell_type": "code",
      "metadata": {
        "id": "hNhVXQiwfEtg",
        "colab_type": "code",
        "colab": {
          "base_uri": "https://localhost:8080/",
          "height": 35
        },
        "outputId": "d4efbf75-97d0-44ea-ebbf-f1f1e38d0a88"
      },
      "source": [
        "# Imprima as chaves do dicionário frutas\n",
        "frutas.keys()"
      ],
      "execution_count": 31,
      "outputs": [
        {
          "output_type": "execute_result",
          "data": {
            "text/plain": [
              "dict_keys(['Banana', 'Maça', 'Morango'])"
            ]
          },
          "metadata": {
            "tags": []
          },
          "execution_count": 31
        }
      ]
    },
    {
      "cell_type": "code",
      "metadata": {
        "id": "y9MG91rIfKk_",
        "colab_type": "code",
        "colab": {
          "base_uri": "https://localhost:8080/",
          "height": 35
        },
        "outputId": "dfffed49-8dd9-4fdd-8778-4b10a8b2f3e1"
      },
      "source": [
        "# Imprima os valores do dicionário legumes\n",
        "legumes.values()"
      ],
      "execution_count": 35,
      "outputs": [
        {
          "output_type": "execute_result",
          "data": {
            "text/plain": [
              "dict_values([2.8, 4.4, 2.8])"
            ]
          },
          "metadata": {
            "tags": []
          },
          "execution_count": 35
        }
      ]
    },
    {
      "cell_type": "code",
      "metadata": {
        "id": "4r-oTKvzfPT6",
        "colab_type": "code",
        "colab": {
          "base_uri": "https://localhost:8080/",
          "height": 72
        },
        "outputId": "3848f021-2fa9-492a-d717-027baa20dcc1"
      },
      "source": [
        "# Junte os dois dicionários \n",
        "print(\"Frutas\", frutas)\n",
        "print(\"Legumes\", legumes)\n",
        "\n",
        "frutas.update(legumes)\n",
        "\n",
        "print('Frutas + Legumes', frutas)"
      ],
      "execution_count": 37,
      "outputs": [
        {
          "output_type": "stream",
          "text": [
            "Frutas {'Banana': 2.8, 'Maça': 3.3, 'Morango': 5, 'Abobrinha': 2.8, 'Pimentão': 4.4, 'Cebola': 2.8}\n",
            "Legumes {'Abobrinha': 2.8, 'Pimentão': 4.4, 'Cebola': 2.8}\n",
            "Frutas + Legumes {'Banana': 2.8, 'Maça': 3.3, 'Morango': 5, 'Abobrinha': 2.8, 'Pimentão': 4.4, 'Cebola': 2.8}\n"
          ],
          "name": "stdout"
        }
      ]
    },
    {
      "cell_type": "code",
      "metadata": {
        "id": "dUS4hj8Hfu-f",
        "colab_type": "code",
        "colab": {
          "base_uri": "https://localhost:8080/",
          "height": 35
        },
        "outputId": "1db56260-4e71-41a6-bbe7-87c4d90909cc"
      },
      "source": [
        "# Transforme o dicionário em um conjunto vazio\n",
        "frutas.clear()\n",
        "print(frutas)"
      ],
      "execution_count": 39,
      "outputs": [
        {
          "output_type": "stream",
          "text": [
            "{}\n"
          ],
          "name": "stdout"
        }
      ]
    },
    {
      "cell_type": "code",
      "metadata": {
        "id": "rBc1f1iUf9sE",
        "colab_type": "code",
        "colab": {}
      },
      "source": [
        ""
      ],
      "execution_count": null,
      "outputs": []
    }
  ]
}