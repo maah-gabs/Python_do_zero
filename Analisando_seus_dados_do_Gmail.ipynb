{
  "nbformat": 4,
  "nbformat_minor": 0,
  "metadata": {
    "colab": {
      "name": "Analisando seus dados do Gmail",
      "provenance": [],
      "authorship_tag": "ABX9TyMglT6Wn8embuGQ8EQ8YQVr",
      "include_colab_link": true
    },
    "kernelspec": {
      "name": "python3",
      "display_name": "Python 3"
    }
  },
  "cells": [
    {
      "cell_type": "markdown",
      "metadata": {
        "id": "view-in-github",
        "colab_type": "text"
      },
      "source": [
        "<a href=\"https://colab.research.google.com/github/maah-gabs/Python_do_zero/blob/master/Analisando_seus_dados_do_Gmail.ipynb\" target=\"_parent\"><img src=\"https://colab.research.google.com/assets/colab-badge.svg\" alt=\"Open In Colab\"/></a>"
      ]
    },
    {
      "cell_type": "markdown",
      "metadata": {
        "id": "8hId9l8O5POr",
        "colab_type": "text"
      },
      "source": [
        "# Módulo 04 - Aula 12 Analisando seus dados do Gmail\n",
        "\n",
        "Antes de iniciar o projeto, você precisará acessar a sua conta do *Gmail* no mesmo navegador que está usando agora. Assim que você logar, clique [aqui](https://takeout.google.com/settings/takeout).\n",
        "\n",
        "Você abrirá a página do Takeout, essa págna te oferecerá diversos dados e serviços que podem ser baixados, po´rm o foco nessa aula será os e-mails. \n",
        "\n",
        "<center><img width=\"50%\" src=\"https://github.com/rafaelnduarte/sigmoidal_data/blob/master/Screen%20Shot%202020-09-16%20at%2011.09.01%20AM.png?raw=true\"></center>\n",
        "\n",
        "Selecione, **apenas Gmail**. \n",
        "\n",
        "<center><img width=\"50%\" src=\"https://github.com/rafaelnduarte/sigmoidal_data/blob/master/Screen%20Shot%202020-09-16%20at%2011.09.17%20AM.png?raw=true\"></center>\n",
        "\n",
        "Vamos selecionar o link para *download* para que ele seja enviado por email em formato`.zip`, selecione o tamanho do arquivo para 50 gb. \n",
        "\n",
        "<center><img width=\"50%\" src=\"https://github.com/rafaelnduarte/sigmoidal_data/blob/master/Screen%20Shot%202020-09-16%20at%2011.19.50%20AM.png?raw=true\"></center>"
      ]
    },
    {
      "cell_type": "code",
      "metadata": {
        "id": "YcHtxroB8DYB",
        "colab_type": "code",
        "colab": {}
      },
      "source": [
        "# Importando as bibliotecas necessárias \n",
        "\n",
        "import pandas as pd\n",
        "import numpy as np\n",
        "import matplotlib.pyplot as plt\n",
        "import mailbox\n",
        "import re \n",
        "import pytz\n",
        "import seaborn as sns"
      ],
      "execution_count": 85,
      "outputs": []
    },
    {
      "cell_type": "markdown",
      "metadata": {
        "id": "4PbKzZzB9JHL",
        "colab_type": "text"
      },
      "source": [
        "## Carregando os dados \n",
        "\n",
        "Assim que você fez o upload vamos fazer o download dele no google colab. "
      ]
    },
    {
      "cell_type": "code",
      "metadata": {
        "id": "CwOGm5hL9aCB",
        "colab_type": "code",
        "colab": {
          "base_uri": "https://localhost:8080/",
          "height": 54
        },
        "outputId": "d193302e-115c-49d2-aaf2-fef4beecadc9"
      },
      "source": [
        "# Descompactar o arquivo que está em formato zip \n",
        "!unzip /content/takeout-20200921T181301Z-001.zip"
      ],
      "execution_count": 87,
      "outputs": [
        {
          "output_type": "stream",
          "text": [
            "Archive:  /content/takeout-20200921T181301Z-001.zip\n",
            "replace Takeout/E-mail/Todos os e-mails, incluindo Spam e Lixeira.mbox? [y]es, [n]o, [A]ll, [N]one, [r]ename: "
          ],
          "name": "stdout"
        }
      ]
    },
    {
      "cell_type": "markdown",
      "metadata": {
        "id": "JwDRCwIs943Y",
        "colab_type": "text"
      },
      "source": [
        "Agora que fizemos o download e descompactamos o arquivo é hora de carregar os dados do nosso email. Neste momento, vamos utilizar a biblioteca `mailbox` para carregar o arquivo do tipo `mbox` que está contido no arquivo em `zip.`"
      ]
    },
    {
      "cell_type": "code",
      "metadata": {
        "id": "QkbOvQH9-n_i",
        "colab_type": "code",
        "colab": {}
      },
      "source": [
        "# Carregando o arquivo \n",
        "mbox = mailbox.mbox(\"/content/Takeout/E-mail/Todos os e-mails, incluindo Spam e Lixeira.mbox\")"
      ],
      "execution_count": 88,
      "outputs": []
    },
    {
      "cell_type": "code",
      "metadata": {
        "id": "DofuF0bu-2Qe",
        "colab_type": "code",
        "colab": {
          "base_uri": "https://localhost:8080/",
          "height": 550
        },
        "outputId": "1cd55567-9588-4d30-f42b-4ebc5ae8a771"
      },
      "source": [
        "# Visualizando as chaves \n",
        "mbox[0].keys()"
      ],
      "execution_count": 89,
      "outputs": [
        {
          "output_type": "execute_result",
          "data": {
            "text/plain": [
              "['X-GM-THRID',\n",
              " 'X-Gmail-Labels',\n",
              " 'Delivered-To',\n",
              " 'Received',\n",
              " 'X-Google-Smtp-Source',\n",
              " 'X-Received',\n",
              " 'ARC-Seal',\n",
              " 'ARC-Message-Signature',\n",
              " 'ARC-Authentication-Results',\n",
              " 'Return-Path',\n",
              " 'Received',\n",
              " 'Received-SPF',\n",
              " 'Authentication-Results',\n",
              " 'DKIM-Signature',\n",
              " 'Received',\n",
              " 'From',\n",
              " 'To',\n",
              " 'Subject',\n",
              " 'Date',\n",
              " 'List-Unsubscribe',\n",
              " 'MIME-Version',\n",
              " 'Reply-To',\n",
              " 'List-ID',\n",
              " 'X-CSA-Complaints',\n",
              " 'X-SFMC-Stack',\n",
              " 'x-job',\n",
              " 'Message-ID',\n",
              " 'Feedback-ID',\n",
              " 'Content-Type']"
            ]
          },
          "metadata": {
            "tags": []
          },
          "execution_count": 89
        }
      ]
    },
    {
      "cell_type": "markdown",
      "metadata": {
        "id": "P1snba4-_y5J",
        "colab_type": "text"
      },
      "source": [
        "### Criando um Data Frame \n",
        "\n",
        "Para que sejamos capazes de trabalhar com esses dados, a gente vai extrair as informações e construir um DataFrame. \n",
        "\n",
        "De inicio, vamos criar um dicionário em que as chaves são as informações que já queremos puxar as informações do email. "
      ]
    },
    {
      "cell_type": "code",
      "metadata": {
        "id": "UwWnFuP-BDnu",
        "colab_type": "code",
        "colab": {}
      },
      "source": [
        "# Criando o dicionário \n",
        "email_dict = {\n",
        "    'date': [], \n",
        "    'from': [],\n",
        "    'to': [], \n",
        "    'subject':[], \n",
        "    'labels': []\n",
        "}\n",
        "\n",
        "# Coletando os dados \n",
        "for message in mbox:\n",
        "  email_dict['date'].append(message['date'])\n",
        "  email_dict['from'].append(message['from'])\n",
        "  email_dict['to'].append(message['to'])\n",
        "  email_dict['subject'].append(message['subject'])\n",
        "  email_dict['labels'].append(message['X-Gmail-Labels'])"
      ],
      "execution_count": 90,
      "outputs": []
    },
    {
      "cell_type": "code",
      "metadata": {
        "id": "nLr5eKZPCbof",
        "colab_type": "code",
        "colab": {}
      },
      "source": [
        "# Transformando em DataFrame \n",
        "df = pd.DataFrame(email_dict)"
      ],
      "execution_count": 91,
      "outputs": []
    },
    {
      "cell_type": "code",
      "metadata": {
        "id": "xFxefjMNCns3",
        "colab_type": "code",
        "colab": {
          "base_uri": "https://localhost:8080/",
          "height": 467
        },
        "outputId": "41820a22-1952-4c94-c82e-b96d446a9cde"
      },
      "source": [
        "# Visualizando as primeiras entradas \n",
        "df.head()"
      ],
      "execution_count": 92,
      "outputs": [
        {
          "output_type": "execute_result",
          "data": {
            "text/html": [
              "<div>\n",
              "<style scoped>\n",
              "    .dataframe tbody tr th:only-of-type {\n",
              "        vertical-align: middle;\n",
              "    }\n",
              "\n",
              "    .dataframe tbody tr th {\n",
              "        vertical-align: top;\n",
              "    }\n",
              "\n",
              "    .dataframe thead th {\n",
              "        text-align: right;\n",
              "    }\n",
              "</style>\n",
              "<table border=\"1\" class=\"dataframe\">\n",
              "  <thead>\n",
              "    <tr style=\"text-align: right;\">\n",
              "      <th></th>\n",
              "      <th>date</th>\n",
              "      <th>from</th>\n",
              "      <th>to</th>\n",
              "      <th>subject</th>\n",
              "      <th>labels</th>\n",
              "    </tr>\n",
              "  </thead>\n",
              "  <tbody>\n",
              "    <tr>\n",
              "      <th>0</th>\n",
              "      <td>Fri, 11 Sep 2020 10:42:34 -0600</td>\n",
              "      <td>\"Grammarly\" &lt;info@send.grammarly.com&gt;</td>\n",
              "      <td>&lt;mfurlanetobarros@gmail.com&gt;</td>\n",
              "      <td>Write like a pro. Here's 30% off Grammarly Pre...</td>\n",
              "      <td>=?UTF-8?Q?Caixa_de_entrada,Categoria:_promo=C3...</td>\n",
              "    </tr>\n",
              "    <tr>\n",
              "      <th>1</th>\n",
              "      <td>Fri, 01 May 2020 18:17:10 -0700</td>\n",
              "      <td>\"Samsung\" &lt;no-reply@m21.email.samsung.com&gt;</td>\n",
              "      <td>&lt;mfurlanetobarros@gmail.com&gt;</td>\n",
              "      <td>=?utf-8?B?8J+kqU1hcmlhZ2FicmllbGEsIHNpbnRhIGEg...</td>\n",
              "      <td>=?UTF-8?Q?Caixa_de_entrada,Categoria:_promo=C3...</td>\n",
              "    </tr>\n",
              "    <tr>\n",
              "      <th>2</th>\n",
              "      <td>Sun, 13 Sep 2020 10:42:37 -0600</td>\n",
              "      <td>\"Grammarly\" &lt;info@send.grammarly.com&gt;</td>\n",
              "      <td>&lt;mfurlanetobarros@gmail.com&gt;</td>\n",
              "      <td>Last Chance: 30% Off a Grammarly Premium Upgrade</td>\n",
              "      <td>=?UTF-8?Q?Lixeira,Categoria:_promo=C3=A7=C3=B5...</td>\n",
              "    </tr>\n",
              "    <tr>\n",
              "      <th>3</th>\n",
              "      <td>Sun, 06 Sep 2020 18:17:35 -0600</td>\n",
              "      <td>\"Grammarly\" &lt;info@send.grammarly.com&gt;</td>\n",
              "      <td>&lt;mfurlanetobarros@gmail.com&gt;</td>\n",
              "      <td>Improve Your Written Communication Everywhere</td>\n",
              "      <td>=?UTF-8?Q?Caixa_de_entrada,Categoria:_promo=C3...</td>\n",
              "    </tr>\n",
              "    <tr>\n",
              "      <th>4</th>\n",
              "      <td>Fri, 11 Sep 2020 04:48:25 -0700</td>\n",
              "      <td>\"Samsung\" &lt;no-reply@m21.email.samsung.com&gt;</td>\n",
              "      <td>&lt;mfurlanetobarros@gmail.com&gt;</td>\n",
              "      <td>=?windows-1252?Q?=DAltima_chance_para_ganhar_u...</td>\n",
              "      <td>=?UTF-8?Q?Caixa_de_entrada,Categoria:_promo=C3...</td>\n",
              "    </tr>\n",
              "  </tbody>\n",
              "</table>\n",
              "</div>"
            ],
            "text/plain": [
              "                              date  ...                                             labels\n",
              "0  Fri, 11 Sep 2020 10:42:34 -0600  ...  =?UTF-8?Q?Caixa_de_entrada,Categoria:_promo=C3...\n",
              "1  Fri, 01 May 2020 18:17:10 -0700  ...  =?UTF-8?Q?Caixa_de_entrada,Categoria:_promo=C3...\n",
              "2  Sun, 13 Sep 2020 10:42:37 -0600  ...  =?UTF-8?Q?Lixeira,Categoria:_promo=C3=A7=C3=B5...\n",
              "3  Sun, 06 Sep 2020 18:17:35 -0600  ...  =?UTF-8?Q?Caixa_de_entrada,Categoria:_promo=C3...\n",
              "4  Fri, 11 Sep 2020 04:48:25 -0700  ...  =?UTF-8?Q?Caixa_de_entrada,Categoria:_promo=C3...\n",
              "\n",
              "[5 rows x 5 columns]"
            ]
          },
          "metadata": {
            "tags": []
          },
          "execution_count": 92
        }
      ]
    },
    {
      "cell_type": "code",
      "metadata": {
        "id": "MdLDM8VFDRD1",
        "colab_type": "code",
        "colab": {
          "base_uri": "https://localhost:8080/",
          "height": 127
        },
        "outputId": "398ad3a1-a446-40bf-ae9a-31e63e86b613"
      },
      "source": [
        "# Verificando os tipos\n",
        "df.dtypes"
      ],
      "execution_count": 100,
      "outputs": [
        {
          "output_type": "execute_result",
          "data": {
            "text/plain": [
              "date       datetime64[ns, UTC]\n",
              "from                    object\n",
              "to                      object\n",
              "subject                 object\n",
              "labels                  object\n",
              "dtype: object"
            ]
          },
          "metadata": {
            "tags": []
          },
          "execution_count": 100
        }
      ]
    },
    {
      "cell_type": "markdown",
      "metadata": {
        "id": "8QNSCUr8DfVo",
        "colab_type": "text"
      },
      "source": [
        "Ao verificar os tipos de dados das variáveis, é possível perceber que vamos precisar utilizar o `date` que naõ está em formato `datetime` e sim em formato `object`, sendo assim, é necessário realizar a conversão. \n",
        "\n",
        "Porém, essa informação, contida no DataSet de *Time Zones* e é necessário passar o parametro `utc = True`."
      ]
    },
    {
      "cell_type": "code",
      "metadata": {
        "id": "uwr96ZKvQUI8",
        "colab_type": "code",
        "colab": {
          "base_uri": "https://localhost:8080/",
          "height": 115
        },
        "outputId": "a67fa418-f656-4a61-c752-239b7d8396bb"
      },
      "source": [
        "df.loc[df['date'] == 'Fri, 5 Apr 2019 19:34:11 +0000 (GMT+00:00)']"
      ],
      "execution_count": null,
      "outputs": [
        {
          "output_type": "execute_result",
          "data": {
            "text/html": [
              "<div>\n",
              "<style scoped>\n",
              "    .dataframe tbody tr th:only-of-type {\n",
              "        vertical-align: middle;\n",
              "    }\n",
              "\n",
              "    .dataframe tbody tr th {\n",
              "        vertical-align: top;\n",
              "    }\n",
              "\n",
              "    .dataframe thead th {\n",
              "        text-align: right;\n",
              "    }\n",
              "</style>\n",
              "<table border=\"1\" class=\"dataframe\">\n",
              "  <thead>\n",
              "    <tr style=\"text-align: right;\">\n",
              "      <th></th>\n",
              "      <th>date</th>\n",
              "      <th>from</th>\n",
              "      <th>to</th>\n",
              "      <th>subject</th>\n",
              "      <th>labels</th>\n",
              "    </tr>\n",
              "  </thead>\n",
              "  <tbody>\n",
              "    <tr>\n",
              "      <th>38</th>\n",
              "      <td>Fri, 5 Apr 2019 19:34:11 +0000 (GMT+00:00)</td>\n",
              "      <td>Samsung account &lt;SA.noreply@samsung-mail.com&gt;</td>\n",
              "      <td>Maria GabrielaFurlaneto Barros &lt;mfurlanetobarr...</td>\n",
              "      <td>=?UTF-8?Q?Notifica=C3=A7=C3=A3o_de_login_da_Sa...</td>\n",
              "      <td>Caixa de entrada,Aberto,Categoria: pessoal</td>\n",
              "    </tr>\n",
              "  </tbody>\n",
              "</table>\n",
              "</div>"
            ],
            "text/plain": [
              "                                          date  ...                                      labels\n",
              "38  Fri, 5 Apr 2019 19:34:11 +0000 (GMT+00:00)  ...  Caixa de entrada,Aberto,Categoria: pessoal\n",
              "\n",
              "[1 rows x 5 columns]"
            ]
          },
          "metadata": {
            "tags": []
          },
          "execution_count": 72
        }
      ]
    },
    {
      "cell_type": "code",
      "metadata": {
        "id": "VueW0c5bV6GA",
        "colab_type": "code",
        "colab": {
          "base_uri": "https://localhost:8080/",
          "height": 293
        },
        "outputId": "7fa10f8f-4d13-4baa-c522-524fd2944c5b"
      },
      "source": [
        "# convertendo date para datetime - DAAAAANDO ERRO \n",
        "df['date'] = pd.to_datetime(df['date'], errors='coerce', utc=True)\n",
        "\n",
        "#Visualizando df\n",
        "df.head()"
      ],
      "execution_count": 99,
      "outputs": [
        {
          "output_type": "execute_result",
          "data": {
            "text/html": [
              "<div>\n",
              "<style scoped>\n",
              "    .dataframe tbody tr th:only-of-type {\n",
              "        vertical-align: middle;\n",
              "    }\n",
              "\n",
              "    .dataframe tbody tr th {\n",
              "        vertical-align: top;\n",
              "    }\n",
              "\n",
              "    .dataframe thead th {\n",
              "        text-align: right;\n",
              "    }\n",
              "</style>\n",
              "<table border=\"1\" class=\"dataframe\">\n",
              "  <thead>\n",
              "    <tr style=\"text-align: right;\">\n",
              "      <th></th>\n",
              "      <th>date</th>\n",
              "      <th>from</th>\n",
              "      <th>to</th>\n",
              "      <th>subject</th>\n",
              "      <th>labels</th>\n",
              "    </tr>\n",
              "  </thead>\n",
              "  <tbody>\n",
              "    <tr>\n",
              "      <th>0</th>\n",
              "      <td>2020-09-11 16:42:34+00:00</td>\n",
              "      <td>\"Grammarly\" &lt;info@send.grammarly.com&gt;</td>\n",
              "      <td>&lt;mfurlanetobarros@gmail.com&gt;</td>\n",
              "      <td>Write like a pro. Here's 30% off Grammarly Pre...</td>\n",
              "      <td>=?UTF-8?Q?Caixa_de_entrada,Categoria:_promo=C3...</td>\n",
              "    </tr>\n",
              "    <tr>\n",
              "      <th>1</th>\n",
              "      <td>2020-05-02 01:17:10+00:00</td>\n",
              "      <td>\"Samsung\" &lt;no-reply@m21.email.samsung.com&gt;</td>\n",
              "      <td>&lt;mfurlanetobarros@gmail.com&gt;</td>\n",
              "      <td>=?utf-8?B?8J+kqU1hcmlhZ2FicmllbGEsIHNpbnRhIGEg...</td>\n",
              "      <td>=?UTF-8?Q?Caixa_de_entrada,Categoria:_promo=C3...</td>\n",
              "    </tr>\n",
              "    <tr>\n",
              "      <th>2</th>\n",
              "      <td>2020-09-13 16:42:37+00:00</td>\n",
              "      <td>\"Grammarly\" &lt;info@send.grammarly.com&gt;</td>\n",
              "      <td>&lt;mfurlanetobarros@gmail.com&gt;</td>\n",
              "      <td>Last Chance: 30% Off a Grammarly Premium Upgrade</td>\n",
              "      <td>=?UTF-8?Q?Lixeira,Categoria:_promo=C3=A7=C3=B5...</td>\n",
              "    </tr>\n",
              "    <tr>\n",
              "      <th>3</th>\n",
              "      <td>2020-09-07 00:17:35+00:00</td>\n",
              "      <td>\"Grammarly\" &lt;info@send.grammarly.com&gt;</td>\n",
              "      <td>&lt;mfurlanetobarros@gmail.com&gt;</td>\n",
              "      <td>Improve Your Written Communication Everywhere</td>\n",
              "      <td>=?UTF-8?Q?Caixa_de_entrada,Categoria:_promo=C3...</td>\n",
              "    </tr>\n",
              "    <tr>\n",
              "      <th>4</th>\n",
              "      <td>2020-09-11 11:48:25+00:00</td>\n",
              "      <td>\"Samsung\" &lt;no-reply@m21.email.samsung.com&gt;</td>\n",
              "      <td>&lt;mfurlanetobarros@gmail.com&gt;</td>\n",
              "      <td>=?windows-1252?Q?=DAltima_chance_para_ganhar_u...</td>\n",
              "      <td>=?UTF-8?Q?Caixa_de_entrada,Categoria:_promo=C3...</td>\n",
              "    </tr>\n",
              "  </tbody>\n",
              "</table>\n",
              "</div>"
            ],
            "text/plain": [
              "                       date  ...                                             labels\n",
              "0 2020-09-11 16:42:34+00:00  ...  =?UTF-8?Q?Caixa_de_entrada,Categoria:_promo=C3...\n",
              "1 2020-05-02 01:17:10+00:00  ...  =?UTF-8?Q?Caixa_de_entrada,Categoria:_promo=C3...\n",
              "2 2020-09-13 16:42:37+00:00  ...  =?UTF-8?Q?Lixeira,Categoria:_promo=C3=A7=C3=B5...\n",
              "3 2020-09-07 00:17:35+00:00  ...  =?UTF-8?Q?Caixa_de_entrada,Categoria:_promo=C3...\n",
              "4 2020-09-11 11:48:25+00:00  ...  =?UTF-8?Q?Caixa_de_entrada,Categoria:_promo=C3...\n",
              "\n",
              "[5 rows x 5 columns]"
            ]
          },
          "metadata": {
            "tags": []
          },
          "execution_count": 99
        }
      ]
    },
    {
      "cell_type": "markdown",
      "metadata": {
        "id": "82uGUNrpakq0",
        "colab_type": "text"
      },
      "source": [
        "\n",
        "Precisamos que a informação de *time zone* esteja condizente com a Time Zone que nos encontramos. Para isso, aplicaremos uma função *lambda* para aplicar às entradas o método timezone da biblioteca `pytz` para que possamos ter a informação correta de *time zone*."
      ]
    },
    {
      "cell_type": "markdown",
      "metadata": {
        "id": "NmYFGok2acnR",
        "colab_type": "text"
      },
      "source": [
        "Abaixo, seguimos para analisar se existem dados ausentes. Como a quantidade neste caso é pequena, vamos excluir essas linhas. "
      ]
    },
    {
      "cell_type": "code",
      "metadata": {
        "id": "bn3Sti22awSp",
        "colab_type": "code",
        "colab": {
          "base_uri": "https://localhost:8080/",
          "height": 127
        },
        "outputId": "12d6d635-0e92-4751-fb66-93dd6969246b"
      },
      "source": [
        "df.isnull().sum()"
      ],
      "execution_count": 102,
      "outputs": [
        {
          "output_type": "execute_result",
          "data": {
            "text/plain": [
              "date       99\n",
              "from        0\n",
              "to         98\n",
              "subject    95\n",
              "labels      0\n",
              "dtype: int64"
            ]
          },
          "metadata": {
            "tags": []
          },
          "execution_count": 102
        }
      ]
    },
    {
      "cell_type": "code",
      "metadata": {
        "id": "cgDNkvUMayXQ",
        "colab_type": "code",
        "colab": {}
      },
      "source": [
        "# Excluindo as linhas \n",
        "df.dropna(how='any', inplace=True)"
      ],
      "execution_count": 103,
      "outputs": []
    },
    {
      "cell_type": "code",
      "metadata": {
        "id": "6bqZp6una4xk",
        "colab_type": "code",
        "colab": {
          "base_uri": "https://localhost:8080/",
          "height": 127
        },
        "outputId": "824dfc96-cbba-4fca-f64c-876605e2dc90"
      },
      "source": [
        "# Verficando \n",
        "df.isnull().sum()"
      ],
      "execution_count": 104,
      "outputs": [
        {
          "output_type": "execute_result",
          "data": {
            "text/plain": [
              "date       0\n",
              "from       0\n",
              "to         0\n",
              "subject    0\n",
              "labels     0\n",
              "dtype: int64"
            ]
          },
          "metadata": {
            "tags": []
          },
          "execution_count": 104
        }
      ]
    },
    {
      "cell_type": "markdown",
      "metadata": {
        "id": "3Z6g-g6XbHri",
        "colab_type": "text"
      },
      "source": [
        "## Limpeza de Strings \n",
        "\n",
        "Após executar os dados acima, conseguimos perceber que existem muitas informações que estão confusas. Desta forma, vamos realizar uma limpeza das entradas. \n",
        "\n",
        "Vamos iniciar com a limpeza dos dados. Sendo assim, vamos utilizar um função para retirar tudo aquilo que faz parte do endereço de email "
      ]
    },
    {
      "cell_type": "code",
      "metadata": {
        "id": "8q4LhBOvcROn",
        "colab_type": "code",
        "colab": {}
      },
      "source": [
        "# criando a função\n",
        "def extrair_email(string_email):\n",
        "    email = re.findall(r'<(.+?)>', string_email)\n",
        "    if email:\n",
        "        return email[0]\n",
        "    else:\n",
        "        return string_email"
      ],
      "execution_count": 78,
      "outputs": []
    },
    {
      "cell_type": "code",
      "metadata": {
        "id": "G3sNlcXFcRry",
        "colab_type": "code",
        "colab": {}
      },
      "source": [
        "# aplicando a função\n",
        "df['to'] = df['to'].apply(extrair_email)\n",
        "df['from'] = df['from'].apply(extrair_email)"
      ],
      "execution_count": 79,
      "outputs": []
    },
    {
      "cell_type": "code",
      "metadata": {
        "id": "tdVw2Z3UccVj",
        "colab_type": "code",
        "colab": {
          "base_uri": "https://localhost:8080/",
          "height": 380
        },
        "outputId": "7c082d71-62c7-45eb-8dd0-28a9dd275e8f"
      },
      "source": [
        "# Visualizando \n",
        "df.head()"
      ],
      "execution_count": 80,
      "outputs": [
        {
          "output_type": "execute_result",
          "data": {
            "text/html": [
              "<div>\n",
              "<style scoped>\n",
              "    .dataframe tbody tr th:only-of-type {\n",
              "        vertical-align: middle;\n",
              "    }\n",
              "\n",
              "    .dataframe tbody tr th {\n",
              "        vertical-align: top;\n",
              "    }\n",
              "\n",
              "    .dataframe thead th {\n",
              "        text-align: right;\n",
              "    }\n",
              "</style>\n",
              "<table border=\"1\" class=\"dataframe\">\n",
              "  <thead>\n",
              "    <tr style=\"text-align: right;\">\n",
              "      <th></th>\n",
              "      <th>date</th>\n",
              "      <th>from</th>\n",
              "      <th>to</th>\n",
              "      <th>subject</th>\n",
              "      <th>labels</th>\n",
              "    </tr>\n",
              "  </thead>\n",
              "  <tbody>\n",
              "    <tr>\n",
              "      <th>0</th>\n",
              "      <td>Fri, 11 Sep 2020 10:42:34 -0600</td>\n",
              "      <td>info@send.grammarly.com</td>\n",
              "      <td>mfurlanetobarros@gmail.com</td>\n",
              "      <td>Write like a pro. Here's 30% off Grammarly Pre...</td>\n",
              "      <td>=?UTF-8?Q?Caixa_de_entrada,Categoria:_promo=C3...</td>\n",
              "    </tr>\n",
              "    <tr>\n",
              "      <th>1</th>\n",
              "      <td>Fri, 01 May 2020 18:17:10 -0700</td>\n",
              "      <td>no-reply@m21.email.samsung.com</td>\n",
              "      <td>mfurlanetobarros@gmail.com</td>\n",
              "      <td>=?utf-8?B?8J+kqU1hcmlhZ2FicmllbGEsIHNpbnRhIGEg...</td>\n",
              "      <td>=?UTF-8?Q?Caixa_de_entrada,Categoria:_promo=C3...</td>\n",
              "    </tr>\n",
              "    <tr>\n",
              "      <th>2</th>\n",
              "      <td>Sun, 13 Sep 2020 10:42:37 -0600</td>\n",
              "      <td>info@send.grammarly.com</td>\n",
              "      <td>mfurlanetobarros@gmail.com</td>\n",
              "      <td>Last Chance: 30% Off a Grammarly Premium Upgrade</td>\n",
              "      <td>=?UTF-8?Q?Lixeira,Categoria:_promo=C3=A7=C3=B5...</td>\n",
              "    </tr>\n",
              "    <tr>\n",
              "      <th>3</th>\n",
              "      <td>Sun, 06 Sep 2020 18:17:35 -0600</td>\n",
              "      <td>info@send.grammarly.com</td>\n",
              "      <td>mfurlanetobarros@gmail.com</td>\n",
              "      <td>Improve Your Written Communication Everywhere</td>\n",
              "      <td>=?UTF-8?Q?Caixa_de_entrada,Categoria:_promo=C3...</td>\n",
              "    </tr>\n",
              "    <tr>\n",
              "      <th>4</th>\n",
              "      <td>Fri, 11 Sep 2020 04:48:25 -0700</td>\n",
              "      <td>no-reply@m21.email.samsung.com</td>\n",
              "      <td>mfurlanetobarros@gmail.com</td>\n",
              "      <td>=?windows-1252?Q?=DAltima_chance_para_ganhar_u...</td>\n",
              "      <td>=?UTF-8?Q?Caixa_de_entrada,Categoria:_promo=C3...</td>\n",
              "    </tr>\n",
              "  </tbody>\n",
              "</table>\n",
              "</div>"
            ],
            "text/plain": [
              "                              date  ...                                             labels\n",
              "0  Fri, 11 Sep 2020 10:42:34 -0600  ...  =?UTF-8?Q?Caixa_de_entrada,Categoria:_promo=C3...\n",
              "1  Fri, 01 May 2020 18:17:10 -0700  ...  =?UTF-8?Q?Caixa_de_entrada,Categoria:_promo=C3...\n",
              "2  Sun, 13 Sep 2020 10:42:37 -0600  ...  =?UTF-8?Q?Lixeira,Categoria:_promo=C3=A7=C3=B5...\n",
              "3  Sun, 06 Sep 2020 18:17:35 -0600  ...  =?UTF-8?Q?Caixa_de_entrada,Categoria:_promo=C3...\n",
              "4  Fri, 11 Sep 2020 04:48:25 -0700  ...  =?UTF-8?Q?Caixa_de_entrada,Categoria:_promo=C3...\n",
              "\n",
              "[5 rows x 5 columns]"
            ]
          },
          "metadata": {
            "tags": []
          },
          "execution_count": 80
        }
      ]
    },
    {
      "cell_type": "markdown",
      "metadata": {
        "id": "HF0v96Xbc3Nv",
        "colab_type": "text"
      },
      "source": [
        "Agora, vamos limpar a coluna label. \n",
        "\n",
        "A função irá retirar as informações desnecessárias e dividir os itens por vírgula que retornará apenas o primeiro item"
      ]
    },
    {
      "cell_type": "code",
      "metadata": {
        "id": "IXTQpVi4dLWU",
        "colab_type": "code",
        "colab": {}
      },
      "source": [
        "# criando a função\n",
        "def extrair_label(string_labels):\n",
        "    return string_labels.replace(\"=?UTF-8?Q?\", \"\").split(\",\")[0]"
      ],
      "execution_count": 81,
      "outputs": []
    },
    {
      "cell_type": "code",
      "metadata": {
        "id": "UkoMMEr-dMAS",
        "colab_type": "code",
        "colab": {}
      },
      "source": [
        "# aplicando a função\n",
        "df[\"labels\"] = df[\"labels\"].apply(extrair_label)"
      ],
      "execution_count": 82,
      "outputs": []
    },
    {
      "cell_type": "code",
      "metadata": {
        "id": "qf5IolpPdNiC",
        "colab_type": "code",
        "colab": {
          "base_uri": "https://localhost:8080/",
          "height": 206
        },
        "outputId": "17b44f95-70dc-42b2-91ad-09703cae79bf"
      },
      "source": [
        "df.head()"
      ],
      "execution_count": 83,
      "outputs": [
        {
          "output_type": "execute_result",
          "data": {
            "text/html": [
              "<div>\n",
              "<style scoped>\n",
              "    .dataframe tbody tr th:only-of-type {\n",
              "        vertical-align: middle;\n",
              "    }\n",
              "\n",
              "    .dataframe tbody tr th {\n",
              "        vertical-align: top;\n",
              "    }\n",
              "\n",
              "    .dataframe thead th {\n",
              "        text-align: right;\n",
              "    }\n",
              "</style>\n",
              "<table border=\"1\" class=\"dataframe\">\n",
              "  <thead>\n",
              "    <tr style=\"text-align: right;\">\n",
              "      <th></th>\n",
              "      <th>date</th>\n",
              "      <th>from</th>\n",
              "      <th>to</th>\n",
              "      <th>subject</th>\n",
              "      <th>labels</th>\n",
              "    </tr>\n",
              "  </thead>\n",
              "  <tbody>\n",
              "    <tr>\n",
              "      <th>0</th>\n",
              "      <td>Fri, 11 Sep 2020 10:42:34 -0600</td>\n",
              "      <td>info@send.grammarly.com</td>\n",
              "      <td>mfurlanetobarros@gmail.com</td>\n",
              "      <td>Write like a pro. Here's 30% off Grammarly Pre...</td>\n",
              "      <td>Caixa_de_entrada</td>\n",
              "    </tr>\n",
              "    <tr>\n",
              "      <th>1</th>\n",
              "      <td>Fri, 01 May 2020 18:17:10 -0700</td>\n",
              "      <td>no-reply@m21.email.samsung.com</td>\n",
              "      <td>mfurlanetobarros@gmail.com</td>\n",
              "      <td>=?utf-8?B?8J+kqU1hcmlhZ2FicmllbGEsIHNpbnRhIGEg...</td>\n",
              "      <td>Caixa_de_entrada</td>\n",
              "    </tr>\n",
              "    <tr>\n",
              "      <th>2</th>\n",
              "      <td>Sun, 13 Sep 2020 10:42:37 -0600</td>\n",
              "      <td>info@send.grammarly.com</td>\n",
              "      <td>mfurlanetobarros@gmail.com</td>\n",
              "      <td>Last Chance: 30% Off a Grammarly Premium Upgrade</td>\n",
              "      <td>Lixeira</td>\n",
              "    </tr>\n",
              "    <tr>\n",
              "      <th>3</th>\n",
              "      <td>Sun, 06 Sep 2020 18:17:35 -0600</td>\n",
              "      <td>info@send.grammarly.com</td>\n",
              "      <td>mfurlanetobarros@gmail.com</td>\n",
              "      <td>Improve Your Written Communication Everywhere</td>\n",
              "      <td>Caixa_de_entrada</td>\n",
              "    </tr>\n",
              "    <tr>\n",
              "      <th>4</th>\n",
              "      <td>Fri, 11 Sep 2020 04:48:25 -0700</td>\n",
              "      <td>no-reply@m21.email.samsung.com</td>\n",
              "      <td>mfurlanetobarros@gmail.com</td>\n",
              "      <td>=?windows-1252?Q?=DAltima_chance_para_ganhar_u...</td>\n",
              "      <td>Caixa_de_entrada</td>\n",
              "    </tr>\n",
              "  </tbody>\n",
              "</table>\n",
              "</div>"
            ],
            "text/plain": [
              "                              date  ...            labels\n",
              "0  Fri, 11 Sep 2020 10:42:34 -0600  ...  Caixa_de_entrada\n",
              "1  Fri, 01 May 2020 18:17:10 -0700  ...  Caixa_de_entrada\n",
              "2  Sun, 13 Sep 2020 10:42:37 -0600  ...           Lixeira\n",
              "3  Sun, 06 Sep 2020 18:17:35 -0600  ...  Caixa_de_entrada\n",
              "4  Fri, 11 Sep 2020 04:48:25 -0700  ...  Caixa_de_entrada\n",
              "\n",
              "[5 rows x 5 columns]"
            ]
          },
          "metadata": {
            "tags": []
          },
          "execution_count": 83
        }
      ]
    },
    {
      "cell_type": "markdown",
      "metadata": {
        "id": "H7lhn42RlT26",
        "colab_type": "text"
      },
      "source": [
        "### Análise Exploratória \n",
        "\n",
        "Agora, iniciaremos a análise exploratória. A primeira análise a ser feita, é relacionada aos remetentes de email. "
      ]
    },
    {
      "cell_type": "code",
      "metadata": {
        "id": "mVJCJ8Idlp2b",
        "colab_type": "code",
        "colab": {
          "base_uri": "https://localhost:8080/",
          "height": 127
        },
        "outputId": "92a1ba68-2b66-40cc-989d-2358a6db4609"
      },
      "source": [
        "# Verificando os emails que mais me enviarem email para a minha caixa de entrada \n",
        "df[df[\"labels\"] ==  \"Caixa_de_entrada\"] [\"from\"].value_counts()[0:5]"
      ],
      "execution_count": 84,
      "outputs": [
        {
          "output_type": "execute_result",
          "data": {
            "text/plain": [
              "no-reply@m21.email.samsung.com    59\n",
              "info@send.grammarly.com            7\n",
              "noreply@youtube.com                3\n",
              "SA.noreply@samsung-mail.com        3\n",
              "no-reply@login.accountkit.com      3\n",
              "Name: from, dtype: int64"
            ]
          },
          "metadata": {
            "tags": []
          },
          "execution_count": 84
        }
      ]
    },
    {
      "cell_type": "code",
      "metadata": {
        "id": "EdT1uriSr3M9",
        "colab_type": "code",
        "colab": {}
      },
      "source": [
        "# Criando uma variável de dia da semana \n",
        "df['weekday'] = df[\"date\"].dt.weekday"
      ],
      "execution_count": 105,
      "outputs": []
    },
    {
      "cell_type": "code",
      "metadata": {
        "id": "1ZOcKQQOr_90",
        "colab_type": "code",
        "colab": {
          "base_uri": "https://localhost:8080/",
          "height": 313
        },
        "outputId": "0550b0f1-ec5d-4bdb-d505-75dabed13e3c"
      },
      "source": [
        "#Verificando a criação \n",
        "df.head()"
      ],
      "execution_count": 106,
      "outputs": [
        {
          "output_type": "execute_result",
          "data": {
            "text/html": [
              "<div>\n",
              "<style scoped>\n",
              "    .dataframe tbody tr th:only-of-type {\n",
              "        vertical-align: middle;\n",
              "    }\n",
              "\n",
              "    .dataframe tbody tr th {\n",
              "        vertical-align: top;\n",
              "    }\n",
              "\n",
              "    .dataframe thead th {\n",
              "        text-align: right;\n",
              "    }\n",
              "</style>\n",
              "<table border=\"1\" class=\"dataframe\">\n",
              "  <thead>\n",
              "    <tr style=\"text-align: right;\">\n",
              "      <th></th>\n",
              "      <th>date</th>\n",
              "      <th>from</th>\n",
              "      <th>to</th>\n",
              "      <th>subject</th>\n",
              "      <th>labels</th>\n",
              "      <th>weekday</th>\n",
              "    </tr>\n",
              "  </thead>\n",
              "  <tbody>\n",
              "    <tr>\n",
              "      <th>0</th>\n",
              "      <td>2020-09-11 16:42:34+00:00</td>\n",
              "      <td>\"Grammarly\" &lt;info@send.grammarly.com&gt;</td>\n",
              "      <td>&lt;mfurlanetobarros@gmail.com&gt;</td>\n",
              "      <td>Write like a pro. Here's 30% off Grammarly Pre...</td>\n",
              "      <td>=?UTF-8?Q?Caixa_de_entrada,Categoria:_promo=C3...</td>\n",
              "      <td>4</td>\n",
              "    </tr>\n",
              "    <tr>\n",
              "      <th>1</th>\n",
              "      <td>2020-05-02 01:17:10+00:00</td>\n",
              "      <td>\"Samsung\" &lt;no-reply@m21.email.samsung.com&gt;</td>\n",
              "      <td>&lt;mfurlanetobarros@gmail.com&gt;</td>\n",
              "      <td>=?utf-8?B?8J+kqU1hcmlhZ2FicmllbGEsIHNpbnRhIGEg...</td>\n",
              "      <td>=?UTF-8?Q?Caixa_de_entrada,Categoria:_promo=C3...</td>\n",
              "      <td>5</td>\n",
              "    </tr>\n",
              "    <tr>\n",
              "      <th>2</th>\n",
              "      <td>2020-09-13 16:42:37+00:00</td>\n",
              "      <td>\"Grammarly\" &lt;info@send.grammarly.com&gt;</td>\n",
              "      <td>&lt;mfurlanetobarros@gmail.com&gt;</td>\n",
              "      <td>Last Chance: 30% Off a Grammarly Premium Upgrade</td>\n",
              "      <td>=?UTF-8?Q?Lixeira,Categoria:_promo=C3=A7=C3=B5...</td>\n",
              "      <td>6</td>\n",
              "    </tr>\n",
              "    <tr>\n",
              "      <th>3</th>\n",
              "      <td>2020-09-07 00:17:35+00:00</td>\n",
              "      <td>\"Grammarly\" &lt;info@send.grammarly.com&gt;</td>\n",
              "      <td>&lt;mfurlanetobarros@gmail.com&gt;</td>\n",
              "      <td>Improve Your Written Communication Everywhere</td>\n",
              "      <td>=?UTF-8?Q?Caixa_de_entrada,Categoria:_promo=C3...</td>\n",
              "      <td>0</td>\n",
              "    </tr>\n",
              "    <tr>\n",
              "      <th>4</th>\n",
              "      <td>2020-09-11 11:48:25+00:00</td>\n",
              "      <td>\"Samsung\" &lt;no-reply@m21.email.samsung.com&gt;</td>\n",
              "      <td>&lt;mfurlanetobarros@gmail.com&gt;</td>\n",
              "      <td>=?windows-1252?Q?=DAltima_chance_para_ganhar_u...</td>\n",
              "      <td>=?UTF-8?Q?Caixa_de_entrada,Categoria:_promo=C3...</td>\n",
              "      <td>4</td>\n",
              "    </tr>\n",
              "  </tbody>\n",
              "</table>\n",
              "</div>"
            ],
            "text/plain": [
              "                       date  ... weekday\n",
              "0 2020-09-11 16:42:34+00:00  ...       4\n",
              "1 2020-05-02 01:17:10+00:00  ...       5\n",
              "2 2020-09-13 16:42:37+00:00  ...       6\n",
              "3 2020-09-07 00:17:35+00:00  ...       0\n",
              "4 2020-09-11 11:48:25+00:00  ...       4\n",
              "\n",
              "[5 rows x 6 columns]"
            ]
          },
          "metadata": {
            "tags": []
          },
          "execution_count": 106
        }
      ]
    },
    {
      "cell_type": "markdown",
      "metadata": {
        "id": "8rV1SVr8sFtH",
        "colab_type": "text"
      },
      "source": [
        "Perceba, que ao criar a coluna, transformaremos as informações de uma forma que fique mais simples interpretar e digerir. Desta forma, precisamos criar uma associação, em que 0 - Segunda - Feira, e assim, sucessivamente. \n",
        "\n",
        "Desta forma, vamos criar um dicionário em que associaremos para as chaves, valores em formato de `string `para os dias da semana e transforma a nossa coluna a partir desse dicionário. "
      ]
    },
    {
      "cell_type": "code",
      "metadata": {
        "id": "ujSH7JQJu-a5",
        "colab_type": "code",
        "colab": {}
      },
      "source": [
        "# criando dicionário\n",
        "dias_semana = {0:\"Segunda\", 1:\"Terça\", 2:\"Quarta\",3:\"Quinta\", 4:\"Sexta\", 5:\"Sábado\", 6:\"Domingo\"}\n",
        "\n",
        "# transformando a coluna\n",
        "df[\"weekday\"] = df[\"weekday\"].replace(dias_semana)"
      ],
      "execution_count": 107,
      "outputs": []
    },
    {
      "cell_type": "code",
      "metadata": {
        "id": "8-Y88-tqu_VV",
        "colab_type": "code",
        "colab": {
          "base_uri": "https://localhost:8080/",
          "height": 313
        },
        "outputId": "90c0d3d3-7790-47ef-eaa4-af5a8da2a81c"
      },
      "source": [
        "# Verificando os resultados \n",
        "df.head()"
      ],
      "execution_count": 108,
      "outputs": [
        {
          "output_type": "execute_result",
          "data": {
            "text/html": [
              "<div>\n",
              "<style scoped>\n",
              "    .dataframe tbody tr th:only-of-type {\n",
              "        vertical-align: middle;\n",
              "    }\n",
              "\n",
              "    .dataframe tbody tr th {\n",
              "        vertical-align: top;\n",
              "    }\n",
              "\n",
              "    .dataframe thead th {\n",
              "        text-align: right;\n",
              "    }\n",
              "</style>\n",
              "<table border=\"1\" class=\"dataframe\">\n",
              "  <thead>\n",
              "    <tr style=\"text-align: right;\">\n",
              "      <th></th>\n",
              "      <th>date</th>\n",
              "      <th>from</th>\n",
              "      <th>to</th>\n",
              "      <th>subject</th>\n",
              "      <th>labels</th>\n",
              "      <th>weekday</th>\n",
              "    </tr>\n",
              "  </thead>\n",
              "  <tbody>\n",
              "    <tr>\n",
              "      <th>0</th>\n",
              "      <td>2020-09-11 16:42:34+00:00</td>\n",
              "      <td>\"Grammarly\" &lt;info@send.grammarly.com&gt;</td>\n",
              "      <td>&lt;mfurlanetobarros@gmail.com&gt;</td>\n",
              "      <td>Write like a pro. Here's 30% off Grammarly Pre...</td>\n",
              "      <td>=?UTF-8?Q?Caixa_de_entrada,Categoria:_promo=C3...</td>\n",
              "      <td>Sexta</td>\n",
              "    </tr>\n",
              "    <tr>\n",
              "      <th>1</th>\n",
              "      <td>2020-05-02 01:17:10+00:00</td>\n",
              "      <td>\"Samsung\" &lt;no-reply@m21.email.samsung.com&gt;</td>\n",
              "      <td>&lt;mfurlanetobarros@gmail.com&gt;</td>\n",
              "      <td>=?utf-8?B?8J+kqU1hcmlhZ2FicmllbGEsIHNpbnRhIGEg...</td>\n",
              "      <td>=?UTF-8?Q?Caixa_de_entrada,Categoria:_promo=C3...</td>\n",
              "      <td>Sábado</td>\n",
              "    </tr>\n",
              "    <tr>\n",
              "      <th>2</th>\n",
              "      <td>2020-09-13 16:42:37+00:00</td>\n",
              "      <td>\"Grammarly\" &lt;info@send.grammarly.com&gt;</td>\n",
              "      <td>&lt;mfurlanetobarros@gmail.com&gt;</td>\n",
              "      <td>Last Chance: 30% Off a Grammarly Premium Upgrade</td>\n",
              "      <td>=?UTF-8?Q?Lixeira,Categoria:_promo=C3=A7=C3=B5...</td>\n",
              "      <td>Domingo</td>\n",
              "    </tr>\n",
              "    <tr>\n",
              "      <th>3</th>\n",
              "      <td>2020-09-07 00:17:35+00:00</td>\n",
              "      <td>\"Grammarly\" &lt;info@send.grammarly.com&gt;</td>\n",
              "      <td>&lt;mfurlanetobarros@gmail.com&gt;</td>\n",
              "      <td>Improve Your Written Communication Everywhere</td>\n",
              "      <td>=?UTF-8?Q?Caixa_de_entrada,Categoria:_promo=C3...</td>\n",
              "      <td>Segunda</td>\n",
              "    </tr>\n",
              "    <tr>\n",
              "      <th>4</th>\n",
              "      <td>2020-09-11 11:48:25+00:00</td>\n",
              "      <td>\"Samsung\" &lt;no-reply@m21.email.samsung.com&gt;</td>\n",
              "      <td>&lt;mfurlanetobarros@gmail.com&gt;</td>\n",
              "      <td>=?windows-1252?Q?=DAltima_chance_para_ganhar_u...</td>\n",
              "      <td>=?UTF-8?Q?Caixa_de_entrada,Categoria:_promo=C3...</td>\n",
              "      <td>Sexta</td>\n",
              "    </tr>\n",
              "  </tbody>\n",
              "</table>\n",
              "</div>"
            ],
            "text/plain": [
              "                       date  ...  weekday\n",
              "0 2020-09-11 16:42:34+00:00  ...    Sexta\n",
              "1 2020-05-02 01:17:10+00:00  ...   Sábado\n",
              "2 2020-09-13 16:42:37+00:00  ...  Domingo\n",
              "3 2020-09-07 00:17:35+00:00  ...  Segunda\n",
              "4 2020-09-11 11:48:25+00:00  ...    Sexta\n",
              "\n",
              "[5 rows x 6 columns]"
            ]
          },
          "metadata": {
            "tags": []
          },
          "execution_count": 108
        }
      ]
    },
    {
      "cell_type": "markdown",
      "metadata": {
        "id": "axYGuukevk59",
        "colab_type": "text"
      },
      "source": [
        "Agora que temos as principais informações e ,então, biblioteca `seaborn`. "
      ]
    },
    {
      "cell_type": "code",
      "metadata": {
        "id": "10kuult-viZT",
        "colab_type": "code",
        "colab": {
          "base_uri": "https://localhost:8080/",
          "height": 279
        },
        "outputId": "ce4cb700-c433-4090-ef45-e3e3dcd0b079"
      },
      "source": [
        "# plotando o countplot\n",
        "sns.countplot(df[\"weekday\"], order=[\"Segunda\", \"Terça\", \"Quarta\", \"Quinta\", \"Sexta\", \"Sábado\", \"Domingo\"]);"
      ],
      "execution_count": 109,
      "outputs": [
        {
          "output_type": "display_data",
          "data": {
            "image/png": "[encoded data removed]",
            "text/plain": [
              "<Figure size 432x288 with 1 Axes>"
            ]
          },
          "metadata": {
            "tags": [],
            "needs_background": "light"
          }
        }
      ]
    },
    {
      "cell_type": "markdown",
      "metadata": {
        "id": "SbuBzZoRw2F_",
        "colab_type": "text"
      },
      "source": [
        "Nesta análise, sabemos que **Sabado** consiste no maior volume de dados do que qualquer outro dia da semana. Porém, qual será o horário que os emails são enviados? "
      ]
    },
    {
      "cell_type": "code",
      "metadata": {
        "id": "mjAv8x1Px6rL",
        "colab_type": "code",
        "colab": {}
      },
      "source": [
        "# coletando as horas\n",
        "df[\"hora\"] = df[\"date\"].dt.hour"
      ],
      "execution_count": 111,
      "outputs": []
    },
    {
      "cell_type": "code",
      "metadata": {
        "id": "Mec9sZnmx9HA",
        "colab_type": "code",
        "colab": {
          "base_uri": "https://localhost:8080/",
          "height": 313
        },
        "outputId": "6e6cc2f0-c907-41b2-e8ea-6467ca596af3"
      },
      "source": [
        "df.head()"
      ],
      "execution_count": 112,
      "outputs": [
        {
          "output_type": "execute_result",
          "data": {
            "text/html": [
              "<div>\n",
              "<style scoped>\n",
              "    .dataframe tbody tr th:only-of-type {\n",
              "        vertical-align: middle;\n",
              "    }\n",
              "\n",
              "    .dataframe tbody tr th {\n",
              "        vertical-align: top;\n",
              "    }\n",
              "\n",
              "    .dataframe thead th {\n",
              "        text-align: right;\n",
              "    }\n",
              "</style>\n",
              "<table border=\"1\" class=\"dataframe\">\n",
              "  <thead>\n",
              "    <tr style=\"text-align: right;\">\n",
              "      <th></th>\n",
              "      <th>date</th>\n",
              "      <th>from</th>\n",
              "      <th>to</th>\n",
              "      <th>subject</th>\n",
              "      <th>labels</th>\n",
              "      <th>weekday</th>\n",
              "      <th>hora</th>\n",
              "    </tr>\n",
              "  </thead>\n",
              "  <tbody>\n",
              "    <tr>\n",
              "      <th>0</th>\n",
              "      <td>2020-09-11 16:42:34+00:00</td>\n",
              "      <td>\"Grammarly\" &lt;info@send.grammarly.com&gt;</td>\n",
              "      <td>&lt;mfurlanetobarros@gmail.com&gt;</td>\n",
              "      <td>Write like a pro. Here's 30% off Grammarly Pre...</td>\n",
              "      <td>=?UTF-8?Q?Caixa_de_entrada,Categoria:_promo=C3...</td>\n",
              "      <td>Sexta</td>\n",
              "      <td>16</td>\n",
              "    </tr>\n",
              "    <tr>\n",
              "      <th>1</th>\n",
              "      <td>2020-05-02 01:17:10+00:00</td>\n",
              "      <td>\"Samsung\" &lt;no-reply@m21.email.samsung.com&gt;</td>\n",
              "      <td>&lt;mfurlanetobarros@gmail.com&gt;</td>\n",
              "      <td>=?utf-8?B?8J+kqU1hcmlhZ2FicmllbGEsIHNpbnRhIGEg...</td>\n",
              "      <td>=?UTF-8?Q?Caixa_de_entrada,Categoria:_promo=C3...</td>\n",
              "      <td>Sábado</td>\n",
              "      <td>1</td>\n",
              "    </tr>\n",
              "    <tr>\n",
              "      <th>2</th>\n",
              "      <td>2020-09-13 16:42:37+00:00</td>\n",
              "      <td>\"Grammarly\" &lt;info@send.grammarly.com&gt;</td>\n",
              "      <td>&lt;mfurlanetobarros@gmail.com&gt;</td>\n",
              "      <td>Last Chance: 30% Off a Grammarly Premium Upgrade</td>\n",
              "      <td>=?UTF-8?Q?Lixeira,Categoria:_promo=C3=A7=C3=B5...</td>\n",
              "      <td>Domingo</td>\n",
              "      <td>16</td>\n",
              "    </tr>\n",
              "    <tr>\n",
              "      <th>3</th>\n",
              "      <td>2020-09-07 00:17:35+00:00</td>\n",
              "      <td>\"Grammarly\" &lt;info@send.grammarly.com&gt;</td>\n",
              "      <td>&lt;mfurlanetobarros@gmail.com&gt;</td>\n",
              "      <td>Improve Your Written Communication Everywhere</td>\n",
              "      <td>=?UTF-8?Q?Caixa_de_entrada,Categoria:_promo=C3...</td>\n",
              "      <td>Segunda</td>\n",
              "      <td>0</td>\n",
              "    </tr>\n",
              "    <tr>\n",
              "      <th>4</th>\n",
              "      <td>2020-09-11 11:48:25+00:00</td>\n",
              "      <td>\"Samsung\" &lt;no-reply@m21.email.samsung.com&gt;</td>\n",
              "      <td>&lt;mfurlanetobarros@gmail.com&gt;</td>\n",
              "      <td>=?windows-1252?Q?=DAltima_chance_para_ganhar_u...</td>\n",
              "      <td>=?UTF-8?Q?Caixa_de_entrada,Categoria:_promo=C3...</td>\n",
              "      <td>Sexta</td>\n",
              "      <td>11</td>\n",
              "    </tr>\n",
              "  </tbody>\n",
              "</table>\n",
              "</div>"
            ],
            "text/plain": [
              "                       date  ... hora\n",
              "0 2020-09-11 16:42:34+00:00  ...   16\n",
              "1 2020-05-02 01:17:10+00:00  ...    1\n",
              "2 2020-09-13 16:42:37+00:00  ...   16\n",
              "3 2020-09-07 00:17:35+00:00  ...    0\n",
              "4 2020-09-11 11:48:25+00:00  ...   11\n",
              "\n",
              "[5 rows x 7 columns]"
            ]
          },
          "metadata": {
            "tags": []
          },
          "execution_count": 112
        }
      ]
    },
    {
      "cell_type": "code",
      "metadata": {
        "id": "E2CRksB_yDqu",
        "colab_type": "code",
        "colab": {
          "base_uri": "https://localhost:8080/",
          "height": 279
        },
        "outputId": "b2ca0cf6-3b8c-48d8-d473-28937364c3e5"
      },
      "source": [
        "# plotando o gráfico\n",
        "sns.countplot(df[\"hora\"]);"
      ],
      "execution_count": 113,
      "outputs": [
        {
          "output_type": "display_data",
          "data": {
            "image/png": "[encoded data removed]",
            "text/plain": [
              "<Figure size 432x288 with 1 Axes>"
            ]
          },
          "metadata": {
            "tags": [],
            "needs_background": "light"
          }
        }
      ]
    },
    {
      "cell_type": "code",
      "metadata": {
        "id": "WkqaJxWUyHsr",
        "colab_type": "code",
        "colab": {}
      },
      "source": [
        "# converter para formato de data que o Excel aceita\n",
        "df['date'] = df['date'].apply(lambda a: pd.to_datetime(a).date()) "
      ],
      "execution_count": 114,
      "outputs": []
    },
    {
      "cell_type": "code",
      "metadata": {
        "id": "CoBfxu7myNJS",
        "colab_type": "code",
        "colab": {}
      },
      "source": [
        "df.to_excel(\"meu_gmail.xlsx\", index=False)"
      ],
      "execution_count": 115,
      "outputs": []
    },
    {
      "cell_type": "markdown",
      "metadata": {
        "id": "KmTB75OcykA2",
        "colab_type": "text"
      },
      "source": [
        "#### WordClouds\n",
        "\n",
        "Aqui, vamos mostrar uma outra possibilidade que trabalhar com palavras nos proporciona. É possível criar `Word Clouds`, ou nuvens de palavras, em tradução livre."
      ]
    },
    {
      "cell_type": "code",
      "metadata": {
        "id": "zx7BtHC_yu5S",
        "colab_type": "code",
        "colab": {}
      },
      "source": [
        "# importando os pacotes\n",
        "from wordcloud import WordCloud, STOPWORDS, ImageColorGenerator"
      ],
      "execution_count": 116,
      "outputs": []
    },
    {
      "cell_type": "code",
      "metadata": {
        "id": "WBTu2Wqyyx-C",
        "colab_type": "code",
        "colab": {
          "base_uri": "https://localhost:8080/",
          "height": 310
        },
        "outputId": "e106dc10-4adc-4b3d-aa98-35bbd4912d62"
      },
      "source": [
        "# criando a wordcloud\n",
        "summary = df['subject']\n",
        "\n",
        "all_summary = \" \".join(s for s in summary)\n",
        " \n",
        "# lista de stopword\n",
        "stopwords = set(STOPWORDS)\n",
        "stopwords.update([\"da\", \"meu\", \"em\", \"você\", \"de\", \"ao\", \"os\", \"ai\", \"UTF\", \"_http\"], \"hotmail\", \"gmail\")\n",
        " \n",
        "# gerar uma wordcloud\n",
        "wordcloud = WordCloud(stopwords=stopwords,\n",
        "                      background_color=\"black\",\n",
        "                      width=1600, height=800).generate(all_summary)\n",
        " \n",
        "# mostrar a imagem final\n",
        "fig, ax = plt.subplots(figsize=(10,6))\n",
        "ax.imshow(wordcloud, interpolation='bilinear')\n",
        "ax.set_axis_off()\n",
        " \n",
        "plt.imshow(wordcloud);"
      ],
      "execution_count": 117,
      "outputs": [
        {
          "output_type": "display_data",
          "data": {
            "image/png": "[encoded data removed]",
            "text/plain": [
              "<Figure size 720x432 with 1 Axes>"
            ]
          },
          "metadata": {
            "tags": [],
            "needs_background": "light"
          }
        }
      ]
    },
    {
      "cell_type": "code",
      "metadata": {
        "id": "Hm6J_l_Ny0uE",
        "colab_type": "code",
        "colab": {}
      },
      "source": [
        ""
      ],
      "execution_count": null,
      "outputs": []
    }
  ]
}