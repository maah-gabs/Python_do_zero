{
  "nbformat": 4,
  "nbformat_minor": 0,
  "metadata": {
    "colab": {
      "name": "inteirovcfloat",
      "provenance": [],
      "authorship_tag": "ABX9TyMrPLeWCw+vwZ8iT3Dxeqf+",
      "include_colab_link": true
    },
    "kernelspec": {
      "name": "python3",
      "display_name": "Python 3"
    }
  },
  "cells": [
    {
      "cell_type": "markdown",
      "metadata": {
        "id": "view-in-github",
        "colab_type": "text"
      },
      "source": [
        "<a href=\"https://colab.research.google.com/github/maah-gabs/Python_do_zero/blob/master/inteirovcfloat.ipynb\" target=\"_parent\"><img src=\"https://colab.research.google.com/assets/colab-badge.svg\" alt=\"Open In Colab\"/></a>"
      ]
    },
    {
      "cell_type": "markdown",
      "metadata": {
        "id": "2ZlN4DIlLz3e",
        "colab_type": "text"
      },
      "source": [
        "# Modulo 01: Aula 11 - Numeros: Inteiro vs Float\n",
        "\n",
        "Os números inteiros, conhecemos como o tipo `int` de `integer`, enquanto que os números que carregam uma vírgula ou uma parte fracional como (10.2, 3.3, 5.6, 3.14) são do tipo `float.`\n",
        "\n",
        "Lembre - se que sempre que você quiser ver o tipo de variável de um dado, basta usar `type ( )`. "
      ]
    },
    {
      "cell_type": "markdown",
      "metadata": {
        "id": "3wsHwwuOL1Ac",
        "colab_type": "text"
      },
      "source": [
        "No exemplo que veremos abaixo, vamos analisar a variável 5. Porém, já ao visualizar o número, sabemos que o numero 5 é um número inteiro. "
      ]
    },
    {
      "cell_type": "code",
      "metadata": {
        "id": "SDdnuG_JL5mw",
        "colab_type": "code",
        "colab": {
          "base_uri": "https://localhost:8080/",
          "height": 35
        },
        "outputId": "302c7906-8c35-4d86-ca79-bb5e7c47b5ff"
      },
      "source": [
        "#verificando o tipo de variável 5\n",
        "type(5)"
      ],
      "execution_count": 3,
      "outputs": [
        {
          "output_type": "execute_result",
          "data": {
            "text/plain": [
              "int"
            ]
          },
          "metadata": {
            "tags": []
          },
          "execution_count": 3
        }
      ]
    },
    {
      "cell_type": "markdown",
      "metadata": {
        "id": "48jZH-sZL-6P",
        "colab_type": "text"
      },
      "source": [
        "Agora, quando acrescentamos valores decimais a essa variável ela se torna um `float`."
      ]
    },
    {
      "cell_type": "code",
      "metadata": {
        "id": "ZhnXRM0vL_w5",
        "colab_type": "code",
        "colab": {
          "base_uri": "https://localhost:8080/",
          "height": 35
        },
        "outputId": "601b1845-acaf-480a-a0a4-2b8fa66dca32"
      },
      "source": [
        "# Variável abc representa o número 44.44, que tem parte fracional, portanto, float. \n",
        "abc = 44.44\n",
        "type(abc)"
      ],
      "execution_count": 4,
      "outputs": [
        {
          "output_type": "execute_result",
          "data": {
            "text/plain": [
              "float"
            ]
          },
          "metadata": {
            "tags": []
          },
          "execution_count": 4
        }
      ]
    },
    {
      "cell_type": "markdown",
      "metadata": {
        "id": "ITf0WWcNMFXA",
        "colab_type": "text"
      },
      "source": [
        "Agora, vamos supor que você tenha um número redondo, porém, que está descrito desta forma 5.0. Isso pode causar infinitas dúvidas, pois, mesmo sendo um numero redondo, ele foi descrito com um ponto, demonstrando ser um número fracionado, então, ele será um `float.`"
      ]
    },
    {
      "cell_type": "code",
      "metadata": {
        "id": "cK2y3JAtMGRf",
        "colab_type": "code",
        "colab": {
          "base_uri": "https://localhost:8080/",
          "height": 35
        },
        "outputId": "59cb3d74-8194-4d17-a453-3e6735a6bbc0"
      },
      "source": [
        "#5.0 é um float\n",
        "type(5.0)"
      ],
      "execution_count": 5,
      "outputs": [
        {
          "output_type": "execute_result",
          "data": {
            "text/plain": [
              "float"
            ]
          },
          "metadata": {
            "tags": []
          },
          "execution_count": 5
        }
      ]
    },
    {
      "cell_type": "markdown",
      "metadata": {
        "id": "tkUZ8vKoMJuF",
        "colab_type": "text"
      },
      "source": [
        "Um ponto importante a se destacar é a de que sempre quando houver uma duvisão, o resultado será sempre um float. Mesmo com o número sendo redondo. Vamos analisar? "
      ]
    },
    {
      "cell_type": "code",
      "metadata": {
        "id": "CfmDfNzbMMXq",
        "colab_type": "code",
        "colab": {
          "base_uri": "https://localhost:8080/",
          "height": 54
        },
        "outputId": "ffa37c96-411f-4638-d298-76147531bc26"
      },
      "source": [
        "# Divisão de Inteiros \n",
        "y = 3 / 3\n",
        "print(y)\n",
        "type(y)"
      ],
      "execution_count": 6,
      "outputs": [
        {
          "output_type": "stream",
          "text": [
            "1.0\n"
          ],
          "name": "stdout"
        },
        {
          "output_type": "execute_result",
          "data": {
            "text/plain": [
              "float"
            ]
          },
          "metadata": {
            "tags": []
          },
          "execution_count": 6
        }
      ]
    },
    {
      "cell_type": "code",
      "metadata": {
        "id": "ZLnHrwnLMO0-",
        "colab_type": "code",
        "colab": {
          "base_uri": "https://localhost:8080/",
          "height": 72
        },
        "outputId": "ed8cf8d1-1faf-4ee8-a65b-1f3bc6b70619"
      },
      "source": [
        "# Uma divisão, sempre vai retornar um float como resultado \n",
        "print(type(3 / 3 ))\n",
        "print(type(10.0 / 5))\n",
        "print(type(10.0 / 2.0))"
      ],
      "execution_count": 7,
      "outputs": [
        {
          "output_type": "stream",
          "text": [
            "<class 'float'>\n",
            "<class 'float'>\n",
            "<class 'float'>\n"
          ],
          "name": "stdout"
        }
      ]
    },
    {
      "cell_type": "code",
      "metadata": {
        "id": "qq1VKV1kMRVD",
        "colab_type": "code",
        "colab": {
          "base_uri": "https://localhost:8080/",
          "height": 72
        },
        "outputId": "8052d054-3254-4e5e-c50b-504fe3d59615"
      },
      "source": [
        "# Uma divisão, sempre vai retornar um float como resultado \n",
        "print(type(3 / 3 ))\n",
        "print(type(10.0 / 5))\n",
        "print(type(10.0 / 2.0))"
      ],
      "execution_count": 8,
      "outputs": [
        {
          "output_type": "stream",
          "text": [
            "<class 'float'>\n",
            "<class 'float'>\n",
            "<class 'float'>\n"
          ],
          "name": "stdout"
        }
      ]
    },
    {
      "cell_type": "markdown",
      "metadata": {
        "id": "6El9Vb5cMWRS",
        "colab_type": "text"
      },
      "source": [
        "Podem existir momentos, em que será necessário realizar a conversão de um float em int ou a ação inversa. Para realizar a transformação de `float` para `int` basta escrever o seguinte código `int ( )`."
      ]
    },
    {
      "cell_type": "code",
      "metadata": {
        "id": "OSYNCDXtMZjQ",
        "colab_type": "code",
        "colab": {
          "base_uri": "https://localhost:8080/",
          "height": 35
        },
        "outputId": "48587a84-2ec5-48ec-fbcf-d06742a2e20c"
      },
      "source": [
        "#Idade que veio em float \n",
        "idade = 27.00\n",
        "type(idade)"
      ],
      "execution_count": 9,
      "outputs": [
        {
          "output_type": "execute_result",
          "data": {
            "text/plain": [
              "float"
            ]
          },
          "metadata": {
            "tags": []
          },
          "execution_count": 9
        }
      ]
    },
    {
      "cell_type": "code",
      "metadata": {
        "id": "m1BNY7rmMbpM",
        "colab_type": "code",
        "colab": {
          "base_uri": "https://localhost:8080/",
          "height": 35
        },
        "outputId": "bf69bfaa-49da-4b08-dbf7-8bdd71e96f5a"
      },
      "source": [
        "#Converter\n",
        "idade = int(idade)\n",
        "type(idade)"
      ],
      "execution_count": 10,
      "outputs": [
        {
          "output_type": "execute_result",
          "data": {
            "text/plain": [
              "int"
            ]
          },
          "metadata": {
            "tags": []
          },
          "execution_count": 10
        }
      ]
    },
    {
      "cell_type": "markdown",
      "metadata": {
        "id": "tB0zy8rYMkzA",
        "colab_type": "text"
      },
      "source": [
        "Perceba, novamente, que para a conversão podemos utilizar a função `int ( )` que ao escrever qualquer número float dentro do parenteses, realizará a transformação. Porém, perceba: é importante destacar que essa função **não** realiza o arredondamento do número, veja o exemplo abaixo:"
      ]
    },
    {
      "cell_type": "markdown",
      "metadata": {
        "id": "ZUYdBl5MMkxB",
        "colab_type": "text"
      },
      "source": [
        "Abaixo, daremos um exemplo utilizando  `float ( )`."
      ]
    },
    {
      "cell_type": "code",
      "metadata": {
        "id": "ethjas6WMeAM",
        "colab_type": "code",
        "colab": {
          "base_uri": "https://localhost:8080/",
          "height": 35
        },
        "outputId": "830d3037-1ffe-40a7-8ce5-d1fa437d196b"
      },
      "source": [
        "float(5)"
      ],
      "execution_count": 11,
      "outputs": [
        {
          "output_type": "execute_result",
          "data": {
            "text/plain": [
              "5.0"
            ]
          },
          "metadata": {
            "tags": []
          },
          "execution_count": 11
        }
      ]
    },
    {
      "cell_type": "markdown",
      "metadata": {
        "id": "lBuHrQgeMrOI",
        "colab_type": "text"
      },
      "source": [
        "Existe uma forma de realizar uma divisão e manter apenas a parte inteira do resultado, para isso ao invés de utilizarmos apenas ( / ), utilizaremos ( // )."
      ]
    },
    {
      "cell_type": "code",
      "metadata": {
        "id": "rrQpQG5gMwgR",
        "colab_type": "code",
        "colab": {
          "base_uri": "https://localhost:8080/",
          "height": 54
        },
        "outputId": "122396bd-bf5e-47a8-9232-45d12349b9a0"
      },
      "source": [
        "g = 11 / 3\n",
        "print(g)\n",
        "type(g)"
      ],
      "execution_count": 12,
      "outputs": [
        {
          "output_type": "stream",
          "text": [
            "3.6666666666666665\n"
          ],
          "name": "stdout"
        },
        {
          "output_type": "execute_result",
          "data": {
            "text/plain": [
              "float"
            ]
          },
          "metadata": {
            "tags": []
          },
          "execution_count": 12
        }
      ]
    },
    {
      "cell_type": "code",
      "metadata": {
        "id": "-Z2kaTE-M1BT",
        "colab_type": "code",
        "colab": {
          "base_uri": "https://localhost:8080/",
          "height": 54
        },
        "outputId": "3beb6275-af43-46d6-e65e-7ae3c9c9c19c"
      },
      "source": [
        "lh = 11 // 3\n",
        "print(lh)\n",
        "type(lh)"
      ],
      "execution_count": 13,
      "outputs": [
        {
          "output_type": "stream",
          "text": [
            "3\n"
          ],
          "name": "stdout"
        },
        {
          "output_type": "execute_result",
          "data": {
            "text/plain": [
              "int"
            ]
          },
          "metadata": {
            "tags": []
          },
          "execution_count": 13
        }
      ]
    },
    {
      "cell_type": "markdown",
      "metadata": {
        "id": "XCnMg7zpM4ul",
        "colab_type": "text"
      },
      "source": [
        "## Exercícios\n",
        "\n",
        "Agora que vimos um pouco mais sobre inteiros e floats, vamos praticar um pouco."
      ]
    },
    {
      "cell_type": "markdown",
      "metadata": {
        "id": "bupMkcK2NBke",
        "colab_type": "text"
      },
      "source": [
        "#### Exercício 1\n",
        "Transforme o resultado a divisão de inteiros em inteiro.\n",
        "\n",
        "$$\n",
        "\\begin{aligned}\n",
        "x & = 25 / 5\n",
        "\\end{aligned}\n",
        "$$"
      ]
    },
    {
      "cell_type": "code",
      "metadata": {
        "id": "1k_Z2JL2NEKk",
        "colab_type": "code",
        "colab": {
          "base_uri": "https://localhost:8080/",
          "height": 54
        },
        "outputId": "107ab4e2-265e-4d0f-ffb3-b27c5cb7b50d"
      },
      "source": [
        "X = 25 // 5\n",
        "print(X)\n",
        "type(X)"
      ],
      "execution_count": 14,
      "outputs": [
        {
          "output_type": "stream",
          "text": [
            "5\n"
          ],
          "name": "stdout"
        },
        {
          "output_type": "execute_result",
          "data": {
            "text/plain": [
              "int"
            ]
          },
          "metadata": {
            "tags": []
          },
          "execution_count": 14
        }
      ]
    },
    {
      "cell_type": "markdown",
      "metadata": {
        "id": "k7JyxbTLNKJp",
        "colab_type": "text"
      },
      "source": [
        "#### Exercício 2\n",
        "Use a função `type()` para descobrir os tipos das seguintes variáveis:\n",
        "\n",
        "* x = 33\n",
        "* y = 33/3\n",
        "* z = 33.5"
      ]
    },
    {
      "cell_type": "code",
      "metadata": {
        "id": "10I8w9N7NLDp",
        "colab_type": "code",
        "colab": {
          "base_uri": "https://localhost:8080/",
          "height": 72
        },
        "outputId": "f785e72a-c566-4501-d5cb-b83aa4729964"
      },
      "source": [
        "x = 33\n",
        "y = 33 / 3\n",
        "z = 33.5\n",
        "\n",
        "print(type(x))\n",
        "print(type(y))\n",
        "print(type(z))"
      ],
      "execution_count": 16,
      "outputs": [
        {
          "output_type": "stream",
          "text": [
            "<class 'int'>\n",
            "<class 'float'>\n",
            "<class 'float'>\n"
          ],
          "name": "stdout"
        }
      ]
    },
    {
      "cell_type": "markdown",
      "metadata": {
        "id": "G80whO76NQtU",
        "colab_type": "text"
      },
      "source": [
        "#### Exercício 3\n",
        "\n",
        "Usando as variáveis do exercício anterior, transforme todas elas em int."
      ]
    },
    {
      "cell_type": "code",
      "metadata": {
        "id": "ml51t_rKNSt9",
        "colab_type": "code",
        "colab": {
          "base_uri": "https://localhost:8080/",
          "height": 72
        },
        "outputId": "64b17eb8-2c7d-4a9e-bb80-05186ac13b20"
      },
      "source": [
        "x = int(x)\n",
        "y = int(y)\n",
        "z = int(z)\n",
        "\n",
        "print(type(x))\n",
        "print(type(y))\n",
        "print(type(z))"
      ],
      "execution_count": 17,
      "outputs": [
        {
          "output_type": "stream",
          "text": [
            "<class 'int'>\n",
            "<class 'int'>\n",
            "<class 'int'>\n"
          ],
          "name": "stdout"
        }
      ]
    },
    {
      "cell_type": "markdown",
      "metadata": {
        "id": "4GBMas4LNp0w",
        "colab_type": "text"
      },
      "source": [
        "#### Exercício 3\n",
        "Usando as variáveis do exercício anterior, transforme todas elas em `float`."
      ]
    },
    {
      "cell_type": "code",
      "metadata": {
        "id": "-4ex0wagNqyS",
        "colab_type": "code",
        "colab": {
          "base_uri": "https://localhost:8080/",
          "height": 72
        },
        "outputId": "11469d62-d16b-4c13-d4d6-56fa94998ba8"
      },
      "source": [
        "x = float(x)\n",
        "y = float(y)\n",
        "z = float(z)\n",
        "\n",
        "print(type(x))\n",
        "print(type(y))\n",
        "print(type(z))"
      ],
      "execution_count": 18,
      "outputs": [
        {
          "output_type": "stream",
          "text": [
            "<class 'float'>\n",
            "<class 'float'>\n",
            "<class 'float'>\n"
          ],
          "name": "stdout"
        }
      ]
    },
    {
      "cell_type": "code",
      "metadata": {
        "id": "K6jxpupiN1yO",
        "colab_type": "code",
        "colab": {}
      },
      "source": [
        ""
      ],
      "execution_count": null,
      "outputs": []
    }
  ]
}