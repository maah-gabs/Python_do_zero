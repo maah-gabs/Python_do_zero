{
  "nbformat": 4,
  "nbformat_minor": 0,
  "metadata": {
    "colab": {
      "name": "Tuplas",
      "provenance": [],
      "authorship_tag": "ABX9TyMYIlHVj+n89anDtpacykXN",
      "include_colab_link": true
    },
    "kernelspec": {
      "name": "python3",
      "display_name": "Python 3"
    }
  },
  "cells": [
    {
      "cell_type": "markdown",
      "metadata": {
        "id": "view-in-github",
        "colab_type": "text"
      },
      "source": [
        "<a href=\"https://colab.research.google.com/github/maah-gabs/Python_do_zero/blob/master/Tuplas.ipynb\" target=\"_parent\"><img src=\"https://colab.research.google.com/assets/colab-badge.svg\" alt=\"Open In Colab\"/></a>"
      ]
    },
    {
      "cell_type": "markdown",
      "metadata": {
        "id": "ONVkkPG9iH5G",
        "colab_type": "text"
      },
      "source": [
        "## Módulo 04: Aula 05 - Tuplas\n",
        "\n",
        "Tuplas são estruturas bem semelhantes ás listas e armazenam uma sequencia ordenada de objetos. Porém, existem diferenças importantes em relação a essas duas estruturas. \n",
        "\n",
        "A tupla é voltada para sequencia ordenada, imutáveis. \n",
        "Elas podem ser acessadas, porém, elas nao podem ser alteradas. "
      ]
    },
    {
      "cell_type": "code",
      "metadata": {
        "id": "HGKrt5QnjkEb",
        "colab_type": "code",
        "colab": {}
      },
      "source": [
        "# Criando uma tupla\n",
        "teste = ()"
      ],
      "execution_count": 1,
      "outputs": []
    },
    {
      "cell_type": "code",
      "metadata": {
        "id": "Z1auQ8DGjpzF",
        "colab_type": "code",
        "colab": {
          "base_uri": "https://localhost:8080/",
          "height": 35
        },
        "outputId": "20fa7791-a52f-41e7-9320-94fff1114d1c"
      },
      "source": [
        "# Verificando o tipo \n",
        "type(teste)"
      ],
      "execution_count": 2,
      "outputs": [
        {
          "output_type": "execute_result",
          "data": {
            "text/plain": [
              "tuple"
            ]
          },
          "metadata": {
            "tags": []
          },
          "execution_count": 2
        }
      ]
    },
    {
      "cell_type": "markdown",
      "metadata": {
        "id": "k5S29wsZkGMV",
        "colab_type": "text"
      },
      "source": [
        "Quando criamos uma tupla é importante levar em consideração que é necessário acrescentar uma virgula, mesmo que a tupla tenha apenas um valor. \n",
        "\n",
        "Já que o Python também entende sobre parenteses como sendo os operadores matemáticos, caso a gente tenha que uma tupla sem o uso da virgula o Python entenderá como o objeto do tipo `int`."
      ]
    },
    {
      "cell_type": "code",
      "metadata": {
        "id": "sT9RQovHkmSD",
        "colab_type": "code",
        "colab": {
          "base_uri": "https://localhost:8080/",
          "height": 35
        },
        "outputId": "4645d073-4d82-44d0-86e1-567a0d8f8ccd"
      },
      "source": [
        "# Tentando criar uma tupla SEM a vírgula \n",
        "t = (2)\n",
        "type(t)"
      ],
      "execution_count": 3,
      "outputs": [
        {
          "output_type": "execute_result",
          "data": {
            "text/plain": [
              "int"
            ]
          },
          "metadata": {
            "tags": []
          },
          "execution_count": 3
        }
      ]
    },
    {
      "cell_type": "code",
      "metadata": {
        "id": "dd77n5vZksle",
        "colab_type": "code",
        "colab": {
          "base_uri": "https://localhost:8080/",
          "height": 35
        },
        "outputId": "00a399f5-0847-4ecb-898d-03e86762d6ec"
      },
      "source": [
        "# Tentando criar uma tupla COM a vírgula \n",
        "t = (2,)\n",
        "type(t)"
      ],
      "execution_count": 4,
      "outputs": [
        {
          "output_type": "execute_result",
          "data": {
            "text/plain": [
              "tuple"
            ]
          },
          "metadata": {
            "tags": []
          },
          "execution_count": 4
        }
      ]
    },
    {
      "cell_type": "code",
      "metadata": {
        "id": "zL58-Enuk1l0",
        "colab_type": "code",
        "colab": {
          "base_uri": "https://localhost:8080/",
          "height": 35
        },
        "outputId": "87a10017-c256-408b-afb2-f07b8706cc85"
      },
      "source": [
        "# Exemplo das dimensões de uma caixa\n",
        "\n",
        "caixa_sapato = (18, 28, 10)\n",
        "print(caixa_sapato)"
      ],
      "execution_count": 5,
      "outputs": [
        {
          "output_type": "stream",
          "text": [
            "(18, 28, 10)\n"
          ],
          "name": "stdout"
        }
      ]
    },
    {
      "cell_type": "markdown",
      "metadata": {
        "id": "uoUW7LwRlS51",
        "colab_type": "text"
      },
      "source": [
        "Também podemos associar variáveis a cada valor de uma tupla. Além disso, a tupla pode ter quantos valores forem necessários. "
      ]
    },
    {
      "cell_type": "code",
      "metadata": {
        "id": "qJH8A5MylddV",
        "colab_type": "code",
        "colab": {
          "base_uri": "https://localhost:8080/",
          "height": 35
        },
        "outputId": "d932743d-3e84-48d4-dfd2-21e1e885fce9"
      },
      "source": [
        "# Latitude e longitude de brasília\n",
        "brasilia = (-15.77, -47.92)\n",
        "type(brasilia)"
      ],
      "execution_count": 6,
      "outputs": [
        {
          "output_type": "execute_result",
          "data": {
            "text/plain": [
              "tuple"
            ]
          },
          "metadata": {
            "tags": []
          },
          "execution_count": 6
        }
      ]
    },
    {
      "cell_type": "code",
      "metadata": {
        "id": "X67PPKXRlzCy",
        "colab_type": "code",
        "colab": {
          "base_uri": "https://localhost:8080/",
          "height": 35
        },
        "outputId": "10e16663-f925-44a9-ba88-475681a4cfa7"
      },
      "source": [
        "#Comprimento da Tupla\n",
        "len(brasilia)"
      ],
      "execution_count": 7,
      "outputs": [
        {
          "output_type": "execute_result",
          "data": {
            "text/plain": [
              "2"
            ]
          },
          "metadata": {
            "tags": []
          },
          "execution_count": 7
        }
      ]
    },
    {
      "cell_type": "code",
      "metadata": {
        "id": "ZwUoogf7l36H",
        "colab_type": "code",
        "colab": {}
      },
      "source": [
        "# Associando os valores da tupla em variáveis \n",
        "lat, lon = brasilia"
      ],
      "execution_count": 8,
      "outputs": []
    },
    {
      "cell_type": "code",
      "metadata": {
        "id": "jVO7QAqGmEbk",
        "colab_type": "code",
        "colab": {
          "base_uri": "https://localhost:8080/",
          "height": 109
        },
        "outputId": "2fc65b03-c86b-4003-89d4-3657509fe84b"
      },
      "source": [
        "print('Latitude:', lat)\n",
        "print('Longitude:', lon)\n",
        "\n",
        "print('\\n\\n', brasilia)"
      ],
      "execution_count": 9,
      "outputs": [
        {
          "output_type": "stream",
          "text": [
            "Latitude: -15.77\n",
            "Longitude: -47.92\n",
            "\n",
            "\n",
            " (-15.77, -47.92)\n"
          ],
          "name": "stdout"
        }
      ]
    },
    {
      "cell_type": "markdown",
      "metadata": {
        "id": "H-6bksyhmxte",
        "colab_type": "text"
      },
      "source": [
        "## Se as tuplas são imutáveis, por que usá - las ao inves das listas? \n",
        "\n",
        "Existem muitas vantagens para o uso das tuplas: \n",
        "\n",
        "* Ao executar um programa com tuplas, percebe - se que esses são mais rápidos do que o das listas. \n",
        "* Existem alguns dados que **não podem** e **nem devem** ser modificados. Sendo assim, se existem esses valores no DataSet é indicado e até preferivel que se usem TUPLAS, evitando assim, o risco de ser modificado. \n",
        "* Ao utilizar dicionários, é possivel que se tenham tuplas dentro deles, tornando os valores imutáveis. \n",
        "\n",
        "Apesar das tuplas da sua imutabilidade, nós podemos acessá - las e explorá - las. \n",
        "\n",
        "Desta forma, as tuplas podem conter qualquer tipo de dados, como `int`, `float` e `string`"
      ]
    },
    {
      "cell_type": "code",
      "metadata": {
        "id": "SIJF_MOoo6Yz",
        "colab_type": "code",
        "colab": {}
      },
      "source": [
        "coordenadas = {\n",
        "    \"Brasilia\": (15.76, 47.92),\n",
        "    \"São Paulo\": (16.41, 46.75),\n",
        "    \"Araraquara\": (18.21, 47.21)\n",
        "}"
      ],
      "execution_count": 10,
      "outputs": []
    },
    {
      "cell_type": "code",
      "metadata": {
        "id": "MqYdVDWEpVML",
        "colab_type": "code",
        "colab": {
          "base_uri": "https://localhost:8080/",
          "height": 72
        },
        "outputId": "5a25892c-3698-4377-b03b-eab7dc7268db"
      },
      "source": [
        "coordenadas"
      ],
      "execution_count": 11,
      "outputs": [
        {
          "output_type": "execute_result",
          "data": {
            "text/plain": [
              "{'Araraquara': (18.21, 47.21),\n",
              " 'Brasilia': (15.76, 47.92),\n",
              " 'São Paulo': (16.41, 46.75)}"
            ]
          },
          "metadata": {
            "tags": []
          },
          "execution_count": 11
        }
      ]
    },
    {
      "cell_type": "code",
      "metadata": {
        "id": "VA_cvK8jpbDU",
        "colab_type": "code",
        "colab": {
          "base_uri": "https://localhost:8080/",
          "height": 35
        },
        "outputId": "9e3a1ebf-3117-4cc4-e192-a7cb18acaa0b"
      },
      "source": [
        "type(coordenadas)"
      ],
      "execution_count": 12,
      "outputs": [
        {
          "output_type": "execute_result",
          "data": {
            "text/plain": [
              "dict"
            ]
          },
          "metadata": {
            "tags": []
          },
          "execution_count": 12
        }
      ]
    },
    {
      "cell_type": "code",
      "metadata": {
        "id": "t5aapXG9pdyO",
        "colab_type": "code",
        "colab": {
          "base_uri": "https://localhost:8080/",
          "height": 35
        },
        "outputId": "256fdfc2-289d-48b6-dae0-4909078308d6"
      },
      "source": [
        "type(coordenadas['Brasilia'])"
      ],
      "execution_count": 14,
      "outputs": [
        {
          "output_type": "execute_result",
          "data": {
            "text/plain": [
              "tuple"
            ]
          },
          "metadata": {
            "tags": []
          },
          "execution_count": 14
        }
      ]
    },
    {
      "cell_type": "code",
      "metadata": {
        "id": "WJW2Q5lYplox",
        "colab_type": "code",
        "colab": {
          "base_uri": "https://localhost:8080/",
          "height": 35
        },
        "outputId": "f640c6cd-a4fc-4bd7-b9f1-0bc218573e8b"
      },
      "source": [
        "coordenadas[\"Brasilia\"][0]"
      ],
      "execution_count": 18,
      "outputs": [
        {
          "output_type": "execute_result",
          "data": {
            "text/plain": [
              "15.76"
            ]
          },
          "metadata": {
            "tags": []
          },
          "execution_count": 18
        }
      ]
    },
    {
      "cell_type": "markdown",
      "metadata": {
        "id": "oPNQTcfxqScX",
        "colab_type": "text"
      },
      "source": [
        "### Exercicios\n",
        "\n",
        "Bora praticar?"
      ]
    },
    {
      "cell_type": "markdown",
      "metadata": {
        "id": "UJIIy4kkqXUx",
        "colab_type": "text"
      },
      "source": [
        "### Exercício 1\n",
        "Crie uma tupla com os nomes dos estados da sua região."
      ]
    },
    {
      "cell_type": "code",
      "metadata": {
        "id": "8s20x-A_xT39",
        "colab_type": "code",
        "colab": {
          "base_uri": "https://localhost:8080/",
          "height": 35
        },
        "outputId": "e3136785-a704-474c-994a-eae221d2937d"
      },
      "source": [
        "regiao = ('Minas Gerais', 'Paraná', 'Rio de Janeiro', 'Mato Grosso do Sul')\n",
        "print(regiao)"
      ],
      "execution_count": 21,
      "outputs": [
        {
          "output_type": "stream",
          "text": [
            "('Minas Gerais', 'Paraná', 'Rio de Janeiro', 'Mato Grosso do Sul')\n"
          ],
          "name": "stdout"
        }
      ]
    },
    {
      "cell_type": "markdown",
      "metadata": {
        "id": "1G_ftQmOxmYp",
        "colab_type": "text"
      },
      "source": [
        "#### Exercicio 02 \n",
        "\n",
        "Associe cada estado a uma variável e cria uma nova tupla, utiizando essas variáveis "
      ]
    },
    {
      "cell_type": "code",
      "metadata": {
        "id": "py66kwCexvZr",
        "colab_type": "code",
        "colab": {
          "base_uri": "https://localhost:8080/",
          "height": 54
        },
        "outputId": "a6e62195-2ea5-4d91-9aef-5e41c1b22a9f"
      },
      "source": [
        "regiao = ('Minas Gerais', 'Paraná', 'Rio de Janeiro', 'Mato Grosso do Sul')\n",
        "\n",
        "MG = regiao[0]\n",
        "PR = regiao[1]\n",
        "RJ = regiao [2]\n",
        "MS = regiao[3]\n",
        "sd = (MG, PR, RJ, MS)\n",
        "print(type(sd))\n",
        "print(sd)\n",
        "                       "
      ],
      "execution_count": 22,
      "outputs": [
        {
          "output_type": "stream",
          "text": [
            "<class 'tuple'>\n",
            "('Minas Gerais', 'Paraná', 'Rio de Janeiro', 'Mato Grosso do Sul')\n"
          ],
          "name": "stdout"
        }
      ]
    },
    {
      "cell_type": "markdown",
      "metadata": {
        "id": "fixwcpcRzY2h",
        "colab_type": "text"
      },
      "source": [
        "#### Exercicio 03\n",
        "\n",
        "Utilizando as tuplas criadas anteriormente, faça o que se pede em cada célula. \n",
        "\n"
      ]
    },
    {
      "cell_type": "code",
      "metadata": {
        "id": "0HgwqNN0ziWM",
        "colab_type": "code",
        "colab": {
          "base_uri": "https://localhost:8080/",
          "height": 36
        },
        "outputId": "023eda59-d35e-4567-f864-95a302adb8ab"
      },
      "source": [
        "# Imprima o último conteúdo da tupla\n",
        "regiao[-1]"
      ],
      "execution_count": 23,
      "outputs": [
        {
          "output_type": "execute_result",
          "data": {
            "application/vnd.google.colaboratory.intrinsic+json": {
              "type": "string"
            },
            "text/plain": [
              "'Mato Grosso do Sul'"
            ]
          },
          "metadata": {
            "tags": []
          },
          "execution_count": 23
        }
      ]
    },
    {
      "cell_type": "code",
      "metadata": {
        "id": "0G9aHq2Zzr2D",
        "colab_type": "code",
        "colab": {
          "base_uri": "https://localhost:8080/",
          "height": 36
        },
        "outputId": "4c8739b9-b9ca-4783-9409-ac0edec8542c"
      },
      "source": [
        "# Imprima o item que se encontra no meio da tupla\n",
        "regiao[2]"
      ],
      "execution_count": 24,
      "outputs": [
        {
          "output_type": "execute_result",
          "data": {
            "application/vnd.google.colaboratory.intrinsic+json": {
              "type": "string"
            },
            "text/plain": [
              "'Rio de Janeiro'"
            ]
          },
          "metadata": {
            "tags": []
          },
          "execution_count": 24
        }
      ]
    },
    {
      "cell_type": "code",
      "metadata": {
        "id": "fFpZ_9Myz0op",
        "colab_type": "code",
        "colab": {
          "base_uri": "https://localhost:8080/",
          "height": 35
        },
        "outputId": "07dd3fe7-4d52-4739-9edf-53cb28359cad"
      },
      "source": [
        "# imprima a tupla pulando um \n",
        "print(regiao[::2])"
      ],
      "execution_count": 25,
      "outputs": [
        {
          "output_type": "stream",
          "text": [
            "('Minas Gerais', 'Rio de Janeiro')\n"
          ],
          "name": "stdout"
        }
      ]
    },
    {
      "cell_type": "code",
      "metadata": {
        "id": "cDd3wAKcz_sD",
        "colab_type": "code",
        "colab": {}
      },
      "source": [
        ""
      ],
      "execution_count": null,
      "outputs": []
    }
  ]
}