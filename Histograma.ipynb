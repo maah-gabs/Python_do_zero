{
  "nbformat": 4,
  "nbformat_minor": 0,
  "metadata": {
    "colab": {
      "name": "Histograma",
      "provenance": [],
      "authorship_tag": "ABX9TyPh31vfpZVAbnyS5T1RLVlq",
      "include_colab_link": true
    },
    "kernelspec": {
      "name": "python3",
      "display_name": "Python 3"
    }
  },
  "cells": [
    {
      "cell_type": "markdown",
      "metadata": {
        "id": "view-in-github",
        "colab_type": "text"
      },
      "source": [
        "<a href=\"https://colab.research.google.com/github/maah-gabs/Python_do_zero/blob/master/Histograma.ipynb\" target=\"_parent\"><img src=\"https://colab.research.google.com/assets/colab-badge.svg\" alt=\"Open In Colab\"/></a>"
      ]
    },
    {
      "cell_type": "markdown",
      "metadata": {
        "id": "zudGqWhPDBPl",
        "colab_type": "text"
      },
      "source": [
        "# MÓDULO 03: Visualizando Gráficos e Criando Relatórios: AULA 05 - Histograma. \n",
        "\n",
        "*Histograma* consistem em gráficos que auxiliam na compreensão da distribuição de determinadas variáveis em um conjunto de dados. Eles são muito úteis para auxiliar na identificação padrões, dados discrepantes e são muito importantes para a análise de dados. \n",
        "\n",
        "Os hitogramas fornecem informações muito importantes para cientista de dados, ele é capaz de mostrar visualmente a distribuição de dados, além disso, conseguimos obter informações muito importantes sobre centralidade, ampitude e simetria. "
      ]
    },
    {
      "cell_type": "markdown",
      "metadata": {
        "id": "25O5CWS4JoF9",
        "colab_type": "text"
      },
      "source": [
        "## Plotar Histograma \n",
        "\n",
        "Vamos utilizar o dataset `controle_da_empresa.xlsx` e importa - lo do Google Drive. "
      ]
    },
    {
      "cell_type": "code",
      "metadata": {
        "id": "q2Rgep0sJ6FI",
        "colab_type": "code",
        "colab": {}
      },
      "source": [
        "# Importar as bibliotecas \n",
        "import pandas as pd \n",
        "import matplotlib.pyplot as plt \n",
        "from google.colab import drive "
      ],
      "execution_count": 1,
      "outputs": []
    },
    {
      "cell_type": "code",
      "metadata": {
        "id": "KMkdYOCyKDQw",
        "colab_type": "code",
        "colab": {
          "base_uri": "https://localhost:8080/",
          "height": 225
        },
        "outputId": "1405730b-821b-42c5-d198-18b76f2c8e98"
      },
      "source": [
        "# montando o drive \n",
        "drive.mount('/content/gdrive')\n",
        "\n",
        "#importar planilha \n",
        "\n",
        "planilha = pd.read_excel(\"/content/gdrive/My Drive/controle_da_empresa.xlsx\", None)\n",
        "df = planilha['Vendas']\n",
        "\n",
        "df.head ()"
      ],
      "execution_count": 4,
      "outputs": [
        {
          "output_type": "stream",
          "text": [
            "Drive already mounted at /content/gdrive; to attempt to forcibly remount, call drive.mount(\"/content/gdrive\", force_remount=True).\n"
          ],
          "name": "stdout"
        },
        {
          "output_type": "execute_result",
          "data": {
            "text/html": [
              "<div>\n",
              "<style scoped>\n",
              "    .dataframe tbody tr th:only-of-type {\n",
              "        vertical-align: middle;\n",
              "    }\n",
              "\n",
              "    .dataframe tbody tr th {\n",
              "        vertical-align: top;\n",
              "    }\n",
              "\n",
              "    .dataframe thead th {\n",
              "        text-align: right;\n",
              "    }\n",
              "</style>\n",
              "<table border=\"1\" class=\"dataframe\">\n",
              "  <thead>\n",
              "    <tr style=\"text-align: right;\">\n",
              "      <th></th>\n",
              "      <th>Data da Venda</th>\n",
              "      <th>Item</th>\n",
              "      <th>Quantidade</th>\n",
              "      <th>Vendedor</th>\n",
              "      <th>Preço Unitário</th>\n",
              "      <th>Total de Vendas</th>\n",
              "    </tr>\n",
              "  </thead>\n",
              "  <tbody>\n",
              "    <tr>\n",
              "      <th>0</th>\n",
              "      <td>2020-01-02</td>\n",
              "      <td>Lente 50mm f/1.4</td>\n",
              "      <td>2</td>\n",
              "      <td>Carlos</td>\n",
              "      <td>1649</td>\n",
              "      <td>3298</td>\n",
              "    </tr>\n",
              "    <tr>\n",
              "      <th>1</th>\n",
              "      <td>2020-01-02</td>\n",
              "      <td>Filtro ND 5 Stop</td>\n",
              "      <td>2</td>\n",
              "      <td>Raquel</td>\n",
              "      <td>1220</td>\n",
              "      <td>2440</td>\n",
              "    </tr>\n",
              "    <tr>\n",
              "      <th>2</th>\n",
              "      <td>2020-01-03</td>\n",
              "      <td>Filtro ND 5 Stop</td>\n",
              "      <td>2</td>\n",
              "      <td>Raquel</td>\n",
              "      <td>1220</td>\n",
              "      <td>2440</td>\n",
              "    </tr>\n",
              "    <tr>\n",
              "      <th>3</th>\n",
              "      <td>2020-01-03</td>\n",
              "      <td>Lente 16-35mm f/2.8</td>\n",
              "      <td>2</td>\n",
              "      <td>Carlos</td>\n",
              "      <td>8997</td>\n",
              "      <td>17994</td>\n",
              "    </tr>\n",
              "    <tr>\n",
              "      <th>4</th>\n",
              "      <td>2020-01-04</td>\n",
              "      <td>Lente 16-35mm f/2.8</td>\n",
              "      <td>2</td>\n",
              "      <td>Fernanda</td>\n",
              "      <td>8997</td>\n",
              "      <td>17994</td>\n",
              "    </tr>\n",
              "  </tbody>\n",
              "</table>\n",
              "</div>"
            ],
            "text/plain": [
              "  Data da Venda                 Item  ...  Preço Unitário Total de Vendas\n",
              "0    2020-01-02     Lente 50mm f/1.4  ...            1649            3298\n",
              "1    2020-01-02     Filtro ND 5 Stop  ...            1220            2440\n",
              "2    2020-01-03     Filtro ND 5 Stop  ...            1220            2440\n",
              "3    2020-01-03  Lente 16-35mm f/2.8  ...            8997           17994\n",
              "4    2020-01-04  Lente 16-35mm f/2.8  ...            8997           17994\n",
              "\n",
              "[5 rows x 6 columns]"
            ]
          },
          "metadata": {
            "tags": []
          },
          "execution_count": 4
        }
      ]
    },
    {
      "cell_type": "code",
      "metadata": {
        "id": "NmDbCpoyM5bO",
        "colab_type": "code",
        "colab": {
          "base_uri": "https://localhost:8080/",
          "height": 295
        },
        "outputId": "b5ec27b6-344a-4d59-8998-8f3ffffcd7cf"
      },
      "source": [
        "#Hitograma \n",
        "plt.hist('Total de Vendas', data = df)\n",
        "plt.title(\"Histograma de Vendas\")\n",
        "plt.xlabel(\"Valor da Compra\")\n",
        "plt.ylabel(\"Quantidade de Ocorrências\")\n",
        "\n",
        "plt.show()"
      ],
      "execution_count": 5,
      "outputs": [
        {
          "output_type": "display_data",
          "data": {
            "image/png": "[encoded data removed]",
            "text/plain": [
              "<Figure size 432x288 with 1 Axes>"
            ]
          },
          "metadata": {
            "tags": [],
            "needs_background": "light"
          }
        }
      ]
    },
    {
      "cell_type": "markdown",
      "metadata": {
        "id": "cpsHd5rFNW8F",
        "colab_type": "text"
      },
      "source": [
        "O histograma que foi plotado acima, está com numeros absolutos. Para plotar um histograma com frequencia relativa, acrescenta - se `density = True` na função. "
      ]
    },
    {
      "cell_type": "code",
      "metadata": {
        "id": "pNsWhBzWNtWO",
        "colab_type": "code",
        "colab": {
          "base_uri": "https://localhost:8080/",
          "height": 295
        },
        "outputId": "0954e5c4-095b-4bf5-de10-ba3c4eec534a"
      },
      "source": [
        "# Histograma com valor de frequencia relativa \n",
        "plt.hist('Total de Vendas', data = df, density = True)\n",
        "plt.title(\"Histograma de Vendas\")\n",
        "plt.xlabel(\"Valor da Compra\")\n",
        "plt.ylabel(\"Quantidade de Ocorrências\")\n",
        "\n",
        "plt.show()"
      ],
      "execution_count": 6,
      "outputs": [
        {
          "output_type": "display_data",
          "data": {
            "image/png": "[encoded data removed]",
            "text/plain": [
              "<Figure size 432x288 with 1 Axes>"
            ]
          },
          "metadata": {
            "tags": [],
            "needs_background": "light"
          }
        }
      ]
    },
    {
      "cell_type": "markdown",
      "metadata": {
        "id": "6cHcsj9dN67U",
        "colab_type": "text"
      },
      "source": [
        "A quantidade de barras é definida por padrão, porém, a partir do argumento `bins = x`, neste caso, informaremos de forma explicita o valor. "
      ]
    },
    {
      "cell_type": "code",
      "metadata": {
        "id": "AdzThQfxPqYA",
        "colab_type": "code",
        "colab": {
          "base_uri": "https://localhost:8080/",
          "height": 295
        },
        "outputId": "859d044e-386a-473f-b509-8b734744cb71"
      },
      "source": [
        "#Hitograma \n",
        "plt.hist('Total de Vendas', data = df, bins = 5)\n",
        "plt.title(\"Histograma de Vendas\")\n",
        "plt.xlabel(\"Valor da Compra\")\n",
        "plt.ylabel(\"Quantidade de Ocorrências\")\n",
        "\n",
        "plt.show()"
      ],
      "execution_count": 7,
      "outputs": [
        {
          "output_type": "display_data",
          "data": {
            "image/png": "[encoded data removed]",
            "text/plain": [
              "<Figure size 432x288 with 1 Axes>"
            ]
          },
          "metadata": {
            "tags": [],
            "needs_background": "light"
          }
        }
      ]
    },
    {
      "cell_type": "code",
      "metadata": {
        "id": "nTZ--z5VPsu1",
        "colab_type": "code",
        "colab": {}
      },
      "source": [
        ""
      ],
      "execution_count": null,
      "outputs": []
    }
  ]
}