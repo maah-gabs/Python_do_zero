{
  "nbformat": 4,
  "nbformat_minor": 0,
  "metadata": {
    "colab": {
      "name": "Inserindo Imagens",
      "provenance": [],
      "authorship_tag": "ABX9TyPCoiywgfPgETU2XZ5VpXaG",
      "include_colab_link": true
    },
    "kernelspec": {
      "name": "python3",
      "display_name": "Python 3"
    }
  },
  "cells": [
    {
      "cell_type": "markdown",
      "metadata": {
        "id": "view-in-github",
        "colab_type": "text"
      },
      "source": [
        "<a href=\"https://colab.research.google.com/github/maah-gabs/Python_do_zero/blob/master/Inserindo_Imagens.ipynb\" target=\"_parent\"><img src=\"https://colab.research.google.com/assets/colab-badge.svg\" alt=\"Open In Colab\"/></a>"
      ]
    },
    {
      "cell_type": "markdown",
      "metadata": {
        "id": "RJdGkwu31Cn6"
      },
      "source": [
        "# Inserindo Imagens \n",
        "\n",
        "Podemos fazer em Python, assim como executamos no excel a inserção de imagens no nosso documento. \n",
        "\n",
        "O uso de imagens, é um excelente opção quando estamos apostando em visualização. "
      ]
    },
    {
      "cell_type": "code",
      "metadata": {
        "id": "66TcV1R-1j54",
        "outputId": "68a6abdc-bba3-4f1a-a69c-50b2f2f62761",
        "colab": {
          "base_uri": "https://localhost:8080/",
          "height": 35
        }
      },
      "source": [
        "# atualizando a lib\n",
        "!pip install -U openpyxl -q "
      ],
      "execution_count": 1,
      "outputs": [
        {
          "output_type": "stream",
          "text": [
            "\u001b[?25l\r\u001b[K     |█▍                              | 10kB 21.1MB/s eta 0:00:01\r\u001b[K     |██▊                             | 20kB 1.8MB/s eta 0:00:01\r\u001b[K     |████                            | 30kB 2.4MB/s eta 0:00:01\r\u001b[K     |█████▍                          | 40kB 2.7MB/s eta 0:00:01\r\u001b[K     |██████▊                         | 51kB 2.1MB/s eta 0:00:01\r\u001b[K     |████████                        | 61kB 2.4MB/s eta 0:00:01\r\u001b[K     |█████████▌                      | 71kB 2.6MB/s eta 0:00:01\r\u001b[K     |██████████▉                     | 81kB 2.9MB/s eta 0:00:01\r\u001b[K     |████████████▏                   | 92kB 3.1MB/s eta 0:00:01\r\u001b[K     |█████████████▌                  | 102kB 3.0MB/s eta 0:00:01\r\u001b[K     |██████████████▉                 | 112kB 3.0MB/s eta 0:00:01\r\u001b[K     |████████████████▏               | 122kB 3.0MB/s eta 0:00:01\r\u001b[K     |█████████████████▌              | 133kB 3.0MB/s eta 0:00:01\r\u001b[K     |███████████████████             | 143kB 3.0MB/s eta 0:00:01\r\u001b[K     |████████████████████▎           | 153kB 3.0MB/s eta 0:00:01\r\u001b[K     |█████████████████████▋          | 163kB 3.0MB/s eta 0:00:01\r\u001b[K     |███████████████████████         | 174kB 3.0MB/s eta 0:00:01\r\u001b[K     |████████████████████████▎       | 184kB 3.0MB/s eta 0:00:01\r\u001b[K     |█████████████████████████▋      | 194kB 3.0MB/s eta 0:00:01\r\u001b[K     |███████████████████████████     | 204kB 3.0MB/s eta 0:00:01\r\u001b[K     |████████████████████████████▍   | 215kB 3.0MB/s eta 0:00:01\r\u001b[K     |█████████████████████████████▊  | 225kB 3.0MB/s eta 0:00:01\r\u001b[K     |███████████████████████████████ | 235kB 3.0MB/s eta 0:00:01\r\u001b[K     |████████████████████████████████| 245kB 3.0MB/s \n",
            "\u001b[?25h"
          ],
          "name": "stdout"
        }
      ]
    },
    {
      "cell_type": "markdown",
      "metadata": {
        "id": "KZ9R3Z7P2RTE"
      },
      "source": [
        "## Carregando os dados \n",
        "Mais uma vez, vamos utilizar do mesmo processo anterior para trabalhar com a aba Vendas na nossa planilha, "
      ]
    },
    {
      "cell_type": "code",
      "metadata": {
        "id": "beV49iAG2a9L",
        "outputId": "856e9c77-6f5e-4dbf-8321-2f33cd2b5f13",
        "colab": {
          "base_uri": "https://localhost:8080/",
          "height": 35
        }
      },
      "source": [
        "# Carregando uma planilha \n",
        "from openpyxl import load_workbook\n",
        "from openpyxl.drawing.image import Image\n",
        "\n",
        "workbook = load_workbook(filename = 'controle_da_empresa.xlsx')\n",
        "\n",
        "#verificando as abas \n",
        "workbook.sheetnames"
      ],
      "execution_count": 2,
      "outputs": [
        {
          "output_type": "execute_result",
          "data": {
            "text/plain": [
              "['Estoque', 'Vendas', 'Funcionários']"
            ]
          },
          "metadata": {
            "tags": []
          },
          "execution_count": 2
        }
      ]
    },
    {
      "cell_type": "code",
      "metadata": {
        "id": "mYeqK8o32xVk"
      },
      "source": [
        "# Carregando uma aba específica \n",
        "sheet = workbook['Estoque']"
      ],
      "execution_count": 3,
      "outputs": []
    },
    {
      "cell_type": "markdown",
      "metadata": {
        "id": "7rQMUHtn3IRr"
      },
      "source": [
        "## Carregando uma Imagem \n",
        "Neste passo, utilizaremos o módulo `Image` para que a imagem possa ser lida. \n",
        "O tamanho da imagem também é algo que devemos ajustar para que ela não ocupe muito espaço na nossa planilha. "
      ]
    },
    {
      "cell_type": "code",
      "metadata": {
        "id": "PDSyjpg13fK-"
      },
      "source": [
        "# carregando a imagem \n",
        "logo = Image('logo_sigmoidal.png')\n",
        "\n",
        "#modificando altura\n",
        "logo.height = 150 \n",
        "\n",
        "# modificando a largura\n",
        "logo.width = 150 "
      ],
      "execution_count": 6,
      "outputs": []
    },
    {
      "cell_type": "markdown",
      "metadata": {
        "id": "WFu_1IDv4Ckp"
      },
      "source": [
        "## Adicionando Imagem\n",
        "Para adicionar uma imagem no metodo, é bem simples. Abaixo, deixaremos um exemplo de como é possivel fazer isso. \n",
        "\n",
        "\n",
        "Pense bem sobre a colocação da imagem, tendo como referência o canto superior esquerdo da imagem como ponto de início da mesma."
      ]
    },
    {
      "cell_type": "code",
      "metadata": {
        "id": "wxw6JwKw4UwG",
        "outputId": "2bc77d6a-28a7-4bf9-a9af-a08a1893585b",
        "colab": {
          "base_uri": "https://localhost:8080/",
          "height": 54
        }
      },
      "source": [
        "# Add a imagem \n",
        "sheet.add_image(logo, 'D12')\n",
        "workbook.save(filename='controle_img.xlsx')"
      ],
      "execution_count": 8,
      "outputs": [
        {
          "output_type": "stream",
          "text": [
            "/usr/lib/python3.6/zipfile.py:1378: UserWarning: Duplicate name: 'xl/media/image3.png'\n",
            "  return self._open_to_write(zinfo, force_zip64=force_zip64)\n"
          ],
          "name": "stderr"
        }
      ]
    },
    {
      "cell_type": "code",
      "metadata": {
        "id": "JKcGg5_A4lL3"
      },
      "source": [
        ""
      ],
      "execution_count": null,
      "outputs": []
    }
  ]
}