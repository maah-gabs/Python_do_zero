{
  "nbformat": 4,
  "nbformat_minor": 0,
  "metadata": {
    "colab": {
      "name": "M1. Aula09: Operadores Matemáticos",
      "provenance": [],
      "authorship_tag": "ABX9TyNbRhbK24oW4Z5gEm0cn1Ao",
      "include_colab_link": true
    },
    "kernelspec": {
      "name": "python3",
      "display_name": "Python 3"
    }
  },
  "cells": [
    {
      "cell_type": "markdown",
      "metadata": {
        "id": "view-in-github",
        "colab_type": "text"
      },
      "source": [
        "<a href=\"https://colab.research.google.com/github/maah-gabs/Python_do_zero/blob/master/M1_Aula09_Operadores_Matem%C3%A1ticos.ipynb\" target=\"_parent\"><img src=\"https://colab.research.google.com/assets/colab-badge.svg\" alt=\"Open In Colab\"/></a>"
      ]
    },
    {
      "cell_type": "markdown",
      "metadata": {
        "id": "7x6QOEB-aJJh",
        "colab_type": "text"
      },
      "source": [
        "#Módulo 01: Aula 09: Operadores Matemáticos \n",
        "\n",
        "Nesta aula, falaremos sobre os operadores matemáticos (aritméticos) e como eles funcionam no Python. \n",
        "\n",
        "Os operadores no Python são: \n",
        "\n",
        "* Adição ( + );\n",
        "* Subtração ( - );\n",
        "* Multiplicação ( X );\n",
        "* Divisão ( / ); \n",
        "* Exponenciação ( **);\n",
        "* Divisão - Resultado número inteiro ( // ); \n",
        "\n",
        "OBS: Importante salientar, que assim quando essas operações são realizadas, elas seguem uma seguincia de leitura que também veremos nessa aula. \n",
        "\n",
        "Veremos os seguintes exemplos: "
      ]
    },
    {
      "cell_type": "code",
      "metadata": {
        "id": "ofLVZNJgdIqc",
        "colab_type": "code",
        "colab": {
          "base_uri": "https://localhost:8080/",
          "height": 35
        },
        "outputId": "1f913b8b-fa29-4230-9a18-27fdfaeff7ce"
      },
      "source": [
        "#Adição\n",
        "13 + 45 + 89 + 90"
      ],
      "execution_count": 1,
      "outputs": [
        {
          "output_type": "execute_result",
          "data": {
            "text/plain": [
              "237"
            ]
          },
          "metadata": {
            "tags": []
          },
          "execution_count": 1
        }
      ]
    },
    {
      "cell_type": "code",
      "metadata": {
        "id": "f7sJG_-OdIoa",
        "colab_type": "code",
        "colab": {
          "base_uri": "https://localhost:8080/",
          "height": 35
        },
        "outputId": "6e63dbbe-9121-40cf-cb1b-c5a261b25db2"
      },
      "source": [
        "#Subtração\n",
        "87 - 700"
      ],
      "execution_count": 2,
      "outputs": [
        {
          "output_type": "execute_result",
          "data": {
            "text/plain": [
              "-613"
            ]
          },
          "metadata": {
            "tags": []
          },
          "execution_count": 2
        }
      ]
    },
    {
      "cell_type": "code",
      "metadata": {
        "id": "QL_uwPffdgtZ",
        "colab_type": "code",
        "colab": {
          "base_uri": "https://localhost:8080/",
          "height": 35
        },
        "outputId": "ab14bf9e-ab4c-47f7-e0d2-fa087726bd65"
      },
      "source": [
        "#Multiplicação \n",
        "7 * 10"
      ],
      "execution_count": 3,
      "outputs": [
        {
          "output_type": "execute_result",
          "data": {
            "text/plain": [
              "70"
            ]
          },
          "metadata": {
            "tags": []
          },
          "execution_count": 3
        }
      ]
    },
    {
      "cell_type": "code",
      "metadata": {
        "id": "AvQlw-EjdkL-",
        "colab_type": "code",
        "colab": {
          "base_uri": "https://localhost:8080/",
          "height": 35
        },
        "outputId": "e88ddc15-53b8-4b6d-b3a2-26ced8f6ab3d"
      },
      "source": [
        "#Divisão\n",
        "70 / 3"
      ],
      "execution_count": 4,
      "outputs": [
        {
          "output_type": "execute_result",
          "data": {
            "text/plain": [
              "23.333333333333332"
            ]
          },
          "metadata": {
            "tags": []
          },
          "execution_count": 4
        }
      ]
    },
    {
      "cell_type": "code",
      "metadata": {
        "id": "eEL75Z71dnUX",
        "colab_type": "code",
        "colab": {
          "base_uri": "https://localhost:8080/",
          "height": 35
        },
        "outputId": "cbe680a7-a69f-45d3-84cb-401a2d6db91f"
      },
      "source": [
        "#Divisão (resultado inteiro)\n",
        "70 // 3"
      ],
      "execution_count": 5,
      "outputs": [
        {
          "output_type": "execute_result",
          "data": {
            "text/plain": [
              "23"
            ]
          },
          "metadata": {
            "tags": []
          },
          "execution_count": 5
        }
      ]
    },
    {
      "cell_type": "code",
      "metadata": {
        "id": "UtusqLdldsgJ",
        "colab_type": "code",
        "colab": {
          "base_uri": "https://localhost:8080/",
          "height": 35
        },
        "outputId": "5a46042d-17c0-414b-dc17-9b273d7bc965"
      },
      "source": [
        "#Exponenciação\n",
        "7 ** 2"
      ],
      "execution_count": 6,
      "outputs": [
        {
          "output_type": "execute_result",
          "data": {
            "text/plain": [
              "49"
            ]
          },
          "metadata": {
            "tags": []
          },
          "execution_count": 6
        }
      ]
    },
    {
      "cell_type": "markdown",
      "metadata": {
        "id": "Du8wmfMxeB_T",
        "colab_type": "text"
      },
      "source": [
        "## Ordem de Precedência\n",
        "Vale a pena ressaltar que em matemática e em relação a ordem correta das operações matemáticas existem uma **ORDEM CORRETA.**\n",
        "\n",
        "$$\n",
        "\\begin{aligned}\n",
        "x & = 3 + 10 * 3 \\\\\n",
        "x & = 3 + (10 * 3) \\\\\n",
        "x & = 3 + 30 \\\\\n",
        "x & = 33\n",
        "\\end{aligned}\n",
        "$$\n",
        "\n",
        "A ordem correta em matemática é: \n",
        "\n",
        "* 1º Parenteses; \n",
        "* 2º Expoentes; \n",
        "* 3º Multiplicações e Divisões; (da esquerda para a direita)\n",
        "* 4º Somas e Subtrações: (da esquerda para a direita)"
      ]
    },
    {
      "cell_type": "code",
      "metadata": {
        "id": "BROInYhjfp6T",
        "colab_type": "code",
        "colab": {
          "base_uri": "https://localhost:8080/",
          "height": 35
        },
        "outputId": "c2316f73-3cf8-4e34-a015-e2b981a5f105"
      },
      "source": [
        "#Primeiro é resolvido a multiplicação e depois a subtração\n",
        "10 * 3"
      ],
      "execution_count": 7,
      "outputs": [
        {
          "output_type": "execute_result",
          "data": {
            "text/plain": [
              "30"
            ]
          },
          "metadata": {
            "tags": []
          },
          "execution_count": 7
        }
      ]
    },
    {
      "cell_type": "code",
      "metadata": {
        "id": "_FD48GjNfp4p",
        "colab_type": "code",
        "colab": {
          "base_uri": "https://localhost:8080/",
          "height": 35
        },
        "outputId": "178abc32-f92c-4c2b-be5d-02c62dd061b1"
      },
      "source": [
        "#Multiplicamos, e depois somamos o resultado\n",
        "3 + 30"
      ],
      "execution_count": 8,
      "outputs": [
        {
          "output_type": "execute_result",
          "data": {
            "text/plain": [
              "33"
            ]
          },
          "metadata": {
            "tags": []
          },
          "execution_count": 8
        }
      ]
    },
    {
      "cell_type": "markdown",
      "metadata": {
        "id": "eggtY1sZgDTL",
        "colab_type": "text"
      },
      "source": [
        "Na esquação que veremos mais abaixo, mesmo apresentando uma maior dificuldade, o Python é extremamente capaz de resolver a equação dada para ele. \n",
        "\n",
        "$$\n",
        "\\begin{aligned}\n",
        "x & = 5 + 9 - 2^2 + \\frac{9}{3} \\\\\n",
        "x & = 5 + 9 - 4 + \\frac{9}{3} \\\\\n",
        "x & = 5 + 9 - 4 + 3 \\\\\n",
        "x & = 14 - 4 + 3 \\\\\n",
        "x & = 10 + 3 \\\\\n",
        "x & = 13 \\\\\n",
        "\\end{aligned}\n",
        "$$\n",
        "\n"
      ]
    },
    {
      "cell_type": "code",
      "metadata": {
        "id": "s0h4S9f3gl11",
        "colab_type": "code",
        "colab": {
          "base_uri": "https://localhost:8080/",
          "height": 35
        },
        "outputId": "6d6294ab-8714-403b-ee75-7e20dc341bf2"
      },
      "source": [
        "#Resolução da equação acima utilizando Python \n",
        "5 + 9 - 2 ** 2 + 9 / 3"
      ],
      "execution_count": 9,
      "outputs": [
        {
          "output_type": "execute_result",
          "data": {
            "text/plain": [
              "13.0"
            ]
          },
          "metadata": {
            "tags": []
          },
          "execution_count": 9
        }
      ]
    },
    {
      "cell_type": "markdown",
      "metadata": {
        "id": "uuSK8bvSg5fb",
        "colab_type": "text"
      },
      "source": [
        "Mesmo o script por trás do Pythonn sempre garantir a ocorrencia dessa sequencia, também podemos colocar parenteses nas operações, para que realmente a primeira equação a ser realizada seja a que queremos e que o resultado não saia equivocado.  "
      ]
    },
    {
      "cell_type": "code",
      "metadata": {
        "id": "W28xIJZKgyFU",
        "colab_type": "code",
        "colab": {
          "base_uri": "https://localhost:8080/",
          "height": 35
        },
        "outputId": "3a019233-024d-4b30-a006-ff6ca67f7d8c"
      },
      "source": [
        "5 + 9 - (2 ** 2) + (9 / 3)"
      ],
      "execution_count": 10,
      "outputs": [
        {
          "output_type": "execute_result",
          "data": {
            "text/plain": [
              "13.0"
            ]
          },
          "metadata": {
            "tags": []
          },
          "execution_count": 10
        }
      ]
    },
    {
      "cell_type": "markdown",
      "metadata": {
        "id": "b1PtOKNWjC05",
        "colab_type": "text"
      },
      "source": [
        "## Exemplo 01: \n",
        "\n",
        "Calcula a média simples das notas das 3 provas de matemática\n",
        "\n",
        "* Nota 1: 8,5\n",
        "* Nota 2: 9,2\n",
        "* Nota 3: 7,5"
      ]
    },
    {
      "cell_type": "code",
      "metadata": {
        "id": "gsm5YRgLjXIc",
        "colab_type": "code",
        "colab": {
          "base_uri": "https://localhost:8080/",
          "height": 35
        },
        "outputId": "0683bb1f-cb32-4814-8028-98ab9365fc21"
      },
      "source": [
        "# Resposta - Média simples \n",
        "\n",
        "(8.5 + 9.2 + 7.5) / 3"
      ],
      "execution_count": 11,
      "outputs": [
        {
          "output_type": "execute_result",
          "data": {
            "text/plain": [
              "8.4"
            ]
          },
          "metadata": {
            "tags": []
          },
          "execution_count": 11
        }
      ]
    },
    {
      "cell_type": "markdown",
      "metadata": {
        "id": "dxXkg_erjXnG",
        "colab_type": "text"
      },
      "source": [
        "#### Exemplo 2\n",
        "\n",
        "Qual a área de \n",
        "\n",
        "* O volume de uma esfera é calculada por meio da expressão $V = \\frac{4}{3} \\pi r^3$.\n",
        "* Calcule o volume de uma esfera de 5 metros?"
      ]
    },
    {
      "cell_type": "code",
      "metadata": {
        "id": "0nmNnUj9jYlP",
        "colab_type": "code",
        "colab": {
          "base_uri": "https://localhost:8080/",
          "height": 35
        },
        "outputId": "8b2083cb-4102-43db-d62a-580e1b2751b3"
      },
      "source": [
        "# Resposta \n",
        "4 / 3 * 3.14 * 5 ** 3"
      ],
      "execution_count": 12,
      "outputs": [
        {
          "output_type": "execute_result",
          "data": {
            "text/plain": [
              "523.3333333333334"
            ]
          },
          "metadata": {
            "tags": []
          },
          "execution_count": 12
        }
      ]
    },
    {
      "cell_type": "code",
      "metadata": {
        "id": "gsivLxFokEpD",
        "colab_type": "code",
        "colab": {
          "base_uri": "https://localhost:8080/",
          "height": 35
        },
        "outputId": "2b94db78-cc5f-47a7-d200-ec3afd8320ee"
      },
      "source": [
        "# Resposta \n",
        "(4 / 3) * (3.14) * (5 ** 3)"
      ],
      "execution_count": 13,
      "outputs": [
        {
          "output_type": "execute_result",
          "data": {
            "text/plain": [
              "523.3333333333334"
            ]
          },
          "metadata": {
            "tags": []
          },
          "execution_count": 13
        }
      ]
    },
    {
      "cell_type": "markdown",
      "metadata": {
        "id": "4R1MijfsktHa",
        "colab_type": "text"
      },
      "source": [
        "## Exercicios \n",
        "\n",
        "Agora que aprendemos cada uma das operações, vamos praticar?"
      ]
    },
    {
      "cell_type": "markdown",
      "metadata": {
        "id": "7RLHAXoJk7rj",
        "colab_type": "text"
      },
      "source": [
        "## Exercício 01 \n",
        "\n",
        "Calcule:\n",
        "$$\n",
        "\\begin{aligned}\n",
        "x & = 15 - 5 + 3^2 \\\\\n",
        "\\end{aligned}\n",
        "$$"
      ]
    },
    {
      "cell_type": "code",
      "metadata": {
        "id": "HwcUKvZzlErv",
        "colab_type": "code",
        "colab": {
          "base_uri": "https://localhost:8080/",
          "height": 35
        },
        "outputId": "68823fc3-d77a-4915-ba1a-e2c1b8bd21f6"
      },
      "source": [
        "#Resposta \n",
        "\n",
        "15 - 5 + (3 ** 2)"
      ],
      "execution_count": 14,
      "outputs": [
        {
          "output_type": "execute_result",
          "data": {
            "text/plain": [
              "19"
            ]
          },
          "metadata": {
            "tags": []
          },
          "execution_count": 14
        }
      ]
    },
    {
      "cell_type": "markdown",
      "metadata": {
        "id": "QqKfUeFmlRJB",
        "colab_type": "text"
      },
      "source": [
        "## Exercício 02\n",
        "\n",
        "Calcule: \n",
        "$$\n",
        "\\begin{aligned}\n",
        "x & = 20 + 5  /  7 * 9 \\\\\n",
        "\\end{aligned}\n",
        "$$"
      ]
    },
    {
      "cell_type": "code",
      "metadata": {
        "id": "PgKfmfrXlWgN",
        "colab_type": "code",
        "colab": {
          "base_uri": "https://localhost:8080/",
          "height": 35
        },
        "outputId": "4807adb4-c50a-4108-b4eb-3916c1b41262"
      },
      "source": [
        "20 + (5 / 7) * 9"
      ],
      "execution_count": 15,
      "outputs": [
        {
          "output_type": "execute_result",
          "data": {
            "text/plain": [
              "26.42857142857143"
            ]
          },
          "metadata": {
            "tags": []
          },
          "execution_count": 15
        }
      ]
    },
    {
      "cell_type": "markdown",
      "metadata": {
        "id": "6h97TzEtliPg",
        "colab_type": "text"
      },
      "source": [
        "## Exercício 03 \n",
        "\n",
        "\n",
        "Calcule:\n",
        "\n",
        "$$\n",
        "\\begin{aligned}\n",
        "x & = 17 * 3  - 4^2  / 3 \\\\\n",
        "\\end{aligned}\n",
        "$$"
      ]
    },
    {
      "cell_type": "code",
      "metadata": {
        "id": "EAmHsgTylllZ",
        "colab_type": "code",
        "colab": {
          "base_uri": "https://localhost:8080/",
          "height": 35
        },
        "outputId": "dfce9a9c-5104-491e-db31-3a2a29bb19fb"
      },
      "source": [
        "(17 * 3) - (4 ** 2) / 3"
      ],
      "execution_count": 16,
      "outputs": [
        {
          "output_type": "execute_result",
          "data": {
            "text/plain": [
              "45.666666666666664"
            ]
          },
          "metadata": {
            "tags": []
          },
          "execution_count": 16
        }
      ]
    },
    {
      "cell_type": "code",
      "metadata": {
        "id": "fOUsQsTdlptj",
        "colab_type": "code",
        "colab": {}
      },
      "source": [
        ""
      ],
      "execution_count": null,
      "outputs": []
    }
  ]
}