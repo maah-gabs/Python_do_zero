{
  "nbformat": 4,
  "nbformat_minor": 0,
  "metadata": {
    "colab": {
      "name": "Navegando pelas abas de uma planilha ",
      "provenance": [],
      "authorship_tag": "ABX9TyM7sBw62HK9XtyncNuhDrHH",
      "include_colab_link": true
    },
    "kernelspec": {
      "name": "python3",
      "display_name": "Python 3"
    }
  },
  "cells": [
    {
      "cell_type": "markdown",
      "metadata": {
        "id": "view-in-github",
        "colab_type": "text"
      },
      "source": [
        "<a href=\"https://colab.research.google.com/github/maah-gabs/Python_do_zero/blob/master/Navegando_pelas_abas_de_uma_planilha.ipynb\" target=\"_parent\"><img src=\"https://colab.research.google.com/assets/colab-badge.svg\" alt=\"Open In Colab\"/></a>"
      ]
    },
    {
      "cell_type": "markdown",
      "metadata": {
        "id": "E7V760If3UdK"
      },
      "source": [
        "# Módulo 05: Aula 06 - Navegando pelas abas de uma planilha. \n",
        "\n",
        "Neste notebook, vamos aprender a manipular os arquivos e acessar as abas de uma planilha. "
      ]
    },
    {
      "cell_type": "code",
      "metadata": {
        "id": "OW1dG7F64Jt8",
        "outputId": "bd0e41ae-302a-476f-eead-89da1c6557a4",
        "colab": {
          "base_uri": "https://localhost:8080/",
          "height": 35
        }
      },
      "source": [
        "# Atualizado a lib\n",
        "!pip install -U openpyxl -q"
      ],
      "execution_count": 1,
      "outputs": [
        {
          "output_type": "stream",
          "text": [
            "\u001b[?25l\r\u001b[K     |█▍                              | 10kB 17.7MB/s eta 0:00:01\r\u001b[K     |██▊                             | 20kB 4.4MB/s eta 0:00:01\r\u001b[K     |████                            | 30kB 5.6MB/s eta 0:00:01\r\u001b[K     |█████▍                          | 40kB 4.7MB/s eta 0:00:01\r\u001b[K     |██████▊                         | 51kB 5.5MB/s eta 0:00:01\r\u001b[K     |████████                        | 61kB 5.9MB/s eta 0:00:01\r\u001b[K     |█████████▌                      | 71kB 6.6MB/s eta 0:00:01\r\u001b[K     |██████████▉                     | 81kB 6.6MB/s eta 0:00:01\r\u001b[K     |████████████▏                   | 92kB 6.7MB/s eta 0:00:01\r\u001b[K     |█████████████▌                  | 102kB 6.9MB/s eta 0:00:01\r\u001b[K     |██████████████▉                 | 112kB 6.9MB/s eta 0:00:01\r\u001b[K     |████████████████▏               | 122kB 6.9MB/s eta 0:00:01\r\u001b[K     |█████████████████▌              | 133kB 6.9MB/s eta 0:00:01\r\u001b[K     |███████████████████             | 143kB 6.9MB/s eta 0:00:01\r\u001b[K     |████████████████████▎           | 153kB 6.9MB/s eta 0:00:01\r\u001b[K     |█████████████████████▋          | 163kB 6.9MB/s eta 0:00:01\r\u001b[K     |███████████████████████         | 174kB 6.9MB/s eta 0:00:01\r\u001b[K     |████████████████████████▎       | 184kB 6.9MB/s eta 0:00:01\r\u001b[K     |█████████████████████████▋      | 194kB 6.9MB/s eta 0:00:01\r\u001b[K     |███████████████████████████     | 204kB 6.9MB/s eta 0:00:01\r\u001b[K     |████████████████████████████▍   | 215kB 6.9MB/s eta 0:00:01\r\u001b[K     |█████████████████████████████▊  | 225kB 6.9MB/s eta 0:00:01\r\u001b[K     |███████████████████████████████ | 235kB 6.9MB/s eta 0:00:01\r\u001b[K     |████████████████████████████████| 245kB 6.9MB/s \n",
            "\u001b[?25h"
          ],
          "name": "stdout"
        }
      ]
    },
    {
      "cell_type": "markdown",
      "metadata": {
        "id": "TtAcFrAY4mc6"
      },
      "source": [
        "Neste momento, vamos importar a planilha da mesma forma que temos feito nos notebook anteriores. Importante agora, focar no método `sheetnames` que vai nos retornar o nome das abas que estão contidas no nosso arquivo. "
      ]
    },
    {
      "cell_type": "code",
      "metadata": {
        "id": "qa2iFMWz42pE"
      },
      "source": [
        "# carregando a planilha \n",
        "from openpyxl import load_workbook\n",
        "\n",
        "workbook = load_workbook(filename = 'controle_da_empresa.xlsx')"
      ],
      "execution_count": 2,
      "outputs": []
    },
    {
      "cell_type": "code",
      "metadata": {
        "id": "xd2LgPyf5Fn_",
        "outputId": "0cf0f1fe-e8d6-436a-f610-102889a824e2",
        "colab": {
          "base_uri": "https://localhost:8080/",
          "height": 35
        }
      },
      "source": [
        "# verificando as abas \n",
        "workbook.sheetnames"
      ],
      "execution_count": 3,
      "outputs": [
        {
          "output_type": "execute_result",
          "data": {
            "text/plain": [
              "['Estoque', 'Vendas', 'Funcionários']"
            ]
          },
          "metadata": {
            "tags": []
          },
          "execution_count": 3
        }
      ]
    },
    {
      "cell_type": "code",
      "metadata": {
        "id": "h30R9XZI5KSh",
        "outputId": "b7b003db-7d9e-4b70-9b96-5deab5d81b6b",
        "colab": {
          "base_uri": "https://localhost:8080/",
          "height": 36
        }
      },
      "source": [
        "# Acessando elementos \n",
        "workbook.sheetnames[1]"
      ],
      "execution_count": 4,
      "outputs": [
        {
          "output_type": "execute_result",
          "data": {
            "application/vnd.google.colaboratory.intrinsic+json": {
              "type": "string"
            },
            "text/plain": [
              "'Vendas'"
            ]
          },
          "metadata": {
            "tags": []
          },
          "execution_count": 4
        }
      ]
    },
    {
      "cell_type": "markdown",
      "metadata": {
        "id": "gBsvTO2o7dFJ"
      },
      "source": [
        "## Escolhendo uma aba \n",
        "\n",
        "Para que você carregue uma aba em específico, chamamos o nome da aba dentro de aspas, simples ou duplas, dentro de colchetes. O ideal, é que a gente salve essas informações em uma variável."
      ]
    },
    {
      "cell_type": "code",
      "metadata": {
        "id": "1apyGuLN7xdF"
      },
      "source": [
        "# Carregando uma aba especifica\n",
        "sheet = workbook['Vendas']"
      ],
      "execution_count": 5,
      "outputs": []
    },
    {
      "cell_type": "markdown",
      "metadata": {
        "id": "E00EAPZ_8Ekk"
      },
      "source": [
        "## Renomeando uma Aba \n",
        "\n",
        "Uma vez carregada, podemos modificar o nome da aba utilizando o método `title.`"
      ]
    },
    {
      "cell_type": "code",
      "metadata": {
        "id": "1fdW8KXf8ON2",
        "outputId": "484a4143-ddd0-4063-c977-9c9579bc0f7d",
        "colab": {
          "base_uri": "https://localhost:8080/",
          "height": 35
        }
      },
      "source": [
        "# Modificando o nome da aba \n",
        "sheet.title = 'VendasVendas'\n",
        "print(sheet.title)"
      ],
      "execution_count": 8,
      "outputs": [
        {
          "output_type": "stream",
          "text": [
            "VendasVendas\n"
          ],
          "name": "stdout"
        }
      ]
    },
    {
      "cell_type": "markdown",
      "metadata": {
        "id": "PUCDFfDY8fbj"
      },
      "source": [
        "## Criando uma aba nova\n",
        "\n",
        "Também podemos criar abas novas. Com a execução dos códigos abaixo podemos conferir que o nome do titulo da aba Vendas foi alterado e que a criação da 'Nova Aba' foi feito com sucesso. "
      ]
    },
    {
      "cell_type": "code",
      "metadata": {
        "id": "rUp2cXqP83EM",
        "outputId": "7b000b4e-7611-4373-9188-e014037669ad",
        "colab": {
          "base_uri": "https://localhost:8080/",
          "height": 35
        }
      },
      "source": [
        "# criando uma nova aba \n",
        "new_sheet = workbook.create_sheet('Nova Aba')\n",
        "workbook.sheetnames"
      ],
      "execution_count": 9,
      "outputs": [
        {
          "output_type": "execute_result",
          "data": {
            "text/plain": [
              "['Estoque', 'VendasVendas', 'Funcionários', 'Nova Aba']"
            ]
          },
          "metadata": {
            "tags": []
          },
          "execution_count": 9
        }
      ]
    },
    {
      "cell_type": "markdown",
      "metadata": {
        "id": "gtIHg0yy9n8Y"
      },
      "source": [
        "Por padrão, a criação de uma nova aba, faz com que ela se torne a última. Desta forma, é bem possível de alterar isso. Quando passamos um argumento `int` que indicará a posição que queremos que ela assuma. \n",
        "\n",
        "Nesse caso, a indexação é feita pelo Python, ou seja, se inicia em 0. "
      ]
    },
    {
      "cell_type": "code",
      "metadata": {
        "id": "68U2dNXu-J0-",
        "outputId": "16812058-1f78-4300-a40c-3372c6def82d",
        "colab": {
          "base_uri": "https://localhost:8080/",
          "height": 35
        }
      },
      "source": [
        "# Criar uma nova aba \n",
        "nova_aba = workbook.create_sheet('Primeira Aba',0)\n",
        "workbook.sheetnames"
      ],
      "execution_count": 10,
      "outputs": [
        {
          "output_type": "execute_result",
          "data": {
            "text/plain": [
              "['Primeira Aba', 'Estoque', 'VendasVendas', 'Funcionários', 'Nova Aba']"
            ]
          },
          "metadata": {
            "tags": []
          },
          "execution_count": 10
        }
      ]
    },
    {
      "cell_type": "markdown",
      "metadata": {
        "id": "A0CqCioB-l4Z"
      },
      "source": [
        "## Removendo Abas \n",
        "\n",
        "Da mesma forma, que criamos, também podemos remover as abas. Isso é feito utilizando o metodo `remove`, passando como parametro a aba que deverá ser excluida. "
      ]
    },
    {
      "cell_type": "code",
      "metadata": {
        "id": "RhM41Adu-16D",
        "outputId": "aa6be2be-c093-4776-ac9c-bef573dd14de",
        "colab": {
          "base_uri": "https://localhost:8080/",
          "height": 35
        }
      },
      "source": [
        "# Removendo uma aba \n",
        "workbook.remove(nova_aba)\n",
        "workbook.remove(new_sheet)\n",
        "workbook.sheetnames"
      ],
      "execution_count": 11,
      "outputs": [
        {
          "output_type": "execute_result",
          "data": {
            "text/plain": [
              "['Estoque', 'VendasVendas', 'Funcionários']"
            ]
          },
          "metadata": {
            "tags": []
          },
          "execution_count": 11
        }
      ]
    },
    {
      "cell_type": "markdown",
      "metadata": {
        "id": "2DS_gObz_Kw3"
      },
      "source": [
        "## Copiando as Abas \n",
        "\n",
        "Por fim, também podemos criar cópias de abas existentes, e o método utilizado será: `copy_worksheet`"
      ]
    },
    {
      "cell_type": "code",
      "metadata": {
        "id": "snVk0GGU_Yax",
        "outputId": "45388228-47a4-4b2c-9493-16e8ee5d4805",
        "colab": {
          "base_uri": "https://localhost:8080/",
          "height": 35
        }
      },
      "source": [
        "# copiando uma aba \n",
        "workbook.copy_worksheet(sheet)\n",
        "workbook.sheetnames"
      ],
      "execution_count": 12,
      "outputs": [
        {
          "output_type": "execute_result",
          "data": {
            "text/plain": [
              "['Estoque', 'VendasVendas', 'Funcionários', 'VendasVendas Copy']"
            ]
          },
          "metadata": {
            "tags": []
          },
          "execution_count": 12
        }
      ]
    },
    {
      "cell_type": "code",
      "metadata": {
        "id": "Fzyx1HxP_fVF"
      },
      "source": [
        ""
      ],
      "execution_count": null,
      "outputs": []
    }
  ]
}