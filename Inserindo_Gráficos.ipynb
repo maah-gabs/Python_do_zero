{
  "nbformat": 4,
  "nbformat_minor": 0,
  "metadata": {
    "colab": {
      "name": "Inserindo Gráficos ",
      "provenance": [],
      "authorship_tag": "ABX9TyMEm7k9UgNEJPPSXqsYgeAB",
      "include_colab_link": true
    },
    "kernelspec": {
      "name": "python3",
      "display_name": "Python 3"
    }
  },
  "cells": [
    {
      "cell_type": "markdown",
      "metadata": {
        "id": "view-in-github",
        "colab_type": "text"
      },
      "source": [
        "<a href=\"https://colab.research.google.com/github/maah-gabs/Python_do_zero/blob/master/Inserindo_Gr%C3%A1ficos.ipynb\" target=\"_parent\"><img src=\"https://colab.research.google.com/assets/colab-badge.svg\" alt=\"Open In Colab\"/></a>"
      ]
    },
    {
      "cell_type": "markdown",
      "metadata": {
        "id": "Ejx_tIge2BF1"
      },
      "source": [
        "# Módulo 05 - Aula 09: Inserindo Gráficos diretamente do Excel \n",
        "\n",
        "Um importante passo para a exploração de dados, também consiste na apresentação e na utilização de planilhas. \n",
        "Tudo o que fazemos no Excel, conseguimos facilmente fazer com o Python. Vamos usar a biblioteca *openpyxl*. "
      ]
    },
    {
      "cell_type": "code",
      "metadata": {
        "id": "INOm0VHzD0pR",
        "outputId": "fd8634dd-9e72-4547-b321-f54e610485fe",
        "colab": {
          "base_uri": "https://localhost:8080/",
          "height": 35
        }
      },
      "source": [
        "# atualizando a lib\n",
        "!pip install -U openpyxl -q"
      ],
      "execution_count": 1,
      "outputs": [
        {
          "output_type": "stream",
          "text": [
            "\u001b[?25l\r\u001b[K     |█▍                              | 10kB 13.4MB/s eta 0:00:01\r\u001b[K     |██▊                             | 20kB 1.8MB/s eta 0:00:01\r\u001b[K     |████                            | 30kB 2.3MB/s eta 0:00:01\r\u001b[K     |█████▍                          | 40kB 2.6MB/s eta 0:00:01\r\u001b[K     |██████▊                         | 51kB 2.1MB/s eta 0:00:01\r\u001b[K     |████████                        | 61kB 2.3MB/s eta 0:00:01\r\u001b[K     |█████████▌                      | 71kB 2.6MB/s eta 0:00:01\r\u001b[K     |██████████▉                     | 81kB 2.8MB/s eta 0:00:01\r\u001b[K     |████████████▏                   | 92kB 3.0MB/s eta 0:00:01\r\u001b[K     |█████████████▌                  | 102kB 2.8MB/s eta 0:00:01\r\u001b[K     |██████████████▉                 | 112kB 2.8MB/s eta 0:00:01\r\u001b[K     |████████████████▏               | 122kB 2.8MB/s eta 0:00:01\r\u001b[K     |█████████████████▌              | 133kB 2.8MB/s eta 0:00:01\r\u001b[K     |███████████████████             | 143kB 2.8MB/s eta 0:00:01\r\u001b[K     |████████████████████▎           | 153kB 2.8MB/s eta 0:00:01\r\u001b[K     |█████████████████████▋          | 163kB 2.8MB/s eta 0:00:01\r\u001b[K     |███████████████████████         | 174kB 2.8MB/s eta 0:00:01\r\u001b[K     |████████████████████████▎       | 184kB 2.8MB/s eta 0:00:01\r\u001b[K     |█████████████████████████▋      | 194kB 2.8MB/s eta 0:00:01\r\u001b[K     |███████████████████████████     | 204kB 2.8MB/s eta 0:00:01\r\u001b[K     |████████████████████████████▍   | 215kB 2.8MB/s eta 0:00:01\r\u001b[K     |█████████████████████████████▊  | 225kB 2.8MB/s eta 0:00:01\r\u001b[K     |███████████████████████████████ | 235kB 2.8MB/s eta 0:00:01\r\u001b[K     |████████████████████████████████| 245kB 2.8MB/s \n",
            "\u001b[?25h"
          ],
          "name": "stdout"
        }
      ]
    },
    {
      "cell_type": "code",
      "metadata": {
        "id": "cWveVkfCEAfa"
      },
      "source": [
        "# carregando uma planilha \n",
        "from openpyxl import load_workbook, Workbook\n",
        "from openpyxl.chart import BarChart, LineChart, Reference\n",
        "\n",
        "workbook = load_workbook (filename = 'controle_da_empresa.xlsx')\n",
        "\n",
        "# Verificar as abas \n",
        "workbook.sheetnames\n",
        "\n",
        "# Carregando uma planilha em especifico \n",
        "sheet = workbook['Estoque']"
      ],
      "execution_count": 2,
      "outputs": []
    },
    {
      "cell_type": "markdown",
      "metadata": {
        "id": "_7_PmqWrFAmD"
      },
      "source": [
        "## Gráfico de Barras \n",
        "\n",
        "A primeira opação será o gráfico de barras.\n",
        "\n",
        "Usaremos um gráfico do tipo `BarChart` e associaremos ele a uma variável. Então, selecionaremos todas as informações que vamos utilizar "
      ]
    },
    {
      "cell_type": "code",
      "metadata": {
        "id": "FG7HxMybF2Du"
      },
      "source": [
        "# Criando um objeto BarChart \n",
        "chart = BarChart()\n",
        "\n",
        "data = \"Estoque!$B$1:$C$11\"\n",
        "\n",
        "# nomeando os eixos\n",
        "chart.x_axis.title = 'Itens'\n",
        "chart.y_axis.title = 'Estoque Mínimo'\n",
        "\n",
        "# adicionando os dados no gráfico \n",
        "chart.add_data(data,titles_from_data = True)\n",
        "\n",
        "# Adicionando o gráfico a planilha \n",
        "sheet.add_chart(chart, 'H1')"
      ],
      "execution_count": 3,
      "outputs": []
    },
    {
      "cell_type": "code",
      "metadata": {
        "id": "i8S1dy8cHNiG"
      },
      "source": [
        "# Salvando a planilha \n",
        "workbook.save(filename = 'controle_chart.xlsx')\n"
      ],
      "execution_count": 4,
      "outputs": []
    },
    {
      "cell_type": "markdown",
      "metadata": {
        "id": "ePFG_Ov2Ioo3"
      },
      "source": [
        "## Gráfico de Linhas \n",
        "\n",
        "O gráfico de linhas, como já estudamos anteriormente é um gráfico excelente para demonstrar a evolução ao longo do tempo, neste exemplo, criaremos uma outra planilha para termos um exemplo neste sentido. \n",
        "\n",
        "O princípio é o mesmo que feito nos notebooks anteriores. Criamos uma planilha, anexamos dados e etc. "
      ]
    },
    {
      "cell_type": "code",
      "metadata": {
        "id": "h1aEaTSKJMws"
      },
      "source": [
        "from openpyxl.chart.axis import DateAxis\n",
        "from datetime import date \n",
        "\n",
        "# criando a planilha \n",
        "wb = Workbook()\n",
        "\n",
        "# acessando a aba \n",
        "ws = wb.active\n",
        "\n",
        "# Criando os dados \n",
        "rows = [\n",
        "       ['Date', 'Batch 1', 'Batch 2', 'Batch 3'],\n",
        "    [date(2015,9, 1), 40, 30, 25],\n",
        "    [date(2015,9, 2), 40, 25, 30],\n",
        "    [date(2015,9, 3), 50, 30, 45],\n",
        "    [date(2015,9, 4), 30, 25, 40],\n",
        "    [date(2015,9, 5), 25, 35, 30],\n",
        "    [date(2015,9, 6), 20, 40, 35],\n",
        "]\n",
        "# Inserindo os dados \n",
        "for row in rows:\n",
        "  ws.append(row)\n",
        "\n",
        "# Criando o gráfico \n",
        "c1 = LineChart()\n",
        "c1.title = 'Line Chart'\n",
        "c1.style = 13\n",
        "c1.y_axis.title = 'Tamanho'\n",
        "c1.x_axis.title = 'Numero de Testes'\n",
        "\n",
        "data = Reference(ws, min_col=2,min_row=1, max_col=4, max_row=7)\n",
        "\n",
        "# Adicionando as referencias\n",
        "c1.add_data(data,titles_from_data = True)\n",
        "\n",
        "#Adicionando o gráfico a planilha\n",
        "ws.add_chart(c1, \"A10\")\n",
        "\n",
        "# Salvando a planilha \n",
        "wb.save(filename='line_chart.xlsx')"
      ],
      "execution_count": 10,
      "outputs": []
    },
    {
      "cell_type": "code",
      "metadata": {
        "id": "fikzSXKXNTW0"
      },
      "source": [
        ""
      ],
      "execution_count": null,
      "outputs": []
    },
    {
      "cell_type": "code",
      "metadata": {
        "id": "XHfOzXfRJuY-"
      },
      "source": [
        ""
      ],
      "execution_count": null,
      "outputs": []
    }
  ]
}