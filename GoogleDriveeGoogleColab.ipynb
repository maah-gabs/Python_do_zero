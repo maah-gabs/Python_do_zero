{
  "nbformat": 4,
  "nbformat_minor": 0,
  "metadata": {
    "colab": {
      "name": "GoogleDriveeGoogleColab",
      "provenance": [],
      "authorship_tag": "ABX9TyPwePAK4tLjKYX829NaBgBb",
      "include_colab_link": true
    },
    "kernelspec": {
      "name": "python3",
      "display_name": "Python 3"
    }
  },
  "cells": [
    {
      "cell_type": "markdown",
      "metadata": {
        "id": "view-in-github",
        "colab_type": "text"
      },
      "source": [
        "<a href=\"https://colab.research.google.com/github/maah-gabs/Python_do_zero/blob/master/GoogleDriveeGoogleColab.ipynb\" target=\"_parent\"><img src=\"https://colab.research.google.com/assets/colab-badge.svg\" alt=\"Open In Colab\"/></a>"
      ]
    },
    {
      "cell_type": "markdown",
      "metadata": {
        "id": "gQm2iN0aAzw0",
        "colab_type": "text"
      },
      "source": [
        "# Módulo 02: Aula 01: Google Colab e Google Drive. \n",
        "\n",
        "Além de estarmos integrados em um ecossistema Google e aproveitar de todas as vantagens por utilizarmos da integração de produtos google também contamos com um ambiente interativo, prático, robusto e muito fácil de usar. "
      ]
    },
    {
      "cell_type": "markdown",
      "metadata": {
        "id": "9drASiS4BVA6",
        "colab_type": "text"
      },
      "source": [
        "## Acessando o Google Drive pelo Google Colab \n",
        "\n",
        "O Google Drive, como bem sabemos consiste em um sistema de armazenamento em nuvem do Google e tem como principal facilitador a acessibilidade aos arquivos que faremos uso. \n",
        "\n",
        "Para isso, utilizaremos o pacote `drive` da biblioteca `google.colab` somos capazes de realizar uma interação com o drive e de forma simples e prática. "
      ]
    },
    {
      "cell_type": "code",
      "metadata": {
        "id": "OFkOHs5uCvxe",
        "colab_type": "code",
        "colab": {
          "base_uri": "https://localhost:8080/",
          "height": 129
        },
        "outputId": "f188452b-6ce6-4ad1-e77e-084a8e3cf3db"
      },
      "source": [
        "# Importando pacotes necessários \n",
        "from google.colab import drive \n",
        "\n",
        "#Montando o Drive \n",
        "drive.mount('/content/gdrive')\n",
        "\n"
      ],
      "execution_count": 2,
      "outputs": [
        {
          "output_type": "stream",
          "text": [
            "Go to this URL in a browser: https://accounts.google.com/o/oauth2/auth?client_id=947318989803-6bn6qk8qdgf4n4g3pfee6491hc0brc4i.apps.googleusercontent.com&redirect_uri=urn%3aietf%3awg%3aoauth%3a2.0%3aoob&scope=email%20https%3a%2f%2fwww.googleapis.com%2fauth%2fdocs.test%20https%3a%2f%2fwww.googleapis.com%2fauth%2fdrive%20https%3a%2f%2fwww.googleapis.com%2fauth%2fdrive.photos.readonly%20https%3a%2f%2fwww.googleapis.com%2fauth%2fpeopleapi.readonly&response_type=code\n",
            "\n",
            "Enter your authorization code:\n",
            "··········\n",
            "Mounted at /content/gdrive\n"
          ],
          "name": "stdout"
        }
      ]
    },
    {
      "cell_type": "markdown",
      "metadata": {
        "id": "I0wUJkjeDvTU",
        "colab_type": "text"
      },
      "source": [
        "Acima, utilizamos uma biblioteca, certo? e ai, realizamos a seguinte ação. Utilizando `drive.mount('/content/gdrive')`. Ao executar a ação novamente, um URL será mostrado e você deverá clicar nele para escolher qual conta você gostaria de ser estar conectada ao google colab. A ação gerará um código, que deverá ser inserido no *notebook do google colab* e clicar **ENTER.** Neste momento, o `google drive` está habilitado em seu google colab. "
      ]
    },
    {
      "cell_type": "markdown",
      "metadata": {
        "id": "tN5GjpPsI783",
        "colab_type": "text"
      },
      "source": [
        "Utilizaremos abaixo, agora, a função `!ls` para listar quais são os arquivos que estão disponíveis no `google drive.`"
      ]
    },
    {
      "cell_type": "code",
      "metadata": {
        "id": "WwuHe5t3JM_j",
        "colab_type": "code",
        "colab": {
          "base_uri": "https://localhost:8080/",
          "height": 35
        },
        "outputId": "9e5d0052-f572-42a2-9b8d-1f2d981c4904"
      },
      "source": [
        "!ls 'gdrive/My Drive/'"
      ],
      "execution_count": 4,
      "outputs": [
        {
          "output_type": "stream",
          "text": [
            "'Colab Notebooks'\n"
          ],
          "name": "stdout"
        }
      ]
    },
    {
      "cell_type": "markdown",
      "metadata": {
        "id": "aB_gdvBqJ1--",
        "colab_type": "text"
      },
      "source": [
        "Agora, temos acesso ao nosso Google Drive diretamente do Google Colab "
      ]
    },
    {
      "cell_type": "code",
      "metadata": {
        "id": "WXaLj6nbKAur",
        "colab_type": "code",
        "colab": {
          "base_uri": "https://localhost:8080/",
          "height": 146
        },
        "outputId": "3cf4ea68-25a6-46f6-9aa1-804731d5c8f0"
      },
      "source": [
        "#Lendo um arquivo \n",
        "with open ('/content/gdrive/My Drive/Python do Zero/Links para sites importantes - Curso.txt', 'r') as resumo:\n",
        "  print(resumo.read())"
      ],
      "execution_count": 8,
      "outputs": [
        {
          "output_type": "stream",
          "text": [
            "# Endereço para acesso ao tutorial do Python \n",
            "\n",
            "https://docs.python.org/pt-br/3/tutorial/index.html\n",
            "\n",
            "# Endereço do Livro: Python Data Science Handbook\n",
            "\n",
            "https://colab.research.google.com/github/jakevdp/PythonDataScienceHandbook/blob/master/notebooks/Index.ipynb#scrollTo=23aySVsQ-pIv\n"
          ],
          "name": "stdout"
        }
      ]
    }
  ]
}