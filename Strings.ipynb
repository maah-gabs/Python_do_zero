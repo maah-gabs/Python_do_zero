{
  "nbformat": 4,
  "nbformat_minor": 0,
  "metadata": {
    "colab": {
      "name": "Strings",
      "provenance": [],
      "authorship_tag": "ABX9TyOPtWdLvA8UrJo3ry5+0w6a",
      "include_colab_link": true
    },
    "kernelspec": {
      "name": "python3",
      "display_name": "Python 3"
    }
  },
  "cells": [
    {
      "cell_type": "markdown",
      "metadata": {
        "id": "view-in-github",
        "colab_type": "text"
      },
      "source": [
        "<a href=\"https://colab.research.google.com/github/maah-gabs/Python_do_zero/blob/master/Strings.ipynb\" target=\"_parent\"><img src=\"https://colab.research.google.com/assets/colab-badge.svg\" alt=\"Open In Colab\"/></a>"
      ]
    },
    {
      "cell_type": "markdown",
      "metadata": {
        "id": "g6fkE-dz1yNb",
        "colab_type": "text"
      },
      "source": [
        "#Módulo 2: Aula 08 - Conhecendo as Strings \n",
        "\n",
        "As Strings consistem em caracteres declarados entre aspas simples ( ' ' ) ou duplas ( \" \" ), esses caracteres podem ser símbolos, números ou letras. Aprender a manipular e ou aperacionalizar strings é algo muito comum, principalmente, em projetos de Data Science, por isso que é tão importante saber manipula - las. "
      ]
    },
    {
      "cell_type": "code",
      "metadata": {
        "id": "T1R7kuiy4Rgk",
        "colab_type": "code",
        "colab": {
          "base_uri": "https://localhost:8080/",
          "height": 35
        },
        "outputId": "0fbfb97f-1a5f-4553-f053-db2844e56ae4"
      },
      "source": [
        "# Exemplo \n",
        "type(float(\"R$ 1.295,00\".split()[1].replace('.', '').replace(\",\", \".\")))"
      ],
      "execution_count": 3,
      "outputs": [
        {
          "output_type": "execute_result",
          "data": {
            "text/plain": [
              "float"
            ]
          },
          "metadata": {
            "tags": []
          },
          "execution_count": 3
        }
      ]
    },
    {
      "cell_type": "code",
      "metadata": {
        "id": "dfVo1MdW2d8b",
        "colab_type": "code",
        "colab": {
          "base_uri": "https://localhost:8080/",
          "height": 35
        },
        "outputId": "146c5b4d-37e9-4f1f-9cac-f02f78d01edf"
      },
      "source": [
        "# Verificar o tipo \n",
        "type(\"Maria Gabriela\")"
      ],
      "execution_count": 1,
      "outputs": [
        {
          "output_type": "execute_result",
          "data": {
            "text/plain": [
              "str"
            ]
          },
          "metadata": {
            "tags": []
          },
          "execution_count": 1
        }
      ]
    },
    {
      "cell_type": "markdown",
      "metadata": {
        "id": "8APpttPG2kPC",
        "colab_type": "text"
      },
      "source": [
        "Para imprmir uma string, nós podemor utilizar a função `print ( )`. "
      ]
    },
    {
      "cell_type": "code",
      "metadata": {
        "id": "Uu8kJam25WE5",
        "colab_type": "code",
        "colab": {
          "base_uri": "https://localhost:8080/",
          "height": 72
        },
        "outputId": "4e8fce5b-2c1c-4079-fc20-78514a202683"
      },
      "source": [
        "# Associando Strings a variáveis \n",
        "nome = \"Maria\"\n",
        "segundo_nome = \"Gabriela\"\n",
        "sobrenome = \"Furlaneto\"\n",
        "profissao = \"enfermeira\"\n",
        "\n",
        "#imprimir nome completo \n",
        "print(\"Nome Completo:\")\n",
        "print(nome, segundo_nome, sobrenome)\n",
        "\n",
        "#Imprimir sua profissão \n",
        "print(\"Minha profissão é:\",profissao + '.')"
      ],
      "execution_count": 6,
      "outputs": [
        {
          "output_type": "stream",
          "text": [
            "Nome Completo:\n",
            "Maria Gabriela Furlaneto\n",
            "Minha profissão é: enfermeira.\n"
          ],
          "name": "stdout"
        }
      ]
    },
    {
      "cell_type": "markdown",
      "metadata": {
        "id": "taOKi_rH6RNo",
        "colab_type": "text"
      },
      "source": [
        "OBS: Porque existem momentos em que eu utilizo a virgula e em outros o simbolo de adição ( + )."
      ]
    },
    {
      "cell_type": "code",
      "metadata": {
        "id": "NLqyFYVr6dYr",
        "colab_type": "code",
        "colab": {
          "base_uri": "https://localhost:8080/",
          "height": 54
        },
        "outputId": "6bfa610a-6673-417e-da27-7e41a90d2765"
      },
      "source": [
        "print(nome + segundo_nome)\n",
        "print(nome, segundo_nome)"
      ],
      "execution_count": 7,
      "outputs": [
        {
          "output_type": "stream",
          "text": [
            "MariaGabriela\n",
            "Maria Gabriela\n"
          ],
          "name": "stdout"
        }
      ]
    },
    {
      "cell_type": "code",
      "metadata": {
        "id": "pYVMjnzk6heZ",
        "colab_type": "code",
        "colab": {
          "base_uri": "https://localhost:8080/",
          "height": 35
        },
        "outputId": "d0d59ae2-5f67-4532-e20f-9f082882adb6"
      },
      "source": [
        "print(nome, 26.9)"
      ],
      "execution_count": 8,
      "outputs": [
        {
          "output_type": "stream",
          "text": [
            "Maria 26.9\n"
          ],
          "name": "stdout"
        }
      ]
    },
    {
      "cell_type": "markdown",
      "metadata": {
        "id": "ZpBxsfsx6-3T",
        "colab_type": "text"
      },
      "source": [
        "É muito possível acessarmos os caracteres individuais dentro de uma string, a única coisa que precisamos fazer é informar a posição desejada entre os colchetes. Lembre - se sempre que a indexação do Python sempe se inicia com zero. \n",
        "\n",
        "* M - 0 \n",
        "* A - 1\n",
        "* R - 2\n",
        "* I - 3\n",
        "* A - 4\n",
        "\n",
        "DICA: Para acessarmos o último caractere da string é so colocar [-1]. Essa opção pode ser utilizada, principalmente se eu não sei qual tamanho da minha string. \n",
        "\n"
      ]
    },
    {
      "cell_type": "code",
      "metadata": {
        "id": "UmfruErG8Vdk",
        "colab_type": "code",
        "colab": {
          "base_uri": "https://localhost:8080/",
          "height": 36
        },
        "outputId": "400bbcb3-f1ed-4284-d78f-031df0c29d81"
      },
      "source": [
        "# Criando uma variável \n",
        "nome = \"Gabriela\"\n",
        "\n",
        "#ver qual a primeira letra da string\n",
        "nome[0]"
      ],
      "execution_count": 9,
      "outputs": [
        {
          "output_type": "execute_result",
          "data": {
            "application/vnd.google.colaboratory.intrinsic+json": {
              "type": "string"
            },
            "text/plain": [
              "'G'"
            ]
          },
          "metadata": {
            "tags": []
          },
          "execution_count": 9
        }
      ]
    },
    {
      "cell_type": "code",
      "metadata": {
        "id": "lEfj-aG78f1W",
        "colab_type": "code",
        "colab": {
          "base_uri": "https://localhost:8080/",
          "height": 36
        },
        "outputId": "ccd3e183-2e1a-494b-9864-99c1636d83cb"
      },
      "source": [
        "# Ver qual pe a última letra da variável 'nome'\n",
        "nome[-1]"
      ],
      "execution_count": 10,
      "outputs": [
        {
          "output_type": "execute_result",
          "data": {
            "application/vnd.google.colaboratory.intrinsic+json": {
              "type": "string"
            },
            "text/plain": [
              "'a'"
            ]
          },
          "metadata": {
            "tags": []
          },
          "execution_count": 10
        }
      ]
    }
  ]
}