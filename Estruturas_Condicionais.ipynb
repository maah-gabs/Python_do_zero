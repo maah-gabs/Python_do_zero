{
  "nbformat": 4,
  "nbformat_minor": 0,
  "metadata": {
    "colab": {
      "name": "Estruturas Condicionais",
      "provenance": [],
      "authorship_tag": "ABX9TyPYw8IhxZ4sOMBsZ6BYHKSP",
      "include_colab_link": true
    },
    "kernelspec": {
      "name": "python3",
      "display_name": "Python 3"
    }
  },
  "cells": [
    {
      "cell_type": "markdown",
      "metadata": {
        "id": "view-in-github",
        "colab_type": "text"
      },
      "source": [
        "<a href=\"https://colab.research.google.com/github/maah-gabs/Python_do_zero/blob/master/Estruturas_Condicionais.ipynb\" target=\"_parent\"><img src=\"https://colab.research.google.com/assets/colab-badge.svg\" alt=\"Open In Colab\"/></a>"
      ]
    },
    {
      "cell_type": "markdown",
      "metadata": {
        "id": "VxtbT5s63egR",
        "colab_type": "text"
      },
      "source": [
        "## Módulo 04: Aula 06 - Estruturas Condicionais\n",
        "\n",
        "Nesta aula, será abordada as principais estruturas lógicas e de repatição. \n"
      ]
    },
    {
      "cell_type": "markdown",
      "metadata": {
        "id": "GfIieRnn4RRa",
        "colab_type": "text"
      },
      "source": [
        "## If Statement\n",
        "o `If` significa se, desta forma, se faz uma análise baseada em condições. Após isso, a execução devolverá uma resposta ou `True` or `False`. "
      ]
    },
    {
      "cell_type": "code",
      "metadata": {
        "id": "eV3DPKsG4QPg",
        "colab_type": "code",
        "colab": {
          "base_uri": "https://localhost:8080/",
          "height": 35
        },
        "outputId": "ba1b9579-287d-48ee-c2ed-0c28bb08b32f"
      },
      "source": [
        "# Associando a idade\n",
        "carlos = 35 \n",
        "\n",
        "#criando a condição \n",
        "if carlos >=18:\n",
        "  print(\"Pode comprar bebida\")\n",
        "else: \n",
        "  print(\"Não pode comprar bebida \")\n"
      ],
      "execution_count": 2,
      "outputs": [
        {
          "output_type": "stream",
          "text": [
            "Pode comprar bebida\n"
          ],
          "name": "stdout"
        }
      ]
    },
    {
      "cell_type": "code",
      "metadata": {
        "id": "YRS-K_vh4-Pi",
        "colab_type": "code",
        "colab": {
          "base_uri": "https://localhost:8080/",
          "height": 35
        },
        "outputId": "d0a3ac81-64b8-4582-ac1b-6a5ea056800c"
      },
      "source": [
        "# Associando a idade\n",
        "pedro = 17 \n",
        "\n",
        "#criando a condição \n",
        "if pedro >=18:\n",
        "  print(\"Pode comprar bebida.\")\n",
        "else: \n",
        "  print(\"Não pode comprar bebida.\")"
      ],
      "execution_count": 3,
      "outputs": [
        {
          "output_type": "stream",
          "text": [
            "Não pode comprar bebida.\n"
          ],
          "name": "stdout"
        }
      ]
    },
    {
      "cell_type": "code",
      "metadata": {
        "id": "0JgmdCCc5wzx",
        "colab_type": "code",
        "colab": {
          "base_uri": "https://localhost:8080/",
          "height": 35
        },
        "outputId": "7cdcf098-f057-4607-c271-788c898da167"
      },
      "source": [
        "# criando variáveis \n",
        "carlos_idade = 35\n",
        "carlos_cnh = True\n",
        "carlos_pontos_cnh = 16\n",
        "\n",
        "#criando a condição \n",
        "if carlos_idade >= 18 and carlos_cnh and carlos_pontos_cnh <20:\n",
        "  print(\"Pode alugar carro!\")\n",
        "else:\n",
        "  print(\"Não pode alugar carro\")"
      ],
      "execution_count": 4,
      "outputs": [
        {
          "output_type": "stream",
          "text": [
            "Pode alugar carro!\n"
          ],
          "name": "stdout"
        }
      ]
    },
    {
      "cell_type": "code",
      "metadata": {
        "id": "z3Q_iXM76bX0",
        "colab_type": "code",
        "colab": {
          "base_uri": "https://localhost:8080/",
          "height": 54
        },
        "outputId": "afd6161f-0184-4fb3-bbbb-53d72481f0d3"
      },
      "source": [
        "# Criando variáveis \n",
        "saldo = 100.00\n",
        "compra_efetuada = 25.90\n",
        "\n",
        "#criando condição \n",
        "print(\"Saldo Inicial:\", saldo)\n",
        "if compra_efetuada: \n",
        "  saldo = saldo - compra_efetuada\n",
        "  print('Saldo Atual:', saldo)"
      ],
      "execution_count": 5,
      "outputs": [
        {
          "output_type": "stream",
          "text": [
            "Saldo Inicial: 100.0\n",
            "Saldo Atual: 74.1\n"
          ],
          "name": "stdout"
        }
      ]
    },
    {
      "cell_type": "code",
      "metadata": {
        "id": "iKajJp-N7Pt3",
        "colab_type": "code",
        "colab": {}
      },
      "source": [
        ""
      ],
      "execution_count": null,
      "outputs": []
    }
  ]
}