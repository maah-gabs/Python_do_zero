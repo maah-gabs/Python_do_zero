{
  "nbformat": 4,
  "nbformat_minor": 0,
  "metadata": {
    "colab": {
      "name": "Gráfico de Pizza ",
      "provenance": [],
      "authorship_tag": "ABX9TyPBOICfWeoJDeG5K1zhCVYD",
      "include_colab_link": true
    },
    "kernelspec": {
      "name": "python3",
      "display_name": "Python 3"
    }
  },
  "cells": [
    {
      "cell_type": "markdown",
      "metadata": {
        "id": "view-in-github",
        "colab_type": "text"
      },
      "source": [
        "<a href=\"https://colab.research.google.com/github/maah-gabs/Python_do_zero/blob/master/Gr%C3%A1fico_de_Pizza.ipynb\" target=\"_parent\"><img src=\"https://colab.research.google.com/assets/colab-badge.svg\" alt=\"Open In Colab\"/></a>"
      ]
    },
    {
      "cell_type": "markdown",
      "metadata": {
        "id": "CRwnLLymtmqZ",
        "colab_type": "text"
      },
      "source": [
        "# Módulo 03: Aula 07 - Gráfico de Pizza \n",
        "\n",
        "Consiste em um diagrama circular em que cada valor é proporcional a sua respectiva medida de ângulo. Isso quer dizer, que na prática o angulo significa que para cada 1% do valor, temos um aumento de 3.6º na pizza. "
      ]
    },
    {
      "cell_type": "code",
      "metadata": {
        "id": "1jC4Gg7cu03B",
        "colab_type": "code",
        "colab": {
          "base_uri": "https://localhost:8080/",
          "height": 330
        },
        "outputId": "e87047c5-ed3f-44d2-a210-8ecdd9551901"
      },
      "source": [
        "# Importar as bibliotecas necessárias \n",
        "\n",
        "import pandas as pd \n",
        "import matplotlib.pyplot as plt \n",
        "\n",
        "#Importar arquivo csv\n",
        "df = pd.read_csv(\"https://raw.githubusercontent.com/carlosfab/dsnp2/master/datasets/ocorrencias_aviacao.csv\")\n",
        "\n",
        "#Ver as primeiras entradas \n",
        "df.head()"
      ],
      "execution_count": 1,
      "outputs": [
        {
          "output_type": "execute_result",
          "data": {
            "text/html": [
              "<div>\n",
              "<style scoped>\n",
              "    .dataframe tbody tr th:only-of-type {\n",
              "        vertical-align: middle;\n",
              "    }\n",
              "\n",
              "    .dataframe tbody tr th {\n",
              "        vertical-align: top;\n",
              "    }\n",
              "\n",
              "    .dataframe thead th {\n",
              "        text-align: right;\n",
              "    }\n",
              "</style>\n",
              "<table border=\"1\" class=\"dataframe\">\n",
              "  <thead>\n",
              "    <tr style=\"text-align: right;\">\n",
              "      <th></th>\n",
              "      <th>codigo_ocorrencia</th>\n",
              "      <th>ocorrencia_classificacao</th>\n",
              "      <th>ocorrencia_tipo</th>\n",
              "      <th>ocorrencia_tipo_categoria</th>\n",
              "      <th>ocorrencia_tipo_icao</th>\n",
              "      <th>ocorrencia_latitude</th>\n",
              "      <th>ocorrencia_longitude</th>\n",
              "      <th>ocorrencia_cidade</th>\n",
              "      <th>ocorrencia_uf</th>\n",
              "      <th>ocorrencia_pais</th>\n",
              "      <th>ocorrencia_aerodromo</th>\n",
              "      <th>ocorrencia_dia</th>\n",
              "      <th>ocorrencia_horario</th>\n",
              "      <th>investigacao_aeronave_liberada</th>\n",
              "      <th>investigacao_status</th>\n",
              "      <th>divulgacao_relatorio_numero</th>\n",
              "      <th>divulgacao_relatorio_publicado</th>\n",
              "      <th>divulgacao_dia_publicacao</th>\n",
              "      <th>total_recomendacoes</th>\n",
              "      <th>total_aeronaves_envolvidas</th>\n",
              "      <th>ocorrencia_saida_pista</th>\n",
              "      <th>ocorrencia_dia_extracao</th>\n",
              "    </tr>\n",
              "  </thead>\n",
              "  <tbody>\n",
              "    <tr>\n",
              "      <th>0</th>\n",
              "      <td>201305055424986</td>\n",
              "      <td>ACIDENTE</td>\n",
              "      <td>FALHA DO MOTOR EM VOO</td>\n",
              "      <td>FALHA OU MAU FUNCIONAMENTO DO MOTOR</td>\n",
              "      <td>SCF-PP</td>\n",
              "      <td>-9.9085</td>\n",
              "      <td>-63.0333</td>\n",
              "      <td>ARIQUEMES</td>\n",
              "      <td>RO</td>\n",
              "      <td>BRASIL</td>\n",
              "      <td>SJOG</td>\n",
              "      <td>2013-05-05</td>\n",
              "      <td>11:00:00</td>\n",
              "      <td>NaN</td>\n",
              "      <td>FINALIZADA</td>\n",
              "      <td>***</td>\n",
              "      <td>NÃO</td>\n",
              "      <td>NaN</td>\n",
              "      <td>0</td>\n",
              "      <td>1</td>\n",
              "      <td>NÃO</td>\n",
              "      <td>2018-08-28</td>\n",
              "    </tr>\n",
              "    <tr>\n",
              "      <th>1</th>\n",
              "      <td>201605160250139</td>\n",
              "      <td>INCIDENTE GRAVE</td>\n",
              "      <td>COLISÃO COM OBSTÁCULO DURANTE A DECOLAGEM E POUSO</td>\n",
              "      <td>COLISÃO COM OBSTÁCULO DURANTE A DECOLAGEM E POUSO</td>\n",
              "      <td>CTOL</td>\n",
              "      <td>-11.2644</td>\n",
              "      <td>-61.2589</td>\n",
              "      <td>CACOAL</td>\n",
              "      <td>RO</td>\n",
              "      <td>BRASIL</td>\n",
              "      <td>SSKW</td>\n",
              "      <td>2016-05-13</td>\n",
              "      <td>19:19:00</td>\n",
              "      <td>SIM</td>\n",
              "      <td>ATIVA</td>\n",
              "      <td>IG-084/CENIPA/2016</td>\n",
              "      <td>NÃO</td>\n",
              "      <td>NaN</td>\n",
              "      <td>0</td>\n",
              "      <td>1</td>\n",
              "      <td>NÃO</td>\n",
              "      <td>2018-08-28</td>\n",
              "    </tr>\n",
              "    <tr>\n",
              "      <th>2</th>\n",
              "      <td>201805021421302</td>\n",
              "      <td>INCIDENTE</td>\n",
              "      <td>AERÓDROMO</td>\n",
              "      <td>AERÓDROMO</td>\n",
              "      <td>ADRM</td>\n",
              "      <td>-11.4956</td>\n",
              "      <td>-61.4508</td>\n",
              "      <td>CACOAL</td>\n",
              "      <td>RO</td>\n",
              "      <td>BRASIL</td>\n",
              "      <td>SSKW</td>\n",
              "      <td>2018-03-09</td>\n",
              "      <td>22:40:00</td>\n",
              "      <td>SIM</td>\n",
              "      <td>FINALIZADA</td>\n",
              "      <td>***</td>\n",
              "      <td>NÃO</td>\n",
              "      <td>NaN</td>\n",
              "      <td>0</td>\n",
              "      <td>1</td>\n",
              "      <td>NÃO</td>\n",
              "      <td>2018-08-28</td>\n",
              "    </tr>\n",
              "    <tr>\n",
              "      <th>3</th>\n",
              "      <td>201311259977425</td>\n",
              "      <td>INCIDENTE GRAVE</td>\n",
              "      <td>POUSO SEM TREM</td>\n",
              "      <td>CONTATO ANORMAL COM A PISTA</td>\n",
              "      <td>ARC</td>\n",
              "      <td>-11.4956</td>\n",
              "      <td>-61.4508</td>\n",
              "      <td>CACOAL</td>\n",
              "      <td>RO</td>\n",
              "      <td>BRASIL</td>\n",
              "      <td>SSKW</td>\n",
              "      <td>2013-11-25</td>\n",
              "      <td>12:32:00</td>\n",
              "      <td>NaN</td>\n",
              "      <td>FINALIZADA</td>\n",
              "      <td>IG-209/CENIPA/2013</td>\n",
              "      <td>SIM</td>\n",
              "      <td>2014-04-07</td>\n",
              "      <td>0</td>\n",
              "      <td>1</td>\n",
              "      <td>NÃO</td>\n",
              "      <td>2018-08-28</td>\n",
              "    </tr>\n",
              "    <tr>\n",
              "      <th>4</th>\n",
              "      <td>201103187273112</td>\n",
              "      <td>INCIDENTE</td>\n",
              "      <td>OUTROS</td>\n",
              "      <td>OUTROS</td>\n",
              "      <td>OTHR</td>\n",
              "      <td>-13.1950</td>\n",
              "      <td>-60.8184</td>\n",
              "      <td>CEREJEIRAS</td>\n",
              "      <td>RO</td>\n",
              "      <td>BRASIL</td>\n",
              "      <td>****</td>\n",
              "      <td>2011-03-18</td>\n",
              "      <td>13:30:00</td>\n",
              "      <td>NaN</td>\n",
              "      <td>FINALIZADA</td>\n",
              "      <td>***</td>\n",
              "      <td>NÃO</td>\n",
              "      <td>NaN</td>\n",
              "      <td>0</td>\n",
              "      <td>1</td>\n",
              "      <td>NÃO</td>\n",
              "      <td>2018-08-28</td>\n",
              "    </tr>\n",
              "  </tbody>\n",
              "</table>\n",
              "</div>"
            ],
            "text/plain": [
              "   codigo_ocorrencia  ... ocorrencia_dia_extracao\n",
              "0    201305055424986  ...              2018-08-28\n",
              "1    201605160250139  ...              2018-08-28\n",
              "2    201805021421302  ...              2018-08-28\n",
              "3    201311259977425  ...              2018-08-28\n",
              "4    201103187273112  ...              2018-08-28\n",
              "\n",
              "[5 rows x 22 columns]"
            ]
          },
          "metadata": {
            "tags": []
          },
          "execution_count": 1
        }
      ]
    },
    {
      "cell_type": "code",
      "metadata": {
        "id": "wsUTf2VlvnLJ",
        "colab_type": "code",
        "colab": {}
      },
      "source": [
        "# Extrair as ocorrencias para um dicionário \n",
        "a = dict(df[\"ocorrencia_classificacao\"].value_counts())"
      ],
      "execution_count": 6,
      "outputs": []
    },
    {
      "cell_type": "code",
      "metadata": {
        "id": "qkzugh8pxLAe",
        "colab_type": "code",
        "colab": {}
      },
      "source": [
        "labels = a.keys()\n",
        "valores = a.values()"
      ],
      "execution_count": 9,
      "outputs": []
    },
    {
      "cell_type": "code",
      "metadata": {
        "id": "PM7jt1pRxNvL",
        "colab_type": "code",
        "colab": {
          "base_uri": "https://localhost:8080/",
          "height": 35
        },
        "outputId": "de371b09-f9e7-4334-819f-acb99aaf97fa"
      },
      "source": [
        "a.values()"
      ],
      "execution_count": 8,
      "outputs": [
        {
          "output_type": "execute_result",
          "data": {
            "text/plain": [
              "dict_values([2861, 1714, 633])"
            ]
          },
          "metadata": {
            "tags": []
          },
          "execution_count": 8
        }
      ]
    },
    {
      "cell_type": "code",
      "metadata": {
        "id": "zQV2PKv7vvZF",
        "colab_type": "code",
        "colab": {}
      },
      "source": [
        "# Preparar os dados p/ Pie Chart \n",
        "\n",
        "labels = ['Incidente', 'Acidente', 'Incidente Grave']\n",
        "valores = [2861, 1714, 633]"
      ],
      "execution_count": 3,
      "outputs": []
    },
    {
      "cell_type": "code",
      "metadata": {
        "id": "3bbjvmfIwob2",
        "colab_type": "code",
        "colab": {
          "base_uri": "https://localhost:8080/",
          "height": 248
        },
        "outputId": "0d5528b6-f6a2-4a81-cd8a-6c45688de1bf"
      },
      "source": [
        "# criando o gráfico de pizza \n",
        "plt.pie (x = valores, labels = labels)\n",
        "\n",
        "plt.show()"
      ],
      "execution_count": 4,
      "outputs": [
        {
          "output_type": "display_data",
          "data": {
            "image/png": "[encoded data removed]",
            "text/plain": [
              "<Figure size 432x288 with 1 Axes>"
            ]
          },
          "metadata": {
            "tags": []
          }
        }
      ]
    },
    {
      "cell_type": "code",
      "metadata": {
        "id": "wwZY0BEPwxkv",
        "colab_type": "code",
        "colab": {
          "base_uri": "https://localhost:8080/",
          "height": 264
        },
        "outputId": "f65c3e90-2a5f-4376-dd18-016b47bbbb94"
      },
      "source": [
        "# Gráfico com explode\n",
        "\n",
        "explode = (0.1, 0, 0)\n",
        "\n",
        "plt.pie(x = valores, explode = explode, labels = labels, shadow = True)\n",
        "\n",
        "plt.title(\"Classificação de Ocorrencias\")\n",
        "\n",
        "plt.show()"
      ],
      "execution_count": 10,
      "outputs": [
        {
          "output_type": "display_data",
          "data": {
            "image/png": "[encoded data removed]",
            "text/plain": [
              "<Figure size 432x288 with 1 Axes>"
            ]
          },
          "metadata": {
            "tags": []
          }
        }
      ]
    }
  ]
}