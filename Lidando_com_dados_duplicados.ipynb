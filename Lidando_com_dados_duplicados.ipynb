{
  "nbformat": 4,
  "nbformat_minor": 0,
  "metadata": {
    "colab": {
      "name": "Lidando com dados duplicados",
      "provenance": [],
      "authorship_tag": "ABX9TyOkHPpzfw/oQ5fq747Rj1A6",
      "include_colab_link": true
    },
    "kernelspec": {
      "name": "python3",
      "display_name": "Python 3"
    }
  },
  "cells": [
    {
      "cell_type": "markdown",
      "metadata": {
        "id": "view-in-github",
        "colab_type": "text"
      },
      "source": [
        "<a href=\"https://colab.research.google.com/github/maah-gabs/Python_do_zero/blob/master/Lidando_com_dados_duplicados.ipynb\" target=\"_parent\"><img src=\"https://colab.research.google.com/assets/colab-badge.svg\" alt=\"Open In Colab\"/></a>"
      ]
    },
    {
      "cell_type": "markdown",
      "metadata": {
        "id": "61AOHMt_SFqW",
        "colab_type": "text"
      },
      "source": [
        "# Módulo 04: Aula 11 - Lidando com dados ausentes. \n",
        "\n",
        "Valores duplicados em uma análise podem prejudicar uma análise causando prejuizos e promover a desinformação. \n",
        "\n",
        "Mais uma vez nas nossas análises, vamos usar o Pandas. "
      ]
    },
    {
      "cell_type": "code",
      "metadata": {
        "id": "LP9Tlo00eedh",
        "colab_type": "code",
        "colab": {}
      },
      "source": [
        "# Importar as bibliotecas \n",
        "import pandas as pd"
      ],
      "execution_count": 1,
      "outputs": []
    },
    {
      "cell_type": "code",
      "metadata": {
        "id": "n-Qiq1JOeisD",
        "colab_type": "code",
        "colab": {
          "base_uri": "https://localhost:8080/",
          "height": 332
        },
        "outputId": "54f0117d-7cef-4785-8a7e-fe5e03bc4136"
      },
      "source": [
        "df = pd.read_excel('https://www.dropbox.com/s/v0x8mbaygdqubli/contas_a_pagar.xlsx?dl=1')\n",
        "df"
      ],
      "execution_count": 3,
      "outputs": [
        {
          "output_type": "execute_result",
          "data": {
            "text/html": [
              "<div>\n",
              "<style scoped>\n",
              "    .dataframe tbody tr th:only-of-type {\n",
              "        vertical-align: middle;\n",
              "    }\n",
              "\n",
              "    .dataframe tbody tr th {\n",
              "        vertical-align: top;\n",
              "    }\n",
              "\n",
              "    .dataframe thead th {\n",
              "        text-align: right;\n",
              "    }\n",
              "</style>\n",
              "<table border=\"1\" class=\"dataframe\">\n",
              "  <thead>\n",
              "    <tr style=\"text-align: right;\">\n",
              "      <th></th>\n",
              "      <th>pagamento</th>\n",
              "      <th>valor</th>\n",
              "      <th>codigo_pagamento</th>\n",
              "    </tr>\n",
              "  </thead>\n",
              "  <tbody>\n",
              "    <tr>\n",
              "      <th>0</th>\n",
              "      <td>imposto x</td>\n",
              "      <td>458.86</td>\n",
              "      <td>123456789012</td>\n",
              "    </tr>\n",
              "    <tr>\n",
              "      <th>1</th>\n",
              "      <td>imposto y</td>\n",
              "      <td>467.69</td>\n",
              "      <td>123456789012</td>\n",
              "    </tr>\n",
              "    <tr>\n",
              "      <th>2</th>\n",
              "      <td>imposto z</td>\n",
              "      <td>25.15</td>\n",
              "      <td>555444332221</td>\n",
              "    </tr>\n",
              "    <tr>\n",
              "      <th>3</th>\n",
              "      <td>agua</td>\n",
              "      <td>951.31</td>\n",
              "      <td>568754456745</td>\n",
              "    </tr>\n",
              "    <tr>\n",
              "      <th>4</th>\n",
              "      <td>luz</td>\n",
              "      <td>1548.25</td>\n",
              "      <td>546982454523</td>\n",
              "    </tr>\n",
              "    <tr>\n",
              "      <th>5</th>\n",
              "      <td>internet</td>\n",
              "      <td>798.99</td>\n",
              "      <td>364821542215</td>\n",
              "    </tr>\n",
              "    <tr>\n",
              "      <th>6</th>\n",
              "      <td>segurança</td>\n",
              "      <td>1439.54</td>\n",
              "      <td>546982454123</td>\n",
              "    </tr>\n",
              "    <tr>\n",
              "      <th>7</th>\n",
              "      <td>segurança</td>\n",
              "      <td>1439.54</td>\n",
              "      <td>546982454123</td>\n",
              "    </tr>\n",
              "    <tr>\n",
              "      <th>8</th>\n",
              "      <td>luz</td>\n",
              "      <td>147.45</td>\n",
              "      <td>546982454523</td>\n",
              "    </tr>\n",
              "  </tbody>\n",
              "</table>\n",
              "</div>"
            ],
            "text/plain": [
              "   pagamento    valor  codigo_pagamento\n",
              "0  imposto x   458.86      123456789012\n",
              "1  imposto y   467.69      123456789012\n",
              "2  imposto z    25.15      555444332221\n",
              "3       agua   951.31      568754456745\n",
              "4        luz  1548.25      546982454523\n",
              "5   internet   798.99      364821542215\n",
              "6  segurança  1439.54      546982454123\n",
              "7  segurança  1439.54      546982454123\n",
              "8        luz   147.45      546982454523"
            ]
          },
          "metadata": {
            "tags": []
          },
          "execution_count": 3
        }
      ]
    },
    {
      "cell_type": "markdown",
      "metadata": {
        "id": "VO7BpvOuez2D",
        "colab_type": "text"
      },
      "source": [
        "Para identificar entradas duplicadas vamos usar o método `duplicated` do Pandas.\n",
        "\n",
        "Por padrão, ele retorna a primeira entrada como False, e a primeira vez que ela é repetida como True.\n",
        "\n",
        "Ao rodar no código inteiro, ele percebe que apenas duas entradas são exatamente iguais. Para nos dar um pouco mais de trabalho, esse conjunto de dados possui:\n",
        "\n",
        "* Linhas completamente repetidas\n",
        "* Códigos repetidos\n",
        "* Nomes repetidos\n",
        "\n",
        "Duas entradas 100% iguais como é o caso aqui, sempre será um problema. Mas nem sempre linhas com algum valor repetido serão problema. Por exemplo, duas compras feitas pelo mesmo cliente e registradas em uma planilha terão várias informações repetidas, mas são, efetivamente, duas transações diferentes."
      ]
    },
    {
      "cell_type": "code",
      "metadata": {
        "id": "mzz7KSb5fDJj",
        "colab_type": "code",
        "colab": {
          "base_uri": "https://localhost:8080/",
          "height": 201
        },
        "outputId": "f082d0ff-ef48-41f7-ebf8-3966b1ad6b10"
      },
      "source": [
        "# Verificando linhas duplicadas \n",
        "df.duplicated() # Funciona para linha 100% identica. "
      ],
      "execution_count": 4,
      "outputs": [
        {
          "output_type": "execute_result",
          "data": {
            "text/plain": [
              "0    False\n",
              "1    False\n",
              "2    False\n",
              "3    False\n",
              "4    False\n",
              "5    False\n",
              "6    False\n",
              "7     True\n",
              "8    False\n",
              "dtype: bool"
            ]
          },
          "metadata": {
            "tags": []
          },
          "execution_count": 4
        }
      ]
    },
    {
      "cell_type": "code",
      "metadata": {
        "id": "BRs5FDyOfJfW",
        "colab_type": "code",
        "colab": {
          "base_uri": "https://localhost:8080/",
          "height": 201
        },
        "outputId": "af01273e-3306-41fd-ef92-0e2408f5b37e"
      },
      "source": [
        "# Verificando duplicatas no código de pagamento \n",
        "df.duplicated(subset='codigo_pagamento')"
      ],
      "execution_count": 5,
      "outputs": [
        {
          "output_type": "execute_result",
          "data": {
            "text/plain": [
              "0    False\n",
              "1     True\n",
              "2    False\n",
              "3    False\n",
              "4    False\n",
              "5    False\n",
              "6    False\n",
              "7     True\n",
              "8     True\n",
              "dtype: bool"
            ]
          },
          "metadata": {
            "tags": []
          },
          "execution_count": 5
        }
      ]
    },
    {
      "cell_type": "markdown",
      "metadata": {
        "id": "vnb-JXvfhAdv",
        "colab_type": "text"
      },
      "source": [
        "Na etapa anterior, a gente identifiou quais são as linhas duplicadas, agora, a opção é excluir essas linhas utilizado o método `drop_duplicates ( )`, importante lembrar de utilizar o `inplace = True` para armazenar a mudança. "
      ]
    },
    {
      "cell_type": "code",
      "metadata": {
        "id": "IDuW6PaJhXMf",
        "colab_type": "code",
        "colab": {
          "base_uri": "https://localhost:8080/",
          "height": 300
        },
        "outputId": "40b93580-522d-44b6-ea95-16c02a92eda9"
      },
      "source": [
        "# Excluindo duplicadas - tenho 100% dos dados iguais \n",
        "df.drop_duplicates()"
      ],
      "execution_count": 6,
      "outputs": [
        {
          "output_type": "execute_result",
          "data": {
            "text/html": [
              "<div>\n",
              "<style scoped>\n",
              "    .dataframe tbody tr th:only-of-type {\n",
              "        vertical-align: middle;\n",
              "    }\n",
              "\n",
              "    .dataframe tbody tr th {\n",
              "        vertical-align: top;\n",
              "    }\n",
              "\n",
              "    .dataframe thead th {\n",
              "        text-align: right;\n",
              "    }\n",
              "</style>\n",
              "<table border=\"1\" class=\"dataframe\">\n",
              "  <thead>\n",
              "    <tr style=\"text-align: right;\">\n",
              "      <th></th>\n",
              "      <th>pagamento</th>\n",
              "      <th>valor</th>\n",
              "      <th>codigo_pagamento</th>\n",
              "    </tr>\n",
              "  </thead>\n",
              "  <tbody>\n",
              "    <tr>\n",
              "      <th>0</th>\n",
              "      <td>imposto x</td>\n",
              "      <td>458.86</td>\n",
              "      <td>123456789012</td>\n",
              "    </tr>\n",
              "    <tr>\n",
              "      <th>1</th>\n",
              "      <td>imposto y</td>\n",
              "      <td>467.69</td>\n",
              "      <td>123456789012</td>\n",
              "    </tr>\n",
              "    <tr>\n",
              "      <th>2</th>\n",
              "      <td>imposto z</td>\n",
              "      <td>25.15</td>\n",
              "      <td>555444332221</td>\n",
              "    </tr>\n",
              "    <tr>\n",
              "      <th>3</th>\n",
              "      <td>agua</td>\n",
              "      <td>951.31</td>\n",
              "      <td>568754456745</td>\n",
              "    </tr>\n",
              "    <tr>\n",
              "      <th>4</th>\n",
              "      <td>luz</td>\n",
              "      <td>1548.25</td>\n",
              "      <td>546982454523</td>\n",
              "    </tr>\n",
              "    <tr>\n",
              "      <th>5</th>\n",
              "      <td>internet</td>\n",
              "      <td>798.99</td>\n",
              "      <td>364821542215</td>\n",
              "    </tr>\n",
              "    <tr>\n",
              "      <th>6</th>\n",
              "      <td>segurança</td>\n",
              "      <td>1439.54</td>\n",
              "      <td>546982454123</td>\n",
              "    </tr>\n",
              "    <tr>\n",
              "      <th>8</th>\n",
              "      <td>luz</td>\n",
              "      <td>147.45</td>\n",
              "      <td>546982454523</td>\n",
              "    </tr>\n",
              "  </tbody>\n",
              "</table>\n",
              "</div>"
            ],
            "text/plain": [
              "   pagamento    valor  codigo_pagamento\n",
              "0  imposto x   458.86      123456789012\n",
              "1  imposto y   467.69      123456789012\n",
              "2  imposto z    25.15      555444332221\n",
              "3       agua   951.31      568754456745\n",
              "4        luz  1548.25      546982454523\n",
              "5   internet   798.99      364821542215\n",
              "6  segurança  1439.54      546982454123\n",
              "8        luz   147.45      546982454523"
            ]
          },
          "metadata": {
            "tags": []
          },
          "execution_count": 6
        }
      ]
    },
    {
      "cell_type": "markdown",
      "metadata": {
        "id": "cQL99cyAie9K",
        "colab_type": "text"
      },
      "source": [
        "Acima, excluimos apenas as linhas que estão exatamente iguais. Porém, estamos falando sobre formas de pagamentos. "
      ]
    },
    {
      "cell_type": "code",
      "metadata": {
        "id": "WMJ5gc_LirgR",
        "colab_type": "code",
        "colab": {
          "base_uri": "https://localhost:8080/",
          "height": 238
        },
        "outputId": "d3e597e5-e73e-4546-cee5-262f2bb9684e"
      },
      "source": [
        "# Excluindo os códigos duplicados \n",
        "\n",
        "df.drop_duplicates(subset = 'codigo_pagamento', inplace = True)\n",
        "\n",
        "# Verificando o resultado \n",
        "df"
      ],
      "execution_count": 7,
      "outputs": [
        {
          "output_type": "execute_result",
          "data": {
            "text/html": [
              "<div>\n",
              "<style scoped>\n",
              "    .dataframe tbody tr th:only-of-type {\n",
              "        vertical-align: middle;\n",
              "    }\n",
              "\n",
              "    .dataframe tbody tr th {\n",
              "        vertical-align: top;\n",
              "    }\n",
              "\n",
              "    .dataframe thead th {\n",
              "        text-align: right;\n",
              "    }\n",
              "</style>\n",
              "<table border=\"1\" class=\"dataframe\">\n",
              "  <thead>\n",
              "    <tr style=\"text-align: right;\">\n",
              "      <th></th>\n",
              "      <th>pagamento</th>\n",
              "      <th>valor</th>\n",
              "      <th>codigo_pagamento</th>\n",
              "    </tr>\n",
              "  </thead>\n",
              "  <tbody>\n",
              "    <tr>\n",
              "      <th>0</th>\n",
              "      <td>imposto x</td>\n",
              "      <td>458.86</td>\n",
              "      <td>123456789012</td>\n",
              "    </tr>\n",
              "    <tr>\n",
              "      <th>2</th>\n",
              "      <td>imposto z</td>\n",
              "      <td>25.15</td>\n",
              "      <td>555444332221</td>\n",
              "    </tr>\n",
              "    <tr>\n",
              "      <th>3</th>\n",
              "      <td>agua</td>\n",
              "      <td>951.31</td>\n",
              "      <td>568754456745</td>\n",
              "    </tr>\n",
              "    <tr>\n",
              "      <th>4</th>\n",
              "      <td>luz</td>\n",
              "      <td>1548.25</td>\n",
              "      <td>546982454523</td>\n",
              "    </tr>\n",
              "    <tr>\n",
              "      <th>5</th>\n",
              "      <td>internet</td>\n",
              "      <td>798.99</td>\n",
              "      <td>364821542215</td>\n",
              "    </tr>\n",
              "    <tr>\n",
              "      <th>6</th>\n",
              "      <td>segurança</td>\n",
              "      <td>1439.54</td>\n",
              "      <td>546982454123</td>\n",
              "    </tr>\n",
              "  </tbody>\n",
              "</table>\n",
              "</div>"
            ],
            "text/plain": [
              "   pagamento    valor  codigo_pagamento\n",
              "0  imposto x   458.86      123456789012\n",
              "2  imposto z    25.15      555444332221\n",
              "3       agua   951.31      568754456745\n",
              "4        luz  1548.25      546982454523\n",
              "5   internet   798.99      364821542215\n",
              "6  segurança  1439.54      546982454123"
            ]
          },
          "metadata": {
            "tags": []
          },
          "execution_count": 7
        }
      ]
    },
    {
      "cell_type": "code",
      "metadata": {
        "id": "YE1mK0s4kqEn",
        "colab_type": "code",
        "colab": {
          "base_uri": "https://localhost:8080/",
          "height": 146
        },
        "outputId": "b86b3155-2da5-4c98-e3e7-730cda6972d2"
      },
      "source": [
        "# Verificando as entradas únicas \n",
        "\n",
        "df['codigo_pagamento'].value_counts()"
      ],
      "execution_count": 8,
      "outputs": [
        {
          "output_type": "execute_result",
          "data": {
            "text/plain": [
              "364821542215    1\n",
              "555444332221    1\n",
              "546982454523    1\n",
              "568754456745    1\n",
              "123456789012    1\n",
              "546982454123    1\n",
              "Name: codigo_pagamento, dtype: int64"
            ]
          },
          "metadata": {
            "tags": []
          },
          "execution_count": 8
        }
      ]
    },
    {
      "cell_type": "code",
      "metadata": {
        "id": "TlZz8v4Yk05y",
        "colab_type": "code",
        "colab": {}
      },
      "source": [
        ""
      ],
      "execution_count": null,
      "outputs": []
    }
  ]
}