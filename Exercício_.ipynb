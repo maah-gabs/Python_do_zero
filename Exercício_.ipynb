{
  "nbformat": 4,
  "nbformat_minor": 0,
  "metadata": {
    "colab": {
      "name": "Exercício. ",
      "provenance": [],
      "authorship_tag": "ABX9TyOWvMT+guWqHy5xoaPKDiAd",
      "include_colab_link": true
    },
    "kernelspec": {
      "name": "python3",
      "display_name": "Python 3"
    }
  },
  "cells": [
    {
      "cell_type": "markdown",
      "metadata": {
        "id": "view-in-github",
        "colab_type": "text"
      },
      "source": [
        "<a href=\"https://colab.research.google.com/github/maah-gabs/Python_do_zero/blob/master/Exerc%C3%ADcio_.ipynb\" target=\"_parent\"><img src=\"https://colab.research.google.com/assets/colab-badge.svg\" alt=\"Open In Colab\"/></a>"
      ]
    },
    {
      "cell_type": "markdown",
      "metadata": {
        "id": "oq-yuagITMh0",
        "colab_type": "text"
      },
      "source": [
        "## Exercício de Fixação. \n",
        "\n",
        "Para treinar alguns conceitos aprendidos no curso de Python do Zero, utilizarei o DataSet dispobilizado pelo professor Carlos Melo na aula \"Analisando dados para Business Intelligence. O Dataset está disponível no site do [Kaggle](https://www.kaggle.com/olistbr/brazilian-ecommerce?select=olist_products_dataset.csv), porém, utilizaremos aqui em formato de excel para treinar manipulação de planilhas e google drive. "
      ]
    },
    {
      "cell_type": "markdown",
      "metadata": {
        "id": "rcKJUF9UT2lf",
        "colab_type": "text"
      },
      "source": [
        "Para este notebook, utilizarei algumas bibliotecas que serão descritas ao longo do estudo, porém, vamos iniciar instalando algumas bibliotecas que não fazem parte do ambiente colab. "
      ]
    },
    {
      "cell_type": "code",
      "metadata": {
        "id": "l0-JB5HkUOI9",
        "colab_type": "code",
        "colab": {
          "base_uri": "https://localhost:8080/",
          "height": 35
        },
        "outputId": "6ff771ef-89f3-4b0f-904b-2ff10566e8a5"
      },
      "source": [
        "# Instalando pacotes \n",
        "!pip install pywaffle -q"
      ],
      "execution_count": null,
      "outputs": [
        {
          "output_type": "stream",
          "text": [
            "\u001b[?25l\r\u001b[K     |▋                               | 10kB 24.5MB/s eta 0:00:01\r\u001b[K     |█▎                              | 20kB 1.8MB/s eta 0:00:01\r\u001b[K     |█▉                              | 30kB 2.4MB/s eta 0:00:01\r\u001b[K     |██▌                             | 40kB 2.7MB/s eta 0:00:01\r\u001b[K     |███                             | 51kB 2.1MB/s eta 0:00:01\r\u001b[K     |███▊                            | 61kB 2.3MB/s eta 0:00:01\r\u001b[K     |████▍                           | 71kB 2.6MB/s eta 0:00:01\r\u001b[K     |█████                           | 81kB 2.8MB/s eta 0:00:01\r\u001b[K     |█████▋                          | 92kB 3.0MB/s eta 0:00:01\r\u001b[K     |██████▏                         | 102kB 2.9MB/s eta 0:00:01\r\u001b[K     |██████▉                         | 112kB 2.9MB/s eta 0:00:01\r\u001b[K     |███████▌                        | 122kB 2.9MB/s eta 0:00:01\r\u001b[K     |████████                        | 133kB 2.9MB/s eta 0:00:01\r\u001b[K     |████████▊                       | 143kB 2.9MB/s eta 0:00:01\r\u001b[K     |█████████▎                      | 153kB 2.9MB/s eta 0:00:01\r\u001b[K     |██████████                      | 163kB 2.9MB/s eta 0:00:01\r\u001b[K     |██████████▋                     | 174kB 2.9MB/s eta 0:00:01\r\u001b[K     |███████████▏                    | 184kB 2.9MB/s eta 0:00:01\r\u001b[K     |███████████▉                    | 194kB 2.9MB/s eta 0:00:01\r\u001b[K     |████████████▍                   | 204kB 2.9MB/s eta 0:00:01\r\u001b[K     |█████████████                   | 215kB 2.9MB/s eta 0:00:01\r\u001b[K     |█████████████▊                  | 225kB 2.9MB/s eta 0:00:01\r\u001b[K     |██████████████▎                 | 235kB 2.9MB/s eta 0:00:01\r\u001b[K     |███████████████                 | 245kB 2.9MB/s eta 0:00:01\r\u001b[K     |███████████████▌                | 256kB 2.9MB/s eta 0:00:01\r\u001b[K     |████████████████▏               | 266kB 2.9MB/s eta 0:00:01\r\u001b[K     |████████████████▉               | 276kB 2.9MB/s eta 0:00:01\r\u001b[K     |█████████████████▍              | 286kB 2.9MB/s eta 0:00:01\r\u001b[K     |██████████████████              | 296kB 2.9MB/s eta 0:00:01\r\u001b[K     |██████████████████▋             | 307kB 2.9MB/s eta 0:00:01\r\u001b[K     |███████████████████▎            | 317kB 2.9MB/s eta 0:00:01\r\u001b[K     |████████████████████            | 327kB 2.9MB/s eta 0:00:01\r\u001b[K     |████████████████████▌           | 337kB 2.9MB/s eta 0:00:01\r\u001b[K     |█████████████████████▏          | 348kB 2.9MB/s eta 0:00:01\r\u001b[K     |█████████████████████▊          | 358kB 2.9MB/s eta 0:00:01\r\u001b[K     |██████████████████████▍         | 368kB 2.9MB/s eta 0:00:01\r\u001b[K     |███████████████████████         | 378kB 2.9MB/s eta 0:00:01\r\u001b[K     |███████████████████████▋        | 389kB 2.9MB/s eta 0:00:01\r\u001b[K     |████████████████████████▎       | 399kB 2.9MB/s eta 0:00:01\r\u001b[K     |████████████████████████▉       | 409kB 2.9MB/s eta 0:00:01\r\u001b[K     |█████████████████████████▌      | 419kB 2.9MB/s eta 0:00:01\r\u001b[K     |██████████████████████████▏     | 430kB 2.9MB/s eta 0:00:01\r\u001b[K     |██████████████████████████▊     | 440kB 2.9MB/s eta 0:00:01\r\u001b[K     |███████████████████████████▍    | 450kB 2.9MB/s eta 0:00:01\r\u001b[K     |████████████████████████████    | 460kB 2.9MB/s eta 0:00:01\r\u001b[K     |████████████████████████████▋   | 471kB 2.9MB/s eta 0:00:01\r\u001b[K     |█████████████████████████████▎  | 481kB 2.9MB/s eta 0:00:01\r\u001b[K     |█████████████████████████████▉  | 491kB 2.9MB/s eta 0:00:01\r\u001b[K     |██████████████████████████████▌ | 501kB 2.9MB/s eta 0:00:01\r\u001b[K     |███████████████████████████████ | 512kB 2.9MB/s eta 0:00:01\r\u001b[K     |███████████████████████████████▊| 522kB 2.9MB/s eta 0:00:01\r\u001b[K     |████████████████████████████████| 532kB 2.9MB/s \n",
            "\u001b[?25h"
          ],
          "name": "stdout"
        }
      ]
    },
    {
      "cell_type": "markdown",
      "metadata": {
        "id": "aAoAyvwzU-Db",
        "colab_type": "text"
      },
      "source": [
        "Após instalar a biblioteca Pywaffle, iniciei na segunda linha a importação das principais bibliotecas que serão utilizadas neste exercicio. "
      ]
    },
    {
      "cell_type": "code",
      "metadata": {
        "id": "UuDguI1FUZ4D",
        "colab_type": "code",
        "colab": {}
      },
      "source": [
        "# Instalando as bibliotecas \n",
        "import pandas as pd \n",
        "import matplotlib.pyplot as plt\n",
        "import os \n",
        "from google.colab import drive\n",
        "from pywaffle import Waffle"
      ],
      "execution_count": null,
      "outputs": []
    },
    {
      "cell_type": "markdown",
      "metadata": {
        "id": "YvqO3-_8VHSy",
        "colab_type": "text"
      },
      "source": [
        "Para essa atividade, eu realizarei a utilizalção do Google Drive, desta forma, vamos criar o nosso drive. "
      ]
    },
    {
      "cell_type": "code",
      "metadata": {
        "id": "_mDPrAF5VVm4",
        "colab_type": "code",
        "colab": {
          "base_uri": "https://localhost:8080/",
          "height": 35
        },
        "outputId": "5ffcbc35-3262-4545-e2eb-329d7f245c61"
      },
      "source": [
        "# montando o Drive \n",
        "drive.mount('/content/gdrive')"
      ],
      "execution_count": null,
      "outputs": [
        {
          "output_type": "stream",
          "text": [
            "Mounted at /content/gdrive\n"
          ],
          "name": "stdout"
        }
      ]
    },
    {
      "cell_type": "markdown",
      "metadata": {
        "id": "4_S54inaViCc",
        "colab_type": "text"
      },
      "source": [
        "Após a importação do google drive, vamos listar quais são as pastas que estão dispostas neste local "
      ]
    },
    {
      "cell_type": "code",
      "metadata": {
        "id": "lI0LG2t4Vq0j",
        "colab_type": "code",
        "colab": {
          "base_uri": "https://localhost:8080/",
          "height": 72
        },
        "outputId": "50e85f7b-a992-4f8d-f475-38f52a43f4a9"
      },
      "source": [
        "#Verificando os arquivos que estão no Drive\n",
        "!ls 'gdrive/My Drive'"
      ],
      "execution_count": null,
      "outputs": [
        {
          "output_type": "stream",
          "text": [
            "'Colab Notebooks'\t   'Exercicio 01 - pdfplumber.pdf'   relatorios\n",
            " controle_da_empresa.xlsx   modelo_de_relatorio.pdf\t     Untitled0.ipynb\n",
            " dados_ecommerce.xlsx\t   'Modulo 02'\n"
          ],
          "name": "stdout"
        }
      ]
    },
    {
      "cell_type": "markdown",
      "metadata": {
        "id": "ebGbM2KEV1M-",
        "colab_type": "text"
      },
      "source": [
        "Após a execução da linha abaixo, conseguimos perceber que o arquivo `dados_ecommerce.xlsx` está salvo na raiz do meu google drive. \n",
        "\n",
        "Neste momento, vamos importar o DataSet utilizando a variável planilha. Lembre - se, que quando estamos lidando com planilhas, é necessário após a linha de código de importação que seja descrito `None` para que todas as abas da planilha sejam importadas, ok? "
      ]
    },
    {
      "cell_type": "code",
      "metadata": {
        "id": "xkYZdk2EWv4V",
        "colab_type": "code",
        "colab": {}
      },
      "source": [
        "# Importando a DataSet.\n",
        "planilha = pd.read_excel(\"/content/gdrive/My Drive/dados_ecommerce.xlsx\", None)\n"
      ],
      "execution_count": null,
      "outputs": []
    },
    {
      "cell_type": "markdown",
      "metadata": {
        "id": "02YIkkieXvJO",
        "colab_type": "text"
      },
      "source": [
        "Após importar a planilha com todas as abas, vamos checar o nome dessas abas, certo? Então, vamos utilizar `.keys ( ).` "
      ]
    },
    {
      "cell_type": "code",
      "metadata": {
        "id": "vOjY2dHrX6X6",
        "colab_type": "code",
        "colab": {
          "base_uri": "https://localhost:8080/",
          "height": 35
        },
        "outputId": "8636dc91-109e-454f-998d-d147a2f72e99"
      },
      "source": [
        "# Verificando o nome das abas\n",
        "planilha.keys()"
      ],
      "execution_count": null,
      "outputs": [
        {
          "output_type": "execute_result",
          "data": {
            "text/plain": [
              "dict_keys(['Clientes', 'Pagamentos', 'Itens'])"
            ]
          },
          "metadata": {
            "tags": []
          },
          "execution_count": 6
        }
      ]
    },
    {
      "cell_type": "markdown",
      "metadata": {
        "id": "3j-33jIKY8Ey",
        "colab_type": "text"
      },
      "source": [
        "A partir da linha descrita acima, vou criar uma variável para cada uma das abas com os nomes: \n",
        "\n",
        "* `clientes = planilha ['Clientes']`\n",
        "* `pagamentos = planilha['Pagamentos']`\n",
        "* `itens = planilha['Itens']`\n",
        "\n",
        "\n",
        "Conforme descrito abaixo:"
      ]
    },
    {
      "cell_type": "code",
      "metadata": {
        "id": "9h6WoNhuX_Uc",
        "colab_type": "code",
        "colab": {
          "base_uri": "https://localhost:8080/",
          "height": 206
        },
        "outputId": "14ae91c4-0368-43dd-c731-ab628d36770c"
      },
      "source": [
        "#Verificando a Aba Clientes (5 primeiras entradas)\n",
        "clientes = planilha['Clientes']\n",
        "clientes.head()"
      ],
      "execution_count": null,
      "outputs": [
        {
          "output_type": "execute_result",
          "data": {
            "text/html": [
              "<div>\n",
              "<style scoped>\n",
              "    .dataframe tbody tr th:only-of-type {\n",
              "        vertical-align: middle;\n",
              "    }\n",
              "\n",
              "    .dataframe tbody tr th {\n",
              "        vertical-align: top;\n",
              "    }\n",
              "\n",
              "    .dataframe thead th {\n",
              "        text-align: right;\n",
              "    }\n",
              "</style>\n",
              "<table border=\"1\" class=\"dataframe\">\n",
              "  <thead>\n",
              "    <tr style=\"text-align: right;\">\n",
              "      <th></th>\n",
              "      <th>customer_id</th>\n",
              "      <th>customer_unique_id</th>\n",
              "      <th>customer_zip_code_prefix</th>\n",
              "      <th>customer_city</th>\n",
              "      <th>customer_state</th>\n",
              "    </tr>\n",
              "  </thead>\n",
              "  <tbody>\n",
              "    <tr>\n",
              "      <th>0</th>\n",
              "      <td>06b8999e2fba1a1fbc88172c00ba8bc7</td>\n",
              "      <td>861eff4711a542e4b93843c6dd7febb0</td>\n",
              "      <td>14409</td>\n",
              "      <td>franca</td>\n",
              "      <td>SP</td>\n",
              "    </tr>\n",
              "    <tr>\n",
              "      <th>1</th>\n",
              "      <td>18955e83d337fd6b2def6b18a428ac77</td>\n",
              "      <td>290c77bc529b7ac935b93aa66c333dc3</td>\n",
              "      <td>9790</td>\n",
              "      <td>sao bernardo do campo</td>\n",
              "      <td>SP</td>\n",
              "    </tr>\n",
              "    <tr>\n",
              "      <th>2</th>\n",
              "      <td>4e7b3e00288586ebd08712fdd0374a03</td>\n",
              "      <td>060e732b5b29e8181a18229c7b0b2b5e</td>\n",
              "      <td>1151</td>\n",
              "      <td>sao paulo</td>\n",
              "      <td>SP</td>\n",
              "    </tr>\n",
              "    <tr>\n",
              "      <th>3</th>\n",
              "      <td>b2b6027bc5c5109e529d4dc6358b12c3</td>\n",
              "      <td>259dac757896d24d7702b9acbbff3f3c</td>\n",
              "      <td>8775</td>\n",
              "      <td>mogi das cruzes</td>\n",
              "      <td>SP</td>\n",
              "    </tr>\n",
              "    <tr>\n",
              "      <th>4</th>\n",
              "      <td>4f2d8ab171c80ec8364f7c12e35b23ad</td>\n",
              "      <td>345ecd01c38d18a9036ed96c73b8d066</td>\n",
              "      <td>13056</td>\n",
              "      <td>campinas</td>\n",
              "      <td>SP</td>\n",
              "    </tr>\n",
              "  </tbody>\n",
              "</table>\n",
              "</div>"
            ],
            "text/plain": [
              "                        customer_id  ... customer_state\n",
              "0  06b8999e2fba1a1fbc88172c00ba8bc7  ...             SP\n",
              "1  18955e83d337fd6b2def6b18a428ac77  ...             SP\n",
              "2  4e7b3e00288586ebd08712fdd0374a03  ...             SP\n",
              "3  b2b6027bc5c5109e529d4dc6358b12c3  ...             SP\n",
              "4  4f2d8ab171c80ec8364f7c12e35b23ad  ...             SP\n",
              "\n",
              "[5 rows x 5 columns]"
            ]
          },
          "metadata": {
            "tags": []
          },
          "execution_count": 23
        }
      ]
    },
    {
      "cell_type": "code",
      "metadata": {
        "id": "g7fCs4uCYHfN",
        "colab_type": "code",
        "colab": {
          "base_uri": "https://localhost:8080/",
          "height": 206
        },
        "outputId": "13ffb3fc-07e8-4603-fa04-dd676ac8603f"
      },
      "source": [
        "#Verificando a Aba Pagamentos (5 primeiras entradas)\n",
        "pagamentos = planilha['Pagamentos']\n",
        "pagamentos.head()"
      ],
      "execution_count": null,
      "outputs": [
        {
          "output_type": "execute_result",
          "data": {
            "text/html": [
              "<div>\n",
              "<style scoped>\n",
              "    .dataframe tbody tr th:only-of-type {\n",
              "        vertical-align: middle;\n",
              "    }\n",
              "\n",
              "    .dataframe tbody tr th {\n",
              "        vertical-align: top;\n",
              "    }\n",
              "\n",
              "    .dataframe thead th {\n",
              "        text-align: right;\n",
              "    }\n",
              "</style>\n",
              "<table border=\"1\" class=\"dataframe\">\n",
              "  <thead>\n",
              "    <tr style=\"text-align: right;\">\n",
              "      <th></th>\n",
              "      <th>order_id</th>\n",
              "      <th>payment_sequential</th>\n",
              "      <th>payment_type</th>\n",
              "      <th>payment_installments</th>\n",
              "      <th>payment_value</th>\n",
              "    </tr>\n",
              "  </thead>\n",
              "  <tbody>\n",
              "    <tr>\n",
              "      <th>0</th>\n",
              "      <td>b81ef226f3fe1789b1e8b2acac839d17</td>\n",
              "      <td>1</td>\n",
              "      <td>credit_card</td>\n",
              "      <td>8</td>\n",
              "      <td>99.33</td>\n",
              "    </tr>\n",
              "    <tr>\n",
              "      <th>1</th>\n",
              "      <td>a9810da82917af2d9aefd1278f1dcfa0</td>\n",
              "      <td>1</td>\n",
              "      <td>credit_card</td>\n",
              "      <td>1</td>\n",
              "      <td>24.39</td>\n",
              "    </tr>\n",
              "    <tr>\n",
              "      <th>2</th>\n",
              "      <td>25e8ea4e93396b6fa0d3dd708e76c1bd</td>\n",
              "      <td>1</td>\n",
              "      <td>credit_card</td>\n",
              "      <td>1</td>\n",
              "      <td>65.71</td>\n",
              "    </tr>\n",
              "    <tr>\n",
              "      <th>3</th>\n",
              "      <td>ba78997921bbcdc1373bb41e913ab953</td>\n",
              "      <td>1</td>\n",
              "      <td>credit_card</td>\n",
              "      <td>8</td>\n",
              "      <td>107.78</td>\n",
              "    </tr>\n",
              "    <tr>\n",
              "      <th>4</th>\n",
              "      <td>42fdf880ba16b47b59251dd489d4441a</td>\n",
              "      <td>1</td>\n",
              "      <td>credit_card</td>\n",
              "      <td>2</td>\n",
              "      <td>128.45</td>\n",
              "    </tr>\n",
              "  </tbody>\n",
              "</table>\n",
              "</div>"
            ],
            "text/plain": [
              "                           order_id  ...  payment_value\n",
              "0  b81ef226f3fe1789b1e8b2acac839d17  ...          99.33\n",
              "1  a9810da82917af2d9aefd1278f1dcfa0  ...          24.39\n",
              "2  25e8ea4e93396b6fa0d3dd708e76c1bd  ...          65.71\n",
              "3  ba78997921bbcdc1373bb41e913ab953  ...         107.78\n",
              "4  42fdf880ba16b47b59251dd489d4441a  ...         128.45\n",
              "\n",
              "[5 rows x 5 columns]"
            ]
          },
          "metadata": {
            "tags": []
          },
          "execution_count": 22
        }
      ]
    },
    {
      "cell_type": "code",
      "metadata": {
        "id": "swIzwDdDYZcz",
        "colab_type": "code",
        "colab": {
          "base_uri": "https://localhost:8080/",
          "height": 226
        },
        "outputId": "141ebb17-e70e-44cf-8a0b-e70eb057e658"
      },
      "source": [
        "#Verificando a aba Items (5 primeiras entradas)\n",
        "itens = planilha['Itens']\n",
        "itens.head()"
      ],
      "execution_count": null,
      "outputs": [
        {
          "output_type": "execute_result",
          "data": {
            "text/html": [
              "<div>\n",
              "<style scoped>\n",
              "    .dataframe tbody tr th:only-of-type {\n",
              "        vertical-align: middle;\n",
              "    }\n",
              "\n",
              "    .dataframe tbody tr th {\n",
              "        vertical-align: top;\n",
              "    }\n",
              "\n",
              "    .dataframe thead th {\n",
              "        text-align: right;\n",
              "    }\n",
              "</style>\n",
              "<table border=\"1\" class=\"dataframe\">\n",
              "  <thead>\n",
              "    <tr style=\"text-align: right;\">\n",
              "      <th></th>\n",
              "      <th>order_id</th>\n",
              "      <th>order_item_id</th>\n",
              "      <th>product_id</th>\n",
              "      <th>seller_id</th>\n",
              "      <th>shipping_limit_date</th>\n",
              "      <th>price</th>\n",
              "      <th>freight_value</th>\n",
              "    </tr>\n",
              "  </thead>\n",
              "  <tbody>\n",
              "    <tr>\n",
              "      <th>0</th>\n",
              "      <td>00010242fe8c5a6d1ba2dd792cb16214</td>\n",
              "      <td>1</td>\n",
              "      <td>4244733e06e7ecb4970a6e2683c13e61</td>\n",
              "      <td>48436dade18ac8b2bce089ec2a041202</td>\n",
              "      <td>2017-09-19 09:45:35</td>\n",
              "      <td>58.90</td>\n",
              "      <td>13.29</td>\n",
              "    </tr>\n",
              "    <tr>\n",
              "      <th>1</th>\n",
              "      <td>00018f77f2f0320c557190d7a144bdd3</td>\n",
              "      <td>1</td>\n",
              "      <td>e5f2d52b802189ee658865ca93d83a8f</td>\n",
              "      <td>dd7ddc04e1b6c2c614352b383efe2d36</td>\n",
              "      <td>2017-05-03 11:05:13</td>\n",
              "      <td>239.90</td>\n",
              "      <td>19.93</td>\n",
              "    </tr>\n",
              "    <tr>\n",
              "      <th>2</th>\n",
              "      <td>000229ec398224ef6ca0657da4fc703e</td>\n",
              "      <td>1</td>\n",
              "      <td>c777355d18b72b67abbeef9df44fd0fd</td>\n",
              "      <td>5b51032eddd242adc84c38acab88f23d</td>\n",
              "      <td>2018-01-18 14:48:30</td>\n",
              "      <td>199.00</td>\n",
              "      <td>17.87</td>\n",
              "    </tr>\n",
              "    <tr>\n",
              "      <th>3</th>\n",
              "      <td>00024acbcdf0a6daa1e931b038114c75</td>\n",
              "      <td>1</td>\n",
              "      <td>7634da152a4610f1595efa32f14722fc</td>\n",
              "      <td>9d7a1d34a5052409006425275ba1c2b4</td>\n",
              "      <td>2018-08-15 10:10:18</td>\n",
              "      <td>12.99</td>\n",
              "      <td>12.79</td>\n",
              "    </tr>\n",
              "    <tr>\n",
              "      <th>4</th>\n",
              "      <td>00042b26cf59d7ce69dfabb4e55b4fd9</td>\n",
              "      <td>1</td>\n",
              "      <td>ac6c3623068f30de03045865e4e10089</td>\n",
              "      <td>df560393f3a51e74553ab94004ba5c87</td>\n",
              "      <td>2017-02-13 13:57:51</td>\n",
              "      <td>199.90</td>\n",
              "      <td>18.14</td>\n",
              "    </tr>\n",
              "  </tbody>\n",
              "</table>\n",
              "</div>"
            ],
            "text/plain": [
              "                           order_id  order_item_id  ...   price freight_value\n",
              "0  00010242fe8c5a6d1ba2dd792cb16214              1  ...   58.90         13.29\n",
              "1  00018f77f2f0320c557190d7a144bdd3              1  ...  239.90         19.93\n",
              "2  000229ec398224ef6ca0657da4fc703e              1  ...  199.00         17.87\n",
              "3  00024acbcdf0a6daa1e931b038114c75              1  ...   12.99         12.79\n",
              "4  00042b26cf59d7ce69dfabb4e55b4fd9              1  ...  199.90         18.14\n",
              "\n",
              "[5 rows x 7 columns]"
            ]
          },
          "metadata": {
            "tags": []
          },
          "execution_count": 21
        }
      ]
    },
    {
      "cell_type": "code",
      "metadata": {
        "id": "GByB39IqaDwm",
        "colab_type": "code",
        "colab": {}
      },
      "source": [
        "# Tornar as cinco cidades que mais utilizam ecommerce em variável \n",
        "cidades_compradoras = clientes['customer_city'].value_counts().head()"
      ],
      "execution_count": null,
      "outputs": []
    },
    {
      "cell_type": "code",
      "metadata": {
        "id": "PXt0e65ycGZ1",
        "colab_type": "code",
        "colab": {
          "base_uri": "https://localhost:8080/",
          "height": 316
        },
        "outputId": "9f558f3b-da93-4373-8338-fff095fa03e4"
      },
      "source": [
        "# Plotar um gráfico de Barras com a cidade que mais vende.\n",
        "fig, ax = plt.subplots()\n",
        "ax = cidades_compradoras.plot(kind='bar')\n",
        "ax.set_title('Cinco cidades que mais utilizam e-commerce')\n",
        "plt.xticks(rotation=30)\n",
        "plt.show()"
      ],
      "execution_count": null,
      "outputs": [
        {
          "output_type": "display_data",
          "data": {
            "image/png": "[encoded data removed]",
            "text/plain": [
              "<Figure size 432x288 with 1 Axes>"
            ]
          },
          "metadata": {
            "tags": [],
            "needs_background": "light"
          }
        }
      ]
    },
    {
      "cell_type": "code",
      "metadata": {
        "id": "tO-x-_F4fO2c",
        "colab_type": "code",
        "colab": {
          "base_uri": "https://localhost:8080/",
          "height": 127
        },
        "outputId": "e9704229-8ac0-4c80-c95f-43b9fbd5ab90"
      },
      "source": [
        "tipo_pagamento = pagamentos['payment_type'].value_counts()\n",
        "tipo_pagamento"
      ],
      "execution_count": null,
      "outputs": [
        {
          "output_type": "execute_result",
          "data": {
            "text/plain": [
              "credit_card    76795\n",
              "boleto         19784\n",
              "voucher         5775\n",
              "debit_card      1529\n",
              "not_defined        3\n",
              "Name: payment_type, dtype: int64"
            ]
          },
          "metadata": {
            "tags": []
          },
          "execution_count": 52
        }
      ]
    },
    {
      "cell_type": "code",
      "metadata": {
        "id": "c0H0xf1lfTTk",
        "colab_type": "code",
        "colab": {
          "base_uri": "https://localhost:8080/",
          "height": 141
        },
        "outputId": "315bcb5e-c2fc-48b1-8b4e-bd9f5d693e50"
      },
      "source": [
        "#Gráfico de Waffle que mostra os tipos de pagamento \n",
        "fig = plt.figure(\n",
        "                 FigureClass = Waffle, \n",
        "                 rows = 4,\n",
        "                 columns = 12, \n",
        "                 values = tipo_pagamento, icons = 'cart-arrow-down', icon_size = 12, \n",
        "                 legend ={'loc': 'upper left', \n",
        "                          'bbox_to_anchor': (1.5,1)},\n",
        "                 icon_legend=True  \n",
        "                 )  \n",
        "     \n",
        "fig.set_tight_layout(False)\n",
        "plt.show()\n"
      ],
      "execution_count": null,
      "outputs": [
        {
          "output_type": "display_data",
          "data": {
            "image/png": "[encoded data removed]",
            "text/plain": [
              "<Waffle size 432x288 with 1 Axes>"
            ]
          },
          "metadata": {
            "tags": [],
            "needs_background": "light"
          }
        }
      ]
    },
    {
      "cell_type": "code",
      "metadata": {
        "id": "g_uQXQw8h7sj",
        "colab_type": "code",
        "colab": {}
      },
      "source": [
        ""
      ],
      "execution_count": null,
      "outputs": []
    }
  ]
}